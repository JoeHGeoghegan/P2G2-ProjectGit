{
 "cells": [
  {
   "cell_type": "code",
   "execution_count": 1,
   "metadata": {},
   "outputs": [],
   "source": [
    "from sec_edgar_downloader import Downloader"
   ]
  },
  {
   "cell_type": "code",
   "execution_count": 2,
   "metadata": {},
   "outputs": [],
   "source": [
    "dl = Downloader(\"../Notebooks/Data/Raw_Data\")"
   ]
  },
  {
   "cell_type": "code",
   "execution_count": 3,
   "metadata": {},
   "outputs": [
    {
     "data": {
      "text/plain": [
       "30"
      ]
     },
     "execution_count": 3,
     "metadata": {},
     "output_type": "execute_result"
    }
   ],
   "source": [
    "dl.get(\"10-Q\", \"NFLX\", after=\"2012-06-01\")\n",
    "dl.get(\"10-Q\", \"FB\", after=\"2012-06-01\")\n",
    "dl.get(\"10-Q\", \"UBER\", after=\"2012-06-01\")\n",
    "dl.get(\"10-Q\", \"MCHP\", after=\"2012-06-01\")\n",
    "dl.get(\"10-Q\", \"ABNB\", after=\"2012-06-01\")\n",
    "dl.get(\"10-Q\", \"FANG\", after=\"2012-06-01\")\n",
    "dl.get(\"10-Q\", \"MRO\", after=\"2012-06-01\")\n",
    "dl.get(\"10-Q\", \"DVN\", after=\"2012-06-01\")\n",
    "dl.get(\"10-Q\", \"SPWR\", after=\"2012-06-01\")\n",
    "dl.get(\"10-Q\", \"REGI\", after=\"2012-06-01\")\n",
    "dl.get(\"10-Q\", \"MTRX\", after=\"2012-06-01\")\n",
    "dl.get(\"10-Q\", \"BLK\", after=\"2012-06-01\")\n",
    "dl.get(\"10-Q\", \"PYPL\", after=\"2012-06-01\")\n",
    "dl.get(\"10-Q\", \"MELI\", after=\"2012-06-01\")\n",
    "dl.get(\"10-Q\", \"JPM\", after=\"2012-06-01\")"
   ]
  }
 ],
 "metadata": {
  "interpreter": {
   "hash": "f688966fe16c5b1d1f8096f0874425497eb397fd30a583fa64973664e1f67766"
  },
  "kernelspec": {
   "display_name": "Python 3.9.7 ('base')",
   "language": "python",
   "name": "python3"
  },
  "language_info": {
   "codemirror_mode": {
    "name": "ipython",
    "version": 3
   },
   "file_extension": ".py",
   "mimetype": "text/x-python",
   "name": "python",
   "nbconvert_exporter": "python",
   "pygments_lexer": "ipython3",
   "version": "3.9.7"
  },
  "orig_nbformat": 4
 },
 "nbformat": 4,
 "nbformat_minor": 2
}
