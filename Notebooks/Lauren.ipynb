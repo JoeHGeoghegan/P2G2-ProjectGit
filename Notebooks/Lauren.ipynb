{
 "cells": [
  {
   "cell_type": "code",
   "execution_count": 15,
   "metadata": {},
   "outputs": [],
   "source": [
    "from sec_edgar_downloader import Downloader"
   ]
  },
  {
   "cell_type": "code",
   "execution_count": 16,
   "metadata": {},
   "outputs": [],
   "source": [
    "dl = Downloader(\"../Notebooks/Data/Raw_Data\")"
   ]
  },
  {
   "cell_type": "code",
   "execution_count": null,
   "metadata": {},
   "outputs": [],
   "source": [
    "dl.get(\"10-Q\", \"NFLX\", after=\"2012-06-01\")\n",
    "dl.get(\"10-Q\", \"FB\", after=\"2012-06-01\")\n",
    "dl.get(\"10-Q\", \"UBER\", after=\"2012-06-01\")\n",
    "dl.get(\"10-Q\", \"MCHP\", after=\"2012-06-01\")\n",
    "dl.get(\"10-Q\", \"ABNB\", after=\"2012-06-01\")\n",
    "dl.get(\"10-Q\", \"FANG\", after=\"2012-06-01\")\n",
    "dl.get(\"10-Q\", \"MRO\", after=\"2012-06-01\")\n",
    "dl.get(\"10-Q\", \"DVN\", after=\"2012-06-01\")\n",
    "dl.get(\"10-Q\", \"SPWR\", after=\"2012-06-01\")\n",
    "dl.get(\"10-Q\", \"REGI\", after=\"2012-06-01\")\n",
    "dl.get(\"10-Q\", \"MTRX\", after=\"2012-06-01\")\n",
    "dl.get(\"10-Q\", \"BLK\", after=\"2012-06-01\")\n",
    "dl.get(\"10-Q\", \"PYPL\", after=\"2012-06-01\")\n",
    "dl.get(\"10-Q\", \"MELI\", after=\"2012-06-01\")\n",
    "dl.get(\"10-Q\", \"JPM\", after=\"2012-06-01\")"
   ]
  }
 ],
 "metadata": {
  "language_info": {
   "name": "python"
  },
  "orig_nbformat": 4
 },
 "nbformat": 4,
 "nbformat_minor": 2
}
