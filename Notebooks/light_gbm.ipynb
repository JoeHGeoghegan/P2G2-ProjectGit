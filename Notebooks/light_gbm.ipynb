{
 "cells": [
  {
   "cell_type": "code",
   "execution_count": 13,
   "metadata": {},
   "outputs": [
    {
     "name": "stderr",
     "output_type": "stream",
     "text": [
      "c:\\Users\\altma\\anaconda3\\lib\\site-packages\\statsmodels\\tsa\\base\\tsa_model.py:7: FutureWarning: pandas.Int64Index is deprecated and will be removed from pandas in a future version. Use pandas.Index with the appropriate dtype instead.\n",
      "  from pandas import (to_datetime, Int64Index, DatetimeIndex, Period,\n",
      "c:\\Users\\altma\\anaconda3\\lib\\site-packages\\statsmodels\\tsa\\base\\tsa_model.py:7: FutureWarning: pandas.Float64Index is deprecated and will be removed from pandas in a future version. Use pandas.Index with the appropriate dtype instead.\n",
      "  from pandas import (to_datetime, Int64Index, DatetimeIndex, Period,\n"
     ]
    }
   ],
   "source": [
    "import pandas as pd\n",
    "import matplotlib.pyplot as plt\n",
    "import seaborn as sns\n",
    "import numpy as np\n",
    "\n",
    "from lightgbm import LGBMRegressor\n",
    "from statsmodels.tsa.seasonal import seasonal_decompose\n",
    "from statsmodels.graphics.tsaplots import plot_acf\n",
    "from scipy.stats import t\n",
    "from sklearn.model_selection import TimeSeriesSplit, train_test_split\n",
    "from sklearn.metrics import mean_absolute_error\n",
    "from libs.drew_lib import *"
   ]
  },
  {
   "cell_type": "code",
   "execution_count": 4,
   "metadata": {},
   "outputs": [],
   "source": [
    "asset_dataframe_list = []\n",
    "for asset in keywords:\n",
    "\n",
    "    asset_dataframe = pd.read_csv(f'./Data/Cleaned_Data/{asset}.csv', parse_dates = True, infer_datetime_format = True)\n",
    "    asset_dataframe['Unnamed: 0'] = pd.to_datetime(asset_dataframe['Unnamed: 0'], infer_datetime_format = True, errors = 'coerce', format = '%Y/%m/%d')\n",
    "    asset_dataframe = asset_dataframe.set_index('Unnamed: 0')\n",
    "    asset_dataframe.index.name = None\n",
    "    \n",
    "    asset_dataframe_list.append(asset_dataframe)"
   ]
  },
  {
   "cell_type": "code",
   "execution_count": 5,
   "metadata": {},
   "outputs": [],
   "source": [
    "netflix = pd.DataFrame(asset_dataframe_list[0])\n",
    "facebook = pd.DataFrame(asset_dataframe_list[1])\n",
    "uber = pd.DataFrame(asset_dataframe_list[2])\n",
    "microchip_technology = pd.DataFrame(asset_dataframe_list[3])\n",
    "airbnb = pd.DataFrame(asset_dataframe_list[4])\n",
    "diamondback_energy = pd.DataFrame(asset_dataframe_list[5])\n",
    "marathon_oil = pd.DataFrame(asset_dataframe_list[6])\n",
    "devon_energy = pd.DataFrame(asset_dataframe_list[7])\n",
    "sunpower_corp = pd.DataFrame(asset_dataframe_list[8])\n",
    "renewable_energy_group = pd.DataFrame(asset_dataframe_list[9])\n",
    "mckinsey_and_company = pd.DataFrame(asset_dataframe_list[10])\n",
    "blackrock = pd.DataFrame(asset_dataframe_list[11])\n",
    "paypal = pd.DataFrame(asset_dataframe_list[12])\n",
    "mercado_libre = pd.DataFrame(asset_dataframe_list[13])\n",
    "sofi = pd.DataFrame(asset_dataframe_list[14])"
   ]
  },
  {
   "cell_type": "code",
   "execution_count": 14,
   "metadata": {},
   "outputs": [],
   "source": [
    "X = uber.drop('close', axis=1)\n",
    "y = uber['close']"
   ]
  },
  {
   "cell_type": "code",
   "execution_count": 15,
   "metadata": {},
   "outputs": [],
   "source": [
    "window = 7\n",
    "X_train, X_test = X.iloc[:-window,:], X.iloc[-window:,:]\n",
    "y_train, y_test = y.iloc[:-window], y.iloc[-window:]"
   ]
  },
  {
   "cell_type": "code",
   "execution_count": 16,
   "metadata": {},
   "outputs": [],
   "source": [
    "model = LGBMRegressor(random_state=42)\n",
    "model.fit(X_train, y_train)\n",
    "predictions = model.predict(X_test)"
   ]
  },
  {
   "cell_type": "code",
   "execution_count": null,
   "metadata": {},
   "outputs": [],
   "source": [
    "horizon = 30\n",
    "X = uber_with_sec.drop('close', axis=1)\n",
    "y = uber_with_sec['close']\n",
    "\n",
    "#take last week of the dataset for validation\n",
    "X_train, X_test = X.iloc[:-horizon,:], X.iloc[-horizon:,:]\n",
    "y_train, y_test = y.iloc[:-horizon], y.iloc[-horizon:]"
   ]
  },
  {
   "cell_type": "code",
   "execution_count": null,
   "metadata": {},
   "outputs": [],
   "source": [
    "\n",
    "#create, train and do inference of the model\n",
    "model = lgb.LGBMRegressor(random_state=42)\n",
    "model.fit(X_train, y_train)\n",
    "predictions = model.predict(X_test)\n",
    "\n",
    "#calculate MAE\n",
    "mae = np.round(mean_absolute_error(y_test, predictions), 3)    \n",
    "\n",
    "#plot reality vs prediction for the last week of the dataset\n",
    "fig = plt.figure(figsize=(16,8))\n",
    "plt.title(f'Real vs Prediction - MAE {mae}', fontsize=20)\n",
    "plt.plot(y_test, color='red')\n",
    "plt.plot(pd.Series(predictions, index=y_test.index), color='green')\n",
    "plt.xlabel('Hour', fontsize=16)\n",
    "plt.ylabel('Number of Shared Bikes', fontsize=16)\n",
    "plt.legend(labels=['Real', 'Prediction'], fontsize=16)\n",
    "plt.grid()\n",
    "plt.show()\n",
    "\n",
    "#create a dataframe with the variable importances of the model\n",
    "uber_with_sec_importances = pd.DataFrame({\n",
    "    'feature': model.feature_name_,\n",
    "    'importance': model.feature_importances_\n",
    "}).sort_values(by='importance', ascending=False)\n",
    "\n",
    "#plot variable importances of the model\n",
    "plt.title('Variable Importances', fontsize=16)\n",
    "sns.barplot(x=uber_with_sec_importances.importance, y=uber_with_sec_importances.feature, orient='h')\n",
    "plt.show()"
   ]
  }
 ],
 "metadata": {
  "interpreter": {
   "hash": "f688966fe16c5b1d1f8096f0874425497eb397fd30a583fa64973664e1f67766"
  },
  "kernelspec": {
   "display_name": "Python 3.9.7 ('base')",
   "language": "python",
   "name": "python3"
  },
  "language_info": {
   "codemirror_mode": {
    "name": "ipython",
    "version": 3
   },
   "file_extension": ".py",
   "mimetype": "text/x-python",
   "name": "python",
   "nbconvert_exporter": "python",
   "pygments_lexer": "ipython3",
   "version": "3.9.7"
  },
  "orig_nbformat": 4
 },
 "nbformat": 4,
 "nbformat_minor": 2
}
