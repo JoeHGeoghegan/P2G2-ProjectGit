{
 "cells": [
  {
   "cell_type": "markdown",
   "metadata": {},
   "source": [
    "# Joe's code place"
   ]
  },
  {
   "cell_type": "markdown",
   "metadata": {},
   "source": [
    "![Hackerman](https://i.kym-cdn.com/entries/icons/mobile/000/021/807/ig9OoyenpxqdCQyABmOQBZDI0duHk2QZZmWg2Hxd4ro.jpg)"
   ]
  },
  {
   "cell_type": "markdown",
   "metadata": {},
   "source": [
    "# Code"
   ]
  },
  {
   "cell_type": "code",
   "execution_count": 117,
   "metadata": {},
   "outputs": [
    {
     "data": {
      "text/plain": [
       "True"
      ]
     },
     "execution_count": 117,
     "metadata": {},
     "output_type": "execute_result"
    }
   ],
   "source": [
    "# Imports\n",
    "import os\n",
    "import pandas as pd\n",
    "from dotenv import load_dotenv\n",
    "load_dotenv()"
   ]
  },
  {
   "cell_type": "code",
   "execution_count": 118,
   "metadata": {},
   "outputs": [
    {
     "data": {
      "text/plain": [
       "\" Ticker Library init\\nportfolio = {'Sector':[],'Company Name':[],'Ticker':[]}\\nhello = [\\n    ['Technology','Netflix','NFLX'],\\n    ['Technology','Meta','FB'],\\n    ['Technology','Uber','UBER'],\\n    ['Technology','Microchip Technology','MCHP'],\\n    ['Technology','AirBnB','ABNB'],\\n    ['Energy','Diamondback Energy Inc.','FANG'],\\n    ['Energy','Marathon Oil Corp.','MRO'],\\n    ['Energy','Devon Energy Corp.','DVN'],\\n    ['Energy','SunPower Corp.','SPWR'],\\n    ['Energy','Renewable Energy Group Inc.','REGI'],\\n    ['Finance','McKinsey & Company','MTRX'],\\n    ['Finance','BlackRock','BLK'],\\n    ['Finance','PayPal','PYPL'],\\n    ['Finance','Mercadolibre Inc','MELI'],\\n    ['Finance','SoFi','SOFI']\\n]\\nfor row in hello:\\n    portfolio['Sector'].append(row[0])\\n    portfolio['Company Name'].append(row[1])\\n    portfolio['Ticker'].append(row[2])\\nportfolio = pd.DataFrame(portfolio).set_index('Sector')\\nportfolio.to_csv('./Data/Cleaned_Data/Ticker_library.csv')\\n\""
      ]
     },
     "execution_count": 118,
     "metadata": {},
     "output_type": "execute_result"
    }
   ],
   "source": [
    "\"\"\" Ticker Library init\n",
    "portfolio = {'Sector':[],'Company Name':[],'Ticker':[]}\n",
    "hello = [\n",
    "    ['Technology','Netflix','NFLX'],\n",
    "    ['Technology','Meta','FB'],\n",
    "    ['Technology','Uber','UBER'],\n",
    "    ['Technology','Microchip Technology','MCHP'],\n",
    "    ['Technology','AirBnB','ABNB'],\n",
    "    ['Energy','Diamondback Energy Inc.','FANG'],\n",
    "    ['Energy','Marathon Oil Corp.','MRO'],\n",
    "    ['Energy','Devon Energy Corp.','DVN'],\n",
    "    ['Energy','SunPower Corp.','SPWR'],\n",
    "    ['Energy','Renewable Energy Group Inc.','REGI'],\n",
    "    ['Finance','McKinsey & Company','MTRX'],\n",
    "    ['Finance','BlackRock','BLK'],\n",
    "    ['Finance','PayPal','PYPL'],\n",
    "    ['Finance','Mercadolibre Inc','MELI'],\n",
    "    ['Finance','SoFi','SOFI']\n",
    "]\n",
    "for row in hello:\n",
    "    portfolio['Sector'].append(row[0])\n",
    "    portfolio['Company Name'].append(row[1])\n",
    "    portfolio['Ticker'].append(row[2])\n",
    "portfolio = pd.DataFrame(portfolio).set_index('Sector')\n",
    "portfolio.to_csv('./Data/Cleaned_Data/Ticker_library.csv')\n",
    "\"\"\""
   ]
  },
  {
   "cell_type": "markdown",
   "metadata": {},
   "source": [
    "## Twitter"
   ]
  },
  {
   "cell_type": "code",
   "execution_count": 119,
   "metadata": {},
   "outputs": [],
   "source": [
    "import tweepy"
   ]
  },
  {
   "cell_type": "code",
   "execution_count": 120,
   "metadata": {},
   "outputs": [],
   "source": [
    "def init_twitter_API():\n",
    "    return tweepy.API(\n",
    "        tweepy.OAuth1UserHandler(\n",
    "            # Generated when you setup your Twitter Dev account\n",
    "            os.getenv(\"twitter_api_consumer_key\"),\n",
    "            os.getenv(\"twitter_api_consumer_secret_key\"),\n",
    "            # You have to generate the below after you setup your Twitter Dev Account\n",
    "            os.getenv(\"twitter_api_access_key\"),\n",
    "            os.getenv(\"twitter_api_access_secret_key\")\n",
    "        )\n",
    "    )\n",
    "\n",
    "# tw = init_twitter_API()"
   ]
  },
  {
   "cell_type": "markdown",
   "metadata": {},
   "source": [
    "## Python Edgar"
   ]
  },
  {
   "cell_type": "code",
   "execution_count": 121,
   "metadata": {},
   "outputs": [],
   "source": [
    "tickers = pd.read_csv('./Data/Cleaned_Data/Ticker_library.csv')['Ticker'].to_list()"
   ]
  },
  {
   "cell_type": "code",
   "execution_count": 122,
   "metadata": {},
   "outputs": [],
   "source": [
    "from sec_edgar_downloader import Downloader"
   ]
  },
  {
   "cell_type": "code",
   "execution_count": 123,
   "metadata": {},
   "outputs": [],
   "source": [
    "def create_SEC(path,tickers,filing_type,after_date,before_date=None):\n",
    "    dl = Downloader(f'{path}')\n",
    "    for ticker in tickers:\n",
    "        dl.get(filing_type, ticker, after=after_date,before=before_date)"
   ]
  },
  {
   "cell_type": "code",
   "execution_count": 124,
   "metadata": {},
   "outputs": [],
   "source": [
    "# Uncomment to download\n",
    "# create_SEC('./Data/Raw_Data/',tickers,\"10-Q\",after_date='2012-06-01')"
   ]
  },
  {
   "cell_type": "code",
   "execution_count": 125,
   "metadata": {},
   "outputs": [],
   "source": [
    "def txt_finder():\n",
    "    txts = []\n",
    "    for root, dirs, files in os.walk(\".\", topdown=False):\n",
    "        for name in files:\n",
    "            os.path.join(root, name)\n",
    "            if name[-4:]=='.txt':\n",
    "                txts.append(f'{root}/{name}')\n",
    "        for name in dirs:\n",
    "            os.path.join(root, name)\n",
    "    return txts\n",
    "sec_paths = txt_finder()"
   ]
  },
  {
   "cell_type": "code",
   "execution_count": 126,
   "metadata": {},
   "outputs": [],
   "source": [
    "def path_part(path,before,after):\n",
    "    beforeNum = path.find(before)+len(before)\n",
    "    afterNum = path.find(after)\n",
    "    return path[beforeNum:afterNum]\n",
    "\n",
    "def sec_df_from_paths(sec_paths,filing_type):\n",
    "    data = {\n",
    "        'Ticker':[],\n",
    "        'DocName':[],\n",
    "        'DocPath':[],\n",
    "        'FilingType':[],\n",
    "        'DocText':[]\n",
    "    }\n",
    "    for sec in sec_paths:\n",
    "        data['Ticker'].append(path_part(sec,'sec-edgar-filings\\\\',f'\\\\{filing_type}'))\n",
    "        data['DocName'].append(path_part(sec,f'\\\\{filing_type}\\\\','/full-submission'))\n",
    "        data['DocPath'].append(sec)\n",
    "        data['FilingType'].append(filing_type)\n",
    "        sec_txt = open(sec, \"r\")\n",
    "        data['DocText'].append(sec_txt.read())\n",
    "        sec_txt.close()\n",
    "    return pd.DataFrame(data)\n",
    "\n",
    "df_10Q = sec_df_from_paths(sec_paths,'10-Q')"
   ]
  },
  {
   "cell_type": "code",
   "execution_count": 127,
   "metadata": {},
   "outputs": [
    {
     "data": {
      "text/html": [
       "<div>\n",
       "<style scoped>\n",
       "    .dataframe tbody tr th:only-of-type {\n",
       "        vertical-align: middle;\n",
       "    }\n",
       "\n",
       "    .dataframe tbody tr th {\n",
       "        vertical-align: top;\n",
       "    }\n",
       "\n",
       "    .dataframe thead th {\n",
       "        text-align: right;\n",
       "    }\n",
       "</style>\n",
       "<table border=\"1\" class=\"dataframe\">\n",
       "  <thead>\n",
       "    <tr style=\"text-align: right;\">\n",
       "      <th></th>\n",
       "      <th>Ticker</th>\n",
       "      <th>DocName</th>\n",
       "      <th>DocPath</th>\n",
       "      <th>FilingType</th>\n",
       "      <th>DocText</th>\n",
       "    </tr>\n",
       "  </thead>\n",
       "  <tbody>\n",
       "  </tbody>\n",
       "</table>\n",
       "</div>"
      ],
      "text/plain": [
       "Empty DataFrame\n",
       "Columns: [Ticker, DocName, DocPath, FilingType, DocText]\n",
       "Index: []"
      ]
     },
     "execution_count": 127,
     "metadata": {},
     "output_type": "execute_result"
    }
   ],
   "source": [
    "df_10Q.head().tail(2)"
   ]
  },
  {
   "cell_type": "code",
   "execution_count": 128,
   "metadata": {},
   "outputs": [],
   "source": [
    "import re\n",
    "def restore_windows_1252_characters(restore_string):\n",
    "    \"\"\"\n",
    "        Replace C1 control characters in the Unicode string s by the\n",
    "        characters at the corresponding code points in Windows-1252,\n",
    "        where possible.\n",
    "    \"\"\"\n",
    "\n",
    "    def to_windows_1252(match):\n",
    "        try:\n",
    "            return bytes([ord(match.group(0))]).decode('windows-1252')\n",
    "        except UnicodeDecodeError:\n",
    "            # No character at the corresponding code point: remove it.\n",
    "            return ''\n",
    "        \n",
    "    return re.sub(r'[\\u0080-\\u0099]', to_windows_1252, restore_string)"
   ]
  },
  {
   "cell_type": "code",
   "execution_count": 129,
   "metadata": {},
   "outputs": [
    {
     "data": {
      "text/plain": [
       "Series([], Name: DocText, dtype: float64)"
      ]
     },
     "execution_count": 129,
     "metadata": {},
     "output_type": "execute_result"
    }
   ],
   "source": [
    "# df_10Q['DocText'].apply(restore_windows_1252_characters)\n",
    "df_10Q_test = df_10Q.head()\n",
    "df_10Q_test['DocText'].apply(restore_windows_1252_characters)"
   ]
  },
  {
   "cell_type": "code",
   "execution_count": 130,
   "metadata": {},
   "outputs": [],
   "source": [
    "# df_10Q['DocText'].loc[0][:1000]"
   ]
  },
  {
   "cell_type": "code",
   "execution_count": 131,
   "metadata": {},
   "outputs": [],
   "source": [
    "from sec_api import ExtractorApi\n",
    "sec_api = os.getenv(\"sec_api_key\")\n",
    "extractorApi = ExtractorApi(sec_api)\n",
    "\n",
    "# Tesla 10-K filing\n",
    "filing_url = \"https://www.sec.gov/Archives/edgar/data/1318605/000156459021004599/tsla-10k_20201231.htm\"\n",
    "\n",
    "# get the standardized and cleaned text of section 1A \"Risk Factors\"\n",
    "# section_text = extractorApi.get_section(filing_url, \"1A\", \"text\")\n",
    "\n",
    "# print(section_text)"
   ]
  },
  {
   "cell_type": "code",
   "execution_count": 132,
   "metadata": {},
   "outputs": [
    {
     "data": {
      "text/plain": [
       "28"
      ]
     },
     "execution_count": 132,
     "metadata": {},
     "output_type": "execute_result"
    }
   ],
   "source": [
    "len(\"CONFORMED PERIOD OF REPORT:\\t\")"
   ]
  },
  {
   "cell_type": "code",
   "execution_count": 133,
   "metadata": {},
   "outputs": [],
   "source": [
    "def DocText_extraction(text,before,after):\n",
    "    return text[\n",
    "        text.find(before)+len(before):\n",
    "        text.find(after)\n",
    "        ]"
   ]
  },
  {
   "cell_type": "code",
   "execution_count": 134,
   "metadata": {},
   "outputs": [],
   "source": [
    "def SEC_date(DocText):\n",
    "    \"\"\"Returns Conformed Period of Report when given the text of an SEC report\"\"\"\n",
    "    return DocText_extraction(DocText,\"CONFORMED PERIOD OF REPORT:\\t\",\"\\nFILED AS OF DATE:\")\n",
    "def SEC_CIK(DocText):\n",
    "    \"\"\"Returns CENTRAL INDEX KEY when given the text of an SEC report\"\"\"\n",
    "    return DocText_extraction(DocText,\"CENTRAL INDEX KEY:\\t\\t\\t\",\"\\n\\t\\tSTANDARD INDUSTRIAL CLASSIFICATION:\")\n",
    "    "
   ]
  },
  {
   "cell_type": "code",
   "execution_count": 135,
   "metadata": {},
   "outputs": [
    {
     "data": {
      "text/html": [
       "<div>\n",
       "<style scoped>\n",
       "    .dataframe tbody tr th:only-of-type {\n",
       "        vertical-align: middle;\n",
       "    }\n",
       "\n",
       "    .dataframe tbody tr th {\n",
       "        vertical-align: top;\n",
       "    }\n",
       "\n",
       "    .dataframe thead th {\n",
       "        text-align: right;\n",
       "    }\n",
       "</style>\n",
       "<table border=\"1\" class=\"dataframe\">\n",
       "  <thead>\n",
       "    <tr style=\"text-align: right;\">\n",
       "      <th></th>\n",
       "      <th>Ticker</th>\n",
       "      <th>DocName</th>\n",
       "      <th>DocPath</th>\n",
       "      <th>FilingType</th>\n",
       "      <th>DocText</th>\n",
       "      <th>SECdates</th>\n",
       "      <th>SEC_CIK</th>\n",
       "    </tr>\n",
       "  </thead>\n",
       "  <tbody>\n",
       "  </tbody>\n",
       "</table>\n",
       "</div>"
      ],
      "text/plain": [
       "Empty DataFrame\n",
       "Columns: [Ticker, DocName, DocPath, FilingType, DocText, SECdates, SEC_CIK]\n",
       "Index: []"
      ]
     },
     "execution_count": 135,
     "metadata": {},
     "output_type": "execute_result"
    }
   ],
   "source": [
    "def extract_all_SEC_dates(df:pd.DataFrame):\n",
    "    df['SECdates'] = df['DocText'].apply(SEC_date)\n",
    "def extract_all_SEC_CIK(df:pd.DataFrame):\n",
    "    df['SEC_CIK'] = df['DocText'].apply(SEC_CIK)\n",
    "extract_all_SEC_dates(df_10Q)\n",
    "extract_all_SEC_CIK(df_10Q)\n",
    "df_10Q.head()"
   ]
  },
  {
   "cell_type": "code",
   "execution_count": 136,
   "metadata": {},
   "outputs": [],
   "source": [
    "def url_maker(df:pd.DataFrame):\n",
    "    #Example:\n",
    "    # \"https://www.sec.gov/Archives/edgar/data/1318605/000156459021004599/tsla-10k_20201231.htm\"\n",
    "    # url_base:                 https://www.sec.gov/Archives/edgar/data/\n",
    "    # SEC CIK:                  1318605\n",
    "    # SEC DOCName:              000156459021004599\n",
    "    # Ticker:                   tsla\n",
    "    # Doc Type:                 10k\n",
    "    # Date (date 2020-02-31):   20201231 \n",
    "\n",
    "\n",
    "    url_base = \"https://www.sec.gov/Archives/edgar/data/\"\n",
    "    SEC_cik = df['SEC_CIK']\n",
    "    SEC_DocName = df['DocName'].apply(lambda x: re.sub(\"-\",\"\",x))\n",
    "    ticker = df['Ticker'].apply(str.lower)\n",
    "    doc_type = df['FilingType'].apply(lambda x: re.sub(\"-\",\"\",x))\n",
    "    date = df['SECdates']\n",
    "    return url_base + SEC_cik + \"/\" + SEC_DocName + \"/\" + ticker + \"-\" + doc_type + \"_\" + date + '.htm'\n",
    "\n",
    "# urls = url_maker(df_10Q)\n",
    "# df_10Q['urls'] = urls\n",
    "# for x in urls:\n",
    "#     print(x)"
   ]
  },
  {
   "cell_type": "code",
   "execution_count": 137,
   "metadata": {},
   "outputs": [
    {
     "data": {
      "text/html": [
       "<div>\n",
       "<style scoped>\n",
       "    .dataframe tbody tr th:only-of-type {\n",
       "        vertical-align: middle;\n",
       "    }\n",
       "\n",
       "    .dataframe tbody tr th {\n",
       "        vertical-align: top;\n",
       "    }\n",
       "\n",
       "    .dataframe thead th {\n",
       "        text-align: right;\n",
       "    }\n",
       "</style>\n",
       "<table border=\"1\" class=\"dataframe\">\n",
       "  <thead>\n",
       "    <tr style=\"text-align: right;\">\n",
       "      <th></th>\n",
       "      <th>Ticker</th>\n",
       "      <th>DocName</th>\n",
       "      <th>DocPath</th>\n",
       "      <th>FilingType</th>\n",
       "      <th>DocText</th>\n",
       "      <th>SECdates</th>\n",
       "      <th>SEC_CIK</th>\n",
       "    </tr>\n",
       "  </thead>\n",
       "  <tbody>\n",
       "  </tbody>\n",
       "</table>\n",
       "</div>"
      ],
      "text/plain": [
       "Empty DataFrame\n",
       "Columns: [Ticker, DocName, DocPath, FilingType, DocText, SECdates, SEC_CIK]\n",
       "Index: []"
      ]
     },
     "execution_count": 137,
     "metadata": {},
     "output_type": "execute_result"
    }
   ],
   "source": [
    "df_10Q.head()"
   ]
  },
  {
   "cell_type": "markdown",
   "metadata": {},
   "source": [
    "All 10-K and 10-Q sections can be extracted:\n",
    "\n",
    "    1 - Business\n",
    "    1A - Risk Factors\n",
    "    1B - Unresolved Staff Comments\n",
    "    2 - Properties\n",
    "    3 - Legal Proceedings\n",
    "    4 - Mine Safety Disclosures\n",
    "    5 - Market for Registrant’s Common Equity, Related Stockholder Matters and Issuer Purchases of Equity Securities\n",
    "    6 - Selected Financial Data (prior to February 2021)\n",
    "    7 - Management’s Discussion and Analysis of Financial Condition and Results of Operations\n",
    "    7A - Quantitative and Qualitative Disclosures about Market Risk\n",
    "    8 - Financial Statements and Supplementary Data\n",
    "    9 - Changes in and Disagreements with Accountants on Accounting and Financial Disclosure\n",
    "    9A - Controls and Procedures\n",
    "    9B - Other Information\n",
    "    10 - Directors, Executive Officers and Corporate Governance\n",
    "    11 - Executive Compensation\n",
    "    12 - Security Ownership of Certain Beneficial Owners and Management and Related Stockholder Matters\n",
    "    13 - Certain Relationships and Related Transactions, and Director Independence\n",
    "    14 - Principal Accountant Fees and Services\n",
    "> https://pypi.org/project/sec-api/\n"
   ]
  },
  {
   "cell_type": "markdown",
   "metadata": {},
   "source": [
    "## Getting things into model-able data"
   ]
  },
  {
   "cell_type": "code",
   "execution_count": 138,
   "metadata": {},
   "outputs": [
    {
     "data": {
      "text/html": [
       "<div>\n",
       "<style scoped>\n",
       "    .dataframe tbody tr th:only-of-type {\n",
       "        vertical-align: middle;\n",
       "    }\n",
       "\n",
       "    .dataframe tbody tr th {\n",
       "        vertical-align: top;\n",
       "    }\n",
       "\n",
       "    .dataframe thead th {\n",
       "        text-align: right;\n",
       "    }\n",
       "</style>\n",
       "<table border=\"1\" class=\"dataframe\">\n",
       "  <thead>\n",
       "    <tr style=\"text-align: right;\">\n",
       "      <th></th>\n",
       "      <th>ticker</th>\n",
       "      <th>periodOfReport</th>\n",
       "      <th>All Text</th>\n",
       "    </tr>\n",
       "  </thead>\n",
       "  <tbody>\n",
       "    <tr>\n",
       "      <th>0</th>\n",
       "      <td>NFLX</td>\n",
       "      <td>2022-03-31</td>\n",
       "      <td>undefined Item 2. Management&amp;#8217;s Discussio...</td>\n",
       "    </tr>\n",
       "  </tbody>\n",
       "</table>\n",
       "</div>"
      ],
      "text/plain": [
       "  ticker periodOfReport                                           All Text\n",
       "0   NFLX     2022-03-31  undefined Item 2. Management&#8217;s Discussio..."
      ]
     },
     "execution_count": 138,
     "metadata": {},
     "output_type": "execute_result"
    }
   ],
   "source": [
    "import libs.sec as sec\n",
    "import libs.df_helper as dfh\n",
    "df_sec_model = sec.sec_model_df()[['ticker','periodOfReport','All Text']]\n",
    "df_sec_model.head(1)"
   ]
  },
  {
   "cell_type": "code",
   "execution_count": 139,
   "metadata": {},
   "outputs": [],
   "source": [
    "# all_sentiments = dfh.daily_sentiment(df_sec_model,'periodOfReport','All Text')\n",
    "# all_sentiments.to_csv('.\\Data\\Cleaned_Data\\sec_sentiment.csv')\n"
   ]
  },
  {
   "cell_type": "code",
   "execution_count": 140,
   "metadata": {},
   "outputs": [
    {
     "data": {
      "text/html": [
       "<div>\n",
       "<style scoped>\n",
       "    .dataframe tbody tr th:only-of-type {\n",
       "        vertical-align: middle;\n",
       "    }\n",
       "\n",
       "    .dataframe tbody tr th {\n",
       "        vertical-align: top;\n",
       "    }\n",
       "\n",
       "    .dataframe thead th {\n",
       "        text-align: right;\n",
       "    }\n",
       "</style>\n",
       "<table border=\"1\" class=\"dataframe\">\n",
       "  <thead>\n",
       "    <tr style=\"text-align: right;\">\n",
       "      <th></th>\n",
       "      <th>ticker</th>\n",
       "      <th>pos</th>\n",
       "      <th>neg</th>\n",
       "      <th>neu</th>\n",
       "      <th>compound</th>\n",
       "    </tr>\n",
       "    <tr>\n",
       "      <th>date</th>\n",
       "      <th></th>\n",
       "      <th></th>\n",
       "      <th></th>\n",
       "      <th></th>\n",
       "      <th></th>\n",
       "    </tr>\n",
       "  </thead>\n",
       "  <tbody>\n",
       "    <tr>\n",
       "      <th>2020-12-31</th>\n",
       "      <td>ABNB</td>\n",
       "      <td>0.122</td>\n",
       "      <td>0.065</td>\n",
       "      <td>0.812</td>\n",
       "      <td>1.0000</td>\n",
       "    </tr>\n",
       "    <tr>\n",
       "      <th>2021-03-31</th>\n",
       "      <td>ABNB</td>\n",
       "      <td>0.107</td>\n",
       "      <td>0.028</td>\n",
       "      <td>0.865</td>\n",
       "      <td>0.9999</td>\n",
       "    </tr>\n",
       "    <tr>\n",
       "      <th>2021-06-30</th>\n",
       "      <td>ABNB</td>\n",
       "      <td>0.082</td>\n",
       "      <td>0.027</td>\n",
       "      <td>0.890</td>\n",
       "      <td>0.9999</td>\n",
       "    </tr>\n",
       "  </tbody>\n",
       "</table>\n",
       "</div>"
      ],
      "text/plain": [
       "           ticker    pos    neg    neu  compound\n",
       "date                                            \n",
       "2020-12-31   ABNB  0.122  0.065  0.812    1.0000\n",
       "2021-03-31   ABNB  0.107  0.028  0.865    0.9999\n",
       "2021-06-30   ABNB  0.082  0.027  0.890    0.9999"
      ]
     },
     "execution_count": 140,
     "metadata": {},
     "output_type": "execute_result"
    }
   ],
   "source": [
    "all_sentiments = pd.read_csv('.\\Data\\Cleaned_Data\\SEC_midpoints_csvs\\sec_sentiment.csv',index_col=0).set_index('date')\n",
    "all_sentiments.head(3)"
   ]
  },
  {
   "cell_type": "code",
   "execution_count": 141,
   "metadata": {},
   "outputs": [
    {
     "data": {
      "text/html": [
       "<div>\n",
       "<style scoped>\n",
       "    .dataframe tbody tr th:only-of-type {\n",
       "        vertical-align: middle;\n",
       "    }\n",
       "\n",
       "    .dataframe tbody tr th {\n",
       "        vertical-align: top;\n",
       "    }\n",
       "\n",
       "    .dataframe thead th {\n",
       "        text-align: right;\n",
       "    }\n",
       "</style>\n",
       "<table border=\"1\" class=\"dataframe\">\n",
       "  <thead>\n",
       "    <tr style=\"text-align: right;\">\n",
       "      <th></th>\n",
       "      <th>ticker</th>\n",
       "      <th>close</th>\n",
       "      <th>volume</th>\n",
       "    </tr>\n",
       "    <tr>\n",
       "      <th>date</th>\n",
       "      <th></th>\n",
       "      <th></th>\n",
       "      <th></th>\n",
       "    </tr>\n",
       "  </thead>\n",
       "  <tbody>\n",
       "    <tr>\n",
       "      <th>2015-12-01</th>\n",
       "      <td>NFLX</td>\n",
       "      <td>125.37</td>\n",
       "      <td>12550755</td>\n",
       "    </tr>\n",
       "    <tr>\n",
       "      <th>2015-12-02</th>\n",
       "      <td>NFLX</td>\n",
       "      <td>128.93</td>\n",
       "      <td>24105712</td>\n",
       "    </tr>\n",
       "    <tr>\n",
       "      <th>2015-12-03</th>\n",
       "      <td>NFLX</td>\n",
       "      <td>126.81</td>\n",
       "      <td>26644540</td>\n",
       "    </tr>\n",
       "  </tbody>\n",
       "</table>\n",
       "</div>"
      ],
      "text/plain": [
       "           ticker   close    volume\n",
       "date                               \n",
       "2015-12-01   NFLX  125.37  12550755\n",
       "2015-12-02   NFLX  128.93  24105712\n",
       "2015-12-03   NFLX  126.81  26644540"
      ]
     },
     "execution_count": 141,
     "metadata": {},
     "output_type": "execute_result"
    }
   ],
   "source": [
    "stocks = pd.read_csv('.\\Data\\Cleaned_Data\\stock_data.csv').set_index('date')\n",
    "stocks.head(3)"
   ]
  },
  {
   "cell_type": "code",
   "execution_count": 142,
   "metadata": {},
   "outputs": [],
   "source": [
    "def combine_sec_sentiment_n_stocks():\n",
    "    for ticker in tickers:\n",
    "        sentiment = all_sentiments[all_sentiments['ticker']==ticker]\n",
    "        close = stocks[stocks['ticker']==ticker]\n",
    "        df = pd.concat([sentiment, close], axis = 1)\n",
    "        df.sort_index(inplace=True)\n",
    "        df.ffill(axis = 0, inplace = True)\n",
    "        df.dropna(inplace = True)\n",
    "        df.to_csv(f'./Data/Cleaned_Data/SEC_sentiment_and_STOCKS/{ticker}.csv')\n",
    "combine_sec_sentiment_n_stocks()"
   ]
  },
  {
   "cell_type": "code",
   "execution_count": 143,
   "metadata": {},
   "outputs": [],
   "source": [
    "abnb_sec_fin_df = pd.read_csv('.\\Data\\Cleaned_Data\\SEC_Fin_Data\\ABNB_SEC_Fin_qrts',index_col=0)\n",
    "uber_sec_fin_df = pd.read_csv('.\\Data\\Cleaned_Data\\SEC_Fin_Data/UBER_SEC_Fin_qrts',index_col=0)\n"
   ]
  },
  {
   "cell_type": "code",
   "execution_count": 144,
   "metadata": {},
   "outputs": [
    {
     "data": {
      "text/plain": [
       "Index(['2020-03-31', '2020-06-30', '2020-09-30', '2020-12-31', '2021-03-31',\n",
       "       '2021-06-30', '2021-09-30', '2021-12-31', '2022-03-31'],\n",
       "      dtype='object')"
      ]
     },
     "execution_count": 144,
     "metadata": {},
     "output_type": "execute_result"
    }
   ],
   "source": [
    "abnb_sec_fin_df.index.str[11:]"
   ]
  },
  {
   "cell_type": "code",
   "execution_count": 145,
   "metadata": {},
   "outputs": [
    {
     "data": {
      "text/html": [
       "<div>\n",
       "<style scoped>\n",
       "    .dataframe tbody tr th:only-of-type {\n",
       "        vertical-align: middle;\n",
       "    }\n",
       "\n",
       "    .dataframe tbody tr th {\n",
       "        vertical-align: top;\n",
       "    }\n",
       "\n",
       "    .dataframe thead th {\n",
       "        text-align: right;\n",
       "    }\n",
       "</style>\n",
       "<table border=\"1\" class=\"dataframe\">\n",
       "  <thead>\n",
       "    <tr style=\"text-align: right;\">\n",
       "      <th></th>\n",
       "      <th>RevenueFromContractWithCustomerExcludingAssessedTax</th>\n",
       "      <th>CostOfRevenue</th>\n",
       "      <th>OperationsAndSupportExpense</th>\n",
       "      <th>ResearchAndDevelopmentExpense</th>\n",
       "      <th>SellingAndMarketingExpense</th>\n",
       "      <th>GeneralAndAdministrativeExpense</th>\n",
       "      <th>RestructuringCharges</th>\n",
       "      <th>CostsAndExpenses</th>\n",
       "      <th>OperatingIncomeLoss</th>\n",
       "      <th>InvestmentIncomeNonoperating</th>\n",
       "      <th>InterestIncomeExpenseNonoperatingNet</th>\n",
       "      <th>OtherNonoperatingIncomeExpense</th>\n",
       "      <th>IncomeLossFromContinuingOperationsBeforeIncomeTaxesExtraordinaryItemsNoncontrollingInterest</th>\n",
       "      <th>IncomeTaxExpenseBenefit</th>\n",
       "      <th>NetIncomeLoss</th>\n",
       "      <th>IncomeLossFromContinuingOperationsPerBasicShare</th>\n",
       "      <th>IncomeLossFromContinuingOperationsPerDilutedShare</th>\n",
       "      <th>WeightedAverageNumberOfSharesOutstandingBasic</th>\n",
       "      <th>WeightedAverageNumberOfDilutedSharesOutstanding</th>\n",
       "    </tr>\n",
       "    <tr>\n",
       "      <th>date</th>\n",
       "      <th></th>\n",
       "      <th></th>\n",
       "      <th></th>\n",
       "      <th></th>\n",
       "      <th></th>\n",
       "      <th></th>\n",
       "      <th></th>\n",
       "      <th></th>\n",
       "      <th></th>\n",
       "      <th></th>\n",
       "      <th></th>\n",
       "      <th></th>\n",
       "      <th></th>\n",
       "      <th></th>\n",
       "      <th></th>\n",
       "      <th></th>\n",
       "      <th></th>\n",
       "      <th></th>\n",
       "      <th></th>\n",
       "    </tr>\n",
       "  </thead>\n",
       "  <tbody>\n",
       "    <tr>\n",
       "      <th>2020-03-31</th>\n",
       "      <td>841830000</td>\n",
       "      <td>277772000</td>\n",
       "      <td>221787000</td>\n",
       "      <td>258819000</td>\n",
       "      <td>317179000</td>\n",
       "      <td>91762000</td>\n",
       "      <td>0</td>\n",
       "      <td>1167319000</td>\n",
       "      <td>-325489000</td>\n",
       "      <td>13649000</td>\n",
       "      <td>1510000</td>\n",
       "      <td>-46760000</td>\n",
       "      <td>-357090000</td>\n",
       "      <td>-16485000</td>\n",
       "      <td>-340605000</td>\n",
       "      <td>-1.3</td>\n",
       "      <td>-1.3</td>\n",
       "      <td>262509000</td>\n",
       "      <td>262509000</td>\n",
       "    </tr>\n",
       "  </tbody>\n",
       "</table>\n",
       "</div>"
      ],
      "text/plain": [
       "            RevenueFromContractWithCustomerExcludingAssessedTax  \\\n",
       "date                                                              \n",
       "2020-03-31                                          841830000     \n",
       "\n",
       "            CostOfRevenue  OperationsAndSupportExpense  \\\n",
       "date                                                     \n",
       "2020-03-31      277772000                    221787000   \n",
       "\n",
       "            ResearchAndDevelopmentExpense  SellingAndMarketingExpense  \\\n",
       "date                                                                    \n",
       "2020-03-31                      258819000                   317179000   \n",
       "\n",
       "            GeneralAndAdministrativeExpense  RestructuringCharges  \\\n",
       "date                                                                \n",
       "2020-03-31                         91762000                     0   \n",
       "\n",
       "            CostsAndExpenses  OperatingIncomeLoss  \\\n",
       "date                                                \n",
       "2020-03-31        1167319000           -325489000   \n",
       "\n",
       "            InvestmentIncomeNonoperating  \\\n",
       "date                                       \n",
       "2020-03-31                      13649000   \n",
       "\n",
       "            InterestIncomeExpenseNonoperatingNet  \\\n",
       "date                                               \n",
       "2020-03-31                               1510000   \n",
       "\n",
       "            OtherNonoperatingIncomeExpense  \\\n",
       "date                                         \n",
       "2020-03-31                       -46760000   \n",
       "\n",
       "            IncomeLossFromContinuingOperationsBeforeIncomeTaxesExtraordinaryItemsNoncontrollingInterest  \\\n",
       "date                                                                                                      \n",
       "2020-03-31                                         -357090000                                             \n",
       "\n",
       "            IncomeTaxExpenseBenefit  NetIncomeLoss  \\\n",
       "date                                                 \n",
       "2020-03-31                -16485000     -340605000   \n",
       "\n",
       "            IncomeLossFromContinuingOperationsPerBasicShare  \\\n",
       "date                                                          \n",
       "2020-03-31                                             -1.3   \n",
       "\n",
       "            IncomeLossFromContinuingOperationsPerDilutedShare  \\\n",
       "date                                                            \n",
       "2020-03-31                                               -1.3   \n",
       "\n",
       "            WeightedAverageNumberOfSharesOutstandingBasic  \\\n",
       "date                                                        \n",
       "2020-03-31                                      262509000   \n",
       "\n",
       "            WeightedAverageNumberOfDilutedSharesOutstanding  \n",
       "date                                                         \n",
       "2020-03-31                                        262509000  "
      ]
     },
     "execution_count": 145,
     "metadata": {},
     "output_type": "execute_result"
    }
   ],
   "source": [
    "def submit_only_range(df:pd.DataFrame):\n",
    "    df.index = df.index.str[11:]\n",
    "    # df.index = pd.to_datetime(\n",
    "    #     df.index,\n",
    "    #     infer_datetime_format = True\n",
    "    # )\n",
    "    df.index.name='date'\n",
    "submit_only_range(abnb_sec_fin_df)\n",
    "submit_only_range(uber_sec_fin_df)\n",
    "abnb_sec_fin_df.head(1)"
   ]
  },
  {
   "cell_type": "code",
   "execution_count": 146,
   "metadata": {},
   "outputs": [],
   "source": [
    "def combine_sec_fin_data_n_stocks(fin_data_df,ticker):\n",
    "    close = stocks[stocks['ticker']==ticker]\n",
    "    df = pd.concat([fin_data_df, close], axis = 1)\n",
    "    df.sort_index(inplace=True)\n",
    "    df.ffill(axis = 0, inplace = True)\n",
    "    df.dropna(inplace = True)\n",
    "    df.to_csv(f'./Data/Cleaned_Data/SEC_Fin_Data_and_STOCKS/{ticker}.csv')\n",
    "combine_sec_fin_data_n_stocks(abnb_sec_fin_df,'ABNB')\n",
    "combine_sec_fin_data_n_stocks(uber_sec_fin_df,'UBER')"
   ]
  },
  {
   "cell_type": "code",
   "execution_count": null,
   "metadata": {},
   "outputs": [],
   "source": []
  }
 ],
 "metadata": {
  "interpreter": {
   "hash": "60051db9b49e7622da472558d5c9910b644d729726c3e885e40a692d81c6b654"
  },
  "kernelspec": {
   "display_name": "Python 3.7.11 ('base')",
   "language": "python",
   "name": "python3"
  },
  "language_info": {
   "codemirror_mode": {
    "name": "ipython",
    "version": 3
   },
   "file_extension": ".py",
   "mimetype": "text/x-python",
   "name": "python",
   "nbconvert_exporter": "python",
   "pygments_lexer": "ipython3",
   "version": "3.7.11"
  },
  "orig_nbformat": 4
 },
 "nbformat": 4,
 "nbformat_minor": 2
}
