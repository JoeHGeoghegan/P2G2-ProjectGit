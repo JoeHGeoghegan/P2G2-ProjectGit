{
 "cells": [
  {
   "cell_type": "markdown",
   "metadata": {},
   "source": [
    "# Joe's code place"
   ]
  },
  {
   "cell_type": "markdown",
   "metadata": {},
   "source": [
    "![Hackerman](https://i.kym-cdn.com/entries/icons/mobile/000/021/807/ig9OoyenpxqdCQyABmOQBZDI0duHk2QZZmWg2Hxd4ro.jpg)"
   ]
  },
  {
   "cell_type": "markdown",
   "metadata": {},
   "source": [
    "# Code"
   ]
  },
  {
   "cell_type": "code",
   "execution_count": 1,
   "metadata": {},
   "outputs": [
    {
     "data": {
      "text/plain": [
       "True"
      ]
     },
     "execution_count": 1,
     "metadata": {},
     "output_type": "execute_result"
    }
   ],
   "source": [
    "# Imports\n",
    "import os\n",
    "import pandas as pd\n",
    "from dotenv import load_dotenv\n",
    "load_dotenv()"
   ]
  },
  {
   "cell_type": "code",
   "execution_count": 2,
   "metadata": {},
   "outputs": [
    {
     "data": {
      "text/plain": [
       "\" Ticker Library init\\nportfolio = {'Sector':[],'Company Name':[],'Ticker':[]}\\nhello = [\\n    ['Technology','Netflix','NFLX'],\\n    ['Technology','Meta','FB'],\\n    ['Technology','Uber','UBER'],\\n    ['Technology','Microchip Technology','MCHP'],\\n    ['Technology','AirBnB','ABNB'],\\n    ['Energy','Diamondback Energy Inc.','FANG'],\\n    ['Energy','Marathon Oil Corp.','MRO'],\\n    ['Energy','Devon Energy Corp.','DVN'],\\n    ['Energy','SunPower Corp.','SPWR'],\\n    ['Energy','Renewable Energy Group Inc.','REGI'],\\n    ['Finance','McKinsey & Company','MTRX'],\\n    ['Finance','BlackRock','BLK'],\\n    ['Finance','PayPal','PYPL'],\\n    ['Finance','Mercadolibre Inc','MELI'],\\n    ['Finance','SoFi','SOFI']\\n]\\nfor row in hello:\\n    portfolio['Sector'].append(row[0])\\n    portfolio['Company Name'].append(row[1])\\n    portfolio['Ticker'].append(row[2])\\nportfolio = pd.DataFrame(portfolio).set_index('Sector')\\nportfolio.to_csv('./Data/Cleaned_Data/Ticker_library.csv')\\n\""
      ]
     },
     "execution_count": 2,
     "metadata": {},
     "output_type": "execute_result"
    }
   ],
   "source": [
    "\"\"\" Ticker Library init\n",
    "portfolio = {'Sector':[],'Company Name':[],'Ticker':[]}\n",
    "hello = [\n",
    "    ['Technology','Netflix','NFLX'],\n",
    "    ['Technology','Meta','FB'],\n",
    "    ['Technology','Uber','UBER'],\n",
    "    ['Technology','Microchip Technology','MCHP'],\n",
    "    ['Technology','AirBnB','ABNB'],\n",
    "    ['Energy','Diamondback Energy Inc.','FANG'],\n",
    "    ['Energy','Marathon Oil Corp.','MRO'],\n",
    "    ['Energy','Devon Energy Corp.','DVN'],\n",
    "    ['Energy','SunPower Corp.','SPWR'],\n",
    "    ['Energy','Renewable Energy Group Inc.','REGI'],\n",
    "    ['Finance','McKinsey & Company','MTRX'],\n",
    "    ['Finance','BlackRock','BLK'],\n",
    "    ['Finance','PayPal','PYPL'],\n",
    "    ['Finance','Mercadolibre Inc','MELI'],\n",
    "    ['Finance','SoFi','SOFI']\n",
    "]\n",
    "for row in hello:\n",
    "    portfolio['Sector'].append(row[0])\n",
    "    portfolio['Company Name'].append(row[1])\n",
    "    portfolio['Ticker'].append(row[2])\n",
    "portfolio = pd.DataFrame(portfolio).set_index('Sector')\n",
    "portfolio.to_csv('./Data/Cleaned_Data/Ticker_library.csv')\n",
    "\"\"\""
   ]
  },
  {
   "cell_type": "markdown",
   "metadata": {},
   "source": [
    "## Twitter"
   ]
  },
  {
   "cell_type": "code",
   "execution_count": 3,
   "metadata": {},
   "outputs": [],
   "source": [
    "import tweepy"
   ]
  },
  {
   "cell_type": "code",
   "execution_count": 4,
   "metadata": {},
   "outputs": [],
   "source": [
    "def init_twitter_API():\n",
    "    return tweepy.API(\n",
    "        tweepy.OAuth1UserHandler(\n",
    "            # Generated when you setup your Twitter Dev account\n",
    "            os.getenv(\"twitter_api_consumer_key\"),\n",
    "            os.getenv(\"twitter_api_consumer_secret_key\"),\n",
    "            # You have to generate the below after you setup your Twitter Dev Account\n",
    "            os.getenv(\"twitter_api_access_key\"),\n",
    "            os.getenv(\"twitter_api_access_secret_key\")\n",
    "        )\n",
    "    )\n",
    "\n",
    "# tw = init_twitter_API()"
   ]
  },
  {
   "cell_type": "markdown",
   "metadata": {},
   "source": [
    "## Python Edgar"
   ]
  },
  {
   "cell_type": "code",
   "execution_count": 6,
   "metadata": {},
   "outputs": [],
   "source": [
    "tickers = pd.read_csv('./Data/Cleaned_Data/Ticker_library.csv')['Ticker'].to_list()"
   ]
  },
  {
   "cell_type": "code",
   "execution_count": 7,
   "metadata": {},
   "outputs": [],
   "source": [
    "from sec_edgar_downloader import Downloader"
   ]
  },
  {
   "cell_type": "code",
   "execution_count": 8,
   "metadata": {},
   "outputs": [],
   "source": [
    "def create_SEC(path,tickers,filing_type,after_date,before_date=None):\n",
    "    dl = Downloader(f'{path}')\n",
    "    for ticker in tickers:\n",
    "        dl.get(filing_type, ticker, after=after_date,before=before_date)"
   ]
  },
  {
   "cell_type": "code",
   "execution_count": 9,
   "metadata": {},
   "outputs": [],
   "source": [
    "# Uncomment to download\n",
    "# create_SEC('./Data/Raw_Data/',tickers,\"10-Q\",after_date='2012-06-01')"
   ]
  },
  {
   "cell_type": "code",
   "execution_count": 11,
   "metadata": {},
   "outputs": [],
   "source": [
    "def txt_finder():\n",
    "    txts = []\n",
    "    for root, dirs, files in os.walk(\".\", topdown=False):\n",
    "        for name in files:\n",
    "            os.path.join(root, name)\n",
    "            if name[-4:]=='.txt':\n",
    "                txts.append(f'{root}/{name}')\n",
    "        for name in dirs:\n",
    "            os.path.join(root, name)\n",
    "    return txts\n",
    "sec_paths = txt_finder()"
   ]
  },
  {
   "cell_type": "code",
   "execution_count": 14,
   "metadata": {},
   "outputs": [],
   "source": [
    "def path_part(path,before,after):\n",
    "    beforeNum = path.find(before)+len(before)\n",
    "    afterNum = path.find(after)\n",
    "    return path[beforeNum:afterNum]\n",
    "\n",
    "def sec_df_from_paths(sec_paths,filing_type):\n",
    "    data = {\n",
    "        'Ticker':[],\n",
    "        'DocName':[],\n",
    "        'DocText':[]\n",
    "    }\n",
    "    for sec in sec_paths:\n",
    "        data['Ticker'].append(path_part(sec,'sec-edgar-filings\\\\',f'\\\\{filing_type}'))\n",
    "        data['DocName'].append(path_part(sec,f'\\\\{filing_type}\\\\','/full-submission'))\n",
    "        \n",
    "        sec_txt = open(sec, \"r\")\n",
    "        data['DocText'] = sec_txt.read()\n",
    "        sec_txt.close()\n",
    "    return pd.DataFrame(data)\n",
    "\n",
    "df_10Q = sec_df_from_paths(sec_paths,'10-Q')"
   ]
  },
  {
   "cell_type": "code",
   "execution_count": 15,
   "metadata": {},
   "outputs": [
    {
     "data": {
      "text/html": [
       "<div>\n",
       "<style scoped>\n",
       "    .dataframe tbody tr th:only-of-type {\n",
       "        vertical-align: middle;\n",
       "    }\n",
       "\n",
       "    .dataframe tbody tr th {\n",
       "        vertical-align: top;\n",
       "    }\n",
       "\n",
       "    .dataframe thead th {\n",
       "        text-align: right;\n",
       "    }\n",
       "</style>\n",
       "<table border=\"1\" class=\"dataframe\">\n",
       "  <thead>\n",
       "    <tr style=\"text-align: right;\">\n",
       "      <th></th>\n",
       "      <th>Ticker</th>\n",
       "      <th>DocName</th>\n",
       "      <th>DocText</th>\n",
       "    </tr>\n",
       "  </thead>\n",
       "  <tbody>\n",
       "    <tr>\n",
       "      <th>0</th>\n",
       "      <td>ABNB</td>\n",
       "      <td>0001559720-21-000017</td>\n",
       "      <td>&lt;SEC-DOCUMENT&gt;0001628280-20-015936.txt : 20201...</td>\n",
       "    </tr>\n",
       "    <tr>\n",
       "      <th>1</th>\n",
       "      <td>ABNB</td>\n",
       "      <td>0001559720-22-000009</td>\n",
       "      <td>&lt;SEC-DOCUMENT&gt;0001628280-20-015936.txt : 20201...</td>\n",
       "    </tr>\n",
       "    <tr>\n",
       "      <th>2</th>\n",
       "      <td>ABNB</td>\n",
       "      <td>0001628280-21-010389</td>\n",
       "      <td>&lt;SEC-DOCUMENT&gt;0001628280-20-015936.txt : 20201...</td>\n",
       "    </tr>\n",
       "    <tr>\n",
       "      <th>3</th>\n",
       "      <td>ABNB</td>\n",
       "      <td>0001628280-21-016979</td>\n",
       "      <td>&lt;SEC-DOCUMENT&gt;0001628280-20-015936.txt : 20201...</td>\n",
       "    </tr>\n",
       "    <tr>\n",
       "      <th>4</th>\n",
       "      <td>BLK</td>\n",
       "      <td>0001193125-12-343728</td>\n",
       "      <td>&lt;SEC-DOCUMENT&gt;0001628280-20-015936.txt : 20201...</td>\n",
       "    </tr>\n",
       "  </tbody>\n",
       "</table>\n",
       "</div>"
      ],
      "text/plain": [
       "  Ticker               DocName  \\\n",
       "0   ABNB  0001559720-21-000017   \n",
       "1   ABNB  0001559720-22-000009   \n",
       "2   ABNB  0001628280-21-010389   \n",
       "3   ABNB  0001628280-21-016979   \n",
       "4    BLK  0001193125-12-343728   \n",
       "\n",
       "                                             DocText  \n",
       "0  <SEC-DOCUMENT>0001628280-20-015936.txt : 20201...  \n",
       "1  <SEC-DOCUMENT>0001628280-20-015936.txt : 20201...  \n",
       "2  <SEC-DOCUMENT>0001628280-20-015936.txt : 20201...  \n",
       "3  <SEC-DOCUMENT>0001628280-20-015936.txt : 20201...  \n",
       "4  <SEC-DOCUMENT>0001628280-20-015936.txt : 20201...  "
      ]
     },
     "execution_count": 15,
     "metadata": {},
     "output_type": "execute_result"
    }
   ],
   "source": [
    "df_10Q.head()"
   ]
  },
  {
   "cell_type": "code",
   "execution_count": 35,
   "metadata": {},
   "outputs": [],
   "source": [
    "import libs.StockBasics as sb\n",
    "stocks = sb.load_stocks()"
   ]
  },
  {
   "cell_type": "code",
   "execution_count": 36,
   "metadata": {},
   "outputs": [
    {
     "data": {
      "text/html": [
       "<div>\n",
       "<style scoped>\n",
       "    .dataframe tbody tr th:only-of-type {\n",
       "        vertical-align: middle;\n",
       "    }\n",
       "\n",
       "    .dataframe tbody tr th {\n",
       "        vertical-align: top;\n",
       "    }\n",
       "\n",
       "    .dataframe thead th {\n",
       "        text-align: right;\n",
       "    }\n",
       "</style>\n",
       "<table border=\"1\" class=\"dataframe\">\n",
       "  <thead>\n",
       "    <tr style=\"text-align: right;\">\n",
       "      <th></th>\n",
       "      <th>ticker</th>\n",
       "      <th>close</th>\n",
       "      <th>volume</th>\n",
       "    </tr>\n",
       "  </thead>\n",
       "  <tbody>\n",
       "    <tr>\n",
       "      <th>2015-12-01</th>\n",
       "      <td>NFLX</td>\n",
       "      <td>125.37</td>\n",
       "      <td>12550755</td>\n",
       "    </tr>\n",
       "    <tr>\n",
       "      <th>2015-12-02</th>\n",
       "      <td>NFLX</td>\n",
       "      <td>128.93</td>\n",
       "      <td>24105712</td>\n",
       "    </tr>\n",
       "    <tr>\n",
       "      <th>2015-12-03</th>\n",
       "      <td>NFLX</td>\n",
       "      <td>126.81</td>\n",
       "      <td>26644540</td>\n",
       "    </tr>\n",
       "    <tr>\n",
       "      <th>2015-12-04</th>\n",
       "      <td>NFLX</td>\n",
       "      <td>130.93</td>\n",
       "      <td>20250411</td>\n",
       "    </tr>\n",
       "    <tr>\n",
       "      <th>2015-12-07</th>\n",
       "      <td>NFLX</td>\n",
       "      <td>125.36</td>\n",
       "      <td>23351531</td>\n",
       "    </tr>\n",
       "    <tr>\n",
       "      <th>...</th>\n",
       "      <td>...</td>\n",
       "      <td>...</td>\n",
       "      <td>...</td>\n",
       "    </tr>\n",
       "    <tr>\n",
       "      <th>2022-05-25</th>\n",
       "      <td>NFLX</td>\n",
       "      <td>187.83</td>\n",
       "      <td>8488881</td>\n",
       "    </tr>\n",
       "    <tr>\n",
       "      <th>2022-05-26</th>\n",
       "      <td>NFLX</td>\n",
       "      <td>191.40</td>\n",
       "      <td>8039904</td>\n",
       "    </tr>\n",
       "    <tr>\n",
       "      <th>2022-05-27</th>\n",
       "      <td>NFLX</td>\n",
       "      <td>195.19</td>\n",
       "      <td>8567288</td>\n",
       "    </tr>\n",
       "    <tr>\n",
       "      <th>2022-05-31</th>\n",
       "      <td>NFLX</td>\n",
       "      <td>197.44</td>\n",
       "      <td>11379922</td>\n",
       "    </tr>\n",
       "    <tr>\n",
       "      <th>2022-06-01</th>\n",
       "      <td>NFLX</td>\n",
       "      <td>192.91</td>\n",
       "      <td>8377207</td>\n",
       "    </tr>\n",
       "  </tbody>\n",
       "</table>\n",
       "<p>1637 rows × 3 columns</p>\n",
       "</div>"
      ],
      "text/plain": [
       "           ticker   close    volume\n",
       "2015-12-01   NFLX  125.37  12550755\n",
       "2015-12-02   NFLX  128.93  24105712\n",
       "2015-12-03   NFLX  126.81  26644540\n",
       "2015-12-04   NFLX  130.93  20250411\n",
       "2015-12-07   NFLX  125.36  23351531\n",
       "...           ...     ...       ...\n",
       "2022-05-25   NFLX  187.83   8488881\n",
       "2022-05-26   NFLX  191.40   8039904\n",
       "2022-05-27   NFLX  195.19   8567288\n",
       "2022-05-31   NFLX  197.44  11379922\n",
       "2022-06-01   NFLX  192.91   8377207\n",
       "\n",
       "[1637 rows x 3 columns]"
      ]
     },
     "execution_count": 36,
     "metadata": {},
     "output_type": "execute_result"
    }
   ],
   "source": [
    "stocks['NFLX']"
   ]
  },
  {
   "cell_type": "code",
   "execution_count": null,
   "metadata": {},
   "outputs": [],
   "source": []
  }
 ],
 "metadata": {
  "interpreter": {
   "hash": "60051db9b49e7622da472558d5c9910b644d729726c3e885e40a692d81c6b654"
  },
  "kernelspec": {
   "display_name": "Python 3.7.11 ('base')",
   "language": "python",
   "name": "python3"
  },
  "language_info": {
   "codemirror_mode": {
    "name": "ipython",
    "version": 3
   },
   "file_extension": ".py",
   "mimetype": "text/x-python",
   "name": "python",
   "nbconvert_exporter": "python",
   "pygments_lexer": "ipython3",
   "version": "3.7.11"
  },
  "orig_nbformat": 4
 },
 "nbformat": 4,
 "nbformat_minor": 2
}
