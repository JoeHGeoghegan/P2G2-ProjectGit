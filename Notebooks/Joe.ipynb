{
 "cells": [
  {
   "cell_type": "markdown",
   "metadata": {},
   "source": [
    "# Joe's code place"
   ]
  },
  {
   "cell_type": "markdown",
   "metadata": {},
   "source": [
    "![Hackerman](https://i.kym-cdn.com/entries/icons/mobile/000/021/807/ig9OoyenpxqdCQyABmOQBZDI0duHk2QZZmWg2Hxd4ro.jpg)"
   ]
  },
  {
   "cell_type": "markdown",
   "metadata": {},
   "source": [
    "# Code"
   ]
  },
  {
   "cell_type": "code",
   "execution_count": 1,
   "metadata": {},
   "outputs": [
    {
     "data": {
      "text/plain": [
       "True"
      ]
     },
     "execution_count": 1,
     "metadata": {},
     "output_type": "execute_result"
    }
   ],
   "source": [
    "# Imports\n",
    "import os\n",
    "import pandas as pd\n",
    "from dotenv import load_dotenv\n",
    "load_dotenv()"
   ]
  },
  {
   "cell_type": "code",
   "execution_count": 2,
   "metadata": {},
   "outputs": [
    {
     "data": {
      "text/plain": [
       "\" Ticker Library init\\nportfolio = {'Sector':[],'Company Name':[],'Ticker':[]}\\nhello = [\\n    ['Technology','Netflix','NFLX'],\\n    ['Technology','Meta','FB'],\\n    ['Technology','Uber','UBER'],\\n    ['Technology','Microchip Technology','MCHP'],\\n    ['Technology','AirBnB','ABNB'],\\n    ['Energy','Diamondback Energy Inc.','FANG'],\\n    ['Energy','Marathon Oil Corp.','MRO'],\\n    ['Energy','Devon Energy Corp.','DVN'],\\n    ['Energy','SunPower Corp.','SPWR'],\\n    ['Energy','Renewable Energy Group Inc.','REGI'],\\n    ['Finance','McKinsey & Company','MTRX'],\\n    ['Finance','BlackRock','BLK'],\\n    ['Finance','PayPal','PYPL'],\\n    ['Finance','Mercadolibre Inc','MELI'],\\n    ['Finance','SoFi','SOFI']\\n]\\nfor row in hello:\\n    portfolio['Sector'].append(row[0])\\n    portfolio['Company Name'].append(row[1])\\n    portfolio['Ticker'].append(row[2])\\nportfolio = pd.DataFrame(portfolio).set_index('Sector')\\nportfolio.to_csv('./Data/Cleaned_Data/Ticker_library.csv')\\n\""
      ]
     },
     "execution_count": 2,
     "metadata": {},
     "output_type": "execute_result"
    }
   ],
   "source": [
    "\"\"\" Ticker Library init\n",
    "portfolio = {'Sector':[],'Company Name':[],'Ticker':[]}\n",
    "hello = [\n",
    "    ['Technology','Netflix','NFLX'],\n",
    "    ['Technology','Meta','FB'],\n",
    "    ['Technology','Uber','UBER'],\n",
    "    ['Technology','Microchip Technology','MCHP'],\n",
    "    ['Technology','AirBnB','ABNB'],\n",
    "    ['Energy','Diamondback Energy Inc.','FANG'],\n",
    "    ['Energy','Marathon Oil Corp.','MRO'],\n",
    "    ['Energy','Devon Energy Corp.','DVN'],\n",
    "    ['Energy','SunPower Corp.','SPWR'],\n",
    "    ['Energy','Renewable Energy Group Inc.','REGI'],\n",
    "    ['Finance','McKinsey & Company','MTRX'],\n",
    "    ['Finance','BlackRock','BLK'],\n",
    "    ['Finance','PayPal','PYPL'],\n",
    "    ['Finance','Mercadolibre Inc','MELI'],\n",
    "    ['Finance','SoFi','SOFI']\n",
    "]\n",
    "for row in hello:\n",
    "    portfolio['Sector'].append(row[0])\n",
    "    portfolio['Company Name'].append(row[1])\n",
    "    portfolio['Ticker'].append(row[2])\n",
    "portfolio = pd.DataFrame(portfolio).set_index('Sector')\n",
    "portfolio.to_csv('./Data/Cleaned_Data/Ticker_library.csv')\n",
    "\"\"\""
   ]
  },
  {
   "cell_type": "markdown",
   "metadata": {},
   "source": [
    "## Twitter"
   ]
  },
  {
   "cell_type": "code",
   "execution_count": 3,
   "metadata": {},
   "outputs": [],
   "source": [
    "import tweepy"
   ]
  },
  {
   "cell_type": "code",
   "execution_count": 4,
   "metadata": {},
   "outputs": [],
   "source": [
    "def init_twitter_API():\n",
    "    return tweepy.API(\n",
    "        tweepy.OAuth1UserHandler(\n",
    "            # Generated when you setup your Twitter Dev account\n",
    "            os.getenv(\"twitter_api_consumer_key\"),\n",
    "            os.getenv(\"twitter_api_consumer_secret_key\"),\n",
    "            # You have to generate the below after you setup your Twitter Dev Account\n",
    "            os.getenv(\"twitter_api_access_key\"),\n",
    "            os.getenv(\"twitter_api_access_secret_key\")\n",
    "        )\n",
    "    )\n",
    "\n",
    "# tw = init_twitter_API()"
   ]
  },
  {
   "cell_type": "markdown",
   "metadata": {},
   "source": [
    "## Python Edgar"
   ]
  },
  {
   "cell_type": "code",
   "execution_count": 5,
   "metadata": {},
   "outputs": [],
   "source": [
    "tickers = pd.read_csv('./Data/Cleaned_Data/Ticker_library.csv')['Ticker'].to_list()"
   ]
  },
  {
   "cell_type": "code",
   "execution_count": 6,
   "metadata": {},
   "outputs": [],
   "source": [
    "from sec_edgar_downloader import Downloader"
   ]
  },
  {
   "cell_type": "code",
   "execution_count": 7,
   "metadata": {},
   "outputs": [],
   "source": [
    "def create_SEC(path,tickers,filing_type,after_date,before_date=None):\n",
    "    dl = Downloader(f'{path}')\n",
    "    for ticker in tickers:\n",
    "        dl.get(filing_type, ticker, after=after_date,before=before_date)"
   ]
  },
  {
   "cell_type": "code",
   "execution_count": 8,
   "metadata": {},
   "outputs": [],
   "source": [
    "# Uncomment to download\n",
    "# create_SEC('./Data/Raw_Data/',tickers,\"10-Q\",after_date='2012-06-01')"
   ]
  },
  {
   "cell_type": "code",
   "execution_count": 9,
   "metadata": {},
   "outputs": [],
   "source": [
    "def txt_finder():\n",
    "    txts = []\n",
    "    for root, dirs, files in os.walk(\".\", topdown=False):\n",
    "        for name in files:\n",
    "            os.path.join(root, name)\n",
    "            if name[-4:]=='.txt':\n",
    "                txts.append(f'{root}/{name}')\n",
    "        for name in dirs:\n",
    "            os.path.join(root, name)\n",
    "    return txts\n",
    "sec_paths = txt_finder()"
   ]
  },
  {
   "cell_type": "code",
   "execution_count": 10,
   "metadata": {},
   "outputs": [],
   "source": [
    "def path_part(path,before,after):\n",
    "    beforeNum = path.find(before)+len(before)\n",
    "    afterNum = path.find(after)\n",
    "    return path[beforeNum:afterNum]\n",
    "\n",
    "def sec_df_from_paths(sec_paths,filing_type):\n",
    "    data = {\n",
    "        'Ticker':[],\n",
    "        'DocName':[],\n",
    "        'DocPath':[],\n",
    "        'FilingType':[],\n",
    "        'DocText':[]\n",
    "    }\n",
    "    for sec in sec_paths:\n",
    "        data['Ticker'].append(path_part(sec,'sec-edgar-filings\\\\',f'\\\\{filing_type}'))\n",
    "        data['DocName'].append(path_part(sec,f'\\\\{filing_type}\\\\','/full-submission'))\n",
    "        data['DocPath'].append(sec)\n",
    "        data['FilingType'].append(filing_type)\n",
    "        sec_txt = open(sec, \"r\")\n",
    "        data['DocText'].append(sec_txt.read())\n",
    "        sec_txt.close()\n",
    "    return pd.DataFrame(data)\n",
    "\n",
    "df_10Q = sec_df_from_paths(sec_paths,'10-Q')"
   ]
  },
  {
   "cell_type": "code",
   "execution_count": 11,
   "metadata": {},
   "outputs": [
    {
     "data": {
      "text/html": [
       "<div>\n",
       "<style scoped>\n",
       "    .dataframe tbody tr th:only-of-type {\n",
       "        vertical-align: middle;\n",
       "    }\n",
       "\n",
       "    .dataframe tbody tr th {\n",
       "        vertical-align: top;\n",
       "    }\n",
       "\n",
       "    .dataframe thead th {\n",
       "        text-align: right;\n",
       "    }\n",
       "</style>\n",
       "<table border=\"1\" class=\"dataframe\">\n",
       "  <thead>\n",
       "    <tr style=\"text-align: right;\">\n",
       "      <th></th>\n",
       "      <th>Ticker</th>\n",
       "      <th>DocName</th>\n",
       "      <th>DocPath</th>\n",
       "      <th>FilingType</th>\n",
       "      <th>DocText</th>\n",
       "    </tr>\n",
       "  </thead>\n",
       "  <tbody>\n",
       "  </tbody>\n",
       "</table>\n",
       "</div>"
      ],
      "text/plain": [
       "Empty DataFrame\n",
       "Columns: [Ticker, DocName, DocPath, FilingType, DocText]\n",
       "Index: []"
      ]
     },
     "execution_count": 11,
     "metadata": {},
     "output_type": "execute_result"
    }
   ],
   "source": [
    "df_10Q.head().tail(2)"
   ]
  },
  {
   "cell_type": "code",
   "execution_count": 12,
   "metadata": {},
   "outputs": [],
   "source": [
    "import re\n",
    "def restore_windows_1252_characters(restore_string):\n",
    "    \"\"\"\n",
    "        Replace C1 control characters in the Unicode string s by the\n",
    "        characters at the corresponding code points in Windows-1252,\n",
    "        where possible.\n",
    "    \"\"\"\n",
    "\n",
    "    def to_windows_1252(match):\n",
    "        try:\n",
    "            return bytes([ord(match.group(0))]).decode('windows-1252')\n",
    "        except UnicodeDecodeError:\n",
    "            # No character at the corresponding code point: remove it.\n",
    "            return ''\n",
    "        \n",
    "    return re.sub(r'[\\u0080-\\u0099]', to_windows_1252, restore_string)"
   ]
  },
  {
   "cell_type": "code",
   "execution_count": 13,
   "metadata": {},
   "outputs": [
    {
     "data": {
      "text/plain": [
       "Series([], Name: DocText, dtype: float64)"
      ]
     },
     "execution_count": 13,
     "metadata": {},
     "output_type": "execute_result"
    }
   ],
   "source": [
    "# df_10Q['DocText'].apply(restore_windows_1252_characters)\n",
    "df_10Q_test = df_10Q.head()\n",
    "df_10Q_test['DocText'].apply(restore_windows_1252_characters)"
   ]
  },
  {
   "cell_type": "code",
   "execution_count": 14,
   "metadata": {},
   "outputs": [],
   "source": [
    "# df_10Q['DocText'].loc[0][:1000]"
   ]
  },
  {
   "cell_type": "code",
   "execution_count": 15,
   "metadata": {},
   "outputs": [],
   "source": [
    "from sec_api import ExtractorApi\n",
    "sec_api = os.getenv(\"sec_api_key\")\n",
    "extractorApi = ExtractorApi(sec_api)\n",
    "\n",
    "# Tesla 10-K filing\n",
    "filing_url = \"https://www.sec.gov/Archives/edgar/data/1318605/000156459021004599/tsla-10k_20201231.htm\"\n",
    "\n",
    "# get the standardized and cleaned text of section 1A \"Risk Factors\"\n",
    "# section_text = extractorApi.get_section(filing_url, \"1A\", \"text\")\n",
    "\n",
    "# print(section_text)"
   ]
  },
  {
   "cell_type": "code",
   "execution_count": 16,
   "metadata": {},
   "outputs": [
    {
     "data": {
      "text/plain": [
       "28"
      ]
     },
     "execution_count": 16,
     "metadata": {},
     "output_type": "execute_result"
    }
   ],
   "source": [
    "len(\"CONFORMED PERIOD OF REPORT:\\t\")"
   ]
  },
  {
   "cell_type": "code",
   "execution_count": 17,
   "metadata": {},
   "outputs": [],
   "source": [
    "def DocText_extraction(text,before,after):\n",
    "    return text[\n",
    "        text.find(before)+len(before):\n",
    "        text.find(after)\n",
    "        ]"
   ]
  },
  {
   "cell_type": "code",
   "execution_count": 18,
   "metadata": {},
   "outputs": [],
   "source": [
    "def SEC_date(DocText):\n",
    "    \"\"\"Returns Conformed Period of Report when given the text of an SEC report\"\"\"\n",
    "    return DocText_extraction(DocText,\"CONFORMED PERIOD OF REPORT:\\t\",\"\\nFILED AS OF DATE:\")\n",
    "def SEC_CIK(DocText):\n",
    "    \"\"\"Returns CENTRAL INDEX KEY when given the text of an SEC report\"\"\"\n",
    "    return DocText_extraction(DocText,\"CENTRAL INDEX KEY:\\t\\t\\t\",\"\\n\\t\\tSTANDARD INDUSTRIAL CLASSIFICATION:\")\n",
    "    "
   ]
  },
  {
   "cell_type": "code",
   "execution_count": 19,
   "metadata": {},
   "outputs": [
    {
     "data": {
      "text/html": [
       "<div>\n",
       "<style scoped>\n",
       "    .dataframe tbody tr th:only-of-type {\n",
       "        vertical-align: middle;\n",
       "    }\n",
       "\n",
       "    .dataframe tbody tr th {\n",
       "        vertical-align: top;\n",
       "    }\n",
       "\n",
       "    .dataframe thead th {\n",
       "        text-align: right;\n",
       "    }\n",
       "</style>\n",
       "<table border=\"1\" class=\"dataframe\">\n",
       "  <thead>\n",
       "    <tr style=\"text-align: right;\">\n",
       "      <th></th>\n",
       "      <th>Ticker</th>\n",
       "      <th>DocName</th>\n",
       "      <th>DocPath</th>\n",
       "      <th>FilingType</th>\n",
       "      <th>DocText</th>\n",
       "      <th>SECdates</th>\n",
       "      <th>SEC_CIK</th>\n",
       "    </tr>\n",
       "  </thead>\n",
       "  <tbody>\n",
       "  </tbody>\n",
       "</table>\n",
       "</div>"
      ],
      "text/plain": [
       "Empty DataFrame\n",
       "Columns: [Ticker, DocName, DocPath, FilingType, DocText, SECdates, SEC_CIK]\n",
       "Index: []"
      ]
     },
     "execution_count": 19,
     "metadata": {},
     "output_type": "execute_result"
    }
   ],
   "source": [
    "def extract_all_SEC_dates(df:pd.DataFrame):\n",
    "    df['SECdates'] = df['DocText'].apply(SEC_date)\n",
    "def extract_all_SEC_CIK(df:pd.DataFrame):\n",
    "    df['SEC_CIK'] = df['DocText'].apply(SEC_CIK)\n",
    "extract_all_SEC_dates(df_10Q)\n",
    "extract_all_SEC_CIK(df_10Q)\n",
    "df_10Q.head()"
   ]
  },
  {
   "cell_type": "code",
   "execution_count": 20,
   "metadata": {},
   "outputs": [],
   "source": [
    "def url_maker(df:pd.DataFrame):\n",
    "    #Example:\n",
    "    # \"https://www.sec.gov/Archives/edgar/data/1318605/000156459021004599/tsla-10k_20201231.htm\"\n",
    "    # url_base:                 https://www.sec.gov/Archives/edgar/data/\n",
    "    # SEC CIK:                  1318605\n",
    "    # SEC DOCName:              000156459021004599\n",
    "    # Ticker:                   tsla\n",
    "    # Doc Type:                 10k\n",
    "    # Date (date 2020-02-31):   20201231 \n",
    "\n",
    "\n",
    "    url_base = \"https://www.sec.gov/Archives/edgar/data/\"\n",
    "    SEC_cik = df['SEC_CIK']\n",
    "    SEC_DocName = df['DocName'].apply(lambda x: re.sub(\"-\",\"\",x))\n",
    "    ticker = df['Ticker'].apply(str.lower)\n",
    "    doc_type = df['FilingType'].apply(lambda x: re.sub(\"-\",\"\",x))\n",
    "    date = df['SECdates']\n",
    "    return url_base + SEC_cik + \"/\" + SEC_DocName + \"/\" + ticker + \"-\" + doc_type + \"_\" + date + '.htm'\n",
    "\n",
    "# urls = url_maker(df_10Q)\n",
    "# df_10Q['urls'] = urls\n",
    "# for x in urls:\n",
    "#     print(x)"
   ]
  },
  {
   "cell_type": "code",
   "execution_count": 21,
   "metadata": {},
   "outputs": [
    {
     "data": {
      "text/html": [
       "<div>\n",
       "<style scoped>\n",
       "    .dataframe tbody tr th:only-of-type {\n",
       "        vertical-align: middle;\n",
       "    }\n",
       "\n",
       "    .dataframe tbody tr th {\n",
       "        vertical-align: top;\n",
       "    }\n",
       "\n",
       "    .dataframe thead th {\n",
       "        text-align: right;\n",
       "    }\n",
       "</style>\n",
       "<table border=\"1\" class=\"dataframe\">\n",
       "  <thead>\n",
       "    <tr style=\"text-align: right;\">\n",
       "      <th></th>\n",
       "      <th>Ticker</th>\n",
       "      <th>DocName</th>\n",
       "      <th>DocPath</th>\n",
       "      <th>FilingType</th>\n",
       "      <th>DocText</th>\n",
       "      <th>SECdates</th>\n",
       "      <th>SEC_CIK</th>\n",
       "    </tr>\n",
       "  </thead>\n",
       "  <tbody>\n",
       "  </tbody>\n",
       "</table>\n",
       "</div>"
      ],
      "text/plain": [
       "Empty DataFrame\n",
       "Columns: [Ticker, DocName, DocPath, FilingType, DocText, SECdates, SEC_CIK]\n",
       "Index: []"
      ]
     },
     "execution_count": 21,
     "metadata": {},
     "output_type": "execute_result"
    }
   ],
   "source": [
    "df_10Q.head()"
   ]
  },
  {
   "cell_type": "markdown",
   "metadata": {},
   "source": [
    "All 10-K and 10-Q sections can be extracted:\n",
    "\n",
    "    1 - Business\n",
    "    1A - Risk Factors\n",
    "    1B - Unresolved Staff Comments\n",
    "    2 - Properties\n",
    "    3 - Legal Proceedings\n",
    "    4 - Mine Safety Disclosures\n",
    "    5 - Market for Registrant’s Common Equity, Related Stockholder Matters and Issuer Purchases of Equity Securities\n",
    "    6 - Selected Financial Data (prior to February 2021)\n",
    "    7 - Management’s Discussion and Analysis of Financial Condition and Results of Operations\n",
    "    7A - Quantitative and Qualitative Disclosures about Market Risk\n",
    "    8 - Financial Statements and Supplementary Data\n",
    "    9 - Changes in and Disagreements with Accountants on Accounting and Financial Disclosure\n",
    "    9A - Controls and Procedures\n",
    "    9B - Other Information\n",
    "    10 - Directors, Executive Officers and Corporate Governance\n",
    "    11 - Executive Compensation\n",
    "    12 - Security Ownership of Certain Beneficial Owners and Management and Related Stockholder Matters\n",
    "    13 - Certain Relationships and Related Transactions, and Director Independence\n",
    "    14 - Principal Accountant Fees and Services\n",
    "> https://pypi.org/project/sec-api/\n"
   ]
  },
  {
   "cell_type": "markdown",
   "metadata": {},
   "source": [
    "## Other stuff"
   ]
  },
  {
   "cell_type": "code",
   "execution_count": 22,
   "metadata": {},
   "outputs": [
    {
     "name": "stderr",
     "output_type": "stream",
     "text": [
      "[nltk_data] Downloading package vader_lexicon to\n",
      "[nltk_data]     C:\\Users\\jhg55\\AppData\\Roaming\\nltk_data...\n",
      "[nltk_data]   Package vader_lexicon is already up-to-date!\n"
     ]
    },
    {
     "data": {
      "text/html": [
       "<div>\n",
       "<style scoped>\n",
       "    .dataframe tbody tr th:only-of-type {\n",
       "        vertical-align: middle;\n",
       "    }\n",
       "\n",
       "    .dataframe tbody tr th {\n",
       "        vertical-align: top;\n",
       "    }\n",
       "\n",
       "    .dataframe thead th {\n",
       "        text-align: right;\n",
       "    }\n",
       "</style>\n",
       "<table border=\"1\" class=\"dataframe\">\n",
       "  <thead>\n",
       "    <tr style=\"text-align: right;\">\n",
       "      <th></th>\n",
       "      <th>ticker</th>\n",
       "      <th>periodOfReport</th>\n",
       "      <th>All Text</th>\n",
       "    </tr>\n",
       "  </thead>\n",
       "  <tbody>\n",
       "    <tr>\n",
       "      <th>0</th>\n",
       "      <td>NFLX</td>\n",
       "      <td>2022-03-31</td>\n",
       "      <td>undefined Item 2. Management&amp;#8217;s Discussio...</td>\n",
       "    </tr>\n",
       "  </tbody>\n",
       "</table>\n",
       "</div>"
      ],
      "text/plain": [
       "  ticker periodOfReport                                           All Text\n",
       "0   NFLX     2022-03-31  undefined Item 2. Management&#8217;s Discussio..."
      ]
     },
     "execution_count": 22,
     "metadata": {},
     "output_type": "execute_result"
    }
   ],
   "source": [
    "import libs.sec as sec\n",
    "import libs.df_helper as dfh\n",
    "df_sec_model = sec.sec_model_df()[['ticker','periodOfReport','All Text']]\n",
    "df_sec_model.head(1)"
   ]
  },
  {
   "cell_type": "code",
   "execution_count": 23,
   "metadata": {},
   "outputs": [
    {
     "name": "stderr",
     "output_type": "stream",
     "text": [
      "c:\\Users\\jhg55\\Desktop\\Penn\\P2G2-ProjectGit\\Notebooks\\libs\\df_helper.py:26: FutureWarning: Indexing with multiple keys (implicitly converted to a tuple of keys) will be deprecated, use a list instead.\n",
      "  vader_df = vader_df.groupby(['ticker',date_col])['ticker','pos','neg','neu','compound'].mean().reset_index()\n"
     ]
    }
   ],
   "source": [
    "all_sentiments = dfh.daily_sentiment(df_sec_model,'periodOfReport','All Text')\n"
   ]
  },
  {
   "cell_type": "code",
   "execution_count": 24,
   "metadata": {},
   "outputs": [
    {
     "data": {
      "text/html": [
       "<div>\n",
       "<style scoped>\n",
       "    .dataframe tbody tr th:only-of-type {\n",
       "        vertical-align: middle;\n",
       "    }\n",
       "\n",
       "    .dataframe tbody tr th {\n",
       "        vertical-align: top;\n",
       "    }\n",
       "\n",
       "    .dataframe thead th {\n",
       "        text-align: right;\n",
       "    }\n",
       "</style>\n",
       "<table border=\"1\" class=\"dataframe\">\n",
       "  <thead>\n",
       "    <tr style=\"text-align: right;\">\n",
       "      <th></th>\n",
       "      <th>periodOfReport</th>\n",
       "      <th>ticker</th>\n",
       "      <th>pos</th>\n",
       "      <th>neg</th>\n",
       "      <th>neu</th>\n",
       "      <th>compound</th>\n",
       "    </tr>\n",
       "  </thead>\n",
       "  <tbody>\n",
       "    <tr>\n",
       "      <th>0</th>\n",
       "      <td>2020-12-31</td>\n",
       "      <td>ABNB</td>\n",
       "      <td>0.122</td>\n",
       "      <td>0.065</td>\n",
       "      <td>0.812</td>\n",
       "      <td>1.0000</td>\n",
       "    </tr>\n",
       "    <tr>\n",
       "      <th>1</th>\n",
       "      <td>2021-03-31</td>\n",
       "      <td>ABNB</td>\n",
       "      <td>0.107</td>\n",
       "      <td>0.028</td>\n",
       "      <td>0.865</td>\n",
       "      <td>0.9999</td>\n",
       "    </tr>\n",
       "    <tr>\n",
       "      <th>2</th>\n",
       "      <td>2021-06-30</td>\n",
       "      <td>ABNB</td>\n",
       "      <td>0.082</td>\n",
       "      <td>0.027</td>\n",
       "      <td>0.890</td>\n",
       "      <td>0.9999</td>\n",
       "    </tr>\n",
       "    <tr>\n",
       "      <th>3</th>\n",
       "      <td>2021-09-30</td>\n",
       "      <td>ABNB</td>\n",
       "      <td>0.079</td>\n",
       "      <td>0.026</td>\n",
       "      <td>0.895</td>\n",
       "      <td>0.9999</td>\n",
       "    </tr>\n",
       "    <tr>\n",
       "      <th>4</th>\n",
       "      <td>2021-12-31</td>\n",
       "      <td>ABNB</td>\n",
       "      <td>0.126</td>\n",
       "      <td>0.069</td>\n",
       "      <td>0.805</td>\n",
       "      <td>1.0000</td>\n",
       "    </tr>\n",
       "    <tr>\n",
       "      <th>...</th>\n",
       "      <td>...</td>\n",
       "      <td>...</td>\n",
       "      <td>...</td>\n",
       "      <td>...</td>\n",
       "      <td>...</td>\n",
       "      <td>...</td>\n",
       "    </tr>\n",
       "    <tr>\n",
       "      <th>472</th>\n",
       "      <td>2021-03-31</td>\n",
       "      <td>UBER</td>\n",
       "      <td>0.109</td>\n",
       "      <td>0.039</td>\n",
       "      <td>0.852</td>\n",
       "      <td>1.0000</td>\n",
       "    </tr>\n",
       "    <tr>\n",
       "      <th>473</th>\n",
       "      <td>2021-06-30</td>\n",
       "      <td>UBER</td>\n",
       "      <td>0.109</td>\n",
       "      <td>0.038</td>\n",
       "      <td>0.853</td>\n",
       "      <td>1.0000</td>\n",
       "    </tr>\n",
       "    <tr>\n",
       "      <th>474</th>\n",
       "      <td>2021-09-30</td>\n",
       "      <td>UBER</td>\n",
       "      <td>0.120</td>\n",
       "      <td>0.033</td>\n",
       "      <td>0.847</td>\n",
       "      <td>1.0000</td>\n",
       "    </tr>\n",
       "    <tr>\n",
       "      <th>475</th>\n",
       "      <td>2021-12-31</td>\n",
       "      <td>UBER</td>\n",
       "      <td>0.106</td>\n",
       "      <td>0.062</td>\n",
       "      <td>0.832</td>\n",
       "      <td>1.0000</td>\n",
       "    </tr>\n",
       "    <tr>\n",
       "      <th>476</th>\n",
       "      <td>2022-03-31</td>\n",
       "      <td>UBER</td>\n",
       "      <td>0.126</td>\n",
       "      <td>0.040</td>\n",
       "      <td>0.833</td>\n",
       "      <td>1.0000</td>\n",
       "    </tr>\n",
       "  </tbody>\n",
       "</table>\n",
       "<p>477 rows × 6 columns</p>\n",
       "</div>"
      ],
      "text/plain": [
       "    periodOfReport ticker    pos    neg    neu  compound\n",
       "0       2020-12-31   ABNB  0.122  0.065  0.812    1.0000\n",
       "1       2021-03-31   ABNB  0.107  0.028  0.865    0.9999\n",
       "2       2021-06-30   ABNB  0.082  0.027  0.890    0.9999\n",
       "3       2021-09-30   ABNB  0.079  0.026  0.895    0.9999\n",
       "4       2021-12-31   ABNB  0.126  0.069  0.805    1.0000\n",
       "..             ...    ...    ...    ...    ...       ...\n",
       "472     2021-03-31   UBER  0.109  0.039  0.852    1.0000\n",
       "473     2021-06-30   UBER  0.109  0.038  0.853    1.0000\n",
       "474     2021-09-30   UBER  0.120  0.033  0.847    1.0000\n",
       "475     2021-12-31   UBER  0.106  0.062  0.832    1.0000\n",
       "476     2022-03-31   UBER  0.126  0.040  0.833    1.0000\n",
       "\n",
       "[477 rows x 6 columns]"
      ]
     },
     "execution_count": 24,
     "metadata": {},
     "output_type": "execute_result"
    }
   ],
   "source": [
    "all_sentiments"
   ]
  },
  {
   "cell_type": "code",
   "execution_count": 25,
   "metadata": {},
   "outputs": [],
   "source": [
    "all_sentiments.to_csv('.\\Data\\Cleaned_Data\\sec_sentiment.csv')"
   ]
  },
  {
   "cell_type": "code",
   "execution_count": 26,
   "metadata": {},
   "outputs": [
    {
     "ename": "SyntaxError",
     "evalue": "invalid syntax (Temp/ipykernel_13300/2727475119.py, line 3)",
     "output_type": "error",
     "traceback": [
      "\u001b[1;36m  File \u001b[1;32m\"C:\\Users\\jhg55\\AppData\\Local\\Temp/ipykernel_13300/2727475119.py\"\u001b[1;36m, line \u001b[1;32m3\u001b[0m\n\u001b[1;33m    close_prices =\u001b[0m\n\u001b[1;37m                   ^\u001b[0m\n\u001b[1;31mSyntaxError\u001b[0m\u001b[1;31m:\u001b[0m invalid syntax\n"
     ]
    }
   ],
   "source": [
    "\n",
    "for ticker in tickers:\n",
    "    sentiment = all_sentiments[all_sentiments['ticker']==ticker]\n",
    "    close_prices = \n",
    "    df = pd.concat([sentiment, close], axis = 1)\n",
    "    uber.ffill(axis = 0, inplace = True)\n",
    "    airbnb.dropna(inplace = True)\n",
    "    airbnb.to_csv('./Data/Cleaned_Data/uber.csv')"
   ]
  },
  {
   "cell_type": "code",
   "execution_count": null,
   "metadata": {},
   "outputs": [],
   "source": []
  }
 ],
 "metadata": {
  "interpreter": {
   "hash": "60051db9b49e7622da472558d5c9910b644d729726c3e885e40a692d81c6b654"
  },
  "kernelspec": {
   "display_name": "Python 3.7.11 ('base')",
   "language": "python",
   "name": "python3"
  },
  "language_info": {
   "codemirror_mode": {
    "name": "ipython",
    "version": 3
   },
   "file_extension": ".py",
   "mimetype": "text/x-python",
   "name": "python",
   "nbconvert_exporter": "python",
   "pygments_lexer": "ipython3",
   "version": "3.7.11"
  },
  "orig_nbformat": 4
 },
 "nbformat": 4,
 "nbformat_minor": 2
}
