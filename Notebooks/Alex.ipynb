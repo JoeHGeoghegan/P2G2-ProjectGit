{
 "cells": [
  {
   "cell_type": "code",
   "execution_count": 1,
   "metadata": {},
   "outputs": [],
   "source": [
    "import numpy as np\n",
    "import pandas as pd\n",
    "import datetime as dt\n",
    "import tensorflow as tf\n",
    "import pmaw\n",
    "import newsapi\n",
    "from nltk.sentiment.vader import SentimentIntensityAnalyzer\n",
    "from newsapi import NewsApiClient\n",
    "from dotenv import load_dotenv\n",
    "\n",
    "from libs.prep_methods import articles_pull, subreddit_pull, keyword_filter, articles_vader_analyzer, reddit_vader_analyzer, daily_mean\n"
   ]
  },
  {
   "cell_type": "code",
   "execution_count": 2,
   "metadata": {},
   "outputs": [
    {
     "data": {
      "text/plain": [
       "True"
      ]
     },
     "execution_count": 2,
     "metadata": {},
     "output_type": "execute_result"
    }
   ],
   "source": [
    "load_dotenv()"
   ]
  },
  {
   "cell_type": "code",
   "execution_count": 3,
   "metadata": {},
   "outputs": [],
   "source": [
    "newsapi_key = os.getenv('NEWSAPI_KEY')"
   ]
  },
  {
   "cell_type": "code",
   "execution_count": 4,
   "metadata": {},
   "outputs": [],
   "source": [
    "#apple_articles = articles_pull('AAPL OR Apple OR apple')\n",
    "#apple_articles.to_csv('./Data/Cleaned_Data/apple_articles.csv')"
   ]
  },
  {
   "cell_type": "code",
   "execution_count": 5,
   "metadata": {},
   "outputs": [],
   "source": [
    "#apple_articles = articles_pull('AAPL OR Apple OR apple')\n",
    "#apple_articles.to_csv('./Data/Cleaned_Data/apple_articles.csv')"
   ]
  },
  {
   "cell_type": "code",
   "execution_count": 6,
   "metadata": {},
   "outputs": [],
   "source": [
    "#apple_articles = pd.read_csv('./Data/Cleaned_Data/apple_articles.csv', parse_dates = True, infer_datetime_format = True)"
   ]
  },
  {
   "cell_type": "code",
   "execution_count": 7,
   "metadata": {},
   "outputs": [],
   "source": [
    "#apple_articles_sentiment = daily_mean('articles', articles_vader_analyzer(apple_articles))"
   ]
  },
  {
   "cell_type": "code",
   "execution_count": 8,
   "metadata": {},
   "outputs": [],
   "source": [
    "#after = int(dt.datetime(2012, 1, 1, 0, 0).timestamp())\n",
    "#before = int(dt.datetime(2022, 6, 1, 0, 0).timestamp())\n",
    "\n",
    "#stockmarket_comments = subreddit_pull('stockmarket', limit = 10000, after = after, before = before)\n",
    "#stockmarket_comments.to_csv('./Data/Cleaned_Data/stockmarket_comments.csv')\n",
    "\n",
    "#securityanalysis_comments = subreddit_pull('securityanalysis', limit = 2000000, after = after, before = before)\n",
    "#securityanalysis_comments.to_csv('../../sandbox/securityanalysis_comments_large.csv')\n",
    "\n",
    "#algotrading_comments = subreddit_pull('algotrading', limit = 10000, after = after, before = before)\n",
    "#algotrading_comments.to_csv('./Data/Cleaned_Data/algotrading_comments.csv')\n",
    "\n",
    "#wallstreetbets_comments = subreddit_pull('wallstreetbets', limit = 2000000, after = after, before = before)\n",
    "#wallstreetbets_comments.to_csv('.../../sandbox/wallstreetbets_comments_large.csv')"
   ]
  },
  {
   "cell_type": "code",
   "execution_count": 9,
   "metadata": {},
   "outputs": [],
   "source": [
    "stockmarket_comments = pd.read_csv('../../sandbox/stockmarket_comments_large.csv', lineterminator = '\\n', parse_dates = True, infer_datetime_format = True)\n",
    "#securityanalysis_comments = pd.read_csv('../../sandbox/securityanalysis_comments_large.csv', lineterminator = '\\n', parse_dates = True, infer_datetime_format = True)\n",
    "#algotrading_comments = pd.read_csv('./Data/Cleaned_Data/algotrading_comments.csv')\n",
    "#wallstreetbets_comments = pd.read_csv('./Data/Cleaned_Data/wallstreetbets_comments.csv')"
   ]
  },
  {
   "cell_type": "code",
   "execution_count": 10,
   "metadata": {},
   "outputs": [],
   "source": [
    "stockmarket_airbnb_comments = keyword_filter(stockmarket_comments.fillna(''), ['ABNB', 'AirBNB', 'airbnb', 'Airbnb'])\n",
    "stockmarket_uber_comments = keyword_filter(stockmarket_comments, ['UBER', 'Uber'])"
   ]
  },
  {
   "cell_type": "code",
   "execution_count": 27,
   "metadata": {},
   "outputs": [
    {
     "name": "stderr",
     "output_type": "stream",
     "text": [
      "/Users/Alexander/Programming/Penn_Fintech/P2G2-ProjectGit/Notebooks/libs/prep_methods.py:68: SettingWithCopyWarning: \n",
      "A value is trying to be set on a copy of a slice from a DataFrame.\n",
      "Try using .loc[row_indexer,col_indexer] = value instead\n",
      "\n",
      "See the caveats in the documentation: https://pandas.pydata.org/pandas-docs/stable/user_guide/indexing.html#returning-a-view-versus-a-copy\n",
      "  df[f'{subreddit}_compound_sentiment'] = [analyzer.polarity_scores(x)['compound'] for x in df['text']]\n",
      "/Users/Alexander/Programming/Penn_Fintech/P2G2-ProjectGit/Notebooks/libs/prep_methods.py:69: SettingWithCopyWarning: \n",
      "A value is trying to be set on a copy of a slice from a DataFrame.\n",
      "Try using .loc[row_indexer,col_indexer] = value instead\n",
      "\n",
      "See the caveats in the documentation: https://pandas.pydata.org/pandas-docs/stable/user_guide/indexing.html#returning-a-view-versus-a-copy\n",
      "  df[f'{subreddit}_positive_sentiment'] = [analyzer.polarity_scores(x)['pos'] for x in df['text']]\n",
      "/Users/Alexander/Programming/Penn_Fintech/P2G2-ProjectGit/Notebooks/libs/prep_methods.py:70: SettingWithCopyWarning: \n",
      "A value is trying to be set on a copy of a slice from a DataFrame.\n",
      "Try using .loc[row_indexer,col_indexer] = value instead\n",
      "\n",
      "See the caveats in the documentation: https://pandas.pydata.org/pandas-docs/stable/user_guide/indexing.html#returning-a-view-versus-a-copy\n",
      "  df[f'{subreddit}_neutral_sentiment'] = [analyzer.polarity_scores(x)['neu'] for x in df['text']]\n",
      "/Users/Alexander/Programming/Penn_Fintech/P2G2-ProjectGit/Notebooks/libs/prep_methods.py:71: SettingWithCopyWarning: \n",
      "A value is trying to be set on a copy of a slice from a DataFrame.\n",
      "Try using .loc[row_indexer,col_indexer] = value instead\n",
      "\n",
      "See the caveats in the documentation: https://pandas.pydata.org/pandas-docs/stable/user_guide/indexing.html#returning-a-view-versus-a-copy\n",
      "  df[f'{subreddit}_negative_sentiment'] = [analyzer.polarity_scores(x)['neg'] for x in df['text']]\n",
      "/Users/Alexander/Programming/Penn_Fintech/P2G2-ProjectGit/Notebooks/libs/prep_methods.py:77: SettingWithCopyWarning: \n",
      "A value is trying to be set on a copy of a slice from a DataFrame.\n",
      "Try using .loc[row_indexer,col_indexer] = value instead\n",
      "\n",
      "See the caveats in the documentation: https://pandas.pydata.org/pandas-docs/stable/user_guide/indexing.html#returning-a-view-versus-a-copy\n",
      "  df['datetime'] = pd.to_datetime(df['datetime'])\n"
     ]
    }
   ],
   "source": [
    "stockmarket_airbnb_daily_sentiment = daily_mean(reddit_vader_analyzer('stockmarket', stockmarket_airbnb_comments))\n",
    "stockmarket_airbnb_daily_sentiment['datetime'] = pd.to_datetime(stockmarket_airbnb_daily_sentiment['datetime'], infer_datetime_format = True, errors = 'coerce')\n",
    "stockmarket_airbnb_daily_sentiment = stockmarket_airbnb_daily_sentiment.set_index('datetime')\n",
    "stockmarket_airbnb_daily_sentiment.index = stockmarket_airbnb_daily_sentiment.index.date\n",
    "\n",
    "stockmarket_uber_daily_sentiment = daily_mean(reddit_vader_analyzer('stockmarket', stockmarket_uber_comments))\n",
    "stockmarket_uber_daily_sentiment['datetime'] = pd.to_datetime(stockmarket_uber_daily_sentiment['datetime'], infer_datetime_format = True, errors = 'coerce')\n",
    "stockmarket_uber_daily_sentiment = stockmarket_uber_daily_sentiment.set_index('datetime')\n",
    "stockmarket_uber_daily_sentiment.index = stockmarket_uber_daily_sentiment.index.date"
   ]
  },
  {
   "cell_type": "code",
   "execution_count": 28,
   "metadata": {},
   "outputs": [],
   "source": [
    "stock_data = pd.read_csv('./Data/Cleaned_Data/stock_data.csv', parse_dates = True, infer_datetime_format = True)\n",
    "stock_data['date'] = pd.to_datetime(stock_data['date'], infer_datetime_format = True, errors = 'coerce')\n",
    "stock_data = stock_data.set_index('date')\n",
    "stock_data.index.name = None"
   ]
  },
  {
   "cell_type": "code",
   "execution_count": 29,
   "metadata": {},
   "outputs": [],
   "source": [
    "airbnb_prices_volume = stock_data[stock_data['ticker'] == 'ABNB'].drop(columns = 'ticker')\n",
    "uber_prices_volume = stock_data[stock_data['ticker'] == 'UBER'].drop(columns = 'ticker')"
   ]
  },
  {
   "cell_type": "code",
   "execution_count": 36,
   "metadata": {},
   "outputs": [
    {
     "name": "stderr",
     "output_type": "stream",
     "text": [
      "/usr/local/anaconda3/envs/pyvizenv/lib/python3.7/site-packages/pandas/core/indexes/base.py:345: FutureWarning: Comparison of Timestamp with datetime.date is deprecated in order to match the standard library behavior.  In a future version these will be considered non-comparable.Use 'ts == pd.Timestamp(date)' or 'ts.date() == date' instead.\n",
      "  joined_ndarray, lidx, ridx = libjoin.outer_join_indexer(sv, ov)\n",
      "/usr/local/anaconda3/envs/pyvizenv/lib/python3.7/site-packages/pandas/core/indexes/base.py:3512: FutureWarning: Comparison of Timestamp with datetime.date is deprecated in order to match the standard library behavior.  In a future version these will be considered non-comparable.Use 'ts == pd.Timestamp(date)' or 'ts.date() == date' instead.\n",
      "  indexer = self._engine.get_indexer(target._get_engine_target())\n"
     ]
    }
   ],
   "source": [
    "airbnb = pd.concat([stockmarket_airbnb_daily_sentiment, airbnb_prices_volume], axis = 1)\n",
    "airbnb.ffill(axis = 0, inplace = True)\n",
    "airbnb.dropna(inplace = True)\n",
    "airbnb.to_csv('./Data/Cleaned_Data/airbnb.csv')\n",
    "\n",
    "uber = pd.concat([stockmarket_uber_daily_sentiment, uber_prices_volume], axis = 1)\n",
    "uber.ffill(axis = 0, inplace = True)\n",
    "airbnb.dropna(inplace = True)\n",
    "airbnb.to_csv('./Data/Cleaned_Data/uber.csv')"
   ]
  },
  {
   "cell_type": "code",
   "execution_count": 37,
   "metadata": {},
   "outputs": [
    {
     "data": {
      "text/html": [
       "<div>\n",
       "<style scoped>\n",
       "    .dataframe tbody tr th:only-of-type {\n",
       "        vertical-align: middle;\n",
       "    }\n",
       "\n",
       "    .dataframe tbody tr th {\n",
       "        vertical-align: top;\n",
       "    }\n",
       "\n",
       "    .dataframe thead th {\n",
       "        text-align: right;\n",
       "    }\n",
       "</style>\n",
       "<table border=\"1\" class=\"dataframe\">\n",
       "  <thead>\n",
       "    <tr style=\"text-align: right;\">\n",
       "      <th></th>\n",
       "      <th>stockmarket_compound_sentiment</th>\n",
       "      <th>stockmarket_positive_sentiment</th>\n",
       "      <th>stockmarket_neutral_sentiment</th>\n",
       "      <th>stockmarket_negative_sentiment</th>\n",
       "      <th>close</th>\n",
       "      <th>volume</th>\n",
       "    </tr>\n",
       "  </thead>\n",
       "  <tbody>\n",
       "    <tr>\n",
       "      <th>2020-12-10</th>\n",
       "      <td>0.251840</td>\n",
       "      <td>0.086190</td>\n",
       "      <td>0.881024</td>\n",
       "      <td>0.03281</td>\n",
       "      <td>144.71</td>\n",
       "      <td>70470750.0</td>\n",
       "    </tr>\n",
       "    <tr>\n",
       "      <th>2020-12-11</th>\n",
       "      <td>0.634537</td>\n",
       "      <td>0.136875</td>\n",
       "      <td>0.840375</td>\n",
       "      <td>0.02275</td>\n",
       "      <td>139.25</td>\n",
       "      <td>26981241.0</td>\n",
       "    </tr>\n",
       "    <tr>\n",
       "      <th>2020-12-12</th>\n",
       "      <td>0.025800</td>\n",
       "      <td>0.151000</td>\n",
       "      <td>0.708500</td>\n",
       "      <td>0.14050</td>\n",
       "      <td>139.25</td>\n",
       "      <td>26981241.0</td>\n",
       "    </tr>\n",
       "    <tr>\n",
       "      <th>2020-12-13</th>\n",
       "      <td>0.025800</td>\n",
       "      <td>0.151000</td>\n",
       "      <td>0.708500</td>\n",
       "      <td>0.14050</td>\n",
       "      <td>139.25</td>\n",
       "      <td>26981241.0</td>\n",
       "    </tr>\n",
       "    <tr>\n",
       "      <th>2020-12-14</th>\n",
       "      <td>-0.401900</td>\n",
       "      <td>0.000000</td>\n",
       "      <td>0.903000</td>\n",
       "      <td>0.09700</td>\n",
       "      <td>130.00</td>\n",
       "      <td>16966090.0</td>\n",
       "    </tr>\n",
       "    <tr>\n",
       "      <th>...</th>\n",
       "      <td>...</td>\n",
       "      <td>...</td>\n",
       "      <td>...</td>\n",
       "      <td>...</td>\n",
       "      <td>...</td>\n",
       "      <td>...</td>\n",
       "    </tr>\n",
       "    <tr>\n",
       "      <th>2022-05-25</th>\n",
       "      <td>0.440400</td>\n",
       "      <td>0.081000</td>\n",
       "      <td>0.863000</td>\n",
       "      <td>0.05600</td>\n",
       "      <td>110.40</td>\n",
       "      <td>6170197.0</td>\n",
       "    </tr>\n",
       "    <tr>\n",
       "      <th>2022-05-26 00:00:00</th>\n",
       "      <td>0.440400</td>\n",
       "      <td>0.081000</td>\n",
       "      <td>0.863000</td>\n",
       "      <td>0.05600</td>\n",
       "      <td>114.30</td>\n",
       "      <td>6884206.0</td>\n",
       "    </tr>\n",
       "    <tr>\n",
       "      <th>2022-05-27 00:00:00</th>\n",
       "      <td>0.440400</td>\n",
       "      <td>0.081000</td>\n",
       "      <td>0.863000</td>\n",
       "      <td>0.05600</td>\n",
       "      <td>120.50</td>\n",
       "      <td>7375113.0</td>\n",
       "    </tr>\n",
       "    <tr>\n",
       "      <th>2022-05-31 00:00:00</th>\n",
       "      <td>0.440400</td>\n",
       "      <td>0.081000</td>\n",
       "      <td>0.863000</td>\n",
       "      <td>0.05600</td>\n",
       "      <td>120.87</td>\n",
       "      <td>9089352.0</td>\n",
       "    </tr>\n",
       "    <tr>\n",
       "      <th>2022-06-01 00:00:00</th>\n",
       "      <td>0.440400</td>\n",
       "      <td>0.081000</td>\n",
       "      <td>0.863000</td>\n",
       "      <td>0.05600</td>\n",
       "      <td>116.72</td>\n",
       "      <td>6864663.0</td>\n",
       "    </tr>\n",
       "  </tbody>\n",
       "</table>\n",
       "<p>536 rows × 6 columns</p>\n",
       "</div>"
      ],
      "text/plain": [
       "                     stockmarket_compound_sentiment  \\\n",
       "2020-12-10                                 0.251840   \n",
       "2020-12-11                                 0.634537   \n",
       "2020-12-12                                 0.025800   \n",
       "2020-12-13                                 0.025800   \n",
       "2020-12-14                                -0.401900   \n",
       "...                                             ...   \n",
       "2022-05-25                                 0.440400   \n",
       "2022-05-26 00:00:00                        0.440400   \n",
       "2022-05-27 00:00:00                        0.440400   \n",
       "2022-05-31 00:00:00                        0.440400   \n",
       "2022-06-01 00:00:00                        0.440400   \n",
       "\n",
       "                     stockmarket_positive_sentiment  \\\n",
       "2020-12-10                                 0.086190   \n",
       "2020-12-11                                 0.136875   \n",
       "2020-12-12                                 0.151000   \n",
       "2020-12-13                                 0.151000   \n",
       "2020-12-14                                 0.000000   \n",
       "...                                             ...   \n",
       "2022-05-25                                 0.081000   \n",
       "2022-05-26 00:00:00                        0.081000   \n",
       "2022-05-27 00:00:00                        0.081000   \n",
       "2022-05-31 00:00:00                        0.081000   \n",
       "2022-06-01 00:00:00                        0.081000   \n",
       "\n",
       "                     stockmarket_neutral_sentiment  \\\n",
       "2020-12-10                                0.881024   \n",
       "2020-12-11                                0.840375   \n",
       "2020-12-12                                0.708500   \n",
       "2020-12-13                                0.708500   \n",
       "2020-12-14                                0.903000   \n",
       "...                                            ...   \n",
       "2022-05-25                                0.863000   \n",
       "2022-05-26 00:00:00                       0.863000   \n",
       "2022-05-27 00:00:00                       0.863000   \n",
       "2022-05-31 00:00:00                       0.863000   \n",
       "2022-06-01 00:00:00                       0.863000   \n",
       "\n",
       "                     stockmarket_negative_sentiment   close      volume  \n",
       "2020-12-10                                  0.03281  144.71  70470750.0  \n",
       "2020-12-11                                  0.02275  139.25  26981241.0  \n",
       "2020-12-12                                  0.14050  139.25  26981241.0  \n",
       "2020-12-13                                  0.14050  139.25  26981241.0  \n",
       "2020-12-14                                  0.09700  130.00  16966090.0  \n",
       "...                                             ...     ...         ...  \n",
       "2022-05-25                                  0.05600  110.40   6170197.0  \n",
       "2022-05-26 00:00:00                         0.05600  114.30   6884206.0  \n",
       "2022-05-27 00:00:00                         0.05600  120.50   7375113.0  \n",
       "2022-05-31 00:00:00                         0.05600  120.87   9089352.0  \n",
       "2022-06-01 00:00:00                         0.05600  116.72   6864663.0  \n",
       "\n",
       "[536 rows x 6 columns]"
      ]
     },
     "execution_count": 37,
     "metadata": {},
     "output_type": "execute_result"
    }
   ],
   "source": [
    "airbnb"
   ]
  },
  {
   "cell_type": "code",
   "execution_count": null,
   "metadata": {},
   "outputs": [],
   "source": []
  }
 ],
 "metadata": {
  "kernelspec": {
   "display_name": "Python 3.7.11 ('pyvizenv')",
   "language": "python",
   "name": "python3"
  },
  "language_info": {
   "codemirror_mode": {
    "name": "ipython",
    "version": 3
   },
   "file_extension": ".py",
   "mimetype": "text/x-python",
   "name": "python",
   "nbconvert_exporter": "python",
   "pygments_lexer": "ipython3",
   "version": "3.7.11"
  },
  "orig_nbformat": 4,
  "vscode": {
   "interpreter": {
    "hash": "4aae7ae0ea0c990573bbc5423c43265214dd7797168b544b883b40c2ec9d805a"
   }
  }
 },
 "nbformat": 4,
 "nbformat_minor": 2
}
