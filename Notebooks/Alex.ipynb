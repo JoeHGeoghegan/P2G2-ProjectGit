{
 "cells": [
  {
   "cell_type": "code",
   "execution_count": 1,
   "metadata": {},
   "outputs": [],
   "source": [
    "import pandas as pd\n",
    "import datetime as dt\n",
    "import pmaw"
   ]
  },
  {
   "cell_type": "code",
   "execution_count": 2,
   "metadata": {},
   "outputs": [],
   "source": [
    "pushshift = pmaw.PushshiftAPI()"
   ]
  },
  {
   "cell_type": "code",
   "execution_count": 5,
   "metadata": {},
   "outputs": [
    {
     "name": "stderr",
     "output_type": "stream",
     "text": [
      "Not all PushShift shards are active. Query results may be incomplete.\n",
      "Not all PushShift shards are active. Query results may be incomplete.\n"
     ]
    }
   ],
   "source": [
    "start = int(dt.datetime(2020, 2, 1, 0, 0).timestamp())\n",
    "end = int(dt.datetime(2019, 12, 1, 0, 0).timestamp())\n",
    "\n",
    "comments_response = pushshift.search_comments(subreddit = 'wallstreetbets', limit = 100, before = start, after = end)"
   ]
  },
  {
   "cell_type": "code",
   "execution_count": 6,
   "metadata": {},
   "outputs": [],
   "source": [
    "comments_original = pd.DataFrame(comments_response)"
   ]
  },
  {
   "cell_type": "code",
   "execution_count": 7,
   "metadata": {},
   "outputs": [
    {
     "data": {
      "text/html": [
       "<div>\n",
       "<style scoped>\n",
       "    .dataframe tbody tr th:only-of-type {\n",
       "        vertical-align: middle;\n",
       "    }\n",
       "\n",
       "    .dataframe tbody tr th {\n",
       "        vertical-align: top;\n",
       "    }\n",
       "\n",
       "    .dataframe thead th {\n",
       "        text-align: right;\n",
       "    }\n",
       "</style>\n",
       "<table border=\"1\" class=\"dataframe\">\n",
       "  <thead>\n",
       "    <tr style=\"text-align: right;\">\n",
       "      <th></th>\n",
       "      <th>datetime</th>\n",
       "      <th>body</th>\n",
       "    </tr>\n",
       "  </thead>\n",
       "  <tbody>\n",
       "    <tr>\n",
       "      <th>0</th>\n",
       "      <td>1970-01-01 00:00:01.576783430</td>\n",
       "      <td>I think he is actually dead. Or they found a d...</td>\n",
       "    </tr>\n",
       "    <tr>\n",
       "      <th>1</th>\n",
       "      <td>1970-01-01 00:00:01.576783419</td>\n",
       "      <td>Depends if you want to get caught bagholding o...</td>\n",
       "    </tr>\n",
       "    <tr>\n",
       "      <th>2</th>\n",
       "      <td>1970-01-01 00:00:01.576783406</td>\n",
       "      <td>So you think SPY can realistically gap up any ...</td>\n",
       "    </tr>\n",
       "    <tr>\n",
       "      <th>3</th>\n",
       "      <td>1970-01-01 00:00:01.576783405</td>\n",
       "      <td>Your comment is a perfect example of what I’m ...</td>\n",
       "    </tr>\n",
       "    <tr>\n",
       "      <th>4</th>\n",
       "      <td>1970-01-01 00:00:01.576783403</td>\n",
       "      <td>oxycontin yes</td>\n",
       "    </tr>\n",
       "    <tr>\n",
       "      <th>...</th>\n",
       "      <td>...</td>\n",
       "      <td>...</td>\n",
       "    </tr>\n",
       "    <tr>\n",
       "      <th>95</th>\n",
       "      <td>1970-01-01 00:00:01.576782899</td>\n",
       "      <td>Clever. 😂</td>\n",
       "    </tr>\n",
       "    <tr>\n",
       "      <th>96</th>\n",
       "      <td>1970-01-01 00:00:01.576782889</td>\n",
       "      <td>These are low income housing markets. Any slow...</td>\n",
       "    </tr>\n",
       "    <tr>\n",
       "      <th>97</th>\n",
       "      <td>1970-01-01 00:00:01.576782888</td>\n",
       "      <td>Lady in red is every one of our mommies</td>\n",
       "    </tr>\n",
       "    <tr>\n",
       "      <th>98</th>\n",
       "      <td>1970-01-01 00:00:01.576782886</td>\n",
       "      <td>321 incoming</td>\n",
       "    </tr>\n",
       "    <tr>\n",
       "      <th>99</th>\n",
       "      <td>1970-01-01 00:00:01.576782886</td>\n",
       "      <td>CRISCO?</td>\n",
       "    </tr>\n",
       "  </tbody>\n",
       "</table>\n",
       "<p>100 rows × 2 columns</p>\n",
       "</div>"
      ],
      "text/plain": [
       "                        datetime  \\\n",
       "0  1970-01-01 00:00:01.576783430   \n",
       "1  1970-01-01 00:00:01.576783419   \n",
       "2  1970-01-01 00:00:01.576783406   \n",
       "3  1970-01-01 00:00:01.576783405   \n",
       "4  1970-01-01 00:00:01.576783403   \n",
       "..                           ...   \n",
       "95 1970-01-01 00:00:01.576782899   \n",
       "96 1970-01-01 00:00:01.576782889   \n",
       "97 1970-01-01 00:00:01.576782888   \n",
       "98 1970-01-01 00:00:01.576782886   \n",
       "99 1970-01-01 00:00:01.576782886   \n",
       "\n",
       "                                                 body  \n",
       "0   I think he is actually dead. Or they found a d...  \n",
       "1   Depends if you want to get caught bagholding o...  \n",
       "2   So you think SPY can realistically gap up any ...  \n",
       "3   Your comment is a perfect example of what I’m ...  \n",
       "4                                       oxycontin yes  \n",
       "..                                                ...  \n",
       "95                                          Clever. 😂  \n",
       "96  These are low income housing markets. Any slow...  \n",
       "97            Lady in red is every one of our mommies  \n",
       "98                                       321 incoming  \n",
       "99                                            CRISCO?  \n",
       "\n",
       "[100 rows x 2 columns]"
      ]
     },
     "execution_count": 7,
     "metadata": {},
     "output_type": "execute_result"
    }
   ],
   "source": [
    "comments_reduced = comments_original[['created_utc', 'body']]\n",
    "comments = comments_reduced.astype({'created_utc': 'datetime64[ns]'}).rename(columns = {'created_utc':'datetime'})\n",
    "comments"
   ]
  },
  {
   "cell_type": "code",
   "execution_count": 28,
   "metadata": {},
   "outputs": [],
   "source": [
    "def keyword_filter(keywords):\n",
    "\n",
    "    comments_list = []\n",
    "    for keyword in keywords:\n",
    "        for body in comments['body']:\n",
    "            if keyword in body:\n",
    "                comments_list.append(body)\n",
    "\n",
    "    filtered_comments = pd.concat([comments['datetime'], pd.DataFrame(comments_list)], axis = 1).dropna()\n",
    "    return(filtered_comments)"
   ]
  },
  {
   "cell_type": "code",
   "execution_count": 30,
   "metadata": {},
   "outputs": [
    {
     "data": {
      "text/html": [
       "<div>\n",
       "<style scoped>\n",
       "    .dataframe tbody tr th:only-of-type {\n",
       "        vertical-align: middle;\n",
       "    }\n",
       "\n",
       "    .dataframe tbody tr th {\n",
       "        vertical-align: top;\n",
       "    }\n",
       "\n",
       "    .dataframe thead th {\n",
       "        text-align: right;\n",
       "    }\n",
       "</style>\n",
       "<table border=\"1\" class=\"dataframe\">\n",
       "  <thead>\n",
       "    <tr style=\"text-align: right;\">\n",
       "      <th></th>\n",
       "      <th>datetime</th>\n",
       "      <th>0</th>\n",
       "    </tr>\n",
       "  </thead>\n",
       "  <tbody>\n",
       "    <tr>\n",
       "      <th>0</th>\n",
       "      <td>1970-01-01 00:00:01.576783430</td>\n",
       "      <td>Apple is setting a trap. I’m not sure if it’s ...</td>\n",
       "    </tr>\n",
       "  </tbody>\n",
       "</table>\n",
       "</div>"
      ],
      "text/plain": [
       "                       datetime  \\\n",
       "0 1970-01-01 00:00:01.576783430   \n",
       "\n",
       "                                                   0  \n",
       "0  Apple is setting a trap. I’m not sure if it’s ...  "
      ]
     },
     "execution_count": 30,
     "metadata": {},
     "output_type": "execute_result"
    }
   ],
   "source": [
    "apple_comments = keyword_filter(['Apple', 'apple', 'AAPL'])\n",
    "apple_comments"
   ]
  }
 ],
 "metadata": {
  "interpreter": {
   "hash": "4aae7ae0ea0c990573bbc5423c43265214dd7797168b544b883b40c2ec9d805a"
  },
  "kernelspec": {
   "display_name": "Python 3.7.11 ('pyvizenv')",
   "language": "python",
   "name": "python3"
  },
  "language_info": {
   "codemirror_mode": {
    "name": "ipython",
    "version": 3
   },
   "file_extension": ".py",
   "mimetype": "text/x-python",
   "name": "python",
   "nbconvert_exporter": "python",
   "pygments_lexer": "ipython3",
   "version": "3.7.11"
  },
  "orig_nbformat": 4
 },
 "nbformat": 4,
 "nbformat_minor": 2
}
