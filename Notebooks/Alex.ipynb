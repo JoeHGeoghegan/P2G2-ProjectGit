{
 "cells": [
  {
   "cell_type": "code",
   "execution_count": 1,
   "metadata": {},
   "outputs": [],
   "source": [
    "import pandas as pd\n",
    "import datetime as dt\n",
    "import pmaw"
   ]
  },
  {
   "cell_type": "code",
   "execution_count": 2,
   "metadata": {},
   "outputs": [],
   "source": [
    "def keyword_filter(df, keywords):\n",
    "\n",
    "    filtered_list = []\n",
    "    for keyword in keywords:\n",
    "        for text in df['text']:\n",
    "            if keyword in text:\n",
    "                filtered_list.append(text)\n",
    "\n",
    "    filtered_df = pd.concat([df['datetime'], pd.DataFrame(filtered_list).rename(columns = {0: 'text'})], axis = 1).dropna()\n",
    "    return(filtered_df)"
   ]
  },
  {
   "cell_type": "code",
   "execution_count": 3,
   "metadata": {},
   "outputs": [],
   "source": [
    "def subreddit_fetch(subreddit, limit, after, before):\n",
    "\n",
    "    comments_response = pushshift.search_comments(subreddit = subreddit, limit = limit, after = after, before = before)\n",
    "    comments_original = pd.DataFrame(comments_response)\n",
    "    comments_original['datetime'] = comments_original.apply(lambda row : dt.datetime.fromtimestamp(row['created_utc']), axis = 1)\n",
    "    comments = comments_original[['datetime', 'body']].rename(columns = {'body': 'text'})\n",
    "    \n",
    "    return(comments)"
   ]
  },
  {
   "cell_type": "code",
   "execution_count": 4,
   "metadata": {},
   "outputs": [],
   "source": [
    "pushshift = pmaw.PushshiftAPI()"
   ]
  },
  {
   "cell_type": "code",
   "execution_count": 5,
   "metadata": {},
   "outputs": [
    {
     "name": "stderr",
     "output_type": "stream",
     "text": [
      "Not all PushShift shards are active. Query results may be incomplete.\n",
      "Not all PushShift shards are active. Query results may be incomplete.\n"
     ]
    },
    {
     "data": {
      "text/html": [
       "<div>\n",
       "<style scoped>\n",
       "    .dataframe tbody tr th:only-of-type {\n",
       "        vertical-align: middle;\n",
       "    }\n",
       "\n",
       "    .dataframe tbody tr th {\n",
       "        vertical-align: top;\n",
       "    }\n",
       "\n",
       "    .dataframe thead th {\n",
       "        text-align: right;\n",
       "    }\n",
       "</style>\n",
       "<table border=\"1\" class=\"dataframe\">\n",
       "  <thead>\n",
       "    <tr style=\"text-align: right;\">\n",
       "      <th></th>\n",
       "      <th>datetime</th>\n",
       "      <th>text</th>\n",
       "    </tr>\n",
       "  </thead>\n",
       "  <tbody>\n",
       "    <tr>\n",
       "      <th>0</th>\n",
       "      <td>2013-10-19 13:58:39</td>\n",
       "      <td>I feel like a lot of people on wsb are going t...</td>\n",
       "    </tr>\n",
       "    <tr>\n",
       "      <th>1</th>\n",
       "      <td>2013-10-19 12:29:59</td>\n",
       "      <td>God I thought making 70% on American Airlines ...</td>\n",
       "    </tr>\n",
       "    <tr>\n",
       "      <th>2</th>\n",
       "      <td>2013-10-19 10:36:18</td>\n",
       "      <td>Someone needs to set that up. \\n\\nAnyone have ...</td>\n",
       "    </tr>\n",
       "    <tr>\n",
       "      <th>3</th>\n",
       "      <td>2013-10-19 08:56:48</td>\n",
       "      <td>That's awesome and I really hope he had inside...</td>\n",
       "    </tr>\n",
       "    <tr>\n",
       "      <th>4</th>\n",
       "      <td>2013-10-19 08:17:54</td>\n",
       "      <td>oh really?\\n\\nAAMRQ 10m avg \\nFNMA 14.5m avg\\n...</td>\n",
       "    </tr>\n",
       "    <tr>\n",
       "      <th>...</th>\n",
       "      <td>...</td>\n",
       "      <td>...</td>\n",
       "    </tr>\n",
       "    <tr>\n",
       "      <th>95</th>\n",
       "      <td>2013-10-17 16:23:42</td>\n",
       "      <td>As I said, if you aren't comfortable trading.\\...</td>\n",
       "    </tr>\n",
       "    <tr>\n",
       "      <th>96</th>\n",
       "      <td>2013-10-17 16:22:09</td>\n",
       "      <td>So you are saying amrn has cash and a pipeline?</td>\n",
       "    </tr>\n",
       "    <tr>\n",
       "      <th>97</th>\n",
       "      <td>2013-10-17 16:21:09</td>\n",
       "      <td>All those stocks you mentioned did bounce to s...</td>\n",
       "    </tr>\n",
       "    <tr>\n",
       "      <th>98</th>\n",
       "      <td>2013-10-17 16:02:57</td>\n",
       "      <td>Thanks c0mputar I appreciate your contribution...</td>\n",
       "    </tr>\n",
       "    <tr>\n",
       "      <th>99</th>\n",
       "      <td>2013-10-17 15:59:01</td>\n",
       "      <td>What is shorting, and how do you do it?</td>\n",
       "    </tr>\n",
       "  </tbody>\n",
       "</table>\n",
       "<p>100 rows × 2 columns</p>\n",
       "</div>"
      ],
      "text/plain": [
       "              datetime                                               text\n",
       "0  2013-10-19 13:58:39  I feel like a lot of people on wsb are going t...\n",
       "1  2013-10-19 12:29:59  God I thought making 70% on American Airlines ...\n",
       "2  2013-10-19 10:36:18  Someone needs to set that up. \\n\\nAnyone have ...\n",
       "3  2013-10-19 08:56:48  That's awesome and I really hope he had inside...\n",
       "4  2013-10-19 08:17:54  oh really?\\n\\nAAMRQ 10m avg \\nFNMA 14.5m avg\\n...\n",
       "..                 ...                                                ...\n",
       "95 2013-10-17 16:23:42  As I said, if you aren't comfortable trading.\\...\n",
       "96 2013-10-17 16:22:09    So you are saying amrn has cash and a pipeline?\n",
       "97 2013-10-17 16:21:09  All those stocks you mentioned did bounce to s...\n",
       "98 2013-10-17 16:02:57  Thanks c0mputar I appreciate your contribution...\n",
       "99 2013-10-17 15:59:01            What is shorting, and how do you do it?\n",
       "\n",
       "[100 rows x 2 columns]"
      ]
     },
     "execution_count": 5,
     "metadata": {},
     "output_type": "execute_result"
    }
   ],
   "source": [
    "after = int(dt.datetime(2012, 1, 1, 0, 0).timestamp())\n",
    "before = int(dt.datetime(2021, 1, 1, 0, 0).timestamp())\n",
    "\n",
    "wallstreetbets_comments = subreddit_fetch('wallstreetbets', limit = 100, after = after, before = before)\n",
    "wallstreetbets_comments"
   ]
  },
  {
   "cell_type": "code",
   "execution_count": 6,
   "metadata": {},
   "outputs": [
    {
     "data": {
      "text/html": [
       "<div>\n",
       "<style scoped>\n",
       "    .dataframe tbody tr th:only-of-type {\n",
       "        vertical-align: middle;\n",
       "    }\n",
       "\n",
       "    .dataframe tbody tr th {\n",
       "        vertical-align: top;\n",
       "    }\n",
       "\n",
       "    .dataframe thead th {\n",
       "        text-align: right;\n",
       "    }\n",
       "</style>\n",
       "<table border=\"1\" class=\"dataframe\">\n",
       "  <thead>\n",
       "    <tr style=\"text-align: right;\">\n",
       "      <th></th>\n",
       "      <th>datetime</th>\n",
       "      <th>text</th>\n",
       "    </tr>\n",
       "  </thead>\n",
       "  <tbody>\n",
       "    <tr>\n",
       "      <th>0</th>\n",
       "      <td>2013-10-19 13:58:39</td>\n",
       "      <td>Touche, and fair enough. Congrats on the smart...</td>\n",
       "    </tr>\n",
       "    <tr>\n",
       "      <th>1</th>\n",
       "      <td>2013-10-19 12:29:59</td>\n",
       "      <td>&amp;gt; Note: Yesterday I sold all of my position...</td>\n",
       "    </tr>\n",
       "  </tbody>\n",
       "</table>\n",
       "</div>"
      ],
      "text/plain": [
       "             datetime                                               text\n",
       "0 2013-10-19 13:58:39  Touche, and fair enough. Congrats on the smart...\n",
       "1 2013-10-19 12:29:59  &gt; Note: Yesterday I sold all of my position..."
      ]
     },
     "execution_count": 6,
     "metadata": {},
     "output_type": "execute_result"
    }
   ],
   "source": [
    "wallstreetbets_apple_comments = keyword_filter(wallstreetbets_comments, ['Apple', 'apple', 'AAPL'])\n",
    "wallstreetbets_apple_comments"
   ]
  }
 ],
 "metadata": {
  "interpreter": {
   "hash": "f688966fe16c5b1d1f8096f0874425497eb397fd30a583fa64973664e1f67766"
  },
  "kernelspec": {
   "display_name": "Python 3.9.7 ('base')",
   "language": "python",
   "name": "python3"
  },
  "language_info": {
   "codemirror_mode": {
    "name": "ipython",
    "version": 3
   },
   "file_extension": ".py",
   "mimetype": "text/x-python",
   "name": "python",
   "nbconvert_exporter": "python",
   "pygments_lexer": "ipython3",
   "version": "3.9.7"
  },
  "orig_nbformat": 4
 },
 "nbformat": 4,
 "nbformat_minor": 2
}
