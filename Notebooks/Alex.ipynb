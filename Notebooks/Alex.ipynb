{
 "cells": [
  {
   "cell_type": "code",
   "execution_count": 1,
   "metadata": {},
   "outputs": [],
   "source": [
    "import pandas as pd\n",
    "import datetime as dt\n",
    "import pmaw"
   ]
  },
  {
   "cell_type": "code",
   "execution_count": 2,
   "metadata": {},
   "outputs": [],
   "source": [
    "def keyword_filter(df, keywords):\n",
    "\n",
    "    filtered_list = []\n",
    "    for keyword in keywords:\n",
    "        for text in df['text']:\n",
    "            if keyword in text:\n",
    "                filtered_list.append(text)\n",
    "\n",
    "    filtered_df = pd.concat([df['datetime'], pd.DataFrame(filtered_list).rename(columns = {0: 'text'})], axis = 1).dropna()\n",
    "    return(filtered_df)"
   ]
  },
  {
   "cell_type": "code",
   "execution_count": 3,
   "metadata": {},
   "outputs": [],
   "source": [
    "pushshift = pmaw.PushshiftAPI()"
   ]
  },
  {
   "cell_type": "code",
   "execution_count": 4,
   "metadata": {},
   "outputs": [
    {
     "name": "stderr",
     "output_type": "stream",
     "text": [
      "Not all PushShift shards are active. Query results may be incomplete.\n",
      "Not all PushShift shards are active. Query results may be incomplete.\n"
     ]
    },
    {
     "data": {
      "text/plain": [
       "<pmaw.Response.Response at 0x7fcf4f80f910>"
      ]
     },
     "execution_count": 4,
     "metadata": {},
     "output_type": "execute_result"
    }
   ],
   "source": [
    "start = int(dt.datetime(2021, 1, 1, 0, 0).timestamp())\n",
    "end = int(dt.datetime(2012, 1, 1, 0, 0).timestamp())\n",
    "\n",
    "comments_response = pushshift.search_comments(subreddit = 'wallstreetbets', limit = 100, before = start, after = end)\n",
    "comments_response"
   ]
  },
  {
   "cell_type": "code",
   "execution_count": 5,
   "metadata": {},
   "outputs": [],
   "source": [
    "comments_original = pd.DataFrame(comments_response)"
   ]
  },
  {
   "cell_type": "code",
   "execution_count": 6,
   "metadata": {},
   "outputs": [
    {
     "data": {
      "text/html": [
       "<div>\n",
       "<style scoped>\n",
       "    .dataframe tbody tr th:only-of-type {\n",
       "        vertical-align: middle;\n",
       "    }\n",
       "\n",
       "    .dataframe tbody tr th {\n",
       "        vertical-align: top;\n",
       "    }\n",
       "\n",
       "    .dataframe thead th {\n",
       "        text-align: right;\n",
       "    }\n",
       "</style>\n",
       "<table border=\"1\" class=\"dataframe\">\n",
       "  <thead>\n",
       "    <tr style=\"text-align: right;\">\n",
       "      <th></th>\n",
       "      <th>datetime</th>\n",
       "      <th>text</th>\n",
       "    </tr>\n",
       "  </thead>\n",
       "  <tbody>\n",
       "    <tr>\n",
       "      <th>0</th>\n",
       "      <td>2012-11-24 11:28:01</td>\n",
       "      <td>Has it been months?! Where does the time go?</td>\n",
       "    </tr>\n",
       "    <tr>\n",
       "      <th>1</th>\n",
       "      <td>2012-11-24 05:51:57</td>\n",
       "      <td>Bowlthizar used to piss me off. Good riddance.</td>\n",
       "    </tr>\n",
       "    <tr>\n",
       "      <th>2</th>\n",
       "      <td>2012-11-24 03:45:36</td>\n",
       "      <td>blackmamba from yahoo dvax boards?</td>\n",
       "    </tr>\n",
       "    <tr>\n",
       "      <th>3</th>\n",
       "      <td>2012-11-24 00:27:53</td>\n",
       "      <td>wtf, you mowing the grass for like months.</td>\n",
       "    </tr>\n",
       "    <tr>\n",
       "      <th>4</th>\n",
       "      <td>2012-11-24 00:12:58</td>\n",
       "      <td>Who says we ever left? Someone just needs to m...</td>\n",
       "    </tr>\n",
       "    <tr>\n",
       "      <th>...</th>\n",
       "      <td>...</td>\n",
       "      <td>...</td>\n",
       "    </tr>\n",
       "    <tr>\n",
       "      <th>95</th>\n",
       "      <td>2012-11-01 06:34:34</td>\n",
       "      <td>Ill bullish with some calls next year and bear...</td>\n",
       "    </tr>\n",
       "    <tr>\n",
       "      <th>96</th>\n",
       "      <td>2012-10-31 13:53:30</td>\n",
       "      <td>Short put ladders. I made about 400 per ladder...</td>\n",
       "    </tr>\n",
       "    <tr>\n",
       "      <th>97</th>\n",
       "      <td>2012-10-29 23:26:24</td>\n",
       "      <td>well, they're being sued by so many law firms.</td>\n",
       "    </tr>\n",
       "    <tr>\n",
       "      <th>98</th>\n",
       "      <td>2012-10-27 07:06:39</td>\n",
       "      <td>What good news is there?</td>\n",
       "    </tr>\n",
       "    <tr>\n",
       "      <th>99</th>\n",
       "      <td>2012-10-26 23:49:22</td>\n",
       "      <td>Ah, ok.  Good luck then.  I would suggest that...</td>\n",
       "    </tr>\n",
       "  </tbody>\n",
       "</table>\n",
       "<p>100 rows × 2 columns</p>\n",
       "</div>"
      ],
      "text/plain": [
       "              datetime                                               text\n",
       "0  2012-11-24 11:28:01       Has it been months?! Where does the time go?\n",
       "1  2012-11-24 05:51:57     Bowlthizar used to piss me off. Good riddance.\n",
       "2  2012-11-24 03:45:36                 blackmamba from yahoo dvax boards?\n",
       "3  2012-11-24 00:27:53         wtf, you mowing the grass for like months.\n",
       "4  2012-11-24 00:12:58  Who says we ever left? Someone just needs to m...\n",
       "..                 ...                                                ...\n",
       "95 2012-11-01 06:34:34  Ill bullish with some calls next year and bear...\n",
       "96 2012-10-31 13:53:30  Short put ladders. I made about 400 per ladder...\n",
       "97 2012-10-29 23:26:24     well, they're being sued by so many law firms.\n",
       "98 2012-10-27 07:06:39                           What good news is there?\n",
       "99 2012-10-26 23:49:22  Ah, ok.  Good luck then.  I would suggest that...\n",
       "\n",
       "[100 rows x 2 columns]"
      ]
     },
     "execution_count": 6,
     "metadata": {},
     "output_type": "execute_result"
    }
   ],
   "source": [
    "comments_original['datetime'] = comments_original.apply(lambda row : dt.datetime.fromtimestamp(row['created_utc']), axis = 1)\n",
    "comments = comments_original[['datetime', 'body']].rename(columns = {'body': 'text'})\n",
    "comments"
   ]
  },
  {
   "cell_type": "code",
   "execution_count": 7,
   "metadata": {},
   "outputs": [
    {
     "data": {
      "text/html": [
       "<div>\n",
       "<style scoped>\n",
       "    .dataframe tbody tr th:only-of-type {\n",
       "        vertical-align: middle;\n",
       "    }\n",
       "\n",
       "    .dataframe tbody tr th {\n",
       "        vertical-align: top;\n",
       "    }\n",
       "\n",
       "    .dataframe thead th {\n",
       "        text-align: right;\n",
       "    }\n",
       "</style>\n",
       "<table border=\"1\" class=\"dataframe\">\n",
       "  <thead>\n",
       "    <tr style=\"text-align: right;\">\n",
       "      <th></th>\n",
       "      <th>datetime</th>\n",
       "      <th>text</th>\n",
       "    </tr>\n",
       "  </thead>\n",
       "  <tbody>\n",
       "    <tr>\n",
       "      <th>0</th>\n",
       "      <td>2012-11-24 11:28:01</td>\n",
       "      <td>Oooof, sorry to hear boss!\\n\\nI lost about 1k ...</td>\n",
       "    </tr>\n",
       "  </tbody>\n",
       "</table>\n",
       "</div>"
      ],
      "text/plain": [
       "             datetime                                               text\n",
       "0 2012-11-24 11:28:01  Oooof, sorry to hear boss!\\n\\nI lost about 1k ..."
      ]
     },
     "execution_count": 7,
     "metadata": {},
     "output_type": "execute_result"
    }
   ],
   "source": [
    "apple_comments = keyword_filter(comments, ['Apple', 'apple', 'AAPL'])\n",
    "apple_comments"
   ]
  }
 ],
 "metadata": {
  "interpreter": {
   "hash": "4aae7ae0ea0c990573bbc5423c43265214dd7797168b544b883b40c2ec9d805a"
  },
  "kernelspec": {
   "display_name": "Python 3.7.11 ('pyvizenv')",
   "language": "python",
   "name": "python3"
  },
  "language_info": {
   "codemirror_mode": {
    "name": "ipython",
    "version": 3
   },
   "file_extension": ".py",
   "mimetype": "text/x-python",
   "name": "python",
   "nbconvert_exporter": "python",
   "pygments_lexer": "ipython3",
   "version": "3.7.11"
  },
  "orig_nbformat": 4
 },
 "nbformat": 4,
 "nbformat_minor": 2
}
