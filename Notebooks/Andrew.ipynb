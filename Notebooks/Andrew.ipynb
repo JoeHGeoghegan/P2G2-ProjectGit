{
 "cells": [
  {
   "cell_type": "code",
   "execution_count": 1,
   "id": "985386aa-2faf-48f7-861f-4a19037ca0df",
   "metadata": {},
   "outputs": [
    {
     "data": {
      "text/plain": [
       "True"
      ]
     },
     "execution_count": 1,
     "metadata": {},
     "output_type": "execute_result"
    }
   ],
   "source": [
    "import os\n",
    "import requests\n",
    "import pandas as pd\n",
    "from dotenv import load_dotenv\n",
    "import datetime as dt\n",
    "import alpaca_trade_api as tradeapi\n",
    "import json\n",
    "from alpaca_trade_api.rest import REST, TimeFrame\n",
    "load_dotenv()"
   ]
  },
  {
   "cell_type": "code",
   "execution_count": 2,
   "id": "517496b3",
   "metadata": {},
   "outputs": [],
   "source": [
    "alpaca_key = os.getenv(\"ALPACA_API_KEY\")\n",
    "alpaca_secret_key = os.getenv(\"ALPACA_SECRET_KEY\")\n",
    "\n",
    "tradeapi = REST(alpaca_key, alpaca_secret_key)"
   ]
  },
  {
   "cell_type": "code",
   "execution_count": 3,
   "id": "49aa0b8c",
   "metadata": {},
   "outputs": [],
   "source": [
    "def get_daily_trade_data(ticker, start, end, tradeapi): \n",
    "    ticker_df = tradeapi.get_bars(\n",
    "        ticker,\n",
    "        TimeFrame.Day,\n",
    "        start,\n",
    "        end\n",
    "    ).df\n",
    "    ticker_df['symbol'] = ticker\n",
    "\n",
    "    return ticker_df"
   ]
  },
  {
   "cell_type": "code",
   "execution_count": 4,
   "id": "37c35a78",
   "metadata": {},
   "outputs": [
    {
     "data": {
      "text/html": [
       "<div>\n",
       "<style scoped>\n",
       "    .dataframe tbody tr th:only-of-type {\n",
       "        vertical-align: middle;\n",
       "    }\n",
       "\n",
       "    .dataframe tbody tr th {\n",
       "        vertical-align: top;\n",
       "    }\n",
       "\n",
       "    .dataframe thead th {\n",
       "        text-align: right;\n",
       "    }\n",
       "</style>\n",
       "<table border=\"1\" class=\"dataframe\">\n",
       "  <thead>\n",
       "    <tr style=\"text-align: right;\">\n",
       "      <th></th>\n",
       "      <th>open</th>\n",
       "      <th>high</th>\n",
       "      <th>low</th>\n",
       "      <th>close</th>\n",
       "      <th>volume</th>\n",
       "      <th>trade_count</th>\n",
       "      <th>vwap</th>\n",
       "      <th>symbol</th>\n",
       "    </tr>\n",
       "    <tr>\n",
       "      <th>timestamp</th>\n",
       "      <th></th>\n",
       "      <th></th>\n",
       "      <th></th>\n",
       "      <th></th>\n",
       "      <th></th>\n",
       "      <th></th>\n",
       "      <th></th>\n",
       "      <th></th>\n",
       "    </tr>\n",
       "  </thead>\n",
       "  <tbody>\n",
       "    <tr>\n",
       "      <th>2022-01-03 05:00:00+00:00</th>\n",
       "      <td>416.57</td>\n",
       "      <td>417.8446</td>\n",
       "      <td>403.26</td>\n",
       "      <td>408.64</td>\n",
       "      <td>3720356</td>\n",
       "      <td>85021</td>\n",
       "      <td>408.261522</td>\n",
       "      <td>HD</td>\n",
       "    </tr>\n",
       "    <tr>\n",
       "      <th>2022-01-04 05:00:00+00:00</th>\n",
       "      <td>408.64</td>\n",
       "      <td>413.6100</td>\n",
       "      <td>408.19</td>\n",
       "      <td>412.84</td>\n",
       "      <td>3264609</td>\n",
       "      <td>67397</td>\n",
       "      <td>411.849521</td>\n",
       "      <td>HD</td>\n",
       "    </tr>\n",
       "    <tr>\n",
       "      <th>2022-01-05 05:00:00+00:00</th>\n",
       "      <td>414.00</td>\n",
       "      <td>414.2200</td>\n",
       "      <td>406.81</td>\n",
       "      <td>407.24</td>\n",
       "      <td>4419021</td>\n",
       "      <td>84372</td>\n",
       "      <td>409.332968</td>\n",
       "      <td>HD</td>\n",
       "    </tr>\n",
       "    <tr>\n",
       "      <th>2022-01-06 05:00:00+00:00</th>\n",
       "      <td>408.56</td>\n",
       "      <td>409.0700</td>\n",
       "      <td>403.02</td>\n",
       "      <td>405.76</td>\n",
       "      <td>3307417</td>\n",
       "      <td>68950</td>\n",
       "      <td>405.615925</td>\n",
       "      <td>HD</td>\n",
       "    </tr>\n",
       "    <tr>\n",
       "      <th>2022-01-07 05:00:00+00:00</th>\n",
       "      <td>403.36</td>\n",
       "      <td>404.0900</td>\n",
       "      <td>392.88</td>\n",
       "      <td>393.61</td>\n",
       "      <td>4514133</td>\n",
       "      <td>89211</td>\n",
       "      <td>395.971181</td>\n",
       "      <td>HD</td>\n",
       "    </tr>\n",
       "  </tbody>\n",
       "</table>\n",
       "</div>"
      ],
      "text/plain": [
       "                             open      high     low   close   volume  \\\n",
       "timestamp                                                              \n",
       "2022-01-03 05:00:00+00:00  416.57  417.8446  403.26  408.64  3720356   \n",
       "2022-01-04 05:00:00+00:00  408.64  413.6100  408.19  412.84  3264609   \n",
       "2022-01-05 05:00:00+00:00  414.00  414.2200  406.81  407.24  4419021   \n",
       "2022-01-06 05:00:00+00:00  408.56  409.0700  403.02  405.76  3307417   \n",
       "2022-01-07 05:00:00+00:00  403.36  404.0900  392.88  393.61  4514133   \n",
       "\n",
       "                           trade_count        vwap symbol  \n",
       "timestamp                                                  \n",
       "2022-01-03 05:00:00+00:00        85021  408.261522     HD  \n",
       "2022-01-04 05:00:00+00:00        67397  411.849521     HD  \n",
       "2022-01-05 05:00:00+00:00        84372  409.332968     HD  \n",
       "2022-01-06 05:00:00+00:00        68950  405.615925     HD  \n",
       "2022-01-07 05:00:00+00:00        89211  395.971181     HD  "
      ]
     },
     "execution_count": 4,
     "metadata": {},
     "output_type": "execute_result"
    }
   ],
   "source": [
    "get_daily_trade_data('HD', '2022-01-03', '2022-01-07', tradeapi)"
   ]
  },
  {
   "cell_type": "code",
   "execution_count": 26,
   "id": "e2759568",
   "metadata": {},
   "outputs": [],
   "source": [
    "ticker_list = ['AAPL', 'HD']\n",
    "\n",
    "def make_tickers_df(ticker_list, start_date_str, end_date_str, tradeapi):\n",
    "    ticker_dfs_list = [get_daily_trade_data(ticker, start_date_str, end_date_str, tradeapi) for ticker in ticker_list]\n",
    "    tickers_df = pd.concat(ticker_dfs_list, axis=0, join='outer')\n",
    "    tickers_df = tickers_df[['symbol','close']].reset_index().rename(columns={'timestamp':'date'}).set_index('date')\n",
    "    tickers_df.index = tickers_df.index.date\n",
    "    return tickers_df\n",
    "    \n",
    "    #['symbol','close'].reset_index().rename(columns={'timestamp':'date'}).set_index('date').dt.date\n",
    "    #return tickers_df.index.dt.date.reset_index().rename(columns={\"timestamp\":\"date\"})"
   ]
  },
  {
   "cell_type": "code",
   "execution_count": 27,
   "id": "60530a01",
   "metadata": {},
   "outputs": [
    {
     "data": {
      "text/html": [
       "<div>\n",
       "<style scoped>\n",
       "    .dataframe tbody tr th:only-of-type {\n",
       "        vertical-align: middle;\n",
       "    }\n",
       "\n",
       "    .dataframe tbody tr th {\n",
       "        vertical-align: top;\n",
       "    }\n",
       "\n",
       "    .dataframe thead th {\n",
       "        text-align: right;\n",
       "    }\n",
       "</style>\n",
       "<table border=\"1\" class=\"dataframe\">\n",
       "  <thead>\n",
       "    <tr style=\"text-align: right;\">\n",
       "      <th></th>\n",
       "      <th>symbol</th>\n",
       "      <th>close</th>\n",
       "    </tr>\n",
       "  </thead>\n",
       "  <tbody>\n",
       "    <tr>\n",
       "      <th>2022-01-03</th>\n",
       "      <td>AAPL</td>\n",
       "      <td>182.010</td>\n",
       "    </tr>\n",
       "    <tr>\n",
       "      <th>2022-01-04</th>\n",
       "      <td>AAPL</td>\n",
       "      <td>179.700</td>\n",
       "    </tr>\n",
       "    <tr>\n",
       "      <th>2022-01-05</th>\n",
       "      <td>AAPL</td>\n",
       "      <td>174.835</td>\n",
       "    </tr>\n",
       "    <tr>\n",
       "      <th>2022-01-06</th>\n",
       "      <td>AAPL</td>\n",
       "      <td>172.000</td>\n",
       "    </tr>\n",
       "    <tr>\n",
       "      <th>2022-01-07</th>\n",
       "      <td>AAPL</td>\n",
       "      <td>172.170</td>\n",
       "    </tr>\n",
       "    <tr>\n",
       "      <th>2022-01-03</th>\n",
       "      <td>HD</td>\n",
       "      <td>408.640</td>\n",
       "    </tr>\n",
       "    <tr>\n",
       "      <th>2022-01-04</th>\n",
       "      <td>HD</td>\n",
       "      <td>412.840</td>\n",
       "    </tr>\n",
       "    <tr>\n",
       "      <th>2022-01-05</th>\n",
       "      <td>HD</td>\n",
       "      <td>407.240</td>\n",
       "    </tr>\n",
       "    <tr>\n",
       "      <th>2022-01-06</th>\n",
       "      <td>HD</td>\n",
       "      <td>405.760</td>\n",
       "    </tr>\n",
       "    <tr>\n",
       "      <th>2022-01-07</th>\n",
       "      <td>HD</td>\n",
       "      <td>393.610</td>\n",
       "    </tr>\n",
       "  </tbody>\n",
       "</table>\n",
       "</div>"
      ],
      "text/plain": [
       "           symbol    close\n",
       "2022-01-03   AAPL  182.010\n",
       "2022-01-04   AAPL  179.700\n",
       "2022-01-05   AAPL  174.835\n",
       "2022-01-06   AAPL  172.000\n",
       "2022-01-07   AAPL  172.170\n",
       "2022-01-03     HD  408.640\n",
       "2022-01-04     HD  412.840\n",
       "2022-01-05     HD  407.240\n",
       "2022-01-06     HD  405.760\n",
       "2022-01-07     HD  393.610"
      ]
     },
     "execution_count": 27,
     "metadata": {},
     "output_type": "execute_result"
    }
   ],
   "source": [
    "make_tickers_df(ticker_list, '2022-01-03', '2022-01-07', tradeapi)\n"
   ]
  },
  {
   "cell_type": "code",
   "execution_count": 28,
   "id": "7b29b7ee",
   "metadata": {},
   "outputs": [],
   "source": [
    "def make_tickers_dict(ticker_list, start_date_str, end_date_str, tradeapi):\n",
    "    return {ticker: get_daily_trade_data(ticker, start_date_str, end_date_str, tradeapi) for ticker in ticker_list}"
   ]
  },
  {
   "cell_type": "code",
   "execution_count": 29,
   "id": "567b615c",
   "metadata": {},
   "outputs": [
    {
     "data": {
      "text/plain": [
       "{'AAPL':                              open    high     low    close     volume  \\\n",
       " timestamp                                                               \n",
       " 2022-01-03 05:00:00+00:00  177.81  182.88  177.71  182.010  104690466   \n",
       " 2022-01-04 05:00:00+00:00  182.61  182.94  179.12  179.700   99284337   \n",
       " 2022-01-05 05:00:00+00:00  179.61  180.17  174.65  174.835   86753815   \n",
       " 2022-01-06 05:00:00+00:00  172.40  175.30  171.64  172.000   96792639   \n",
       " 2022-01-07 05:00:00+00:00  172.73  174.14  171.03  172.170   87682425   \n",
       " \n",
       "                            trade_count        vwap symbol  \n",
       " timestamp                                                  \n",
       " 2022-01-03 05:00:00+00:00       772367  181.415512   AAPL  \n",
       " 2022-01-04 05:00:00+00:00       831619  180.555450   AAPL  \n",
       " 2022-01-05 05:00:00+00:00       844519  177.497784   AAPL  \n",
       " 2022-01-06 05:00:00+00:00       958689  173.079885   AAPL  \n",
       " 2022-01-07 05:00:00+00:00       716119  172.439116   AAPL  ,\n",
       " 'HD':                              open      high     low   close   volume  \\\n",
       " timestamp                                                              \n",
       " 2022-01-03 05:00:00+00:00  416.57  417.8446  403.26  408.64  3720356   \n",
       " 2022-01-04 05:00:00+00:00  408.64  413.6100  408.19  412.84  3264609   \n",
       " 2022-01-05 05:00:00+00:00  414.00  414.2200  406.81  407.24  4419021   \n",
       " 2022-01-06 05:00:00+00:00  408.56  409.0700  403.02  405.76  3307417   \n",
       " 2022-01-07 05:00:00+00:00  403.36  404.0900  392.88  393.61  4514133   \n",
       " \n",
       "                            trade_count        vwap symbol  \n",
       " timestamp                                                  \n",
       " 2022-01-03 05:00:00+00:00        85021  408.261522     HD  \n",
       " 2022-01-04 05:00:00+00:00        67397  411.849521     HD  \n",
       " 2022-01-05 05:00:00+00:00        84372  409.332968     HD  \n",
       " 2022-01-06 05:00:00+00:00        68950  405.615925     HD  \n",
       " 2022-01-07 05:00:00+00:00        89211  395.971181     HD  }"
      ]
     },
     "execution_count": 29,
     "metadata": {},
     "output_type": "execute_result"
    }
   ],
   "source": [
    "ticker_list = ['AAPL', 'HD']\n",
    "my_tick_dict = make_tickers_dict(ticker_list, '2022-01-03', '2022-01-07', tradeapi)\n",
    "my_tick_dict"
   ]
  },
  {
   "cell_type": "code",
   "execution_count": 17,
   "id": "491895f5",
   "metadata": {},
   "outputs": [
    {
     "ename": "TypeError",
     "evalue": "Index(...) must be called with a collection of some kind, 'timestamp' was passed",
     "output_type": "error",
     "traceback": [
      "\u001b[1;31m---------------------------------------------------------------------------\u001b[0m",
      "\u001b[1;31mTypeError\u001b[0m                                 Traceback (most recent call last)",
      "\u001b[1;32mc:\\Users\\altma\\OneDrive\\Documents\\FinTechBootCamp\\projects\\P2G2-ProjectGit\\Notebooks\\Andrew.ipynb Cell 6'\u001b[0m in \u001b[0;36m<cell line: 1>\u001b[1;34m()\u001b[0m\n\u001b[1;32m----> <a href='vscode-notebook-cell:/c%3A/Users/altma/OneDrive/Documents/FinTechBootCamp/projects/P2G2-ProjectGit/Notebooks/Andrew.ipynb#ch0000005?line=0'>1</a>\u001b[0m my_tick_df \u001b[39m=\u001b[39m pd\u001b[39m.\u001b[39;49mDataFrame(my_tick_dict, index\u001b[39m=\u001b[39;49m\u001b[39m'\u001b[39;49m\u001b[39mtimestamp\u001b[39;49m\u001b[39m'\u001b[39;49m)\n\u001b[0;32m      <a href='vscode-notebook-cell:/c%3A/Users/altma/OneDrive/Documents/FinTechBootCamp/projects/P2G2-ProjectGit/Notebooks/Andrew.ipynb#ch0000005?line=1'>2</a>\u001b[0m my_tick_df\n",
      "File \u001b[1;32mc:\\Users\\altma\\anaconda3\\lib\\site-packages\\pandas\\core\\frame.py:636\u001b[0m, in \u001b[0;36mDataFrame.__init__\u001b[1;34m(self, data, index, columns, dtype, copy)\u001b[0m\n\u001b[0;32m    <a href='file:///c%3A/Users/altma/anaconda3/lib/site-packages/pandas/core/frame.py?line=629'>630</a>\u001b[0m     mgr \u001b[39m=\u001b[39m \u001b[39mself\u001b[39m\u001b[39m.\u001b[39m_init_mgr(\n\u001b[0;32m    <a href='file:///c%3A/Users/altma/anaconda3/lib/site-packages/pandas/core/frame.py?line=630'>631</a>\u001b[0m         data, axes\u001b[39m=\u001b[39m{\u001b[39m\"\u001b[39m\u001b[39mindex\u001b[39m\u001b[39m\"\u001b[39m: index, \u001b[39m\"\u001b[39m\u001b[39mcolumns\u001b[39m\u001b[39m\"\u001b[39m: columns}, dtype\u001b[39m=\u001b[39mdtype, copy\u001b[39m=\u001b[39mcopy\n\u001b[0;32m    <a href='file:///c%3A/Users/altma/anaconda3/lib/site-packages/pandas/core/frame.py?line=631'>632</a>\u001b[0m     )\n\u001b[0;32m    <a href='file:///c%3A/Users/altma/anaconda3/lib/site-packages/pandas/core/frame.py?line=633'>634</a>\u001b[0m \u001b[39melif\u001b[39;00m \u001b[39misinstance\u001b[39m(data, \u001b[39mdict\u001b[39m):\n\u001b[0;32m    <a href='file:///c%3A/Users/altma/anaconda3/lib/site-packages/pandas/core/frame.py?line=634'>635</a>\u001b[0m     \u001b[39m# GH#38939 de facto copy defaults to False only in non-dict cases\u001b[39;00m\n\u001b[1;32m--> <a href='file:///c%3A/Users/altma/anaconda3/lib/site-packages/pandas/core/frame.py?line=635'>636</a>\u001b[0m     mgr \u001b[39m=\u001b[39m dict_to_mgr(data, index, columns, dtype\u001b[39m=\u001b[39;49mdtype, copy\u001b[39m=\u001b[39;49mcopy, typ\u001b[39m=\u001b[39;49mmanager)\n\u001b[0;32m    <a href='file:///c%3A/Users/altma/anaconda3/lib/site-packages/pandas/core/frame.py?line=636'>637</a>\u001b[0m \u001b[39melif\u001b[39;00m \u001b[39misinstance\u001b[39m(data, ma\u001b[39m.\u001b[39mMaskedArray):\n\u001b[0;32m    <a href='file:///c%3A/Users/altma/anaconda3/lib/site-packages/pandas/core/frame.py?line=637'>638</a>\u001b[0m     \u001b[39mimport\u001b[39;00m \u001b[39mnumpy\u001b[39;00m\u001b[39m.\u001b[39;00m\u001b[39mma\u001b[39;00m\u001b[39m.\u001b[39;00m\u001b[39mmrecords\u001b[39;00m \u001b[39mas\u001b[39;00m \u001b[39mmrecords\u001b[39;00m\n",
      "File \u001b[1;32mc:\\Users\\altma\\anaconda3\\lib\\site-packages\\pandas\\core\\internals\\construction.py:502\u001b[0m, in \u001b[0;36mdict_to_mgr\u001b[1;34m(data, index, columns, dtype, typ, copy)\u001b[0m\n\u001b[0;32m    <a href='file:///c%3A/Users/altma/anaconda3/lib/site-packages/pandas/core/internals/construction.py?line=493'>494</a>\u001b[0m     arrays \u001b[39m=\u001b[39m [\n\u001b[0;32m    <a href='file:///c%3A/Users/altma/anaconda3/lib/site-packages/pandas/core/internals/construction.py?line=494'>495</a>\u001b[0m         x\n\u001b[0;32m    <a href='file:///c%3A/Users/altma/anaconda3/lib/site-packages/pandas/core/internals/construction.py?line=495'>496</a>\u001b[0m         \u001b[39mif\u001b[39;00m \u001b[39mnot\u001b[39;00m \u001b[39mhasattr\u001b[39m(x, \u001b[39m\"\u001b[39m\u001b[39mdtype\u001b[39m\u001b[39m\"\u001b[39m) \u001b[39mor\u001b[39;00m \u001b[39mnot\u001b[39;00m \u001b[39misinstance\u001b[39m(x\u001b[39m.\u001b[39mdtype, ExtensionDtype)\n\u001b[0;32m    <a href='file:///c%3A/Users/altma/anaconda3/lib/site-packages/pandas/core/internals/construction.py?line=496'>497</a>\u001b[0m         \u001b[39melse\u001b[39;00m x\u001b[39m.\u001b[39mcopy()\n\u001b[0;32m    <a href='file:///c%3A/Users/altma/anaconda3/lib/site-packages/pandas/core/internals/construction.py?line=497'>498</a>\u001b[0m         \u001b[39mfor\u001b[39;00m x \u001b[39min\u001b[39;00m arrays\n\u001b[0;32m    <a href='file:///c%3A/Users/altma/anaconda3/lib/site-packages/pandas/core/internals/construction.py?line=498'>499</a>\u001b[0m     ]\n\u001b[0;32m    <a href='file:///c%3A/Users/altma/anaconda3/lib/site-packages/pandas/core/internals/construction.py?line=499'>500</a>\u001b[0m     \u001b[39m# TODO: can we get rid of the dt64tz special case above?\u001b[39;00m\n\u001b[1;32m--> <a href='file:///c%3A/Users/altma/anaconda3/lib/site-packages/pandas/core/internals/construction.py?line=501'>502</a>\u001b[0m \u001b[39mreturn\u001b[39;00m arrays_to_mgr(arrays, columns, index, dtype\u001b[39m=\u001b[39;49mdtype, typ\u001b[39m=\u001b[39;49mtyp, consolidate\u001b[39m=\u001b[39;49mcopy)\n",
      "File \u001b[1;32mc:\\Users\\altma\\anaconda3\\lib\\site-packages\\pandas\\core\\internals\\construction.py:122\u001b[0m, in \u001b[0;36marrays_to_mgr\u001b[1;34m(arrays, columns, index, dtype, verify_integrity, typ, consolidate)\u001b[0m\n\u001b[0;32m    <a href='file:///c%3A/Users/altma/anaconda3/lib/site-packages/pandas/core/internals/construction.py?line=119'>120</a>\u001b[0m     index \u001b[39m=\u001b[39m _extract_index(arrays)\n\u001b[0;32m    <a href='file:///c%3A/Users/altma/anaconda3/lib/site-packages/pandas/core/internals/construction.py?line=120'>121</a>\u001b[0m \u001b[39melse\u001b[39;00m:\n\u001b[1;32m--> <a href='file:///c%3A/Users/altma/anaconda3/lib/site-packages/pandas/core/internals/construction.py?line=121'>122</a>\u001b[0m     index \u001b[39m=\u001b[39m ensure_index(index)\n\u001b[0;32m    <a href='file:///c%3A/Users/altma/anaconda3/lib/site-packages/pandas/core/internals/construction.py?line=123'>124</a>\u001b[0m \u001b[39m# don't force copy because getting jammed in an ndarray anyway\u001b[39;00m\n\u001b[0;32m    <a href='file:///c%3A/Users/altma/anaconda3/lib/site-packages/pandas/core/internals/construction.py?line=124'>125</a>\u001b[0m arrays \u001b[39m=\u001b[39m _homogenize(arrays, index, dtype)\n",
      "File \u001b[1;32mc:\\Users\\altma\\anaconda3\\lib\\site-packages\\pandas\\core\\indexes\\base.py:7043\u001b[0m, in \u001b[0;36mensure_index\u001b[1;34m(index_like, copy)\u001b[0m\n\u001b[0;32m   <a href='file:///c%3A/Users/altma/anaconda3/lib/site-packages/pandas/core/indexes/base.py?line=7040'>7041</a>\u001b[0m         \u001b[39mreturn\u001b[39;00m Index\u001b[39m.\u001b[39m_with_infer(index_like, copy\u001b[39m=\u001b[39mcopy, tupleize_cols\u001b[39m=\u001b[39m\u001b[39mFalse\u001b[39;00m)\n\u001b[0;32m   <a href='file:///c%3A/Users/altma/anaconda3/lib/site-packages/pandas/core/indexes/base.py?line=7041'>7042</a>\u001b[0m \u001b[39melse\u001b[39;00m:\n\u001b[1;32m-> <a href='file:///c%3A/Users/altma/anaconda3/lib/site-packages/pandas/core/indexes/base.py?line=7042'>7043</a>\u001b[0m     \u001b[39mreturn\u001b[39;00m Index\u001b[39m.\u001b[39;49m_with_infer(index_like, copy\u001b[39m=\u001b[39;49mcopy)\n",
      "File \u001b[1;32mc:\\Users\\altma\\anaconda3\\lib\\site-packages\\pandas\\core\\indexes\\base.py:680\u001b[0m, in \u001b[0;36mIndex._with_infer\u001b[1;34m(cls, *args, **kwargs)\u001b[0m\n\u001b[0;32m    <a href='file:///c%3A/Users/altma/anaconda3/lib/site-packages/pandas/core/indexes/base.py?line=677'>678</a>\u001b[0m \u001b[39mwith\u001b[39;00m warnings\u001b[39m.\u001b[39mcatch_warnings():\n\u001b[0;32m    <a href='file:///c%3A/Users/altma/anaconda3/lib/site-packages/pandas/core/indexes/base.py?line=678'>679</a>\u001b[0m     warnings\u001b[39m.\u001b[39mfilterwarnings(\u001b[39m\"\u001b[39m\u001b[39mignore\u001b[39m\u001b[39m\"\u001b[39m, \u001b[39m\"\u001b[39m\u001b[39m.*the Index constructor\u001b[39m\u001b[39m\"\u001b[39m, \u001b[39mFutureWarning\u001b[39;00m)\n\u001b[1;32m--> <a href='file:///c%3A/Users/altma/anaconda3/lib/site-packages/pandas/core/indexes/base.py?line=679'>680</a>\u001b[0m     result \u001b[39m=\u001b[39m \u001b[39mcls\u001b[39m(\u001b[39m*\u001b[39margs, \u001b[39m*\u001b[39m\u001b[39m*\u001b[39mkwargs)\n\u001b[0;32m    <a href='file:///c%3A/Users/altma/anaconda3/lib/site-packages/pandas/core/indexes/base.py?line=681'>682</a>\u001b[0m \u001b[39mif\u001b[39;00m result\u001b[39m.\u001b[39mdtype \u001b[39m==\u001b[39m _dtype_obj \u001b[39mand\u001b[39;00m \u001b[39mnot\u001b[39;00m result\u001b[39m.\u001b[39m_is_multi:\n\u001b[0;32m    <a href='file:///c%3A/Users/altma/anaconda3/lib/site-packages/pandas/core/indexes/base.py?line=682'>683</a>\u001b[0m     \u001b[39m# error: Argument 1 to \"maybe_convert_objects\" has incompatible type\u001b[39;00m\n\u001b[0;32m    <a href='file:///c%3A/Users/altma/anaconda3/lib/site-packages/pandas/core/indexes/base.py?line=683'>684</a>\u001b[0m     \u001b[39m# \"Union[ExtensionArray, ndarray[Any, Any]]\"; expected\u001b[39;00m\n\u001b[0;32m    <a href='file:///c%3A/Users/altma/anaconda3/lib/site-packages/pandas/core/indexes/base.py?line=684'>685</a>\u001b[0m     \u001b[39m# \"ndarray[Any, Any]\"\u001b[39;00m\n\u001b[0;32m    <a href='file:///c%3A/Users/altma/anaconda3/lib/site-packages/pandas/core/indexes/base.py?line=685'>686</a>\u001b[0m     values \u001b[39m=\u001b[39m lib\u001b[39m.\u001b[39mmaybe_convert_objects(result\u001b[39m.\u001b[39m_values)  \u001b[39m# type: ignore[arg-type]\u001b[39;00m\n",
      "File \u001b[1;32mc:\\Users\\altma\\anaconda3\\lib\\site-packages\\pandas\\core\\indexes\\base.py:508\u001b[0m, in \u001b[0;36mIndex.__new__\u001b[1;34m(cls, data, dtype, copy, name, tupleize_cols, **kwargs)\u001b[0m\n\u001b[0;32m    <a href='file:///c%3A/Users/altma/anaconda3/lib/site-packages/pandas/core/indexes/base.py?line=504'>505</a>\u001b[0m     \u001b[39mreturn\u001b[39;00m klass\u001b[39m.\u001b[39m_simple_new(arr, name)\n\u001b[0;32m    <a href='file:///c%3A/Users/altma/anaconda3/lib/site-packages/pandas/core/indexes/base.py?line=506'>507</a>\u001b[0m \u001b[39melif\u001b[39;00m is_scalar(data):\n\u001b[1;32m--> <a href='file:///c%3A/Users/altma/anaconda3/lib/site-packages/pandas/core/indexes/base.py?line=507'>508</a>\u001b[0m     \u001b[39mraise\u001b[39;00m \u001b[39mcls\u001b[39m\u001b[39m.\u001b[39m_scalar_data_error(data)\n\u001b[0;32m    <a href='file:///c%3A/Users/altma/anaconda3/lib/site-packages/pandas/core/indexes/base.py?line=508'>509</a>\u001b[0m \u001b[39melif\u001b[39;00m \u001b[39mhasattr\u001b[39m(data, \u001b[39m\"\u001b[39m\u001b[39m__array__\u001b[39m\u001b[39m\"\u001b[39m):\n\u001b[0;32m    <a href='file:///c%3A/Users/altma/anaconda3/lib/site-packages/pandas/core/indexes/base.py?line=509'>510</a>\u001b[0m     \u001b[39mreturn\u001b[39;00m Index(np\u001b[39m.\u001b[39masarray(data), dtype\u001b[39m=\u001b[39mdtype, copy\u001b[39m=\u001b[39mcopy, name\u001b[39m=\u001b[39mname, \u001b[39m*\u001b[39m\u001b[39m*\u001b[39mkwargs)\n",
      "\u001b[1;31mTypeError\u001b[0m: Index(...) must be called with a collection of some kind, 'timestamp' was passed"
     ]
    }
   ],
   "source": [
    "my_tick_df = pd.DataFrame(my_tick_dict, index='timestamp')\n",
    "my_tick_df"
   ]
  },
  {
   "cell_type": "code",
   "execution_count": 51,
   "id": "a0614025",
   "metadata": {},
   "outputs": [
    {
     "ename": "AttributeError",
     "evalue": "module 'alpaca_trade_api' has no attribute 'get_bars'",
     "output_type": "error",
     "traceback": [
      "\u001b[1;31m---------------------------------------------------------------------------\u001b[0m",
      "\u001b[1;31mAttributeError\u001b[0m                            Traceback (most recent call last)",
      "\u001b[1;32mc:\\Users\\altma\\OneDrive\\Documents\\FinTechBootCamp\\projects\\P2G2-ProjectGit\\Notebooks\\Andrew.ipynb Cell 9'\u001b[0m in \u001b[0;36m<cell line: 1>\u001b[1;34m()\u001b[0m\n\u001b[1;32m----> <a href='vscode-notebook-cell:/c%3A/Users/altma/OneDrive/Documents/FinTechBootCamp/projects/P2G2-ProjectGit/Notebooks/Andrew.ipynb#ch0000008?line=0'>1</a>\u001b[0m tickers_df \u001b[39m=\u001b[39m make_tickers_df(ticker_list, \u001b[39m'\u001b[39;49m\u001b[39m2022-01-03\u001b[39;49m\u001b[39m'\u001b[39;49m, \u001b[39m'\u001b[39;49m\u001b[39m2022-01-07\u001b[39;49m\u001b[39m'\u001b[39;49m, tradeapi)\n\u001b[0;32m      <a href='vscode-notebook-cell:/c%3A/Users/altma/OneDrive/Documents/FinTechBootCamp/projects/P2G2-ProjectGit/Notebooks/Andrew.ipynb#ch0000008?line=1'>2</a>\u001b[0m tickers_df\n",
      "\u001b[1;32mc:\\Users\\altma\\OneDrive\\Documents\\FinTechBootCamp\\projects\\P2G2-ProjectGit\\Notebooks\\Andrew.ipynb Cell 8'\u001b[0m in \u001b[0;36mmake_tickers_df\u001b[1;34m(ticker_list, start_date_str, end_date_str, tradeapi)\u001b[0m\n\u001b[0;32m      <a href='vscode-notebook-cell:/c%3A/Users/altma/OneDrive/Documents/FinTechBootCamp/projects/P2G2-ProjectGit/Notebooks/Andrew.ipynb#ch0000007?line=0'>1</a>\u001b[0m \u001b[39mdef\u001b[39;00m \u001b[39mmake_tickers_df\u001b[39m(ticker_list, start_date_str, end_date_str, tradeapi):\n\u001b[1;32m----> <a href='vscode-notebook-cell:/c%3A/Users/altma/OneDrive/Documents/FinTechBootCamp/projects/P2G2-ProjectGit/Notebooks/Andrew.ipynb#ch0000007?line=1'>2</a>\u001b[0m     \u001b[39mreturn\u001b[39;00m pd\u001b[39m.\u001b[39mconcat([get_daily_trade_data(ticker, start_date_str, end_date_str, tradeapi) \u001b[39mfor\u001b[39;00m ticker \u001b[39min\u001b[39;00m ticker_list])\n",
      "\u001b[1;32mc:\\Users\\altma\\OneDrive\\Documents\\FinTechBootCamp\\projects\\P2G2-ProjectGit\\Notebooks\\Andrew.ipynb Cell 8'\u001b[0m in \u001b[0;36m<listcomp>\u001b[1;34m(.0)\u001b[0m\n\u001b[0;32m      <a href='vscode-notebook-cell:/c%3A/Users/altma/OneDrive/Documents/FinTechBootCamp/projects/P2G2-ProjectGit/Notebooks/Andrew.ipynb#ch0000007?line=0'>1</a>\u001b[0m \u001b[39mdef\u001b[39;00m \u001b[39mmake_tickers_df\u001b[39m(ticker_list, start_date_str, end_date_str, tradeapi):\n\u001b[1;32m----> <a href='vscode-notebook-cell:/c%3A/Users/altma/OneDrive/Documents/FinTechBootCamp/projects/P2G2-ProjectGit/Notebooks/Andrew.ipynb#ch0000007?line=1'>2</a>\u001b[0m     \u001b[39mreturn\u001b[39;00m pd\u001b[39m.\u001b[39mconcat([get_daily_trade_data(ticker, start_date_str, end_date_str, tradeapi) \u001b[39mfor\u001b[39;00m ticker \u001b[39min\u001b[39;00m ticker_list])\n",
      "\u001b[1;32mc:\\Users\\altma\\OneDrive\\Documents\\FinTechBootCamp\\projects\\P2G2-ProjectGit\\Notebooks\\Andrew.ipynb Cell 3'\u001b[0m in \u001b[0;36mget_daily_trade_data\u001b[1;34m(ticker, start, end, tradeapi)\u001b[0m\n\u001b[0;32m      <a href='vscode-notebook-cell:/c%3A/Users/altma/OneDrive/Documents/FinTechBootCamp/projects/P2G2-ProjectGit/Notebooks/Andrew.ipynb#ch0000002?line=0'>1</a>\u001b[0m \u001b[39mdef\u001b[39;00m \u001b[39mget_daily_trade_data\u001b[39m(ticker, start, end, tradeapi): \n\u001b[1;32m----> <a href='vscode-notebook-cell:/c%3A/Users/altma/OneDrive/Documents/FinTechBootCamp/projects/P2G2-ProjectGit/Notebooks/Andrew.ipynb#ch0000002?line=1'>2</a>\u001b[0m     ticker_df \u001b[39m=\u001b[39m tradeapi\u001b[39m.\u001b[39;49mget_bars(\n\u001b[0;32m      <a href='vscode-notebook-cell:/c%3A/Users/altma/OneDrive/Documents/FinTechBootCamp/projects/P2G2-ProjectGit/Notebooks/Andrew.ipynb#ch0000002?line=2'>3</a>\u001b[0m         ticker,\n\u001b[0;32m      <a href='vscode-notebook-cell:/c%3A/Users/altma/OneDrive/Documents/FinTechBootCamp/projects/P2G2-ProjectGit/Notebooks/Andrew.ipynb#ch0000002?line=3'>4</a>\u001b[0m         TimeFrame\u001b[39m.\u001b[39mDay,\n\u001b[0;32m      <a href='vscode-notebook-cell:/c%3A/Users/altma/OneDrive/Documents/FinTechBootCamp/projects/P2G2-ProjectGit/Notebooks/Andrew.ipynb#ch0000002?line=4'>5</a>\u001b[0m         start,\n\u001b[0;32m      <a href='vscode-notebook-cell:/c%3A/Users/altma/OneDrive/Documents/FinTechBootCamp/projects/P2G2-ProjectGit/Notebooks/Andrew.ipynb#ch0000002?line=5'>6</a>\u001b[0m         end\n\u001b[0;32m      <a href='vscode-notebook-cell:/c%3A/Users/altma/OneDrive/Documents/FinTechBootCamp/projects/P2G2-ProjectGit/Notebooks/Andrew.ipynb#ch0000002?line=6'>7</a>\u001b[0m     )\u001b[39m.\u001b[39mdf\n\u001b[0;32m      <a href='vscode-notebook-cell:/c%3A/Users/altma/OneDrive/Documents/FinTechBootCamp/projects/P2G2-ProjectGit/Notebooks/Andrew.ipynb#ch0000002?line=7'>8</a>\u001b[0m     ticker_df[\u001b[39m'\u001b[39m\u001b[39msymbol\u001b[39m\u001b[39m'\u001b[39m] \u001b[39m=\u001b[39m ticker\n\u001b[0;32m     <a href='vscode-notebook-cell:/c%3A/Users/altma/OneDrive/Documents/FinTechBootCamp/projects/P2G2-ProjectGit/Notebooks/Andrew.ipynb#ch0000002?line=9'>10</a>\u001b[0m     \u001b[39mreturn\u001b[39;00m ticker_df\n",
      "\u001b[1;31mAttributeError\u001b[0m: module 'alpaca_trade_api' has no attribute 'get_bars'"
     ]
    }
   ],
   "source": [
    "tickers_df = make_tickers_df(ticker_list, '2022-01-03', '2022-01-07', tradeapi)\n",
    "tickers_df"
   ]
  },
  {
   "cell_type": "code",
   "execution_count": null,
   "id": "e178ae78",
   "metadata": {},
   "outputs": [],
   "source": []
  }
 ],
 "metadata": {
  "interpreter": {
   "hash": "f688966fe16c5b1d1f8096f0874425497eb397fd30a583fa64973664e1f67766"
  },
  "kernelspec": {
   "display_name": "Python 3.9.7 ('base')",
   "language": "python",
   "name": "python3"
  },
  "language_info": {
   "codemirror_mode": {
    "name": "ipython",
    "version": 3
   },
   "file_extension": ".py",
   "mimetype": "text/x-python",
   "name": "python",
   "nbconvert_exporter": "python",
   "pygments_lexer": "ipython3",
   "version": "3.9.7"
  }
 },
 "nbformat": 4,
 "nbformat_minor": 5
}
