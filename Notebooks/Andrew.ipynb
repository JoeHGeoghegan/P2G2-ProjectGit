{
 "cells": [
  {
   "cell_type": "code",
   "execution_count": 1,
   "id": "985386aa-2faf-48f7-861f-4a19037ca0df",
   "metadata": {},
   "outputs": [
    {
     "data": {
      "text/plain": [
       "True"
      ]
     },
     "execution_count": 1,
     "metadata": {},
     "output_type": "execute_result"
    }
   ],
   "source": [
    "import os\n",
    "import requests\n",
    "import pandas as pd\n",
    "from dotenv import load_dotenv\n",
    "import datetime as dt\n",
    "import alpaca_trade_api as tradeapi\n",
    "import json\n",
    "from alpaca_trade_api.rest import REST, TimeFrame\n",
    "load_dotenv()"
   ]
  },
  {
   "cell_type": "code",
   "execution_count": 2,
   "id": "517496b3",
   "metadata": {},
   "outputs": [],
   "source": [
    "alpaca_key = os.getenv(\"ALPACA_API_KEY\")\n",
    "alpaca_secret_key = os.getenv(\"ALPACA_SECRET_KEY\")\n",
    "\n",
    "tradeapi = REST(alpaca_key, alpaca_secret_key)"
   ]
  },
  {
   "cell_type": "code",
   "execution_count": 3,
   "id": "49aa0b8c",
   "metadata": {},
   "outputs": [],
   "source": [
    "def get_daily_trade_data(ticker, start, end, tradeapi): \n",
    "    ticker_df = tradeapi.get_bars(\n",
    "        ticker,\n",
    "        TimeFrame.Day,\n",
    "        start,\n",
    "        end\n",
    "    ).df\n",
    "    ticker_df['ticker'] = ticker\n",
    "\n",
    "    return ticker_df"
   ]
  },
  {
   "cell_type": "code",
   "execution_count": 4,
   "id": "37c35a78",
   "metadata": {},
   "outputs": [],
   "source": [
    "\n",
    "# get_daily_trade_data('HD', '2022-01-03', '2022-01-07', tradeapi)"
   ]
  },
  {
   "cell_type": "code",
   "execution_count": 5,
   "id": "e2759568",
   "metadata": {},
   "outputs": [],
   "source": [
    "ticker_list = pd.read_csv('./Data/Cleaned_Data/Ticker_library.csv')['Ticker'].to_list()\n",
    "\n",
    "def make_tickers_df(ticker_list, start_date_str, end_date_str, tradeapi):\n",
    "    ticker_dfs_list = [get_daily_trade_data(ticker, start_date_str, end_date_str, tradeapi) for ticker in ticker_list]\n",
    "    tickers_df = pd.concat(ticker_dfs_list, axis=0, join='outer')\n",
    "    tickers_df.index = tickers_df.index.date\n",
    "    tickers_df = tickers_df[['ticker','close','volume']]\n",
    "    return tickers_df\n",
    "    \n",
    "    #['symbol','close'].reset_index().rename(columns={'timestamp':'date'}).set_index('date').dt.date\n",
    "    #return tickers_df.index.dt.date.reset_index().rename(columns={\"timestamp\":\"date\"})"
   ]
  },
  {
   "cell_type": "code",
   "execution_count": 6,
   "id": "60530a01",
   "metadata": {},
   "outputs": [],
   "source": [
    "# stocks_df = make_tickers_df(ticker_list, '2012-06-01', '2022-06-01', tradeapi)\n",
    "# stocks_df.head()"
   ]
  },
  {
   "cell_type": "code",
   "execution_count": 7,
   "id": "7b29b7ee",
   "metadata": {},
   "outputs": [],
   "source": [
    "def make_tickers_dict(ticker_list, start_date_str, end_date_str, tradeapi):\n",
    "    return {ticker: get_daily_trade_data(ticker, start_date_str, end_date_str, tradeapi) for ticker in ticker_list}"
   ]
  },
  {
   "cell_type": "code",
   "execution_count": 8,
   "id": "567b615c",
   "metadata": {},
   "outputs": [],
   "source": [
    "# ticker_list = ['AAPL', 'XOM']\n",
    "# my_tick_dict = make_tickers_dict(ticker_list, '2022-01-03', '2022-01-07', tradeapi)\n",
    "# my_tick_dict"
   ]
  },
  {
   "cell_type": "markdown",
   "id": "685e9e5c",
   "metadata": {},
   "source": [
    "## News Article Vader Analyzer"
   ]
  },
  {
   "cell_type": "code",
   "execution_count": 33,
   "id": "f81f1ded",
   "metadata": {},
   "outputs": [
    {
     "name": "stderr",
     "output_type": "stream",
     "text": [
      "[nltk_data] Downloading package vader_lexicon to\n",
      "[nltk_data]     C:\\Users\\altma\\AppData\\Roaming\\nltk_data...\n",
      "[nltk_data]   Package vader_lexicon is already up-to-date!\n"
     ]
    }
   ],
   "source": [
    "from libs.drew_lib import *\n",
    "\n",
    "from newsapi import NewsApiClient\n",
    "import nltk\n",
    "from nltk.sentiment.vader import SentimentIntensityAnalyzer\n",
    "\n",
    "nltk.download('vader_lexicon')\n",
    "\n",
    "analyzer = SentimentIntensityAnalyzer()"
   ]
  },
  {
   "cell_type": "code",
   "execution_count": 10,
   "id": "f7ba719c",
   "metadata": {},
   "outputs": [
    {
     "name": "stdout",
     "output_type": "stream",
     "text": [
      "<class 'str'>\n"
     ]
    }
   ],
   "source": [
    "api_key = os.getenv(\"NEWSAPI_KEY\")\n",
    "newsapi = NewsApiClient(api_key=api_key)\n",
    "print(type(api_key))"
   ]
  },
  {
   "cell_type": "code",
   "execution_count": 11,
   "id": "4cbf3402",
   "metadata": {},
   "outputs": [],
   "source": [
    "# company_df = pd.read_csv('./Data/Cleaned_Data/Ticker_library.csv')\n",
    "# company_df = company_df.rename(columns={'Company Name': 'Company_Name'})\n",
    "# company_dict = dict(zip(company_df.Company_Name, company_df.Ticker))\n",
    "# company_list = list(company_dict.keys())\n",
    "# tickers_list = company_dict.values()\n",
    "# ls = [type(item) for item in company_list]\n",
    "# print(ls)\n",
    "# tickers_list\n"
   ]
  },
  {
   "cell_type": "code",
   "execution_count": 12,
   "id": "a980e863",
   "metadata": {},
   "outputs": [],
   "source": [
    "# netflix_news_df = form_df('Netflix')\n",
    "# netflix_news_df"
   ]
  },
  {
   "cell_type": "code",
   "execution_count": 13,
   "id": "a4238f6d",
   "metadata": {},
   "outputs": [
    {
     "name": "stderr",
     "output_type": "stream",
     "text": [
      "[nltk_data] Downloading package vader_lexicon to\n",
      "[nltk_data]     C:\\Users\\altma\\AppData\\Roaming\\nltk_data...\n",
      "[nltk_data]   Package vader_lexicon is already up-to-date!\n"
     ]
    }
   ],
   "source": [
    "from newsapi import NewsApiClient\n",
    "import nltk\n",
    "from nltk.sentiment.vader import SentimentIntensityAnalyzer\n",
    "\n",
    "nltk.download('vader_lexicon')\n",
    "\n",
    "analyzer = SentimentIntensityAnalyzer()"
   ]
  },
  {
   "cell_type": "code",
   "execution_count": 14,
   "id": "d526b344",
   "metadata": {},
   "outputs": [],
   "source": [
    "# def vader(df):\n",
    "#     company_list = company_dict.keys()\n",
    "\n",
    "#     df_list = []\n",
    "#     for company in company_list:\n",
    "#         try:\n",
    "#             df_list.append(form_df(company))\n",
    "#         except:\n",
    "#             continue\n",
    "#     news_df = pd.concat(df_list, axis=0, join='outer')\n",
    "    \n",
    "#     return news_df\n",
    "\n"
   ]
  },
  {
   "cell_type": "code",
   "execution_count": 15,
   "id": "1a7bbe1e",
   "metadata": {},
   "outputs": [],
   "source": [
    "def vader_analyzer(df):\n",
    "    analyzer = SentimentIntensityAnalyzer()\n",
    "    df['compound'] = [analyzer.polarity_scores(x)['compound'] for x in df['text']]\n",
    "    df['neg'] = [analyzer.polarity_scores(x)['neg'] for x in df['text']]\n",
    "    df['neu'] = [analyzer.polarity_scores(x)['neu'] for x in df['text']]\n",
    "    df['pos'] = [analyzer.polarity_scores(x)['pos'] for x in df['text']]\n",
    "\n",
    "    df['date'] = pd.to_datetime(\n",
    "    df['date'],\n",
    "    infer_datetime_format = True,\n",
    "    utc = True    \n",
    "    )\n",
    "    df['date'] = df['date'].dt.date\n",
    "    \n",
    "    return df\n",
    "\n"
   ]
  },
  {
   "cell_type": "code",
   "execution_count": 16,
   "id": "a4d55223",
   "metadata": {},
   "outputs": [],
   "source": [
    "\n",
    "# def daily_sentiment(df):\n",
    "#     df = vader_analyzer(df)\n",
    "\n",
    "#     df['date'] = pd.to_datetime(\n",
    "#     df['date'],\n",
    "#     infer_datetime_format = True,\n",
    "#     utc = True    \n",
    "#     )\n",
    "    \n",
    "#     return df.groupby('date')['compound','pos','neu','neg'].mean()\n",
    "\n",
    "\n",
    "# # date to datetime\n",
    "\n",
    "#     df['date'] = pd.to_datetime(\n",
    "#     df['date'],\n",
    "#     infer_datetime_format = True,\n",
    "#     utc = True    \n",
    "#     )\n",
    "#     df['date'] = df['date'].dt.date\n"
   ]
  },
  {
   "cell_type": "code",
   "execution_count": 17,
   "id": "622e8f7d",
   "metadata": {},
   "outputs": [],
   "source": [
    "# df = vader_analyzer(netflix_news_df)\n",
    "# df"
   ]
  },
  {
   "cell_type": "code",
   "execution_count": 40,
   "id": "9eb7d03d",
   "metadata": {},
   "outputs": [
    {
     "name": "stderr",
     "output_type": "stream",
     "text": [
      "C:\\Users\\altma\\AppData\\Local\\Temp\\ipykernel_16988\\3887123157.py:4: FutureWarning: Indexing with multiple keys (implicitly converted to a tuple of keys) will be deprecated, use a list instead.\n",
      "  news_sent_avg = vader_news_df.groupby(['ticker','date'])['ticker','pos','neg','neu','compound'].mean().reset_index()\n"
     ]
    }
   ],
   "source": [
    "news_df_list = [form_df(company) for company in company_list]\n",
    "vader_news_df_list = [vader_analyzer(df) for df in news_df_list]\n",
    "vader_news_df = pd.concat(vader_news_df_list, axis=0, join='inner')\n",
    "news_sent_avg = vader_news_df.groupby(['ticker','date'])['ticker','pos','neg','neu','compound'].mean().reset_index()\n",
    "news_sent_avg = news_sent_avg[['date','ticker','pos','neg','neu','compound']]\n",
    "\n",
    "\n",
    "news_sent_avg.to_csv('../Notebooks/Data/Cleaned_Data/news_sentiment.csv')"
   ]
  },
  {
   "cell_type": "code",
   "execution_count": 31,
   "id": "18237e15",
   "metadata": {},
   "outputs": [
    {
     "name": "stderr",
     "output_type": "stream",
     "text": [
      "C:\\Users\\altma\\AppData\\Local\\Temp\\ipykernel_16988\\4020423608.py:5: FutureWarning: Indexing with multiple keys (implicitly converted to a tuple of keys) will be deprecated, use a list instead.\n",
      "  news_sent_avg = news_sent_df.groupby(['ticker','date'])['ticker','pos','neg','neu','compound'].mean().reset_index()\n"
     ]
    }
   ],
   "source": [
    "news_sent_df = pd.read_csv('../Notebooks/Data/Cleaned_Data/news_sentiment.csv')\n",
    "news_sent_df = news_sent_df[['date','ticker','pos','neg','neu','compound']]\n",
    "#news_sent_df.set_index('ticker',inplace=True)\n",
    "#news_sent_df\n",
    "news_sent_avg = news_sent_df.groupby(['ticker','date'])['ticker','pos','neg','neu','compound'].mean().reset_index()\n",
    "cols = ['date','ticker','pos','neg','neu','compound']\n",
    "news_sent_avg.columns = cols\n",
    "news_sent_avg\n",
    "news_sent_df.to_csv('../Notebooks/Data/Cleaned_Data/news_sentiment.csv')"
   ]
  },
  {
   "cell_type": "markdown",
   "id": "4f16d4ca",
   "metadata": {},
   "source": [
    "## Helper Functions for PuttingItTogether"
   ]
  },
  {
   "cell_type": "code",
   "execution_count": 60,
   "id": "b4d73d48",
   "metadata": {},
   "outputs": [],
   "source": [
    "def stock_pick_df(ticker):\n",
    "\n",
    "    stock_df_list = []\n",
    "    file_path = '../Notebooks/Data/Cleaned_Data'\n",
    "\n",
    "    for filename in os.listdir(file_path):\n",
    "        if filename.endswith(\".csv\") and filename != 'Ticker_library.csv':\n",
    "            csv_df = pd.read_csv(file_path +'/'+ filename, parse_dates=True, infer_datetime_format=True,index_col='date')\n",
    "            csv_df = csv_df.loc[csv_df['ticker'] == ticker]\n",
    "            csv_df.drop(columns='ticker',axis=1,inplace=True)\n",
    "            #csv_df.set_index('date',inplace=True)\n",
    "            stock_df_list.append(csv_df)\n",
    "    all_ticker_data_df = pd.concat(stock_df_list,axis=1,join='inner')\n",
    "    all_ticker_data_df.insert(0, 'ticker', ticker)\n",
    "    return all_ticker_data_df.drop(columns='Unnamed: 0')\n"
   ]
  },
  {
   "cell_type": "code",
   "execution_count": 61,
   "id": "3666ff67",
   "metadata": {},
   "outputs": [
    {
     "data": {
      "text/html": [
       "<div>\n",
       "<style scoped>\n",
       "    .dataframe tbody tr th:only-of-type {\n",
       "        vertical-align: middle;\n",
       "    }\n",
       "\n",
       "    .dataframe tbody tr th {\n",
       "        vertical-align: top;\n",
       "    }\n",
       "\n",
       "    .dataframe thead th {\n",
       "        text-align: right;\n",
       "    }\n",
       "</style>\n",
       "<table border=\"1\" class=\"dataframe\">\n",
       "  <thead>\n",
       "    <tr style=\"text-align: right;\">\n",
       "      <th></th>\n",
       "      <th>ticker</th>\n",
       "      <th>pos</th>\n",
       "      <th>neg</th>\n",
       "      <th>neu</th>\n",
       "      <th>compound</th>\n",
       "      <th>close</th>\n",
       "      <th>volume</th>\n",
       "    </tr>\n",
       "    <tr>\n",
       "      <th>date</th>\n",
       "      <th></th>\n",
       "      <th></th>\n",
       "      <th></th>\n",
       "      <th></th>\n",
       "      <th></th>\n",
       "      <th></th>\n",
       "      <th></th>\n",
       "    </tr>\n",
       "  </thead>\n",
       "  <tbody>\n",
       "    <tr>\n",
       "      <th>2022-05-09</th>\n",
       "      <td>NFLX</td>\n",
       "      <td>0.000000</td>\n",
       "      <td>0.000000</td>\n",
       "      <td>1.000000</td>\n",
       "      <td>0.000000</td>\n",
       "      <td>173.10</td>\n",
       "      <td>13962477</td>\n",
       "    </tr>\n",
       "    <tr>\n",
       "      <th>2022-05-10</th>\n",
       "      <td>NFLX</td>\n",
       "      <td>0.074333</td>\n",
       "      <td>0.044667</td>\n",
       "      <td>0.881333</td>\n",
       "      <td>0.189467</td>\n",
       "      <td>177.66</td>\n",
       "      <td>13837756</td>\n",
       "    </tr>\n",
       "    <tr>\n",
       "      <th>2022-05-13</th>\n",
       "      <td>NFLX</td>\n",
       "      <td>0.095000</td>\n",
       "      <td>0.045000</td>\n",
       "      <td>0.859500</td>\n",
       "      <td>0.186300</td>\n",
       "      <td>187.64</td>\n",
       "      <td>13101033</td>\n",
       "    </tr>\n",
       "    <tr>\n",
       "      <th>2022-05-16</th>\n",
       "      <td>NFLX</td>\n",
       "      <td>0.087000</td>\n",
       "      <td>0.063000</td>\n",
       "      <td>0.851000</td>\n",
       "      <td>0.243000</td>\n",
       "      <td>186.51</td>\n",
       "      <td>16115838</td>\n",
       "    </tr>\n",
       "    <tr>\n",
       "      <th>2022-05-18</th>\n",
       "      <td>NFLX</td>\n",
       "      <td>0.000000</td>\n",
       "      <td>0.186000</td>\n",
       "      <td>0.814000</td>\n",
       "      <td>-0.743000</td>\n",
       "      <td>177.19</td>\n",
       "      <td>9640237</td>\n",
       "    </tr>\n",
       "    <tr>\n",
       "      <th>2022-05-19</th>\n",
       "      <td>NFLX</td>\n",
       "      <td>0.063500</td>\n",
       "      <td>0.053500</td>\n",
       "      <td>0.883000</td>\n",
       "      <td>-0.038200</td>\n",
       "      <td>183.48</td>\n",
       "      <td>10419078</td>\n",
       "    </tr>\n",
       "    <tr>\n",
       "      <th>2022-05-20</th>\n",
       "      <td>NFLX</td>\n",
       "      <td>0.113000</td>\n",
       "      <td>0.000000</td>\n",
       "      <td>0.887000</td>\n",
       "      <td>0.493900</td>\n",
       "      <td>186.35</td>\n",
       "      <td>10388438</td>\n",
       "    </tr>\n",
       "    <tr>\n",
       "      <th>2022-05-24</th>\n",
       "      <td>NFLX</td>\n",
       "      <td>0.104000</td>\n",
       "      <td>0.000000</td>\n",
       "      <td>0.896000</td>\n",
       "      <td>0.636900</td>\n",
       "      <td>180.34</td>\n",
       "      <td>7670343</td>\n",
       "    </tr>\n",
       "    <tr>\n",
       "      <th>2022-05-26</th>\n",
       "      <td>NFLX</td>\n",
       "      <td>0.037000</td>\n",
       "      <td>0.000000</td>\n",
       "      <td>0.963000</td>\n",
       "      <td>0.102700</td>\n",
       "      <td>191.40</td>\n",
       "      <td>8039904</td>\n",
       "    </tr>\n",
       "  </tbody>\n",
       "</table>\n",
       "</div>"
      ],
      "text/plain": [
       "           ticker       pos       neg       neu  compound   close    volume\n",
       "date                                                                       \n",
       "2022-05-09   NFLX  0.000000  0.000000  1.000000  0.000000  173.10  13962477\n",
       "2022-05-10   NFLX  0.074333  0.044667  0.881333  0.189467  177.66  13837756\n",
       "2022-05-13   NFLX  0.095000  0.045000  0.859500  0.186300  187.64  13101033\n",
       "2022-05-16   NFLX  0.087000  0.063000  0.851000  0.243000  186.51  16115838\n",
       "2022-05-18   NFLX  0.000000  0.186000  0.814000 -0.743000  177.19   9640237\n",
       "2022-05-19   NFLX  0.063500  0.053500  0.883000 -0.038200  183.48  10419078\n",
       "2022-05-20   NFLX  0.113000  0.000000  0.887000  0.493900  186.35  10388438\n",
       "2022-05-24   NFLX  0.104000  0.000000  0.896000  0.636900  180.34   7670343\n",
       "2022-05-26   NFLX  0.037000  0.000000  0.963000  0.102700  191.40   8039904"
      ]
     },
     "execution_count": 61,
     "metadata": {},
     "output_type": "execute_result"
    }
   ],
   "source": [
    "ntfx_all_df = stock_pick_df('NFLX')\n",
    "ntfx_all_df"
   ]
  },
  {
   "cell_type": "code",
   "execution_count": null,
   "id": "c26acce3",
   "metadata": {},
   "outputs": [],
   "source": [
    "stocks_df = pd.read_csv('../Notebooks/Data/Cleaned_Data/stock_data.csv')\n",
    "\n",
    "def add_pct_change(dataframe):\n",
    "    col_headers = {}\n",
    "    for col in dataframe.columns:\n",
    "        col_headers[col] = col.replace('close','pct_change')\n",
    "    return pd.concat([dataframe,\n",
    "    dataframe.pct_change().rename(columns=col_headers)\n",
    "    ],axis='columns')\n"
   ]
  },
  {
   "cell_type": "code",
   "execution_count": null,
   "id": "e2df737c",
   "metadata": {},
   "outputs": [
    {
     "ename": "TypeError",
     "evalue": "unsupported operand type(s) for /: 'str' and 'str'",
     "output_type": "error",
     "traceback": [
      "\u001b[1;31m---------------------------------------------------------------------------\u001b[0m",
      "\u001b[1;31mTypeError\u001b[0m                                 Traceback (most recent call last)",
      "File \u001b[1;32mc:\\Users\\altma\\anaconda3\\lib\\site-packages\\pandas\\core\\ops\\array_ops.py:163\u001b[0m, in \u001b[0;36m_na_arithmetic_op\u001b[1;34m(left, right, op, is_cmp)\u001b[0m\n\u001b[0;32m    <a href='file:///c%3A/Users/altma/anaconda3/lib/site-packages/pandas/core/ops/array_ops.py?line=161'>162</a>\u001b[0m \u001b[39mtry\u001b[39;00m:\n\u001b[1;32m--> <a href='file:///c%3A/Users/altma/anaconda3/lib/site-packages/pandas/core/ops/array_ops.py?line=162'>163</a>\u001b[0m     result \u001b[39m=\u001b[39m func(left, right)\n\u001b[0;32m    <a href='file:///c%3A/Users/altma/anaconda3/lib/site-packages/pandas/core/ops/array_ops.py?line=163'>164</a>\u001b[0m \u001b[39mexcept\u001b[39;00m \u001b[39mTypeError\u001b[39;00m:\n",
      "File \u001b[1;32mc:\\Users\\altma\\anaconda3\\lib\\site-packages\\pandas\\core\\computation\\expressions.py:239\u001b[0m, in \u001b[0;36mevaluate\u001b[1;34m(op, a, b, use_numexpr)\u001b[0m\n\u001b[0;32m    <a href='file:///c%3A/Users/altma/anaconda3/lib/site-packages/pandas/core/computation/expressions.py?line=236'>237</a>\u001b[0m     \u001b[39mif\u001b[39;00m use_numexpr:\n\u001b[0;32m    <a href='file:///c%3A/Users/altma/anaconda3/lib/site-packages/pandas/core/computation/expressions.py?line=237'>238</a>\u001b[0m         \u001b[39m# error: \"None\" not callable\u001b[39;00m\n\u001b[1;32m--> <a href='file:///c%3A/Users/altma/anaconda3/lib/site-packages/pandas/core/computation/expressions.py?line=238'>239</a>\u001b[0m         \u001b[39mreturn\u001b[39;00m _evaluate(op, op_str, a, b)  \u001b[39m# type: ignore[misc]\u001b[39;00m\n\u001b[0;32m    <a href='file:///c%3A/Users/altma/anaconda3/lib/site-packages/pandas/core/computation/expressions.py?line=239'>240</a>\u001b[0m \u001b[39mreturn\u001b[39;00m _evaluate_standard(op, op_str, a, b)\n",
      "File \u001b[1;32mc:\\Users\\altma\\anaconda3\\lib\\site-packages\\pandas\\core\\computation\\expressions.py:128\u001b[0m, in \u001b[0;36m_evaluate_numexpr\u001b[1;34m(op, op_str, a, b)\u001b[0m\n\u001b[0;32m    <a href='file:///c%3A/Users/altma/anaconda3/lib/site-packages/pandas/core/computation/expressions.py?line=126'>127</a>\u001b[0m \u001b[39mif\u001b[39;00m result \u001b[39mis\u001b[39;00m \u001b[39mNone\u001b[39;00m:\n\u001b[1;32m--> <a href='file:///c%3A/Users/altma/anaconda3/lib/site-packages/pandas/core/computation/expressions.py?line=127'>128</a>\u001b[0m     result \u001b[39m=\u001b[39m _evaluate_standard(op, op_str, a, b)\n\u001b[0;32m    <a href='file:///c%3A/Users/altma/anaconda3/lib/site-packages/pandas/core/computation/expressions.py?line=129'>130</a>\u001b[0m \u001b[39mreturn\u001b[39;00m result\n",
      "File \u001b[1;32mc:\\Users\\altma\\anaconda3\\lib\\site-packages\\pandas\\core\\computation\\expressions.py:69\u001b[0m, in \u001b[0;36m_evaluate_standard\u001b[1;34m(op, op_str, a, b)\u001b[0m\n\u001b[0;32m     <a href='file:///c%3A/Users/altma/anaconda3/lib/site-packages/pandas/core/computation/expressions.py?line=67'>68</a>\u001b[0m     _store_test_result(\u001b[39mFalse\u001b[39;00m)\n\u001b[1;32m---> <a href='file:///c%3A/Users/altma/anaconda3/lib/site-packages/pandas/core/computation/expressions.py?line=68'>69</a>\u001b[0m \u001b[39mreturn\u001b[39;00m op(a, b)\n",
      "\u001b[1;31mTypeError\u001b[0m: unsupported operand type(s) for /: 'str' and 'float'",
      "\nDuring handling of the above exception, another exception occurred:\n",
      "\u001b[1;31mTypeError\u001b[0m                                 Traceback (most recent call last)",
      "\u001b[1;32mc:\\Users\\altma\\OneDrive\\Documents\\FinTechBootCamp\\projects\\P2G2-ProjectGit\\Notebooks\\Andrew.ipynb Cell 24'\u001b[0m in \u001b[0;36m<cell line: 1>\u001b[1;34m()\u001b[0m\n\u001b[1;32m----> <a href='vscode-notebook-cell:/c%3A/Users/altma/OneDrive/Documents/FinTechBootCamp/projects/P2G2-ProjectGit/Notebooks/Andrew.ipynb#ch0000041?line=0'>1</a>\u001b[0m stocks_pct_change \u001b[39m=\u001b[39m add_pct_change(stocks_df)\n\u001b[0;32m      <a href='vscode-notebook-cell:/c%3A/Users/altma/OneDrive/Documents/FinTechBootCamp/projects/P2G2-ProjectGit/Notebooks/Andrew.ipynb#ch0000041?line=1'>2</a>\u001b[0m stocks_pct_change\n",
      "\u001b[1;32mc:\\Users\\altma\\OneDrive\\Documents\\FinTechBootCamp\\projects\\P2G2-ProjectGit\\Notebooks\\Andrew.ipynb Cell 23'\u001b[0m in \u001b[0;36madd_pct_change\u001b[1;34m(dataframe)\u001b[0m\n\u001b[0;32m      <a href='vscode-notebook-cell:/c%3A/Users/altma/OneDrive/Documents/FinTechBootCamp/projects/P2G2-ProjectGit/Notebooks/Andrew.ipynb#ch0000040?line=4'>5</a>\u001b[0m \u001b[39mfor\u001b[39;00m col \u001b[39min\u001b[39;00m dataframe\u001b[39m.\u001b[39mcolumns:\n\u001b[0;32m      <a href='vscode-notebook-cell:/c%3A/Users/altma/OneDrive/Documents/FinTechBootCamp/projects/P2G2-ProjectGit/Notebooks/Andrew.ipynb#ch0000040?line=5'>6</a>\u001b[0m     col_headers[col] \u001b[39m=\u001b[39m col\u001b[39m.\u001b[39mreplace(\u001b[39m'\u001b[39m\u001b[39mclose\u001b[39m\u001b[39m'\u001b[39m,\u001b[39m'\u001b[39m\u001b[39mpct_change\u001b[39m\u001b[39m'\u001b[39m)\n\u001b[0;32m      <a href='vscode-notebook-cell:/c%3A/Users/altma/OneDrive/Documents/FinTechBootCamp/projects/P2G2-ProjectGit/Notebooks/Andrew.ipynb#ch0000040?line=6'>7</a>\u001b[0m \u001b[39mreturn\u001b[39;00m pd\u001b[39m.\u001b[39mconcat([dataframe,\n\u001b[1;32m----> <a href='vscode-notebook-cell:/c%3A/Users/altma/OneDrive/Documents/FinTechBootCamp/projects/P2G2-ProjectGit/Notebooks/Andrew.ipynb#ch0000040?line=7'>8</a>\u001b[0m dataframe\u001b[39m.\u001b[39;49mpct_change()\u001b[39m.\u001b[39mrename(columns\u001b[39m=\u001b[39mcol_headers)\n\u001b[0;32m      <a href='vscode-notebook-cell:/c%3A/Users/altma/OneDrive/Documents/FinTechBootCamp/projects/P2G2-ProjectGit/Notebooks/Andrew.ipynb#ch0000040?line=8'>9</a>\u001b[0m ],axis\u001b[39m=\u001b[39m\u001b[39m'\u001b[39m\u001b[39mcolumns\u001b[39m\u001b[39m'\u001b[39m)\n",
      "File \u001b[1;32mc:\\Users\\altma\\anaconda3\\lib\\site-packages\\pandas\\core\\generic.py:10376\u001b[0m, in \u001b[0;36mNDFrame.pct_change\u001b[1;34m(self, periods, fill_method, limit, freq, **kwargs)\u001b[0m\n\u001b[0;32m  <a href='file:///c%3A/Users/altma/anaconda3/lib/site-packages/pandas/core/generic.py?line=10373'>10374</a>\u001b[0m shifted \u001b[39m=\u001b[39m data\u001b[39m.\u001b[39mshift(periods\u001b[39m=\u001b[39mperiods, freq\u001b[39m=\u001b[39mfreq, axis\u001b[39m=\u001b[39maxis, \u001b[39m*\u001b[39m\u001b[39m*\u001b[39mkwargs)\n\u001b[0;32m  <a href='file:///c%3A/Users/altma/anaconda3/lib/site-packages/pandas/core/generic.py?line=10374'>10375</a>\u001b[0m \u001b[39m# Unsupported left operand type for / (\"NDFrameT\")\u001b[39;00m\n\u001b[1;32m> <a href='file:///c%3A/Users/altma/anaconda3/lib/site-packages/pandas/core/generic.py?line=10375'>10376</a>\u001b[0m rs \u001b[39m=\u001b[39m data \u001b[39m/\u001b[39;49m shifted \u001b[39m-\u001b[39m \u001b[39m1\u001b[39m  \u001b[39m# type: ignore[operator]\u001b[39;00m\n\u001b[0;32m  <a href='file:///c%3A/Users/altma/anaconda3/lib/site-packages/pandas/core/generic.py?line=10376'>10377</a>\u001b[0m \u001b[39mif\u001b[39;00m freq \u001b[39mis\u001b[39;00m \u001b[39mnot\u001b[39;00m \u001b[39mNone\u001b[39;00m:\n\u001b[0;32m  <a href='file:///c%3A/Users/altma/anaconda3/lib/site-packages/pandas/core/generic.py?line=10377'>10378</a>\u001b[0m     \u001b[39m# Shift method is implemented differently when freq is not None\u001b[39;00m\n\u001b[0;32m  <a href='file:///c%3A/Users/altma/anaconda3/lib/site-packages/pandas/core/generic.py?line=10378'>10379</a>\u001b[0m     \u001b[39m# We want to restore the original index\u001b[39;00m\n\u001b[0;32m  <a href='file:///c%3A/Users/altma/anaconda3/lib/site-packages/pandas/core/generic.py?line=10379'>10380</a>\u001b[0m     rs \u001b[39m=\u001b[39m rs\u001b[39m.\u001b[39mloc[\u001b[39m~\u001b[39mrs\u001b[39m.\u001b[39mindex\u001b[39m.\u001b[39mduplicated()]\n",
      "File \u001b[1;32mc:\\Users\\altma\\anaconda3\\lib\\site-packages\\pandas\\core\\ops\\common.py:70\u001b[0m, in \u001b[0;36m_unpack_zerodim_and_defer.<locals>.new_method\u001b[1;34m(self, other)\u001b[0m\n\u001b[0;32m     <a href='file:///c%3A/Users/altma/anaconda3/lib/site-packages/pandas/core/ops/common.py?line=65'>66</a>\u001b[0m             \u001b[39mreturn\u001b[39;00m \u001b[39mNotImplemented\u001b[39m\n\u001b[0;32m     <a href='file:///c%3A/Users/altma/anaconda3/lib/site-packages/pandas/core/ops/common.py?line=67'>68</a>\u001b[0m other \u001b[39m=\u001b[39m item_from_zerodim(other)\n\u001b[1;32m---> <a href='file:///c%3A/Users/altma/anaconda3/lib/site-packages/pandas/core/ops/common.py?line=69'>70</a>\u001b[0m \u001b[39mreturn\u001b[39;00m method(\u001b[39mself\u001b[39;49m, other)\n",
      "File \u001b[1;32mc:\\Users\\altma\\anaconda3\\lib\\site-packages\\pandas\\core\\arraylike.py:124\u001b[0m, in \u001b[0;36mOpsMixin.__truediv__\u001b[1;34m(self, other)\u001b[0m\n\u001b[0;32m    <a href='file:///c%3A/Users/altma/anaconda3/lib/site-packages/pandas/core/arraylike.py?line=121'>122</a>\u001b[0m \u001b[39m@unpack_zerodim_and_defer\u001b[39m(\u001b[39m\"\u001b[39m\u001b[39m__truediv__\u001b[39m\u001b[39m\"\u001b[39m)\n\u001b[0;32m    <a href='file:///c%3A/Users/altma/anaconda3/lib/site-packages/pandas/core/arraylike.py?line=122'>123</a>\u001b[0m \u001b[39mdef\u001b[39;00m \u001b[39m__truediv__\u001b[39m(\u001b[39mself\u001b[39m, other):\n\u001b[1;32m--> <a href='file:///c%3A/Users/altma/anaconda3/lib/site-packages/pandas/core/arraylike.py?line=123'>124</a>\u001b[0m     \u001b[39mreturn\u001b[39;00m \u001b[39mself\u001b[39;49m\u001b[39m.\u001b[39;49m_arith_method(other, operator\u001b[39m.\u001b[39;49mtruediv)\n",
      "File \u001b[1;32mc:\\Users\\altma\\anaconda3\\lib\\site-packages\\pandas\\core\\frame.py:6940\u001b[0m, in \u001b[0;36mDataFrame._arith_method\u001b[1;34m(self, other, op)\u001b[0m\n\u001b[0;32m   <a href='file:///c%3A/Users/altma/anaconda3/lib/site-packages/pandas/core/frame.py?line=6935'>6936</a>\u001b[0m other \u001b[39m=\u001b[39m ops\u001b[39m.\u001b[39mmaybe_prepare_scalar_for_op(other, (\u001b[39mself\u001b[39m\u001b[39m.\u001b[39mshape[axis],))\n\u001b[0;32m   <a href='file:///c%3A/Users/altma/anaconda3/lib/site-packages/pandas/core/frame.py?line=6937'>6938</a>\u001b[0m \u001b[39mself\u001b[39m, other \u001b[39m=\u001b[39m ops\u001b[39m.\u001b[39malign_method_FRAME(\u001b[39mself\u001b[39m, other, axis, flex\u001b[39m=\u001b[39m\u001b[39mTrue\u001b[39;00m, level\u001b[39m=\u001b[39m\u001b[39mNone\u001b[39;00m)\n\u001b[1;32m-> <a href='file:///c%3A/Users/altma/anaconda3/lib/site-packages/pandas/core/frame.py?line=6939'>6940</a>\u001b[0m new_data \u001b[39m=\u001b[39m \u001b[39mself\u001b[39;49m\u001b[39m.\u001b[39;49m_dispatch_frame_op(other, op, axis\u001b[39m=\u001b[39;49maxis)\n\u001b[0;32m   <a href='file:///c%3A/Users/altma/anaconda3/lib/site-packages/pandas/core/frame.py?line=6940'>6941</a>\u001b[0m \u001b[39mreturn\u001b[39;00m \u001b[39mself\u001b[39m\u001b[39m.\u001b[39m_construct_result(new_data)\n",
      "File \u001b[1;32mc:\\Users\\altma\\anaconda3\\lib\\site-packages\\pandas\\core\\frame.py:6979\u001b[0m, in \u001b[0;36mDataFrame._dispatch_frame_op\u001b[1;34m(self, right, func, axis)\u001b[0m\n\u001b[0;32m   <a href='file:///c%3A/Users/altma/anaconda3/lib/site-packages/pandas/core/frame.py?line=6972'>6973</a>\u001b[0m     \u001b[39m# TODO: The previous assertion `assert right._indexed_same(self)`\u001b[39;00m\n\u001b[0;32m   <a href='file:///c%3A/Users/altma/anaconda3/lib/site-packages/pandas/core/frame.py?line=6973'>6974</a>\u001b[0m     \u001b[39m#  fails in cases with empty columns reached via\u001b[39;00m\n\u001b[0;32m   <a href='file:///c%3A/Users/altma/anaconda3/lib/site-packages/pandas/core/frame.py?line=6974'>6975</a>\u001b[0m     \u001b[39m#  _frame_arith_method_with_reindex\u001b[39;00m\n\u001b[0;32m   <a href='file:///c%3A/Users/altma/anaconda3/lib/site-packages/pandas/core/frame.py?line=6975'>6976</a>\u001b[0m \n\u001b[0;32m   <a href='file:///c%3A/Users/altma/anaconda3/lib/site-packages/pandas/core/frame.py?line=6976'>6977</a>\u001b[0m     \u001b[39m# TODO operate_blockwise expects a manager of the same type\u001b[39;00m\n\u001b[0;32m   <a href='file:///c%3A/Users/altma/anaconda3/lib/site-packages/pandas/core/frame.py?line=6977'>6978</a>\u001b[0m     \u001b[39mwith\u001b[39;00m np\u001b[39m.\u001b[39merrstate(\u001b[39mall\u001b[39m\u001b[39m=\u001b[39m\u001b[39m\"\u001b[39m\u001b[39mignore\u001b[39m\u001b[39m\"\u001b[39m):\n\u001b[1;32m-> <a href='file:///c%3A/Users/altma/anaconda3/lib/site-packages/pandas/core/frame.py?line=6978'>6979</a>\u001b[0m         bm \u001b[39m=\u001b[39m \u001b[39mself\u001b[39;49m\u001b[39m.\u001b[39;49m_mgr\u001b[39m.\u001b[39;49moperate_blockwise(\n\u001b[0;32m   <a href='file:///c%3A/Users/altma/anaconda3/lib/site-packages/pandas/core/frame.py?line=6979'>6980</a>\u001b[0m             \u001b[39m# error: Argument 1 to \"operate_blockwise\" of \"ArrayManager\" has\u001b[39;49;00m\n\u001b[0;32m   <a href='file:///c%3A/Users/altma/anaconda3/lib/site-packages/pandas/core/frame.py?line=6980'>6981</a>\u001b[0m             \u001b[39m# incompatible type \"Union[ArrayManager, BlockManager]\"; expected\u001b[39;49;00m\n\u001b[0;32m   <a href='file:///c%3A/Users/altma/anaconda3/lib/site-packages/pandas/core/frame.py?line=6981'>6982</a>\u001b[0m             \u001b[39m# \"ArrayManager\"\u001b[39;49;00m\n\u001b[0;32m   <a href='file:///c%3A/Users/altma/anaconda3/lib/site-packages/pandas/core/frame.py?line=6982'>6983</a>\u001b[0m             \u001b[39m# error: Argument 1 to \"operate_blockwise\" of \"BlockManager\" has\u001b[39;49;00m\n\u001b[0;32m   <a href='file:///c%3A/Users/altma/anaconda3/lib/site-packages/pandas/core/frame.py?line=6983'>6984</a>\u001b[0m             \u001b[39m# incompatible type \"Union[ArrayManager, BlockManager]\"; expected\u001b[39;49;00m\n\u001b[0;32m   <a href='file:///c%3A/Users/altma/anaconda3/lib/site-packages/pandas/core/frame.py?line=6984'>6985</a>\u001b[0m             \u001b[39m# \"BlockManager\"\u001b[39;49;00m\n\u001b[0;32m   <a href='file:///c%3A/Users/altma/anaconda3/lib/site-packages/pandas/core/frame.py?line=6985'>6986</a>\u001b[0m             right\u001b[39m.\u001b[39;49m_mgr,  \u001b[39m# type: ignore[arg-type]\u001b[39;49;00m\n\u001b[0;32m   <a href='file:///c%3A/Users/altma/anaconda3/lib/site-packages/pandas/core/frame.py?line=6986'>6987</a>\u001b[0m             array_op,\n\u001b[0;32m   <a href='file:///c%3A/Users/altma/anaconda3/lib/site-packages/pandas/core/frame.py?line=6987'>6988</a>\u001b[0m         )\n\u001b[0;32m   <a href='file:///c%3A/Users/altma/anaconda3/lib/site-packages/pandas/core/frame.py?line=6988'>6989</a>\u001b[0m     \u001b[39mreturn\u001b[39;00m \u001b[39mself\u001b[39m\u001b[39m.\u001b[39m_constructor(bm)\n\u001b[0;32m   <a href='file:///c%3A/Users/altma/anaconda3/lib/site-packages/pandas/core/frame.py?line=6990'>6991</a>\u001b[0m \u001b[39melif\u001b[39;00m \u001b[39misinstance\u001b[39m(right, Series) \u001b[39mand\u001b[39;00m axis \u001b[39m==\u001b[39m \u001b[39m1\u001b[39m:\n\u001b[0;32m   <a href='file:///c%3A/Users/altma/anaconda3/lib/site-packages/pandas/core/frame.py?line=6991'>6992</a>\u001b[0m     \u001b[39m# axis=1 means we want to operate row-by-row\u001b[39;00m\n",
      "File \u001b[1;32mc:\\Users\\altma\\anaconda3\\lib\\site-packages\\pandas\\core\\internals\\managers.py:1409\u001b[0m, in \u001b[0;36mBlockManager.operate_blockwise\u001b[1;34m(self, other, array_op)\u001b[0m\n\u001b[0;32m   <a href='file:///c%3A/Users/altma/anaconda3/lib/site-packages/pandas/core/internals/managers.py?line=1404'>1405</a>\u001b[0m \u001b[39mdef\u001b[39;00m \u001b[39moperate_blockwise\u001b[39m(\u001b[39mself\u001b[39m, other: BlockManager, array_op) \u001b[39m-\u001b[39m\u001b[39m>\u001b[39m BlockManager:\n\u001b[0;32m   <a href='file:///c%3A/Users/altma/anaconda3/lib/site-packages/pandas/core/internals/managers.py?line=1405'>1406</a>\u001b[0m     \u001b[39m\"\"\"\u001b[39;00m\n\u001b[0;32m   <a href='file:///c%3A/Users/altma/anaconda3/lib/site-packages/pandas/core/internals/managers.py?line=1406'>1407</a>\u001b[0m \u001b[39m    Apply array_op blockwise with another (aligned) BlockManager.\u001b[39;00m\n\u001b[0;32m   <a href='file:///c%3A/Users/altma/anaconda3/lib/site-packages/pandas/core/internals/managers.py?line=1407'>1408</a>\u001b[0m \u001b[39m    \"\"\"\u001b[39;00m\n\u001b[1;32m-> <a href='file:///c%3A/Users/altma/anaconda3/lib/site-packages/pandas/core/internals/managers.py?line=1408'>1409</a>\u001b[0m     \u001b[39mreturn\u001b[39;00m operate_blockwise(\u001b[39mself\u001b[39;49m, other, array_op)\n",
      "File \u001b[1;32mc:\\Users\\altma\\anaconda3\\lib\\site-packages\\pandas\\core\\internals\\ops.py:63\u001b[0m, in \u001b[0;36moperate_blockwise\u001b[1;34m(left, right, array_op)\u001b[0m\n\u001b[0;32m     <a href='file:///c%3A/Users/altma/anaconda3/lib/site-packages/pandas/core/internals/ops.py?line=60'>61</a>\u001b[0m res_blks: \u001b[39mlist\u001b[39m[Block] \u001b[39m=\u001b[39m []\n\u001b[0;32m     <a href='file:///c%3A/Users/altma/anaconda3/lib/site-packages/pandas/core/internals/ops.py?line=61'>62</a>\u001b[0m \u001b[39mfor\u001b[39;00m lvals, rvals, locs, left_ea, right_ea, rblk \u001b[39min\u001b[39;00m _iter_block_pairs(left, right):\n\u001b[1;32m---> <a href='file:///c%3A/Users/altma/anaconda3/lib/site-packages/pandas/core/internals/ops.py?line=62'>63</a>\u001b[0m     res_values \u001b[39m=\u001b[39m array_op(lvals, rvals)\n\u001b[0;32m     <a href='file:///c%3A/Users/altma/anaconda3/lib/site-packages/pandas/core/internals/ops.py?line=63'>64</a>\u001b[0m     \u001b[39mif\u001b[39;00m left_ea \u001b[39mand\u001b[39;00m \u001b[39mnot\u001b[39;00m right_ea \u001b[39mand\u001b[39;00m \u001b[39mhasattr\u001b[39m(res_values, \u001b[39m\"\u001b[39m\u001b[39mreshape\u001b[39m\u001b[39m\"\u001b[39m):\n\u001b[0;32m     <a href='file:///c%3A/Users/altma/anaconda3/lib/site-packages/pandas/core/internals/ops.py?line=64'>65</a>\u001b[0m         res_values \u001b[39m=\u001b[39m res_values\u001b[39m.\u001b[39mreshape(\u001b[39m1\u001b[39m, \u001b[39m-\u001b[39m\u001b[39m1\u001b[39m)\n",
      "File \u001b[1;32mc:\\Users\\altma\\anaconda3\\lib\\site-packages\\pandas\\core\\ops\\array_ops.py:222\u001b[0m, in \u001b[0;36marithmetic_op\u001b[1;34m(left, right, op)\u001b[0m\n\u001b[0;32m    <a href='file:///c%3A/Users/altma/anaconda3/lib/site-packages/pandas/core/ops/array_ops.py?line=216'>217</a>\u001b[0m \u001b[39melse\u001b[39;00m:\n\u001b[0;32m    <a href='file:///c%3A/Users/altma/anaconda3/lib/site-packages/pandas/core/ops/array_ops.py?line=217'>218</a>\u001b[0m     \u001b[39m# TODO we should handle EAs consistently and move this check before the if/else\u001b[39;00m\n\u001b[0;32m    <a href='file:///c%3A/Users/altma/anaconda3/lib/site-packages/pandas/core/ops/array_ops.py?line=218'>219</a>\u001b[0m     \u001b[39m# (https://github.com/pandas-dev/pandas/issues/41165)\u001b[39;00m\n\u001b[0;32m    <a href='file:///c%3A/Users/altma/anaconda3/lib/site-packages/pandas/core/ops/array_ops.py?line=219'>220</a>\u001b[0m     _bool_arith_check(op, left, right)\n\u001b[1;32m--> <a href='file:///c%3A/Users/altma/anaconda3/lib/site-packages/pandas/core/ops/array_ops.py?line=221'>222</a>\u001b[0m     res_values \u001b[39m=\u001b[39m _na_arithmetic_op(left, right, op)\n\u001b[0;32m    <a href='file:///c%3A/Users/altma/anaconda3/lib/site-packages/pandas/core/ops/array_ops.py?line=223'>224</a>\u001b[0m \u001b[39mreturn\u001b[39;00m res_values\n",
      "File \u001b[1;32mc:\\Users\\altma\\anaconda3\\lib\\site-packages\\pandas\\core\\ops\\array_ops.py:170\u001b[0m, in \u001b[0;36m_na_arithmetic_op\u001b[1;34m(left, right, op, is_cmp)\u001b[0m\n\u001b[0;32m    <a href='file:///c%3A/Users/altma/anaconda3/lib/site-packages/pandas/core/ops/array_ops.py?line=163'>164</a>\u001b[0m \u001b[39mexcept\u001b[39;00m \u001b[39mTypeError\u001b[39;00m:\n\u001b[0;32m    <a href='file:///c%3A/Users/altma/anaconda3/lib/site-packages/pandas/core/ops/array_ops.py?line=164'>165</a>\u001b[0m     \u001b[39mif\u001b[39;00m \u001b[39mnot\u001b[39;00m is_cmp \u001b[39mand\u001b[39;00m (is_object_dtype(left\u001b[39m.\u001b[39mdtype) \u001b[39mor\u001b[39;00m is_object_dtype(right)):\n\u001b[0;32m    <a href='file:///c%3A/Users/altma/anaconda3/lib/site-packages/pandas/core/ops/array_ops.py?line=165'>166</a>\u001b[0m         \u001b[39m# For object dtype, fallback to a masked operation (only operating\u001b[39;00m\n\u001b[0;32m    <a href='file:///c%3A/Users/altma/anaconda3/lib/site-packages/pandas/core/ops/array_ops.py?line=166'>167</a>\u001b[0m         \u001b[39m#  on the non-missing values)\u001b[39;00m\n\u001b[0;32m    <a href='file:///c%3A/Users/altma/anaconda3/lib/site-packages/pandas/core/ops/array_ops.py?line=167'>168</a>\u001b[0m         \u001b[39m# Don't do this for comparisons, as that will handle complex numbers\u001b[39;00m\n\u001b[0;32m    <a href='file:///c%3A/Users/altma/anaconda3/lib/site-packages/pandas/core/ops/array_ops.py?line=168'>169</a>\u001b[0m         \u001b[39m#  incorrectly, see GH#32047\u001b[39;00m\n\u001b[1;32m--> <a href='file:///c%3A/Users/altma/anaconda3/lib/site-packages/pandas/core/ops/array_ops.py?line=169'>170</a>\u001b[0m         result \u001b[39m=\u001b[39m _masked_arith_op(left, right, op)\n\u001b[0;32m    <a href='file:///c%3A/Users/altma/anaconda3/lib/site-packages/pandas/core/ops/array_ops.py?line=170'>171</a>\u001b[0m     \u001b[39melse\u001b[39;00m:\n\u001b[0;32m    <a href='file:///c%3A/Users/altma/anaconda3/lib/site-packages/pandas/core/ops/array_ops.py?line=171'>172</a>\u001b[0m         \u001b[39mraise\u001b[39;00m\n",
      "File \u001b[1;32mc:\\Users\\altma\\anaconda3\\lib\\site-packages\\pandas\\core\\ops\\array_ops.py:108\u001b[0m, in \u001b[0;36m_masked_arith_op\u001b[1;34m(x, y, op)\u001b[0m\n\u001b[0;32m    <a href='file:///c%3A/Users/altma/anaconda3/lib/site-packages/pandas/core/ops/array_ops.py?line=105'>106</a>\u001b[0m     \u001b[39m# See GH#5284, GH#5035, GH#19448 for historical reference\u001b[39;00m\n\u001b[0;32m    <a href='file:///c%3A/Users/altma/anaconda3/lib/site-packages/pandas/core/ops/array_ops.py?line=106'>107</a>\u001b[0m     \u001b[39mif\u001b[39;00m mask\u001b[39m.\u001b[39many():\n\u001b[1;32m--> <a href='file:///c%3A/Users/altma/anaconda3/lib/site-packages/pandas/core/ops/array_ops.py?line=107'>108</a>\u001b[0m         result[mask] \u001b[39m=\u001b[39m op(xrav[mask], yrav[mask])\n\u001b[0;32m    <a href='file:///c%3A/Users/altma/anaconda3/lib/site-packages/pandas/core/ops/array_ops.py?line=109'>110</a>\u001b[0m \u001b[39melse\u001b[39;00m:\n\u001b[0;32m    <a href='file:///c%3A/Users/altma/anaconda3/lib/site-packages/pandas/core/ops/array_ops.py?line=110'>111</a>\u001b[0m     \u001b[39mif\u001b[39;00m \u001b[39mnot\u001b[39;00m is_scalar(y):\n",
      "\u001b[1;31mTypeError\u001b[0m: unsupported operand type(s) for /: 'str' and 'str'"
     ]
    }
   ],
   "source": [
    "stocks_pct_change = add_pct_change(stocks_df)\n",
    "stocks_pct_change"
   ]
  },
  {
   "cell_type": "code",
   "execution_count": null,
   "id": "f969842b",
   "metadata": {},
   "outputs": [],
   "source": []
  }
 ],
 "metadata": {
  "interpreter": {
   "hash": "f688966fe16c5b1d1f8096f0874425497eb397fd30a583fa64973664e1f67766"
  },
  "kernelspec": {
   "display_name": "Python 3.9.7 ('base')",
   "language": "python",
   "name": "python3"
  },
  "language_info": {
   "codemirror_mode": {
    "name": "ipython",
    "version": 3
   },
   "file_extension": ".py",
   "mimetype": "text/x-python",
   "name": "python",
   "nbconvert_exporter": "python",
   "pygments_lexer": "ipython3",
   "version": "3.9.7"
  }
 },
 "nbformat": 4,
 "nbformat_minor": 5
}
