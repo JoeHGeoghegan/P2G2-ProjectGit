{
 "cells": [
  {
   "cell_type": "markdown",
   "metadata": {},
   "source": [
    "### Currently pseudo code showing what functions we need\n",
    "Note \"allTickers\" should be read as loop through all tickers"
   ]
  },
  {
   "cell_type": "code",
   "execution_count": null,
   "metadata": {},
   "outputs": [],
   "source": [
    "#The essentials\n",
    "import pandas as pd\n",
    "from dotenv import load_dotenv\n",
    "load_dotenv()\n",
    "\n",
    "tickers = pd.read_csv('./Data/Cleaned_Data/Ticker_library.csv')['Ticker'].to_list()"
   ]
  },
  {
   "cell_type": "code",
   "execution_count": null,
   "metadata": {},
   "outputs": [],
   "source": [
    "import libs.krista_lib as news\n",
    "# News Handling\n",
    "News_allTickers = [news.form_df(ticker) for ticker in tickers] #or read already created csv\n",
    "#Append list into one DF should be ['Ticker','Date','Text']"
   ]
  },
  {
   "cell_type": "code",
   "execution_count": null,
   "metadata": {},
   "outputs": [],
   "source": [
    "import libs.reddit as red\n",
    "# Reddit Handling\n",
    "Reddit_allTickers = [red.pull_all_about(ticker,from_subreddits=['subredditList']) for ticker in tickers] #or read already created csv\n",
    "#Append list into one DF should be ['BusinessMentioned','Date','Text']"
   ]
  },
  {
   "cell_type": "code",
   "execution_count": null,
   "metadata": {},
   "outputs": [],
   "source": [
    "import libs.sec as sec\n",
    "# SEC Handling\n",
    "SEC_allTickers = pd.read_csv('.\\Data\\Cleaned_Data\\sec_df.csv') #it is definately too big to do on the fly\n",
    "#DF should be ['Ticker','Date','Text']"
   ]
  },
  {
   "cell_type": "code",
   "execution_count": null,
   "metadata": {},
   "outputs": [],
   "source": [
    "# Precessing (uses binning, vadar, and tokenizer code)\n",
    "import libs.df_helper as dfh\n",
    "News_vadar = dfh.vadar_time_Bin(News_allTickers,days=7) # Returns a df with headers ['Ticker','time bin','avg vader score of all in bin']\n",
    "Reddit_vadar = dfh.vadar_time_Bin(Reddit_allTickers,days=7) # Returns a df with headers ['Ticker','time bin','avg vader score of all in bin']\n",
    "SEC_vadar = dfh.vadar_time_Bin(SEC_allTickers,days=45) # Returns a df with headers ['Ticker','time bin','avg vader score of all in bin']\n",
    "\n",
    "working_DF = dfh.combiner(News_vadar,Reddit_vadar,SEC_vadar) # Returns a dataframe where the dates match (copies SECs larger bins over every cell in its date range)\n",
    "#Add in actual stock data"
   ]
  },
  {
   "cell_type": "code",
   "execution_count": null,
   "metadata": {},
   "outputs": [],
   "source": [
    "# plotting to see trends"
   ]
  },
  {
   "cell_type": "code",
   "execution_count": null,
   "metadata": {},
   "outputs": [],
   "source": [
    "# Splitting\n",
    "    # Train Test split for Neural Net\n",
    "    # Split for back testing"
   ]
  },
  {
   "cell_type": "code",
   "execution_count": null,
   "metadata": {},
   "outputs": [],
   "source": [
    "# Neural Net\n"
   ]
  },
  {
   "cell_type": "code",
   "execution_count": null,
   "metadata": {},
   "outputs": [],
   "source": [
    "# Signal Generation\n"
   ]
  },
  {
   "cell_type": "code",
   "execution_count": null,
   "metadata": {},
   "outputs": [],
   "source": [
    "# Back Testing"
   ]
  }
 ],
 "metadata": {
  "interpreter": {
   "hash": "60051db9b49e7622da472558d5c9910b644d729726c3e885e40a692d81c6b654"
  },
  "kernelspec": {
   "display_name": "Python 3.7.11 ('base')",
   "language": "python",
   "name": "python3"
  },
  "language_info": {
   "name": "python",
   "version": "3.7.11"
  },
  "orig_nbformat": 4
 },
 "nbformat": 4,
 "nbformat_minor": 2
}
