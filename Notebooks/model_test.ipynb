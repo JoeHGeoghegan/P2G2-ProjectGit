{
 "cells": [
  {
   "cell_type": "code",
   "execution_count": 1,
   "metadata": {},
   "outputs": [
    {
     "name": "stderr",
     "output_type": "stream",
     "text": [
      "[nltk_data] Downloading package vader_lexicon to\n",
      "[nltk_data]     C:\\Users\\altma\\AppData\\Roaming\\nltk_data...\n",
      "[nltk_data]   Package vader_lexicon is already up-to-date!\n"
     ]
    }
   ],
   "source": [
    "# Initial imports\n",
    "import numpy as np\n",
    "import pandas as pd\n",
    "from pathlib import Path\n",
    "%matplotlib inline\n",
    "from numpy.random import seed\n",
    "seed(1)\n",
    "from tensorflow import random\n",
    "random.set_seed(2)\n",
    "from libs.drew_lib import *\n",
    "from sklearn.preprocessing import MinMaxScaler\n",
    "from tensorflow.keras.models import Sequential\n",
    "from tensorflow.keras.layers import LSTM, Dense, Dropout"
   ]
  },
  {
   "cell_type": "code",
   "execution_count": 9,
   "metadata": {},
   "outputs": [],
   "source": [
    "asset_dataframe_list = []\n",
    "for asset in keywords:\n",
    "\n",
    "    asset_dataframe = pd.read_csv(f'./Data/Cleaned_Data/test/{asset}.csv', parse_dates = True, infer_datetime_format = True)\n",
    "    asset_dataframe = asset_dataframe.set_index('Unnamed: 0')\n",
    "    asset_dataframe.index.name = None\n",
    "    cols = ['stockmarket_positive_sentiment',\n",
    "        'stockmarket_negative_sentiment',\n",
    "        'stockmarket_neutral_sentiment',\t\n",
    "        'stockmarket_compound_sentiment',\n",
    "        'volume',\n",
    "        'close'\n",
    "    ]\n",
    "    asset_dataframe = asset_dataframe[cols]\n",
    "    asset_dataframe.rename(columns={\n",
    "        'stockmarket_compound_sentiment':'r/stockmarket_compound',\n",
    "        'stockmarket_positive_sentiment':'r/stockmarket_pos',\n",
    "        'stockmarket_neutral_sentiment':'r/stockmarket_neu',\n",
    "        'stockmarket_negative_sentiment':'r/stockmarket_neg'\n",
    "    },inplace=True)\n",
    "\n",
    "    asset_dataframe_list.append(asset_dataframe)"
   ]
  },
  {
   "cell_type": "code",
   "execution_count": 12,
   "metadata": {},
   "outputs": [],
   "source": [
    "asset_sec_list = []\n",
    "for asset in keywords:\n",
    "\n",
    "    asset_dataframe = pd.read_csv(f'./Data/Cleaned_Data/SEC_sentiment_and_stocks/{asset}.csv', parse_dates = True, infer_datetime_format = True)\n",
    "    asset_dataframe = asset_dataframe.set_index('date')\n",
    "    asset_dataframe.index.name = None\n",
    "    asset_dataframe.drop(asset_dataframe.columns[-3:],axis=1,inplace=True)\n",
    "    asset_dataframe.rename(columns={\n",
    "        'pos':'sec_pos',\n",
    "        'neg':'sec_neg',\n",
    "        'neu':'sec_neu',\n",
    "        'compound':'sec_compund'\n",
    "    },inplace=True)\n",
    "\n",
    "    asset_sec_list.append(asset_dataframe)"
   ]
  },
  {
   "cell_type": "code",
   "execution_count": 16,
   "metadata": {},
   "outputs": [],
   "source": [
    "NFLX = pd.concat([asset_sec_list[0],asset_dataframe_list[0]],axis=1,join='outer')\n",
    "FB = pd.concat([asset_sec_list[1],asset_dataframe_list[1]],axis=1,join='outer')\n",
    "UBER = pd.concat([asset_sec_list[2],asset_dataframe_list[2]],axis=1,join='outer')\n",
    "MCHP = pd.concat([asset_sec_list[3],asset_dataframe_list[3]],axis=1,join='outer')\n",
    "ABNB = pd.concat([asset_sec_list[4],asset_dataframe_list[4]],axis=1,join='outer')\n",
    "FANG = pd.concat([asset_sec_list[5],asset_dataframe_list[5]],axis=1,join='outer')\n",
    "MRO = pd.concat([asset_sec_list[6],asset_dataframe_list[6]],axis=1,join='outer')\n",
    "DVN = pd.concat([asset_sec_list[7],asset_dataframe_list[7]],axis=1,join='outer')\n",
    "SPWR = pd.concat([asset_sec_list[8],asset_dataframe_list[8]],axis=1,join='outer')\n",
    "REGI = pd.concat([asset_sec_list[9],asset_dataframe_list[9]],axis=1,join='outer')\n",
    "MTRX = pd.concat([asset_sec_list[10],asset_dataframe_list[10]],axis=1,join='outer')\n",
    "BLK = pd.concat([asset_sec_list[11],asset_dataframe_list[11]],axis=1,join='outer')\n",
    "PYPL = pd.concat([asset_sec_list[12],asset_dataframe_list[12]],axis=1,join='outer')\n",
    "MELI = pd.concat([asset_sec_list[13],asset_dataframe_list[13]],axis=1,join='outer')\n",
    "SOFI = pd.concat([asset_sec_list[14],asset_dataframe_list[14]],axis=1,join='outer')"
   ]
  },
  {
   "cell_type": "code",
   "execution_count": 24,
   "metadata": {},
   "outputs": [],
   "source": [
    "def fill_and_bin(df):\n",
    "    df = return_bin(df)\n",
    "    df['return_bin'] = df['return_bin'].fillna('no gain/loss')\n",
    "    df['returns'] = df['returns'].fillna(0)\n",
    "    df[['r/stockmarket_compound','r/stockmarket_pos','r/stockmarket_neu','r/stockmarket_neg','close']] = df[['r/stockmarket_compound','r/stockmarket_pos','r/stockmarket_neu','r/stockmarket_neg','close']].fillna(method='ffill')\n",
    "    df['volume'] = df['volume'].fillna(df['volume'].mean())\n",
    "    return df"
   ]
  },
  {
   "cell_type": "code",
   "execution_count": null,
   "metadata": {},
   "outputs": [],
   "source": [
    "ticker_df_list = [NFLX,FB,UBER,MCHP,ABNB,FANG,MRO, DVN, SPWR,REGI,MTRX,BLK, PYPL,MELI,SOFI]\n",
    "[fill_and_bin(df) for df in ticker_df_list]"
   ]
  },
  {
   "cell_type": "code",
   "execution_count": null,
   "metadata": {},
   "outputs": [],
   "source": []
  }
 ],
 "metadata": {
  "interpreter": {
   "hash": "f688966fe16c5b1d1f8096f0874425497eb397fd30a583fa64973664e1f67766"
  },
  "kernelspec": {
   "display_name": "Python 3.9.7 ('base')",
   "language": "python",
   "name": "python3"
  },
  "language_info": {
   "codemirror_mode": {
    "name": "ipython",
    "version": 3
   },
   "file_extension": ".py",
   "mimetype": "text/x-python",
   "name": "python",
   "nbconvert_exporter": "python",
   "pygments_lexer": "ipython3",
   "version": "3.9.7"
  },
  "orig_nbformat": 4
 },
 "nbformat": 4,
 "nbformat_minor": 2
}
