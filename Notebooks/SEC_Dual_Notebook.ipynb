{
 "cells": [
  {
   "cell_type": "code",
   "execution_count": 18,
   "metadata": {},
   "outputs": [
    {
     "data": {
      "text/plain": [
       "True"
      ]
     },
     "execution_count": 18,
     "metadata": {},
     "output_type": "execute_result"
    }
   ],
   "source": [
    "# Imports\n",
    "import os\n",
    "import pandas as pd\n",
    "from dotenv import load_dotenv\n",
    "load_dotenv()"
   ]
  },
  {
   "cell_type": "markdown",
   "metadata": {},
   "source": [
    "# Creating/Cleaning Text DF"
   ]
  },
  {
   "cell_type": "code",
   "execution_count": 19,
   "metadata": {},
   "outputs": [],
   "source": [
    "from sec_api import QueryApi\n",
    "queryApi = QueryApi(api_key=\"43d18e4ffedde4ca940e46ce210780daa0b7de17674abb369b5a8ef9fb3b69a1\")"
   ]
  },
  {
   "cell_type": "code",
   "execution_count": 20,
   "metadata": {},
   "outputs": [],
   "source": [
    "ticker_list = pd.read_csv(\"./Data/Cleaned_Data/Ticker_library.csv\")[\"Ticker\"].to_list()"
   ]
  },
  {
   "cell_type": "code",
   "execution_count": 21,
   "metadata": {},
   "outputs": [],
   "source": [
    "def SEC_query(ticker_list,filingType):\n",
    "    file_dict = {}\n",
    "    for ticker in ticker_list:\n",
    "        query = {\n",
    "            \"query\": { \"query_string\": { \n",
    "                \"query\": f\"ticker:{ticker} AND filedAt:\"+\"{2012-06-01 TO 2022-06-01} AND formType:\\\"\"+f\"{filingType}\\\"\" \n",
    "            } },\n",
    "            \"from\": \"0\",\n",
    "            \"size\": \"60\",\n",
    "            \"sort\": [{ \"filedAt\": { \"order\": \"desc\" } }]\n",
    "        }\n",
    "        filings = queryApi.get_filings(query)\n",
    "        file_dict[ticker] = pd.json_normalize(filings, record_path =['filings'])\n",
    "    return file_dict"
   ]
  },
  {
   "cell_type": "code",
   "execution_count": 22,
   "metadata": {},
   "outputs": [],
   "source": [
    "file_10q_df = SEC_query(ticker_list,'10-Q')\n",
    "file_10k_df = SEC_query(ticker_list,'10-K')"
   ]
  },
  {
   "cell_type": "code",
   "execution_count": 23,
   "metadata": {},
   "outputs": [],
   "source": [
    "url_data = {\n",
    "    \"ticker\":[],\n",
    "    \"periodOfReport\":[],\n",
    "    \"linkToFilingDetails\":[],\n",
    "    \"formType\":[],\n",
    "    \"cik\":[]\n",
    "    }\n",
    "def url_clean(file_10q_df,url_data):\n",
    "    for ticker in ticker_list:\n",
    "        url_data[\"ticker\"].extend(file_10q_df[ticker][\"ticker\"].to_list())\n",
    "        url_data[\"periodOfReport\"].extend(file_10q_df[ticker][\"periodOfReport\"].to_list())\n",
    "        url_data[\"linkToFilingDetails\"].extend(file_10q_df[ticker][\"linkToFilingDetails\"].to_list())\n",
    "        url_data[\"formType\"].extend(file_10q_df[ticker][\"formType\"].to_list())\n",
    "        url_data[\"cik\"].extend(file_10q_df[ticker][\"cik\"].to_list())\n",
    "url_clean(file_10q_df,url_data)\n",
    "url_clean(file_10k_df,url_data)\n",
    "\n",
    "url_df = pd.DataFrame(url_data)"
   ]
  },
  {
   "cell_type": "code",
   "execution_count": 24,
   "metadata": {},
   "outputs": [],
   "source": [
    "# url_df.to_csv('.\\Data\\Cleaned_Data\\sec_url_df.csv')"
   ]
  },
  {
   "cell_type": "code",
   "execution_count": 25,
   "metadata": {},
   "outputs": [],
   "source": [
    "from sec_api import ExtractorApi\n",
    "sec_api = os.getenv(\"sec_api_key\")\n",
    "extractorApi = ExtractorApi(\"43d18e4ffedde4ca940e46ce210780daa0b7de17674abb369b5a8ef9fb3b69a1\")"
   ]
  },
  {
   "cell_type": "code",
   "execution_count": 26,
   "metadata": {},
   "outputs": [],
   "source": [
    "def sec_text_pull(url,filingtype):\n",
    "    url = str(url)\n",
    "    data = {}\n",
    "    if (filingtype == \"10-Q\"):\n",
    "        data['Business']=pd.NA\n",
    "        data['Risk Factors']=extractorApi.get_section(url, \"part2item1A\", \"text\")\n",
    "        data['Management’s Discussion and Analysis of Financial Condition and Results of Operations']=extractorApi.get_section(url, \"part1item2\", \"text\")\n",
    "    else:\n",
    "        data['Business']=extractorApi.get_section(url, \"1\", \"text\")\n",
    "        data['Risk Factors']=extractorApi.get_section(url, \"1A\", \"text\")\n",
    "        data['Management’s Discussion and Analysis of Financial Condition and Results of Operations']=extractorApi.get_section(url, \"7\", \"text\")\n",
    "    return data"
   ]
  },
  {
   "cell_type": "code",
   "execution_count": 27,
   "metadata": {},
   "outputs": [],
   "source": [
    "def pull_sec_from_df(df:pd.DataFrame):\n",
    "    data = {\n",
    "        \"Business\":[],\n",
    "        \"Risk Factors\":[],\n",
    "        'Management’s Discussion and Analysis of Financial Condition and Results of Operations':[]\n",
    "    }\n",
    "\n",
    "    for rowNumber in range(len(df.index)):\n",
    "        pull = sec_text_pull(df['linkToFilingDetails'].loc[rowNumber],df['formType'].loc[rowNumber])\n",
    "        data['Business'].append(pull['Business'])\n",
    "        data['Risk Factors'].append(pull['Risk Factors'])\n",
    "        data['Management’s Discussion and Analysis of Financial Condition and Results of Operations'].append(\n",
    "            pull['Management’s Discussion and Analysis of Financial Condition and Results of Operations'])\n",
    "    return pd.DataFrame(data)"
   ]
  },
  {
   "cell_type": "markdown",
   "metadata": {},
   "source": [
    "# Further Data Cleaning and Saving"
   ]
  },
  {
   "cell_type": "code",
   "execution_count": 28,
   "metadata": {},
   "outputs": [],
   "source": [
    "# sec_text = pull_sec_from_df(url_df)\n",
    "# sec_text.to_csv('.\\Data\\Cleaned_Data\\sec_text_pulls.csv')\n",
    "sec_text = pd.read_csv('.\\Data\\Cleaned_Data\\sec_text_pulls.csv',index_col=0)"
   ]
  },
  {
   "cell_type": "code",
   "execution_count": 29,
   "metadata": {},
   "outputs": [
    {
     "ename": "KeyError",
     "evalue": "'Business'",
     "output_type": "error",
     "traceback": [
      "\u001b[1;31m---------------------------------------------------------------------------\u001b[0m",
      "\u001b[1;31mKeyError\u001b[0m                                  Traceback (most recent call last)",
      "\u001b[1;32mc:\\Users\\jhg55\\anaconda3\\envs\\dev\\lib\\site-packages\\pandas\\core\\indexes\\base.py\u001b[0m in \u001b[0;36mget_loc\u001b[1;34m(self, key, method, tolerance)\u001b[0m\n\u001b[0;32m   3360\u001b[0m             \u001b[1;32mtry\u001b[0m\u001b[1;33m:\u001b[0m\u001b[1;33m\u001b[0m\u001b[1;33m\u001b[0m\u001b[0m\n\u001b[1;32m-> 3361\u001b[1;33m                 \u001b[1;32mreturn\u001b[0m \u001b[0mself\u001b[0m\u001b[1;33m.\u001b[0m\u001b[0m_engine\u001b[0m\u001b[1;33m.\u001b[0m\u001b[0mget_loc\u001b[0m\u001b[1;33m(\u001b[0m\u001b[0mcasted_key\u001b[0m\u001b[1;33m)\u001b[0m\u001b[1;33m\u001b[0m\u001b[1;33m\u001b[0m\u001b[0m\n\u001b[0m\u001b[0;32m   3362\u001b[0m             \u001b[1;32mexcept\u001b[0m \u001b[0mKeyError\u001b[0m \u001b[1;32mas\u001b[0m \u001b[0merr\u001b[0m\u001b[1;33m:\u001b[0m\u001b[1;33m\u001b[0m\u001b[1;33m\u001b[0m\u001b[0m\n",
      "\u001b[1;32mc:\\Users\\jhg55\\anaconda3\\envs\\dev\\lib\\site-packages\\pandas\\_libs\\index.pyx\u001b[0m in \u001b[0;36mpandas._libs.index.IndexEngine.get_loc\u001b[1;34m()\u001b[0m\n",
      "\u001b[1;32mc:\\Users\\jhg55\\anaconda3\\envs\\dev\\lib\\site-packages\\pandas\\_libs\\index.pyx\u001b[0m in \u001b[0;36mpandas._libs.index.IndexEngine.get_loc\u001b[1;34m()\u001b[0m\n",
      "\u001b[1;32mc:\\Users\\jhg55\\anaconda3\\envs\\dev\\lib\\site-packages\\pandas\\_libs\\index.pyx\u001b[0m in \u001b[0;36mpandas._libs.index.IndexEngine._get_loc_duplicates\u001b[1;34m()\u001b[0m\n",
      "\u001b[1;32mc:\\Users\\jhg55\\anaconda3\\envs\\dev\\lib\\site-packages\\pandas\\_libs\\index.pyx\u001b[0m in \u001b[0;36mpandas._libs.index.IndexEngine._maybe_get_bool_indexer\u001b[1;34m()\u001b[0m\n",
      "\u001b[1;32mc:\\Users\\jhg55\\anaconda3\\envs\\dev\\lib\\site-packages\\pandas\\_libs\\index.pyx\u001b[0m in \u001b[0;36mpandas._libs.index.IndexEngine._unpack_bool_indexer\u001b[1;34m()\u001b[0m\n",
      "\u001b[1;31mKeyError\u001b[0m: 'Business'",
      "\nThe above exception was the direct cause of the following exception:\n",
      "\u001b[1;31mKeyError\u001b[0m                                  Traceback (most recent call last)",
      "\u001b[1;32m~\\AppData\\Local\\Temp/ipykernel_11868/2950463082.py\u001b[0m in \u001b[0;36m<module>\u001b[1;34m\u001b[0m\n\u001b[0;32m      1\u001b[0m \u001b[0msec_text_df\u001b[0m \u001b[1;33m=\u001b[0m \u001b[0mpd\u001b[0m\u001b[1;33m.\u001b[0m\u001b[0mconcat\u001b[0m\u001b[1;33m(\u001b[0m\u001b[1;33m[\u001b[0m\u001b[0murl_df\u001b[0m\u001b[1;33m,\u001b[0m\u001b[0msec_text\u001b[0m\u001b[1;33m]\u001b[0m\u001b[1;33m,\u001b[0m\u001b[0maxis\u001b[0m\u001b[1;33m=\u001b[0m\u001b[1;36m1\u001b[0m\u001b[1;33m)\u001b[0m \u001b[1;31m# Contains undefined text sections\u001b[0m\u001b[1;33m\u001b[0m\u001b[1;33m\u001b[0m\u001b[0m\n\u001b[0;32m      2\u001b[0m \u001b[1;31m# If Buisness is undefined. Filing does not contain ANY text that is useful, remove\u001b[0m\u001b[1;33m\u001b[0m\u001b[1;33m\u001b[0m\u001b[1;33m\u001b[0m\u001b[0m\n\u001b[1;32m----> 3\u001b[1;33m \u001b[0msec_text_df\u001b[0m\u001b[1;33m=\u001b[0m\u001b[0msec_text_df\u001b[0m\u001b[1;33m[\u001b[0m\u001b[0msec_text_df\u001b[0m\u001b[1;33m[\u001b[0m\u001b[1;34m'Business'\u001b[0m\u001b[1;33m]\u001b[0m\u001b[1;33m!=\u001b[0m\u001b[1;34m'undefined'\u001b[0m\u001b[1;33m]\u001b[0m\u001b[1;33m\u001b[0m\u001b[1;33m\u001b[0m\u001b[0m\n\u001b[0m",
      "\u001b[1;32mc:\\Users\\jhg55\\anaconda3\\envs\\dev\\lib\\site-packages\\pandas\\core\\frame.py\u001b[0m in \u001b[0;36m__getitem__\u001b[1;34m(self, key)\u001b[0m\n\u001b[0;32m   3456\u001b[0m             \u001b[1;32mif\u001b[0m \u001b[0mself\u001b[0m\u001b[1;33m.\u001b[0m\u001b[0mcolumns\u001b[0m\u001b[1;33m.\u001b[0m\u001b[0mnlevels\u001b[0m \u001b[1;33m>\u001b[0m \u001b[1;36m1\u001b[0m\u001b[1;33m:\u001b[0m\u001b[1;33m\u001b[0m\u001b[1;33m\u001b[0m\u001b[0m\n\u001b[0;32m   3457\u001b[0m                 \u001b[1;32mreturn\u001b[0m \u001b[0mself\u001b[0m\u001b[1;33m.\u001b[0m\u001b[0m_getitem_multilevel\u001b[0m\u001b[1;33m(\u001b[0m\u001b[0mkey\u001b[0m\u001b[1;33m)\u001b[0m\u001b[1;33m\u001b[0m\u001b[1;33m\u001b[0m\u001b[0m\n\u001b[1;32m-> 3458\u001b[1;33m             \u001b[0mindexer\u001b[0m \u001b[1;33m=\u001b[0m \u001b[0mself\u001b[0m\u001b[1;33m.\u001b[0m\u001b[0mcolumns\u001b[0m\u001b[1;33m.\u001b[0m\u001b[0mget_loc\u001b[0m\u001b[1;33m(\u001b[0m\u001b[0mkey\u001b[0m\u001b[1;33m)\u001b[0m\u001b[1;33m\u001b[0m\u001b[1;33m\u001b[0m\u001b[0m\n\u001b[0m\u001b[0;32m   3459\u001b[0m             \u001b[1;32mif\u001b[0m \u001b[0mis_integer\u001b[0m\u001b[1;33m(\u001b[0m\u001b[0mindexer\u001b[0m\u001b[1;33m)\u001b[0m\u001b[1;33m:\u001b[0m\u001b[1;33m\u001b[0m\u001b[1;33m\u001b[0m\u001b[0m\n\u001b[0;32m   3460\u001b[0m                 \u001b[0mindexer\u001b[0m \u001b[1;33m=\u001b[0m \u001b[1;33m[\u001b[0m\u001b[0mindexer\u001b[0m\u001b[1;33m]\u001b[0m\u001b[1;33m\u001b[0m\u001b[1;33m\u001b[0m\u001b[0m\n",
      "\u001b[1;32mc:\\Users\\jhg55\\anaconda3\\envs\\dev\\lib\\site-packages\\pandas\\core\\indexes\\base.py\u001b[0m in \u001b[0;36mget_loc\u001b[1;34m(self, key, method, tolerance)\u001b[0m\n\u001b[0;32m   3361\u001b[0m                 \u001b[1;32mreturn\u001b[0m \u001b[0mself\u001b[0m\u001b[1;33m.\u001b[0m\u001b[0m_engine\u001b[0m\u001b[1;33m.\u001b[0m\u001b[0mget_loc\u001b[0m\u001b[1;33m(\u001b[0m\u001b[0mcasted_key\u001b[0m\u001b[1;33m)\u001b[0m\u001b[1;33m\u001b[0m\u001b[1;33m\u001b[0m\u001b[0m\n\u001b[0;32m   3362\u001b[0m             \u001b[1;32mexcept\u001b[0m \u001b[0mKeyError\u001b[0m \u001b[1;32mas\u001b[0m \u001b[0merr\u001b[0m\u001b[1;33m:\u001b[0m\u001b[1;33m\u001b[0m\u001b[1;33m\u001b[0m\u001b[0m\n\u001b[1;32m-> 3363\u001b[1;33m                 \u001b[1;32mraise\u001b[0m \u001b[0mKeyError\u001b[0m\u001b[1;33m(\u001b[0m\u001b[0mkey\u001b[0m\u001b[1;33m)\u001b[0m \u001b[1;32mfrom\u001b[0m \u001b[0merr\u001b[0m\u001b[1;33m\u001b[0m\u001b[1;33m\u001b[0m\u001b[0m\n\u001b[0m\u001b[0;32m   3364\u001b[0m \u001b[1;33m\u001b[0m\u001b[0m\n\u001b[0;32m   3365\u001b[0m         \u001b[1;32mif\u001b[0m \u001b[0mis_scalar\u001b[0m\u001b[1;33m(\u001b[0m\u001b[0mkey\u001b[0m\u001b[1;33m)\u001b[0m \u001b[1;32mand\u001b[0m \u001b[0misna\u001b[0m\u001b[1;33m(\u001b[0m\u001b[0mkey\u001b[0m\u001b[1;33m)\u001b[0m \u001b[1;32mand\u001b[0m \u001b[1;32mnot\u001b[0m \u001b[0mself\u001b[0m\u001b[1;33m.\u001b[0m\u001b[0mhasnans\u001b[0m\u001b[1;33m:\u001b[0m\u001b[1;33m\u001b[0m\u001b[1;33m\u001b[0m\u001b[0m\n",
      "\u001b[1;31mKeyError\u001b[0m: 'Business'"
     ]
    }
   ],
   "source": [
    "sec_text_df = pd.concat([url_df,sec_text],axis=1) # Contains undefined text sections\n",
    "# If Buisness is undefined. Filing does not contain ANY text that is useful, remove\n",
    "sec_text_df=sec_text_df[sec_text_df['Business']!='undefined']"
   ]
  },
  {
   "cell_type": "code",
   "execution_count": null,
   "metadata": {},
   "outputs": [],
   "source": [
    "def create_sec_text_df(ticker_list):\n",
    "    file_10q_df = SEC_query(ticker_list,'10-Q')\n",
    "    file_10k_df = SEC_query(ticker_list,'10-K')\n",
    "    url_data = {\n",
    "        \"ticker\":[],\n",
    "        \"periodOfReport\":[],\n",
    "        \"linkToFilingDetails\":[],\n",
    "        \"formType\":[],\n",
    "        \"cik\":[]\n",
    "    }\n",
    "    url_clean(file_10q_df,url_data)\n",
    "    url_clean(file_10k_df,url_data)\n",
    "\n",
    "    url_df = pd.DataFrame(url_data)\n",
    "\n",
    "    return pd.concat([url_df,pull_sec_from_df(url_df)])"
   ]
  },
  {
   "cell_type": "code",
   "execution_count": null,
   "metadata": {},
   "outputs": [
    {
     "data": {
      "text/html": [
       "<div>\n",
       "<style scoped>\n",
       "    .dataframe tbody tr th:only-of-type {\n",
       "        vertical-align: middle;\n",
       "    }\n",
       "\n",
       "    .dataframe tbody tr th {\n",
       "        vertical-align: top;\n",
       "    }\n",
       "\n",
       "    .dataframe thead th {\n",
       "        text-align: right;\n",
       "    }\n",
       "</style>\n",
       "<table border=\"1\" class=\"dataframe\">\n",
       "  <thead>\n",
       "    <tr style=\"text-align: right;\">\n",
       "      <th></th>\n",
       "      <th>ticker</th>\n",
       "      <th>periodOfReport</th>\n",
       "      <th>Business</th>\n",
       "      <th>Risk Factors</th>\n",
       "      <th>Management’s Discussion and Analysis of Financial Condition and Results of Operations</th>\n",
       "      <th>All Text</th>\n",
       "    </tr>\n",
       "  </thead>\n",
       "  <tbody>\n",
       "    <tr>\n",
       "      <th>0</th>\n",
       "      <td>NFLX</td>\n",
       "      <td>2022-03-31</td>\n",
       "      <td>NaN</td>\n",
       "      <td>undefined</td>\n",
       "      <td>Item 2. Management&amp;#8217;s Discussion and Ana...</td>\n",
       "      <td>undefined Item 2. Management&amp;#8217;s Discussio...</td>\n",
       "    </tr>\n",
       "    <tr>\n",
       "      <th>1</th>\n",
       "      <td>NFLX</td>\n",
       "      <td>2021-09-30</td>\n",
       "      <td>NaN</td>\n",
       "      <td>undefined</td>\n",
       "      <td>Item 2. Management&amp;#8217;s Discussion and Ana...</td>\n",
       "      <td>undefined Item 2. Management&amp;#8217;s Discussio...</td>\n",
       "    </tr>\n",
       "    <tr>\n",
       "      <th>2</th>\n",
       "      <td>NFLX</td>\n",
       "      <td>2021-06-30</td>\n",
       "      <td>NaN</td>\n",
       "      <td>undefined</td>\n",
       "      <td>Item 2. Management&amp;#8217;s Discussion and Ana...</td>\n",
       "      <td>undefined Item 2. Management&amp;#8217;s Discussio...</td>\n",
       "    </tr>\n",
       "    <tr>\n",
       "      <th>3</th>\n",
       "      <td>NFLX</td>\n",
       "      <td>2021-03-31</td>\n",
       "      <td>NaN</td>\n",
       "      <td>undefined</td>\n",
       "      <td>Item 2. Management&amp;#8217;s Discussion and Ana...</td>\n",
       "      <td>undefined Item 2. Management&amp;#8217;s Discussio...</td>\n",
       "    </tr>\n",
       "    <tr>\n",
       "      <th>4</th>\n",
       "      <td>NFLX</td>\n",
       "      <td>2020-09-30</td>\n",
       "      <td>NaN</td>\n",
       "      <td>undefined</td>\n",
       "      <td>Item 2. \\n\\nManagement&amp;#8217;s Discussion and...</td>\n",
       "      <td>undefined Item 2. \\n\\nManagement&amp;#8217;s Discu...</td>\n",
       "    </tr>\n",
       "  </tbody>\n",
       "</table>\n",
       "</div>"
      ],
      "text/plain": [
       "  ticker periodOfReport Business Risk Factors  \\\n",
       "0   NFLX     2022-03-31      NaN    undefined   \n",
       "1   NFLX     2021-09-30      NaN    undefined   \n",
       "2   NFLX     2021-06-30      NaN    undefined   \n",
       "3   NFLX     2021-03-31      NaN    undefined   \n",
       "4   NFLX     2020-09-30      NaN    undefined   \n",
       "\n",
       "  Management’s Discussion and Analysis of Financial Condition and Results of Operations  \\\n",
       "0   Item 2. Management&#8217;s Discussion and Ana...                                      \n",
       "1   Item 2. Management&#8217;s Discussion and Ana...                                      \n",
       "2   Item 2. Management&#8217;s Discussion and Ana...                                      \n",
       "3   Item 2. Management&#8217;s Discussion and Ana...                                      \n",
       "4   Item 2. \\n\\nManagement&#8217;s Discussion and...                                      \n",
       "\n",
       "                                            All Text  \n",
       "0  undefined Item 2. Management&#8217;s Discussio...  \n",
       "1  undefined Item 2. Management&#8217;s Discussio...  \n",
       "2  undefined Item 2. Management&#8217;s Discussio...  \n",
       "3  undefined Item 2. Management&#8217;s Discussio...  \n",
       "4  undefined Item 2. \\n\\nManagement&#8217;s Discu...  "
      ]
     },
     "execution_count": 71,
     "metadata": {},
     "output_type": "execute_result"
    }
   ],
   "source": [
    "# A quick way for others to grab the library for sentiment analysis\n",
    "import libs.sec as sec\n",
    "sec_model = sec.sec_model_df()\n",
    "sec_model.head()"
   ]
  },
  {
   "cell_type": "code",
   "execution_count": null,
   "metadata": {},
   "outputs": [],
   "source": [
    "thatLongColumnTitle = 'Management’s Discussion and Analysis of Financial Condition and Results of Operations'"
   ]
  },
  {
   "cell_type": "code",
   "execution_count": null,
   "metadata": {},
   "outputs": [
    {
     "data": {
      "text/plain": [
       "'https://www.sec.gov/Archives/edgar/data/867773/000086777313000020/spwr1230201210-ka.htm'"
      ]
     },
     "execution_count": 73,
     "metadata": {},
     "output_type": "execute_result"
    }
   ],
   "source": [
    "# Code analyzing undefined sections. After removing addendums where ALL sections are undefined the remaining undefined are not hurtful\n",
    "undefined_business = sec_text_df[sec_text_df['Risk Factors']=='undefined']\n",
    "undefined = undefined_business[undefined_business[thatLongColumnTitle]=='undefined']\n",
    "undefined['linkToFilingDetails'].iloc[0]"
   ]
  },
  {
   "cell_type": "code",
   "execution_count": null,
   "metadata": {},
   "outputs": [
    {
     "data": {
      "text/html": [
       "<div>\n",
       "<style scoped>\n",
       "    .dataframe tbody tr th:only-of-type {\n",
       "        vertical-align: middle;\n",
       "    }\n",
       "\n",
       "    .dataframe tbody tr th {\n",
       "        vertical-align: top;\n",
       "    }\n",
       "\n",
       "    .dataframe thead th {\n",
       "        text-align: right;\n",
       "    }\n",
       "</style>\n",
       "<table border=\"1\" class=\"dataframe\">\n",
       "  <thead>\n",
       "    <tr style=\"text-align: right;\">\n",
       "      <th></th>\n",
       "      <th>ticker</th>\n",
       "      <th>periodOfReport</th>\n",
       "      <th>linkToFilingDetails</th>\n",
       "      <th>formType</th>\n",
       "      <th>cik</th>\n",
       "      <th>Business</th>\n",
       "      <th>Risk Factors</th>\n",
       "      <th>Management’s Discussion and Analysis of Financial Condition and Results of Operations</th>\n",
       "    </tr>\n",
       "  </thead>\n",
       "  <tbody>\n",
       "    <tr>\n",
       "      <th>0</th>\n",
       "      <td>NFLX</td>\n",
       "      <td>2022-03-31</td>\n",
       "      <td>https://www.sec.gov/Archives/edgar/data/106528...</td>\n",
       "      <td>10-Q</td>\n",
       "      <td>1065280</td>\n",
       "      <td>NaN</td>\n",
       "      <td>undefined</td>\n",
       "      <td>Item 2. Management&amp;#8217;s Discussion and Ana...</td>\n",
       "    </tr>\n",
       "    <tr>\n",
       "      <th>1</th>\n",
       "      <td>NFLX</td>\n",
       "      <td>2021-09-30</td>\n",
       "      <td>https://www.sec.gov/Archives/edgar/data/106528...</td>\n",
       "      <td>10-Q</td>\n",
       "      <td>1065280</td>\n",
       "      <td>NaN</td>\n",
       "      <td>undefined</td>\n",
       "      <td>Item 2. Management&amp;#8217;s Discussion and Ana...</td>\n",
       "    </tr>\n",
       "    <tr>\n",
       "      <th>2</th>\n",
       "      <td>NFLX</td>\n",
       "      <td>2021-06-30</td>\n",
       "      <td>https://www.sec.gov/Archives/edgar/data/106528...</td>\n",
       "      <td>10-Q</td>\n",
       "      <td>1065280</td>\n",
       "      <td>NaN</td>\n",
       "      <td>undefined</td>\n",
       "      <td>Item 2. Management&amp;#8217;s Discussion and Ana...</td>\n",
       "    </tr>\n",
       "    <tr>\n",
       "      <th>3</th>\n",
       "      <td>NFLX</td>\n",
       "      <td>2021-03-31</td>\n",
       "      <td>https://www.sec.gov/Archives/edgar/data/106528...</td>\n",
       "      <td>10-Q</td>\n",
       "      <td>1065280</td>\n",
       "      <td>NaN</td>\n",
       "      <td>undefined</td>\n",
       "      <td>Item 2. Management&amp;#8217;s Discussion and Ana...</td>\n",
       "    </tr>\n",
       "    <tr>\n",
       "      <th>4</th>\n",
       "      <td>NFLX</td>\n",
       "      <td>2020-09-30</td>\n",
       "      <td>https://www.sec.gov/Archives/edgar/data/106528...</td>\n",
       "      <td>10-Q</td>\n",
       "      <td>1065280</td>\n",
       "      <td>NaN</td>\n",
       "      <td>undefined</td>\n",
       "      <td>Item 2. Management&amp;#8217;s Discussion and Ana...</td>\n",
       "    </tr>\n",
       "  </tbody>\n",
       "</table>\n",
       "</div>"
      ],
      "text/plain": [
       "  ticker periodOfReport                                linkToFilingDetails  \\\n",
       "0   NFLX     2022-03-31  https://www.sec.gov/Archives/edgar/data/106528...   \n",
       "1   NFLX     2021-09-30  https://www.sec.gov/Archives/edgar/data/106528...   \n",
       "2   NFLX     2021-06-30  https://www.sec.gov/Archives/edgar/data/106528...   \n",
       "3   NFLX     2021-03-31  https://www.sec.gov/Archives/edgar/data/106528...   \n",
       "4   NFLX     2020-09-30  https://www.sec.gov/Archives/edgar/data/106528...   \n",
       "\n",
       "  formType      cik Business Risk Factors  \\\n",
       "0     10-Q  1065280      NaN    undefined   \n",
       "1     10-Q  1065280      NaN    undefined   \n",
       "2     10-Q  1065280      NaN    undefined   \n",
       "3     10-Q  1065280      NaN    undefined   \n",
       "4     10-Q  1065280      NaN    undefined   \n",
       "\n",
       "  Management’s Discussion and Analysis of Financial Condition and Results of Operations  \n",
       "0   Item 2. Management&#8217;s Discussion and Ana...                                     \n",
       "1   Item 2. Management&#8217;s Discussion and Ana...                                     \n",
       "2   Item 2. Management&#8217;s Discussion and Ana...                                     \n",
       "3   Item 2. Management&#8217;s Discussion and Ana...                                     \n",
       "4   Item 2. Management&#8217;s Discussion and Ana...                                     "
      ]
     },
     "execution_count": 74,
     "metadata": {},
     "output_type": "execute_result"
    }
   ],
   "source": [
    "#removing special characters '\\n' and '\\t'\n",
    "def remove_specials(df:pd.DataFrame):\n",
    "    df = df.replace(r'\\r+|\\n+|\\t+','', regex=True)\n",
    "sec_text_df[\"Business\"].replace(r'\\r+|\\n+|\\t+','', regex=True,inplace=True)\n",
    "sec_text_df[\"Risk Factors\"].replace(r'\\r+|\\n+|\\t+','', regex=True,inplace=True)\n",
    "sec_text_df[thatLongColumnTitle].replace(r'\\r+|\\n+|\\t+','', regex=True,inplace=True)\n",
    "sec_text_df.head()"
   ]
  },
  {
   "cell_type": "code",
   "execution_count": null,
   "metadata": {},
   "outputs": [],
   "source": [
    "sec_text_df.to_csv('.\\Data\\Cleaned_Data\\sec_all_data.csv')"
   ]
  }
 ],
 "metadata": {
  "interpreter": {
   "hash": "60051db9b49e7622da472558d5c9910b644d729726c3e885e40a692d81c6b654"
  },
  "kernelspec": {
   "display_name": "Python 3.7.11 ('base')",
   "language": "python",
   "name": "python3"
  },
  "language_info": {
   "codemirror_mode": {
    "name": "ipython",
    "version": 3
   },
   "file_extension": ".py",
   "mimetype": "text/x-python",
   "name": "python",
   "nbconvert_exporter": "python",
   "pygments_lexer": "ipython3",
   "version": "3.7.11"
  },
  "orig_nbformat": 4
 },
 "nbformat": 4,
 "nbformat_minor": 2
}
