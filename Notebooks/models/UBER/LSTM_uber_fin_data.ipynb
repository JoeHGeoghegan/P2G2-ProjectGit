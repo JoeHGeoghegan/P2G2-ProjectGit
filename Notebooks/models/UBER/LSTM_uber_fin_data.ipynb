{
 "cells": [
  {
   "cell_type": "code",
   "execution_count": 55,
   "metadata": {},
   "outputs": [],
   "source": [
    "import numpy as np\n",
    "import pandas as pd\n",
    "\n",
    "%matplotlib inline"
   ]
  },
  {
   "cell_type": "markdown",
   "metadata": {},
   "source": [
    "LSTM model using uber SEC financial data plusing closing prices"
   ]
  },
  {
   "cell_type": "code",
   "execution_count": 56,
   "metadata": {},
   "outputs": [
    {
     "data": {
      "text/html": [
       "<div>\n",
       "<style scoped>\n",
       "    .dataframe tbody tr th:only-of-type {\n",
       "        vertical-align: middle;\n",
       "    }\n",
       "\n",
       "    .dataframe tbody tr th {\n",
       "        vertical-align: top;\n",
       "    }\n",
       "\n",
       "    .dataframe thead th {\n",
       "        text-align: right;\n",
       "    }\n",
       "</style>\n",
       "<table border=\"1\" class=\"dataframe\">\n",
       "  <thead>\n",
       "    <tr style=\"text-align: right;\">\n",
       "      <th></th>\n",
       "      <th>Revenues</th>\n",
       "      <th>CostOfGoodsAndServiceExcludingDepreciationDepletionAndAmortization</th>\n",
       "      <th>OperationsAndSupportExpense</th>\n",
       "      <th>SellingAndMarketingExpense</th>\n",
       "      <th>ResearchAndDevelopmentExpense</th>\n",
       "      <th>GeneralAndAdministrativeExpense</th>\n",
       "      <th>DepreciationDepletionAndAmortization</th>\n",
       "      <th>CostsAndExpenses</th>\n",
       "      <th>OperatingIncomeLoss</th>\n",
       "      <th>InterestExpense</th>\n",
       "      <th>...</th>\n",
       "      <th>Unnamed: 16</th>\n",
       "      <th>NetIncomeLoss</th>\n",
       "      <th>EarningsPerShareBasic</th>\n",
       "      <th>EarningsPerShareDiluted</th>\n",
       "      <th>WeightedAverageNumberOfSharesOutstandingBasic</th>\n",
       "      <th>WeightedAverageNumberOfDilutedSharesOutstanding</th>\n",
       "      <th>NetIncomeLossAttributableToRedeemableNoncontrollingInterest</th>\n",
       "      <th>ticker</th>\n",
       "      <th>close</th>\n",
       "      <th>volume</th>\n",
       "    </tr>\n",
       "    <tr>\n",
       "      <th>date</th>\n",
       "      <th></th>\n",
       "      <th></th>\n",
       "      <th></th>\n",
       "      <th></th>\n",
       "      <th></th>\n",
       "      <th></th>\n",
       "      <th></th>\n",
       "      <th></th>\n",
       "      <th></th>\n",
       "      <th></th>\n",
       "      <th></th>\n",
       "      <th></th>\n",
       "      <th></th>\n",
       "      <th></th>\n",
       "      <th></th>\n",
       "      <th></th>\n",
       "      <th></th>\n",
       "      <th></th>\n",
       "      <th></th>\n",
       "      <th></th>\n",
       "      <th></th>\n",
       "    </tr>\n",
       "  </thead>\n",
       "  <tbody>\n",
       "    <tr>\n",
       "      <th>2019-05-10</th>\n",
       "      <td>3.099000e+09</td>\n",
       "      <td>1.681000e+09</td>\n",
       "      <td>434000000.0</td>\n",
       "      <td>1.040000e+09</td>\n",
       "      <td>409000000.0</td>\n",
       "      <td>423000000.0</td>\n",
       "      <td>146000000.0</td>\n",
       "      <td>4.133000e+09</td>\n",
       "      <td>-1.034000e+09</td>\n",
       "      <td>217000000.0</td>\n",
       "      <td>...</td>\n",
       "      <td>-4000000.0</td>\n",
       "      <td>-1.012000e+09</td>\n",
       "      <td>-2.23</td>\n",
       "      <td>-2.26</td>\n",
       "      <td>453543000.0</td>\n",
       "      <td>453619000.0</td>\n",
       "      <td>0.0</td>\n",
       "      <td>UBER</td>\n",
       "      <td>41.57</td>\n",
       "      <td>189836990.0</td>\n",
       "    </tr>\n",
       "    <tr>\n",
       "      <th>2019-05-13</th>\n",
       "      <td>3.099000e+09</td>\n",
       "      <td>1.681000e+09</td>\n",
       "      <td>434000000.0</td>\n",
       "      <td>1.040000e+09</td>\n",
       "      <td>409000000.0</td>\n",
       "      <td>423000000.0</td>\n",
       "      <td>146000000.0</td>\n",
       "      <td>4.133000e+09</td>\n",
       "      <td>-1.034000e+09</td>\n",
       "      <td>217000000.0</td>\n",
       "      <td>...</td>\n",
       "      <td>-4000000.0</td>\n",
       "      <td>-1.012000e+09</td>\n",
       "      <td>-2.23</td>\n",
       "      <td>-2.26</td>\n",
       "      <td>453543000.0</td>\n",
       "      <td>453619000.0</td>\n",
       "      <td>0.0</td>\n",
       "      <td>UBER</td>\n",
       "      <td>37.10</td>\n",
       "      <td>79478203.0</td>\n",
       "    </tr>\n",
       "    <tr>\n",
       "      <th>2019-05-14</th>\n",
       "      <td>3.099000e+09</td>\n",
       "      <td>1.681000e+09</td>\n",
       "      <td>434000000.0</td>\n",
       "      <td>1.040000e+09</td>\n",
       "      <td>409000000.0</td>\n",
       "      <td>423000000.0</td>\n",
       "      <td>146000000.0</td>\n",
       "      <td>4.133000e+09</td>\n",
       "      <td>-1.034000e+09</td>\n",
       "      <td>217000000.0</td>\n",
       "      <td>...</td>\n",
       "      <td>-4000000.0</td>\n",
       "      <td>-1.012000e+09</td>\n",
       "      <td>-2.23</td>\n",
       "      <td>-2.26</td>\n",
       "      <td>453543000.0</td>\n",
       "      <td>453619000.0</td>\n",
       "      <td>0.0</td>\n",
       "      <td>UBER</td>\n",
       "      <td>39.96</td>\n",
       "      <td>46661187.0</td>\n",
       "    </tr>\n",
       "    <tr>\n",
       "      <th>2019-05-15</th>\n",
       "      <td>3.099000e+09</td>\n",
       "      <td>1.681000e+09</td>\n",
       "      <td>434000000.0</td>\n",
       "      <td>1.040000e+09</td>\n",
       "      <td>409000000.0</td>\n",
       "      <td>423000000.0</td>\n",
       "      <td>146000000.0</td>\n",
       "      <td>4.133000e+09</td>\n",
       "      <td>-1.034000e+09</td>\n",
       "      <td>217000000.0</td>\n",
       "      <td>...</td>\n",
       "      <td>-4000000.0</td>\n",
       "      <td>-1.012000e+09</td>\n",
       "      <td>-2.23</td>\n",
       "      <td>-2.26</td>\n",
       "      <td>453543000.0</td>\n",
       "      <td>453619000.0</td>\n",
       "      <td>0.0</td>\n",
       "      <td>UBER</td>\n",
       "      <td>41.29</td>\n",
       "      <td>36086872.0</td>\n",
       "    </tr>\n",
       "    <tr>\n",
       "      <th>2019-05-16</th>\n",
       "      <td>3.099000e+09</td>\n",
       "      <td>1.681000e+09</td>\n",
       "      <td>434000000.0</td>\n",
       "      <td>1.040000e+09</td>\n",
       "      <td>409000000.0</td>\n",
       "      <td>423000000.0</td>\n",
       "      <td>146000000.0</td>\n",
       "      <td>4.133000e+09</td>\n",
       "      <td>-1.034000e+09</td>\n",
       "      <td>217000000.0</td>\n",
       "      <td>...</td>\n",
       "      <td>-4000000.0</td>\n",
       "      <td>-1.012000e+09</td>\n",
       "      <td>-2.23</td>\n",
       "      <td>-2.26</td>\n",
       "      <td>453543000.0</td>\n",
       "      <td>453619000.0</td>\n",
       "      <td>0.0</td>\n",
       "      <td>UBER</td>\n",
       "      <td>43.00</td>\n",
       "      <td>38115524.0</td>\n",
       "    </tr>\n",
       "  </tbody>\n",
       "</table>\n",
       "<p>5 rows × 25 columns</p>\n",
       "</div>"
      ],
      "text/plain": [
       "                Revenues  \\\n",
       "date                       \n",
       "2019-05-10  3.099000e+09   \n",
       "2019-05-13  3.099000e+09   \n",
       "2019-05-14  3.099000e+09   \n",
       "2019-05-15  3.099000e+09   \n",
       "2019-05-16  3.099000e+09   \n",
       "\n",
       "            CostOfGoodsAndServiceExcludingDepreciationDepletionAndAmortization  \\\n",
       "date                                                                             \n",
       "2019-05-10                                       1.681000e+09                    \n",
       "2019-05-13                                       1.681000e+09                    \n",
       "2019-05-14                                       1.681000e+09                    \n",
       "2019-05-15                                       1.681000e+09                    \n",
       "2019-05-16                                       1.681000e+09                    \n",
       "\n",
       "            OperationsAndSupportExpense  SellingAndMarketingExpense  \\\n",
       "date                                                                  \n",
       "2019-05-10                  434000000.0                1.040000e+09   \n",
       "2019-05-13                  434000000.0                1.040000e+09   \n",
       "2019-05-14                  434000000.0                1.040000e+09   \n",
       "2019-05-15                  434000000.0                1.040000e+09   \n",
       "2019-05-16                  434000000.0                1.040000e+09   \n",
       "\n",
       "            ResearchAndDevelopmentExpense  GeneralAndAdministrativeExpense  \\\n",
       "date                                                                         \n",
       "2019-05-10                    409000000.0                      423000000.0   \n",
       "2019-05-13                    409000000.0                      423000000.0   \n",
       "2019-05-14                    409000000.0                      423000000.0   \n",
       "2019-05-15                    409000000.0                      423000000.0   \n",
       "2019-05-16                    409000000.0                      423000000.0   \n",
       "\n",
       "            DepreciationDepletionAndAmortization  CostsAndExpenses  \\\n",
       "date                                                                 \n",
       "2019-05-10                           146000000.0      4.133000e+09   \n",
       "2019-05-13                           146000000.0      4.133000e+09   \n",
       "2019-05-14                           146000000.0      4.133000e+09   \n",
       "2019-05-15                           146000000.0      4.133000e+09   \n",
       "2019-05-16                           146000000.0      4.133000e+09   \n",
       "\n",
       "            OperatingIncomeLoss  InterestExpense  ...  Unnamed: 16  \\\n",
       "date                                              ...                \n",
       "2019-05-10        -1.034000e+09      217000000.0  ...   -4000000.0   \n",
       "2019-05-13        -1.034000e+09      217000000.0  ...   -4000000.0   \n",
       "2019-05-14        -1.034000e+09      217000000.0  ...   -4000000.0   \n",
       "2019-05-15        -1.034000e+09      217000000.0  ...   -4000000.0   \n",
       "2019-05-16        -1.034000e+09      217000000.0  ...   -4000000.0   \n",
       "\n",
       "            NetIncomeLoss  EarningsPerShareBasic  EarningsPerShareDiluted  \\\n",
       "date                                                                        \n",
       "2019-05-10  -1.012000e+09                  -2.23                    -2.26   \n",
       "2019-05-13  -1.012000e+09                  -2.23                    -2.26   \n",
       "2019-05-14  -1.012000e+09                  -2.23                    -2.26   \n",
       "2019-05-15  -1.012000e+09                  -2.23                    -2.26   \n",
       "2019-05-16  -1.012000e+09                  -2.23                    -2.26   \n",
       "\n",
       "            WeightedAverageNumberOfSharesOutstandingBasic  \\\n",
       "date                                                        \n",
       "2019-05-10                                    453543000.0   \n",
       "2019-05-13                                    453543000.0   \n",
       "2019-05-14                                    453543000.0   \n",
       "2019-05-15                                    453543000.0   \n",
       "2019-05-16                                    453543000.0   \n",
       "\n",
       "            WeightedAverageNumberOfDilutedSharesOutstanding  \\\n",
       "date                                                          \n",
       "2019-05-10                                      453619000.0   \n",
       "2019-05-13                                      453619000.0   \n",
       "2019-05-14                                      453619000.0   \n",
       "2019-05-15                                      453619000.0   \n",
       "2019-05-16                                      453619000.0   \n",
       "\n",
       "            NetIncomeLossAttributableToRedeemableNoncontrollingInterest  \\\n",
       "date                                                                      \n",
       "2019-05-10                                                0.0             \n",
       "2019-05-13                                                0.0             \n",
       "2019-05-14                                                0.0             \n",
       "2019-05-15                                                0.0             \n",
       "2019-05-16                                                0.0             \n",
       "\n",
       "            ticker  close       volume  \n",
       "date                                    \n",
       "2019-05-10    UBER  41.57  189836990.0  \n",
       "2019-05-13    UBER  37.10   79478203.0  \n",
       "2019-05-14    UBER  39.96   46661187.0  \n",
       "2019-05-15    UBER  41.29   36086872.0  \n",
       "2019-05-16    UBER  43.00   38115524.0  \n",
       "\n",
       "[5 rows x 25 columns]"
      ]
     },
     "execution_count": 56,
     "metadata": {},
     "output_type": "execute_result"
    }
   ],
   "source": [
    "uber_sec = pd.read_csv('/Users/krist/OneDrive/Desktop/P2G2-ProjectGit/Notebooks/models/resources/UBER_copy.csv', index_col = 0)\n",
    "uber_sec.head()"
   ]
  },
  {
   "cell_type": "code",
   "execution_count": 57,
   "metadata": {},
   "outputs": [],
   "source": [
    "def window_data(df, window, feature_col_number, target_col_number):\n",
    "    X = []\n",
    "    y = []\n",
    "    for i in range(len(df) - window - 1):\n",
    "        features = df.iloc[i:(i + window), feature_col_number]\n",
    "        target = df.iloc[(i + window), target_col_number]\n",
    "        X.append(features)\n",
    "        y.append(target)\n",
    "    return np.array(X), np.array(y).reshape(-1, 1)"
   ]
  },
  {
   "cell_type": "code",
   "execution_count": 58,
   "metadata": {},
   "outputs": [],
   "source": [
    "#Setting the feature col to revenue and target col to closing prices\n",
    "X, y = window_data(uber_sec, window=30, feature_col_number=0, target_col_number=23)"
   ]
  },
  {
   "cell_type": "code",
   "execution_count": 59,
   "metadata": {},
   "outputs": [],
   "source": [
    "# Use 70% of the data for training and the remaineder for testing\n",
    "split = int(0.7 * len(X))\n",
    "X_train = X[: split]\n",
    "X_test = X[split:]\n",
    "y_train = y[: split]\n",
    "y_test = y[split:]"
   ]
  },
  {
   "cell_type": "code",
   "execution_count": 60,
   "metadata": {},
   "outputs": [],
   "source": [
    "from sklearn.preprocessing import MinMaxScaler\n",
    "# Use the MinMaxScaler to scale data between 0 and 1.\n",
    "# Create a MinMaxScaler object\n",
    "scaler = MinMaxScaler()\n",
    "\n",
    "# Fit the MinMaxScaler object with the features data X\n",
    "scaler.fit(X_train)\n",
    "\n",
    "# Scale the features training and testing sets\n",
    "X_train = scaler.transform(X_train)\n",
    "X_test = scaler.transform(X_test)\n",
    "\n",
    "# Fit the MinMaxScaler object with the target data Y\n",
    "scaler.fit(y_train)\n",
    "\n",
    "# Scale the target training and testing sets\n",
    "y_train = scaler.transform(y_train)\n",
    "y_test = scaler.transform(y_test)"
   ]
  },
  {
   "cell_type": "code",
   "execution_count": 61,
   "metadata": {},
   "outputs": [],
   "source": [
    "# Reshape the features for the model\n",
    "\n",
    "X_train = X_train.reshape((X_train.shape[0], X_train.shape[1], 1))\n",
    "X_test = X_test.reshape((X_test.shape[0], X_test.shape[1], 1))"
   ]
  },
  {
   "cell_type": "code",
   "execution_count": 62,
   "metadata": {},
   "outputs": [],
   "source": [
    "from tensorflow.keras.models import Sequential\n",
    "from tensorflow.keras.layers import LSTM, Dense, Dropout"
   ]
  },
  {
   "cell_type": "code",
   "execution_count": 63,
   "metadata": {},
   "outputs": [],
   "source": [
    "\n",
    "model = Sequential()\n",
    "\n",
    "number_units = 5\n",
    "dropout_fraction = 0.2\n",
    "\n",
    "#Layer 1\n",
    "model.add(LSTM(\n",
    "    units=number_units,\n",
    "    return_sequences=True,\n",
    "    input_shape=(X_train.shape[1], 1))\n",
    "    )\n",
    "model.add(Dropout(dropout_fraction))\n",
    "\n",
    "#Layer 2\n",
    "model.add(LSTM(units=number_units, return_sequences=True))\n",
    "model.add(Dropout(dropout_fraction))\n",
    "\n",
    "#Layer 3\n",
    "model.add(LSTM(units=number_units))\n",
    "model.add(Dropout(dropout_fraction))\n",
    "\n",
    "#Output Layer\n",
    "model.add(Dense(1))"
   ]
  },
  {
   "cell_type": "code",
   "execution_count": 64,
   "metadata": {},
   "outputs": [],
   "source": [
    "model.compile(optimizer='adam', loss = 'mean_squared_error')"
   ]
  },
  {
   "cell_type": "code",
   "execution_count": 65,
   "metadata": {},
   "outputs": [
    {
     "name": "stdout",
     "output_type": "stream",
     "text": [
      "Model: \"sequential_2\"\n",
      "_________________________________________________________________\n",
      " Layer (type)                Output Shape              Param #   \n",
      "=================================================================\n",
      " lstm_6 (LSTM)               (None, 30, 5)             140       \n",
      "                                                                 \n",
      " dropout_6 (Dropout)         (None, 30, 5)             0         \n",
      "                                                                 \n",
      " lstm_7 (LSTM)               (None, 30, 5)             220       \n",
      "                                                                 \n",
      " dropout_7 (Dropout)         (None, 30, 5)             0         \n",
      "                                                                 \n",
      " lstm_8 (LSTM)               (None, 5)                 220       \n",
      "                                                                 \n",
      " dropout_8 (Dropout)         (None, 5)                 0         \n",
      "                                                                 \n",
      " dense_2 (Dense)             (None, 1)                 6         \n",
      "                                                                 \n",
      "=================================================================\n",
      "Total params: 586\n",
      "Trainable params: 586\n",
      "Non-trainable params: 0\n",
      "_________________________________________________________________\n"
     ]
    }
   ],
   "source": [
    "model.summary()"
   ]
  },
  {
   "cell_type": "code",
   "execution_count": 66,
   "metadata": {},
   "outputs": [
    {
     "name": "stdout",
     "output_type": "stream",
     "text": [
      "Epoch 1/15\n",
      "519/519 [==============================] - 11s 14ms/step - loss: 0.0416\n",
      "Epoch 2/15\n",
      "519/519 [==============================] - 7s 13ms/step - loss: 0.0204\n",
      "Epoch 3/15\n",
      "519/519 [==============================] - 8s 16ms/step - loss: 0.0195\n",
      "Epoch 4/15\n",
      "519/519 [==============================] - 7s 13ms/step - loss: 0.0197\n",
      "Epoch 5/15\n",
      "519/519 [==============================] - 7s 14ms/step - loss: 0.0197\n",
      "Epoch 6/15\n",
      "519/519 [==============================] - 7s 13ms/step - loss: 0.0212\n",
      "Epoch 7/15\n",
      "519/519 [==============================] - 8s 15ms/step - loss: 0.0227\n",
      "Epoch 8/15\n",
      "519/519 [==============================] - 7s 13ms/step - loss: 0.0236\n",
      "Epoch 9/15\n",
      "519/519 [==============================] - 7s 14ms/step - loss: 0.0230\n",
      "Epoch 10/15\n",
      "519/519 [==============================] - 7s 14ms/step - loss: 0.0203\n",
      "Epoch 11/15\n",
      "519/519 [==============================] - 8s 15ms/step - loss: 0.0277\n",
      "Epoch 12/15\n",
      "519/519 [==============================] - 14s 28ms/step - loss: 0.0300\n",
      "Epoch 13/15\n",
      "519/519 [==============================] - 10s 18ms/step - loss: 0.0326\n",
      "Epoch 14/15\n",
      "519/519 [==============================] - 7s 14ms/step - loss: 0.0319\n",
      "Epoch 15/15\n",
      "519/519 [==============================] - 10s 19ms/step - loss: 0.0317\n"
     ]
    },
    {
     "data": {
      "text/plain": [
       "<keras.callbacks.History at 0x19b8ef05f70>"
      ]
     },
     "execution_count": 66,
     "metadata": {},
     "output_type": "execute_result"
    }
   ],
   "source": [
    "model.fit(X_train, y_train, epochs=15, shuffle=False, batch_size=1, verbose=1)"
   ]
  },
  {
   "cell_type": "code",
   "execution_count": 67,
   "metadata": {},
   "outputs": [
    {
     "name": "stdout",
     "output_type": "stream",
     "text": [
      "7/7 [==============================] - 1s 6ms/step - loss: 0.0452\n"
     ]
    },
    {
     "data": {
      "text/plain": [
       "0.045223698019981384"
      ]
     },
     "execution_count": 67,
     "metadata": {},
     "output_type": "execute_result"
    }
   ],
   "source": [
    "model.evaluate(X_test, y_test)"
   ]
  },
  {
   "cell_type": "code",
   "execution_count": 68,
   "metadata": {},
   "outputs": [
    {
     "name": "stdout",
     "output_type": "stream",
     "text": [
      "7/7 [==============================] - 1s 5ms/step\n"
     ]
    }
   ],
   "source": [
    "predict = model.predict(X_test)"
   ]
  },
  {
   "cell_type": "code",
   "execution_count": 69,
   "metadata": {},
   "outputs": [],
   "source": [
    "predicted_prices = scaler.inverse_transform(predict)\n",
    "real_prices = scaler.inverse_transform(y_test.reshape(-1, 1))"
   ]
  },
  {
   "cell_type": "code",
   "execution_count": 70,
   "metadata": {},
   "outputs": [
    {
     "data": {
      "text/html": [
       "<div>\n",
       "<style scoped>\n",
       "    .dataframe tbody tr th:only-of-type {\n",
       "        vertical-align: middle;\n",
       "    }\n",
       "\n",
       "    .dataframe tbody tr th {\n",
       "        vertical-align: top;\n",
       "    }\n",
       "\n",
       "    .dataframe thead th {\n",
       "        text-align: right;\n",
       "    }\n",
       "</style>\n",
       "<table border=\"1\" class=\"dataframe\">\n",
       "  <thead>\n",
       "    <tr style=\"text-align: right;\">\n",
       "      <th></th>\n",
       "      <th>actual</th>\n",
       "      <th>predicted</th>\n",
       "    </tr>\n",
       "    <tr>\n",
       "      <th>date</th>\n",
       "      <th></th>\n",
       "      <th></th>\n",
       "    </tr>\n",
       "  </thead>\n",
       "  <tbody>\n",
       "    <tr>\n",
       "      <th>2021-07-15</th>\n",
       "      <td>47.15</td>\n",
       "      <td>47.544701</td>\n",
       "    </tr>\n",
       "    <tr>\n",
       "      <th>2021-07-16</th>\n",
       "      <td>46.42</td>\n",
       "      <td>47.364044</td>\n",
       "    </tr>\n",
       "    <tr>\n",
       "      <th>2021-07-19</th>\n",
       "      <td>46.19</td>\n",
       "      <td>47.225029</td>\n",
       "    </tr>\n",
       "    <tr>\n",
       "      <th>2021-07-20</th>\n",
       "      <td>45.56</td>\n",
       "      <td>47.118908</td>\n",
       "    </tr>\n",
       "    <tr>\n",
       "      <th>2021-07-21</th>\n",
       "      <td>46.32</td>\n",
       "      <td>47.038052</td>\n",
       "    </tr>\n",
       "  </tbody>\n",
       "</table>\n",
       "</div>"
      ],
      "text/plain": [
       "            actual  predicted\n",
       "date                         \n",
       "2021-07-15   47.15  47.544701\n",
       "2021-07-16   46.42  47.364044\n",
       "2021-07-19   46.19  47.225029\n",
       "2021-07-20   45.56  47.118908\n",
       "2021-07-21   46.32  47.038052"
      ]
     },
     "execution_count": 70,
     "metadata": {},
     "output_type": "execute_result"
    }
   ],
   "source": [
    "# Create a DataFrame of Real and Predicted values\n",
    "stocks_rev = pd.DataFrame({\n",
    "    \"actual\": real_prices.ravel(),\n",
    "    \"predicted\": predicted_prices.ravel()\n",
    "}, index = uber_sec.index[-len(real_prices): ]) \n",
    "stocks_rev.head()"
   ]
  },
  {
   "cell_type": "code",
   "execution_count": 71,
   "metadata": {},
   "outputs": [
    {
     "data": {
      "text/plain": [
       "<AxesSubplot:xlabel='date'>"
      ]
     },
     "execution_count": 71,
     "metadata": {},
     "output_type": "execute_result"
    },
    {
     "data": {
      "image/png": "[encoded data removed]",
      "text/plain": [
       "<Figure size 432x288 with 1 Axes>"
      ]
     },
     "metadata": {
      "needs_background": "light"
     },
     "output_type": "display_data"
    }
   ],
   "source": [
    "stocks_rev.plot()"
   ]
  },
  {
   "cell_type": "code",
   "execution_count": 72,
   "metadata": {},
   "outputs": [
    {
     "data": {
      "text/html": [
       "<div>\n",
       "<style scoped>\n",
       "    .dataframe tbody tr th:only-of-type {\n",
       "        vertical-align: middle;\n",
       "    }\n",
       "\n",
       "    .dataframe tbody tr th {\n",
       "        vertical-align: top;\n",
       "    }\n",
       "\n",
       "    .dataframe thead th {\n",
       "        text-align: right;\n",
       "    }\n",
       "</style>\n",
       "<table border=\"1\" class=\"dataframe\">\n",
       "  <thead>\n",
       "    <tr style=\"text-align: right;\">\n",
       "      <th></th>\n",
       "      <th>actual</th>\n",
       "      <th>predicted</th>\n",
       "      <th>difference</th>\n",
       "      <th>error</th>\n",
       "    </tr>\n",
       "    <tr>\n",
       "      <th>date</th>\n",
       "      <th></th>\n",
       "      <th></th>\n",
       "      <th></th>\n",
       "      <th></th>\n",
       "    </tr>\n",
       "  </thead>\n",
       "  <tbody>\n",
       "    <tr>\n",
       "      <th>2021-07-15</th>\n",
       "      <td>47.15</td>\n",
       "      <td>47.544701</td>\n",
       "      <td>-0.394701</td>\n",
       "      <td>-0.837117</td>\n",
       "    </tr>\n",
       "    <tr>\n",
       "      <th>2021-07-16</th>\n",
       "      <td>46.42</td>\n",
       "      <td>47.364044</td>\n",
       "      <td>-0.944044</td>\n",
       "      <td>-2.033701</td>\n",
       "    </tr>\n",
       "    <tr>\n",
       "      <th>2021-07-19</th>\n",
       "      <td>46.19</td>\n",
       "      <td>47.225029</td>\n",
       "      <td>-1.035029</td>\n",
       "      <td>-2.240808</td>\n",
       "    </tr>\n",
       "    <tr>\n",
       "      <th>2021-07-20</th>\n",
       "      <td>45.56</td>\n",
       "      <td>47.118908</td>\n",
       "      <td>-1.558908</td>\n",
       "      <td>-3.421659</td>\n",
       "    </tr>\n",
       "    <tr>\n",
       "      <th>2021-07-21</th>\n",
       "      <td>46.32</td>\n",
       "      <td>47.038052</td>\n",
       "      <td>-0.718052</td>\n",
       "      <td>-1.550198</td>\n",
       "    </tr>\n",
       "  </tbody>\n",
       "</table>\n",
       "</div>"
      ],
      "text/plain": [
       "            actual  predicted  difference     error\n",
       "date                                               \n",
       "2021-07-15   47.15  47.544701   -0.394701 -0.837117\n",
       "2021-07-16   46.42  47.364044   -0.944044 -2.033701\n",
       "2021-07-19   46.19  47.225029   -1.035029 -2.240808\n",
       "2021-07-20   45.56  47.118908   -1.558908 -3.421659\n",
       "2021-07-21   46.32  47.038052   -0.718052 -1.550198"
      ]
     },
     "execution_count": 72,
     "metadata": {},
     "output_type": "execute_result"
    }
   ],
   "source": [
    "stocks_dif = stocks_rev\n",
    "stocks_dif['difference'] = stocks_dif.actual - stocks_dif.predicted\n",
    "stocks_dif['error'] = (stocks_dif.difference/stocks_dif.actual) * 100\n",
    "stocks_dif.head()"
   ]
  },
  {
   "cell_type": "code",
   "execution_count": null,
   "metadata": {},
   "outputs": [],
   "source": []
  }
 ],
 "metadata": {
  "interpreter": {
   "hash": "fd5f0602b361fcd80b6e43c9db32d5ff96b182a40640908c77b502a93aa9387e"
  },
  "kernelspec": {
   "display_name": "Python 3.9.7 ('base')",
   "language": "python",
   "name": "python3"
  },
  "language_info": {
   "codemirror_mode": {
    "name": "ipython",
    "version": 3
   },
   "file_extension": ".py",
   "mimetype": "text/x-python",
   "name": "python",
   "nbconvert_exporter": "python",
   "pygments_lexer": "ipython3",
   "version": "3.9.7"
  },
  "orig_nbformat": 4
 },
 "nbformat": 4,
 "nbformat_minor": 2
}
