{
 "cells": [
  {
   "cell_type": "code",
   "execution_count": 1,
   "metadata": {},
   "outputs": [],
   "source": [
    "import numpy as np\n",
    "import pandas as pd\n",
    "\n",
    "%matplotlib inline"
   ]
  },
  {
   "cell_type": "markdown",
   "metadata": {},
   "source": [
    "Single feature LSTM model using Uber SEC financial data plusing closing prices"
   ]
  },
  {
   "cell_type": "code",
   "execution_count": 18,
   "metadata": {},
   "outputs": [
    {
     "data": {
      "text/html": [
       "<div>\n",
       "<style scoped>\n",
       "    .dataframe tbody tr th:only-of-type {\n",
       "        vertical-align: middle;\n",
       "    }\n",
       "\n",
       "    .dataframe tbody tr th {\n",
       "        vertical-align: top;\n",
       "    }\n",
       "\n",
       "    .dataframe thead th {\n",
       "        text-align: right;\n",
       "    }\n",
       "</style>\n",
       "<table border=\"1\" class=\"dataframe\">\n",
       "  <thead>\n",
       "    <tr style=\"text-align: right;\">\n",
       "      <th></th>\n",
       "      <th>Revenues</th>\n",
       "      <th>CostOfGoodsAndServiceExcludingDepreciationDepletionAndAmortization</th>\n",
       "      <th>OperationsAndSupportExpense</th>\n",
       "      <th>SellingAndMarketingExpense</th>\n",
       "      <th>ResearchAndDevelopmentExpense</th>\n",
       "      <th>GeneralAndAdministrativeExpense</th>\n",
       "      <th>DepreciationDepletionAndAmortization</th>\n",
       "      <th>CostsAndExpenses</th>\n",
       "      <th>OperatingIncomeLoss</th>\n",
       "      <th>InterestExpense</th>\n",
       "      <th>...</th>\n",
       "      <th>Unnamed: 16</th>\n",
       "      <th>NetIncomeLoss</th>\n",
       "      <th>EarningsPerShareBasic</th>\n",
       "      <th>EarningsPerShareDiluted</th>\n",
       "      <th>WeightedAverageNumberOfSharesOutstandingBasic</th>\n",
       "      <th>WeightedAverageNumberOfDilutedSharesOutstanding</th>\n",
       "      <th>NetIncomeLossAttributableToRedeemableNoncontrollingInterest</th>\n",
       "      <th>ticker</th>\n",
       "      <th>close</th>\n",
       "      <th>volume</th>\n",
       "    </tr>\n",
       "    <tr>\n",
       "      <th>date</th>\n",
       "      <th></th>\n",
       "      <th></th>\n",
       "      <th></th>\n",
       "      <th></th>\n",
       "      <th></th>\n",
       "      <th></th>\n",
       "      <th></th>\n",
       "      <th></th>\n",
       "      <th></th>\n",
       "      <th></th>\n",
       "      <th></th>\n",
       "      <th></th>\n",
       "      <th></th>\n",
       "      <th></th>\n",
       "      <th></th>\n",
       "      <th></th>\n",
       "      <th></th>\n",
       "      <th></th>\n",
       "      <th></th>\n",
       "      <th></th>\n",
       "      <th></th>\n",
       "    </tr>\n",
       "  </thead>\n",
       "  <tbody>\n",
       "    <tr>\n",
       "      <th>2022-05-25</th>\n",
       "      <td>6.854000e+09</td>\n",
       "      <td>4.026000e+09</td>\n",
       "      <td>574000000.0</td>\n",
       "      <td>1.263000e+09</td>\n",
       "      <td>587000000.0</td>\n",
       "      <td>632000000.0</td>\n",
       "      <td>254000000.0</td>\n",
       "      <td>7.336000e+09</td>\n",
       "      <td>-482000000.0</td>\n",
       "      <td>129000000.0</td>\n",
       "      <td>...</td>\n",
       "      <td>12000000.0</td>\n",
       "      <td>-5.930000e+09</td>\n",
       "      <td>-3.03</td>\n",
       "      <td>-3.04</td>\n",
       "      <td>1.953989e+09</td>\n",
       "      <td>1.957731e+09</td>\n",
       "      <td>-10000000.0</td>\n",
       "      <td>UBER</td>\n",
       "      <td>22.04</td>\n",
       "      <td>31152964.0</td>\n",
       "    </tr>\n",
       "    <tr>\n",
       "      <th>2022-05-26</th>\n",
       "      <td>6.854000e+09</td>\n",
       "      <td>4.026000e+09</td>\n",
       "      <td>574000000.0</td>\n",
       "      <td>1.263000e+09</td>\n",
       "      <td>587000000.0</td>\n",
       "      <td>632000000.0</td>\n",
       "      <td>254000000.0</td>\n",
       "      <td>7.336000e+09</td>\n",
       "      <td>-482000000.0</td>\n",
       "      <td>129000000.0</td>\n",
       "      <td>...</td>\n",
       "      <td>12000000.0</td>\n",
       "      <td>-5.930000e+09</td>\n",
       "      <td>-3.03</td>\n",
       "      <td>-3.04</td>\n",
       "      <td>1.953989e+09</td>\n",
       "      <td>1.957731e+09</td>\n",
       "      <td>-10000000.0</td>\n",
       "      <td>UBER</td>\n",
       "      <td>23.10</td>\n",
       "      <td>30156204.0</td>\n",
       "    </tr>\n",
       "    <tr>\n",
       "      <th>2022-05-27</th>\n",
       "      <td>6.854000e+09</td>\n",
       "      <td>4.026000e+09</td>\n",
       "      <td>574000000.0</td>\n",
       "      <td>1.263000e+09</td>\n",
       "      <td>587000000.0</td>\n",
       "      <td>632000000.0</td>\n",
       "      <td>254000000.0</td>\n",
       "      <td>7.336000e+09</td>\n",
       "      <td>-482000000.0</td>\n",
       "      <td>129000000.0</td>\n",
       "      <td>...</td>\n",
       "      <td>12000000.0</td>\n",
       "      <td>-5.930000e+09</td>\n",
       "      <td>-3.03</td>\n",
       "      <td>-3.04</td>\n",
       "      <td>1.953989e+09</td>\n",
       "      <td>1.957731e+09</td>\n",
       "      <td>-10000000.0</td>\n",
       "      <td>UBER</td>\n",
       "      <td>23.67</td>\n",
       "      <td>29620958.0</td>\n",
       "    </tr>\n",
       "    <tr>\n",
       "      <th>2022-05-31</th>\n",
       "      <td>6.854000e+09</td>\n",
       "      <td>4.026000e+09</td>\n",
       "      <td>574000000.0</td>\n",
       "      <td>1.263000e+09</td>\n",
       "      <td>587000000.0</td>\n",
       "      <td>632000000.0</td>\n",
       "      <td>254000000.0</td>\n",
       "      <td>7.336000e+09</td>\n",
       "      <td>-482000000.0</td>\n",
       "      <td>129000000.0</td>\n",
       "      <td>...</td>\n",
       "      <td>12000000.0</td>\n",
       "      <td>-5.930000e+09</td>\n",
       "      <td>-3.03</td>\n",
       "      <td>-3.04</td>\n",
       "      <td>1.953989e+09</td>\n",
       "      <td>1.957731e+09</td>\n",
       "      <td>-10000000.0</td>\n",
       "      <td>UBER</td>\n",
       "      <td>23.20</td>\n",
       "      <td>33048952.0</td>\n",
       "    </tr>\n",
       "    <tr>\n",
       "      <th>2022-06-01</th>\n",
       "      <td>6.854000e+09</td>\n",
       "      <td>4.026000e+09</td>\n",
       "      <td>574000000.0</td>\n",
       "      <td>1.263000e+09</td>\n",
       "      <td>587000000.0</td>\n",
       "      <td>632000000.0</td>\n",
       "      <td>254000000.0</td>\n",
       "      <td>7.336000e+09</td>\n",
       "      <td>-482000000.0</td>\n",
       "      <td>129000000.0</td>\n",
       "      <td>...</td>\n",
       "      <td>12000000.0</td>\n",
       "      <td>-5.930000e+09</td>\n",
       "      <td>-3.03</td>\n",
       "      <td>-3.04</td>\n",
       "      <td>1.953989e+09</td>\n",
       "      <td>1.957731e+09</td>\n",
       "      <td>-10000000.0</td>\n",
       "      <td>UBER</td>\n",
       "      <td>22.94</td>\n",
       "      <td>26285752.0</td>\n",
       "    </tr>\n",
       "  </tbody>\n",
       "</table>\n",
       "<p>5 rows × 25 columns</p>\n",
       "</div>"
      ],
      "text/plain": [
       "                Revenues  \\\n",
       "date                       \n",
       "2022-05-25  6.854000e+09   \n",
       "2022-05-26  6.854000e+09   \n",
       "2022-05-27  6.854000e+09   \n",
       "2022-05-31  6.854000e+09   \n",
       "2022-06-01  6.854000e+09   \n",
       "\n",
       "            CostOfGoodsAndServiceExcludingDepreciationDepletionAndAmortization  \\\n",
       "date                                                                             \n",
       "2022-05-25                                       4.026000e+09                    \n",
       "2022-05-26                                       4.026000e+09                    \n",
       "2022-05-27                                       4.026000e+09                    \n",
       "2022-05-31                                       4.026000e+09                    \n",
       "2022-06-01                                       4.026000e+09                    \n",
       "\n",
       "            OperationsAndSupportExpense  SellingAndMarketingExpense  \\\n",
       "date                                                                  \n",
       "2022-05-25                  574000000.0                1.263000e+09   \n",
       "2022-05-26                  574000000.0                1.263000e+09   \n",
       "2022-05-27                  574000000.0                1.263000e+09   \n",
       "2022-05-31                  574000000.0                1.263000e+09   \n",
       "2022-06-01                  574000000.0                1.263000e+09   \n",
       "\n",
       "            ResearchAndDevelopmentExpense  GeneralAndAdministrativeExpense  \\\n",
       "date                                                                         \n",
       "2022-05-25                    587000000.0                      632000000.0   \n",
       "2022-05-26                    587000000.0                      632000000.0   \n",
       "2022-05-27                    587000000.0                      632000000.0   \n",
       "2022-05-31                    587000000.0                      632000000.0   \n",
       "2022-06-01                    587000000.0                      632000000.0   \n",
       "\n",
       "            DepreciationDepletionAndAmortization  CostsAndExpenses  \\\n",
       "date                                                                 \n",
       "2022-05-25                           254000000.0      7.336000e+09   \n",
       "2022-05-26                           254000000.0      7.336000e+09   \n",
       "2022-05-27                           254000000.0      7.336000e+09   \n",
       "2022-05-31                           254000000.0      7.336000e+09   \n",
       "2022-06-01                           254000000.0      7.336000e+09   \n",
       "\n",
       "            OperatingIncomeLoss  InterestExpense  ...  Unnamed: 16  \\\n",
       "date                                              ...                \n",
       "2022-05-25         -482000000.0      129000000.0  ...   12000000.0   \n",
       "2022-05-26         -482000000.0      129000000.0  ...   12000000.0   \n",
       "2022-05-27         -482000000.0      129000000.0  ...   12000000.0   \n",
       "2022-05-31         -482000000.0      129000000.0  ...   12000000.0   \n",
       "2022-06-01         -482000000.0      129000000.0  ...   12000000.0   \n",
       "\n",
       "            NetIncomeLoss  EarningsPerShareBasic  EarningsPerShareDiluted  \\\n",
       "date                                                                        \n",
       "2022-05-25  -5.930000e+09                  -3.03                    -3.04   \n",
       "2022-05-26  -5.930000e+09                  -3.03                    -3.04   \n",
       "2022-05-27  -5.930000e+09                  -3.03                    -3.04   \n",
       "2022-05-31  -5.930000e+09                  -3.03                    -3.04   \n",
       "2022-06-01  -5.930000e+09                  -3.03                    -3.04   \n",
       "\n",
       "            WeightedAverageNumberOfSharesOutstandingBasic  \\\n",
       "date                                                        \n",
       "2022-05-25                                   1.953989e+09   \n",
       "2022-05-26                                   1.953989e+09   \n",
       "2022-05-27                                   1.953989e+09   \n",
       "2022-05-31                                   1.953989e+09   \n",
       "2022-06-01                                   1.953989e+09   \n",
       "\n",
       "            WeightedAverageNumberOfDilutedSharesOutstanding  \\\n",
       "date                                                          \n",
       "2022-05-25                                     1.957731e+09   \n",
       "2022-05-26                                     1.957731e+09   \n",
       "2022-05-27                                     1.957731e+09   \n",
       "2022-05-31                                     1.957731e+09   \n",
       "2022-06-01                                     1.957731e+09   \n",
       "\n",
       "            NetIncomeLossAttributableToRedeemableNoncontrollingInterest  \\\n",
       "date                                                                      \n",
       "2022-05-25                                        -10000000.0             \n",
       "2022-05-26                                        -10000000.0             \n",
       "2022-05-27                                        -10000000.0             \n",
       "2022-05-31                                        -10000000.0             \n",
       "2022-06-01                                        -10000000.0             \n",
       "\n",
       "            ticker  close      volume  \n",
       "date                                   \n",
       "2022-05-25    UBER  22.04  31152964.0  \n",
       "2022-05-26    UBER  23.10  30156204.0  \n",
       "2022-05-27    UBER  23.67  29620958.0  \n",
       "2022-05-31    UBER  23.20  33048952.0  \n",
       "2022-06-01    UBER  22.94  26285752.0  \n",
       "\n",
       "[5 rows x 25 columns]"
      ]
     },
     "execution_count": 18,
     "metadata": {},
     "output_type": "execute_result"
    }
   ],
   "source": [
    "uber_sec = pd.read_csv('/Users/krist/OneDrive/Desktop/P2G2-ProjectGit/Notebooks/models/resources/UBER_copy.csv', index_col = 0)\n",
    "uber_sec.tail()"
   ]
  },
  {
   "cell_type": "code",
   "execution_count": 3,
   "metadata": {},
   "outputs": [],
   "source": [
    "def window_data(df, window, feature_col_number, target_col_number):\n",
    "    X = []\n",
    "    y = []\n",
    "    for i in range(len(df) - window - 1):\n",
    "        features = df.iloc[i:(i + window), feature_col_number]\n",
    "        target = df.iloc[(i + window), target_col_number]\n",
    "        X.append(features)\n",
    "        y.append(target)\n",
    "    return np.array(X), np.array(y).reshape(-1, 1)"
   ]
  },
  {
   "cell_type": "code",
   "execution_count": 4,
   "metadata": {},
   "outputs": [],
   "source": [
    "#Setting the feature col to revenue and target col to closing prices\n",
    "X, y = window_data(uber_sec, window=30, feature_col_number=0, target_col_number=23)"
   ]
  },
  {
   "cell_type": "code",
   "execution_count": 5,
   "metadata": {},
   "outputs": [],
   "source": [
    "# Use 70% of the data for training and the remaineder for testing\n",
    "split = int(0.7 * len(X))\n",
    "X_train = X[: split]\n",
    "X_test = X[split:]\n",
    "y_train = y[: split]\n",
    "y_test = y[split:]"
   ]
  },
  {
   "cell_type": "code",
   "execution_count": 6,
   "metadata": {},
   "outputs": [],
   "source": [
    "from sklearn.preprocessing import MinMaxScaler\n",
    "# Use the MinMaxScaler to scale data between 0 and 1.\n",
    "# Create a MinMaxScaler object\n",
    "scaler = MinMaxScaler()\n",
    "\n",
    "# Fit the MinMaxScaler object with the features data X\n",
    "scaler.fit(X_train)\n",
    "\n",
    "# Scale the features training and testing sets\n",
    "X_train = scaler.transform(X_train)\n",
    "X_test = scaler.transform(X_test)\n",
    "\n",
    "# Fit the MinMaxScaler object with the target data Y\n",
    "scaler.fit(y_train)\n",
    "\n",
    "# Scale the target training and testing sets\n",
    "y_train = scaler.transform(y_train)\n",
    "y_test = scaler.transform(y_test)"
   ]
  },
  {
   "cell_type": "code",
   "execution_count": 7,
   "metadata": {},
   "outputs": [],
   "source": [
    "# Reshape the features for the model\n",
    "\n",
    "X_train = X_train.reshape((X_train.shape[0], X_train.shape[1], 1))\n",
    "X_test = X_test.reshape((X_test.shape[0], X_test.shape[1], 1))"
   ]
  },
  {
   "cell_type": "code",
   "execution_count": 8,
   "metadata": {},
   "outputs": [],
   "source": [
    "from tensorflow.keras.models import Sequential\n",
    "from tensorflow.keras.layers import LSTM, Dense, Dropout"
   ]
  },
  {
   "cell_type": "code",
   "execution_count": 9,
   "metadata": {},
   "outputs": [],
   "source": [
    "\n",
    "model = Sequential()\n",
    "\n",
    "number_units = 5\n",
    "dropout_fraction = 0.2\n",
    "\n",
    "#Layer 1\n",
    "model.add(LSTM(\n",
    "    units=number_units,\n",
    "    return_sequences=True,\n",
    "    input_shape=(X_train.shape[1], 1))\n",
    "    )\n",
    "model.add(Dropout(dropout_fraction))\n",
    "\n",
    "#Layer 2\n",
    "model.add(LSTM(units=number_units, return_sequences=True))\n",
    "model.add(Dropout(dropout_fraction))\n",
    "\n",
    "#Layer 3\n",
    "model.add(LSTM(units=number_units))\n",
    "model.add(Dropout(dropout_fraction))\n",
    "\n",
    "#Output Layer\n",
    "model.add(Dense(1))"
   ]
  },
  {
   "cell_type": "code",
   "execution_count": 10,
   "metadata": {},
   "outputs": [],
   "source": [
    "model.compile(optimizer='adam', loss = 'mean_squared_error')"
   ]
  },
  {
   "cell_type": "code",
   "execution_count": 11,
   "metadata": {},
   "outputs": [
    {
     "name": "stdout",
     "output_type": "stream",
     "text": [
      "Model: \"sequential\"\n",
      "_________________________________________________________________\n",
      " Layer (type)                Output Shape              Param #   \n",
      "=================================================================\n",
      " lstm (LSTM)                 (None, 30, 5)             140       \n",
      "                                                                 \n",
      " dropout (Dropout)           (None, 30, 5)             0         \n",
      "                                                                 \n",
      " lstm_1 (LSTM)               (None, 30, 5)             220       \n",
      "                                                                 \n",
      " dropout_1 (Dropout)         (None, 30, 5)             0         \n",
      "                                                                 \n",
      " lstm_2 (LSTM)               (None, 5)                 220       \n",
      "                                                                 \n",
      " dropout_2 (Dropout)         (None, 5)                 0         \n",
      "                                                                 \n",
      " dense (Dense)               (None, 1)                 6         \n",
      "                                                                 \n",
      "=================================================================\n",
      "Total params: 586\n",
      "Trainable params: 586\n",
      "Non-trainable params: 0\n",
      "_________________________________________________________________\n"
     ]
    }
   ],
   "source": [
    "model.summary()"
   ]
  },
  {
   "cell_type": "code",
   "execution_count": 12,
   "metadata": {},
   "outputs": [
    {
     "name": "stdout",
     "output_type": "stream",
     "text": [
      "Epoch 1/15\n",
      "519/519 [==============================] - 22s 29ms/step - loss: 0.0427\n",
      "Epoch 2/15\n",
      "519/519 [==============================] - 14s 28ms/step - loss: 0.0189\n",
      "Epoch 3/15\n",
      "519/519 [==============================] - 17s 33ms/step - loss: 0.0183\n",
      "Epoch 4/15\n",
      "519/519 [==============================] - 16s 30ms/step - loss: 0.0174\n",
      "Epoch 5/15\n",
      "519/519 [==============================] - 16s 31ms/step - loss: 0.0187\n",
      "Epoch 6/15\n",
      "519/519 [==============================] - 16s 31ms/step - loss: 0.0214\n",
      "Epoch 7/15\n",
      "519/519 [==============================] - 17s 33ms/step - loss: 0.0219\n",
      "Epoch 8/15\n",
      "519/519 [==============================] - 16s 31ms/step - loss: 0.0231\n",
      "Epoch 9/15\n",
      "519/519 [==============================] - 17s 32ms/step - loss: 0.0233\n",
      "Epoch 10/15\n",
      "519/519 [==============================] - 15s 29ms/step - loss: 0.0257\n",
      "Epoch 11/15\n",
      "519/519 [==============================] - 15s 29ms/step - loss: 0.0251\n",
      "Epoch 12/15\n",
      "519/519 [==============================] - 15s 30ms/step - loss: 0.0351\n",
      "Epoch 13/15\n",
      "519/519 [==============================] - 15s 29ms/step - loss: 0.0365\n",
      "Epoch 14/15\n",
      "519/519 [==============================] - 16s 31ms/step - loss: 0.0337\n",
      "Epoch 15/15\n",
      "519/519 [==============================] - 16s 31ms/step - loss: 0.0392\n"
     ]
    },
    {
     "data": {
      "text/plain": [
       "<keras.callbacks.History at 0x21fcdc3e0a0>"
      ]
     },
     "execution_count": 12,
     "metadata": {},
     "output_type": "execute_result"
    }
   ],
   "source": [
    "model.fit(X_train, y_train, epochs=15, shuffle=False, batch_size=1, verbose=1)"
   ]
  },
  {
   "cell_type": "code",
   "execution_count": 13,
   "metadata": {},
   "outputs": [
    {
     "name": "stdout",
     "output_type": "stream",
     "text": [
      "7/7 [==============================] - 2s 8ms/step - loss: 0.0525\n"
     ]
    },
    {
     "data": {
      "text/plain": [
       "0.05250095948576927"
      ]
     },
     "execution_count": 13,
     "metadata": {},
     "output_type": "execute_result"
    }
   ],
   "source": [
    "model.evaluate(X_test, y_test)"
   ]
  },
  {
   "cell_type": "code",
   "execution_count": 14,
   "metadata": {},
   "outputs": [
    {
     "name": "stdout",
     "output_type": "stream",
     "text": [
      "7/7 [==============================] - 2s 7ms/step\n"
     ]
    }
   ],
   "source": [
    "predict = model.predict(X_test)"
   ]
  },
  {
   "cell_type": "code",
   "execution_count": 15,
   "metadata": {},
   "outputs": [],
   "source": [
    "predicted_prices = scaler.inverse_transform(predict)\n",
    "real_prices = scaler.inverse_transform(y_test.reshape(-1, 1))"
   ]
  },
  {
   "cell_type": "code",
   "execution_count": 16,
   "metadata": {},
   "outputs": [
    {
     "data": {
      "text/html": [
       "<div>\n",
       "<style scoped>\n",
       "    .dataframe tbody tr th:only-of-type {\n",
       "        vertical-align: middle;\n",
       "    }\n",
       "\n",
       "    .dataframe tbody tr th {\n",
       "        vertical-align: top;\n",
       "    }\n",
       "\n",
       "    .dataframe thead th {\n",
       "        text-align: right;\n",
       "    }\n",
       "</style>\n",
       "<table border=\"1\" class=\"dataframe\">\n",
       "  <thead>\n",
       "    <tr style=\"text-align: right;\">\n",
       "      <th></th>\n",
       "      <th>actual</th>\n",
       "      <th>predicted</th>\n",
       "    </tr>\n",
       "    <tr>\n",
       "      <th>date</th>\n",
       "      <th></th>\n",
       "      <th></th>\n",
       "    </tr>\n",
       "  </thead>\n",
       "  <tbody>\n",
       "    <tr>\n",
       "      <th>2021-07-15</th>\n",
       "      <td>47.15</td>\n",
       "      <td>47.316124</td>\n",
       "    </tr>\n",
       "    <tr>\n",
       "      <th>2021-07-16</th>\n",
       "      <td>46.42</td>\n",
       "      <td>47.311558</td>\n",
       "    </tr>\n",
       "    <tr>\n",
       "      <th>2021-07-19</th>\n",
       "      <td>46.19</td>\n",
       "      <td>47.308426</td>\n",
       "    </tr>\n",
       "    <tr>\n",
       "      <th>2021-07-20</th>\n",
       "      <td>45.56</td>\n",
       "      <td>47.306305</td>\n",
       "    </tr>\n",
       "    <tr>\n",
       "      <th>2021-07-21</th>\n",
       "      <td>46.32</td>\n",
       "      <td>47.304893</td>\n",
       "    </tr>\n",
       "  </tbody>\n",
       "</table>\n",
       "</div>"
      ],
      "text/plain": [
       "            actual  predicted\n",
       "date                         \n",
       "2021-07-15   47.15  47.316124\n",
       "2021-07-16   46.42  47.311558\n",
       "2021-07-19   46.19  47.308426\n",
       "2021-07-20   45.56  47.306305\n",
       "2021-07-21   46.32  47.304893"
      ]
     },
     "execution_count": 16,
     "metadata": {},
     "output_type": "execute_result"
    }
   ],
   "source": [
    "# Create a DataFrame of Real and Predicted values\n",
    "stocks_rev = pd.DataFrame({\n",
    "    \"actual\": real_prices.ravel(),\n",
    "    \"predicted\": predicted_prices.ravel()\n",
    "}, index = uber_sec.index[-len(real_prices): ]) \n",
    "stocks_rev.head()"
   ]
  },
  {
   "cell_type": "code",
   "execution_count": 17,
   "metadata": {},
   "outputs": [
    {
     "data": {
      "text/plain": [
       "<AxesSubplot:title={'center':'Actual vs. Predicted Prices'}, xlabel='Date', ylabel='UBER'>"
      ]
     },
     "execution_count": 17,
     "metadata": {},
     "output_type": "execute_result"
    },
    {
     "data": {
      "image/png": "[encoded data removed]",
      "text/plain": [
       "<Figure size 432x288 with 1 Axes>"
      ]
     },
     "metadata": {
      "needs_background": "light"
     },
     "output_type": "display_data"
    }
   ],
   "source": [
    "stocks_rev.plot(xlabel = 'Date', ylabel = 'UBER', title = 'Actual vs. Predicted Prices', rot=45)"
   ]
  },
  {
   "cell_type": "code",
   "execution_count": null,
   "metadata": {},
   "outputs": [],
   "source": []
  }
 ],
 "metadata": {
  "interpreter": {
   "hash": "fd5f0602b361fcd80b6e43c9db32d5ff96b182a40640908c77b502a93aa9387e"
  },
  "kernelspec": {
   "display_name": "Python 3.9.7 ('base')",
   "language": "python",
   "name": "python3"
  },
  "language_info": {
   "codemirror_mode": {
    "name": "ipython",
    "version": 3
   },
   "file_extension": ".py",
   "mimetype": "text/x-python",
   "name": "python",
   "nbconvert_exporter": "python",
   "pygments_lexer": "ipython3",
   "version": "3.9.7"
  },
  "orig_nbformat": 4
 },
 "nbformat": 4,
 "nbformat_minor": 2
}
