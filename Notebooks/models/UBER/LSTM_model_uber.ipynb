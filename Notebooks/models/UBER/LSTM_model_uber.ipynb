{
 "cells": [
  {
   "cell_type": "code",
   "execution_count": 1,
   "metadata": {},
   "outputs": [],
   "source": [
    "import numpy as np\n",
    "import pandas as pd\n",
    "\n",
    "%matplotlib inline"
   ]
  },
  {
   "cell_type": "code",
   "execution_count": 2,
   "metadata": {},
   "outputs": [],
   "source": [
    "#Testing potential models"
   ]
  },
  {
   "cell_type": "markdown",
   "metadata": {},
   "source": [
    "LSTM model using uber reddit comments sentimental data plus closing prices"
   ]
  },
  {
   "cell_type": "code",
   "execution_count": 3,
   "metadata": {},
   "outputs": [
    {
     "data": {
      "text/html": [
       "<div>\n",
       "<style scoped>\n",
       "    .dataframe tbody tr th:only-of-type {\n",
       "        vertical-align: middle;\n",
       "    }\n",
       "\n",
       "    .dataframe tbody tr th {\n",
       "        vertical-align: top;\n",
       "    }\n",
       "\n",
       "    .dataframe thead th {\n",
       "        text-align: right;\n",
       "    }\n",
       "</style>\n",
       "<table border=\"1\" class=\"dataframe\">\n",
       "  <thead>\n",
       "    <tr style=\"text-align: right;\">\n",
       "      <th></th>\n",
       "      <th>sec_compound_sentiment</th>\n",
       "      <th>sec_positive_sentiment</th>\n",
       "      <th>sec_neutral sentiment</th>\n",
       "      <th>sec_negative_sentiment</th>\n",
       "      <th>stockmarket_compound_sentiment</th>\n",
       "      <th>stockmarket_positive_sentiment</th>\n",
       "      <th>stockmarket_neutral_sentiment</th>\n",
       "      <th>stockmarket_negative_sentiment</th>\n",
       "      <th>volume</th>\n",
       "      <th>close</th>\n",
       "    </tr>\n",
       "  </thead>\n",
       "  <tbody>\n",
       "    <tr>\n",
       "      <th>2019-05-10</th>\n",
       "      <td>1.0</td>\n",
       "      <td>0.111</td>\n",
       "      <td>0.846</td>\n",
       "      <td>0.042</td>\n",
       "      <td>0.060230</td>\n",
       "      <td>0.085886</td>\n",
       "      <td>0.841045</td>\n",
       "      <td>0.073045</td>\n",
       "      <td>189836990.0</td>\n",
       "      <td>41.57</td>\n",
       "    </tr>\n",
       "    <tr>\n",
       "      <th>2019-05-11</th>\n",
       "      <td>1.0</td>\n",
       "      <td>0.111</td>\n",
       "      <td>0.846</td>\n",
       "      <td>0.042</td>\n",
       "      <td>-0.114408</td>\n",
       "      <td>0.024583</td>\n",
       "      <td>0.885333</td>\n",
       "      <td>0.090000</td>\n",
       "      <td>189836990.0</td>\n",
       "      <td>41.57</td>\n",
       "    </tr>\n",
       "    <tr>\n",
       "      <th>2019-05-12</th>\n",
       "      <td>1.0</td>\n",
       "      <td>0.111</td>\n",
       "      <td>0.846</td>\n",
       "      <td>0.042</td>\n",
       "      <td>0.069736</td>\n",
       "      <td>0.098000</td>\n",
       "      <td>0.844818</td>\n",
       "      <td>0.057091</td>\n",
       "      <td>189836990.0</td>\n",
       "      <td>41.57</td>\n",
       "    </tr>\n",
       "    <tr>\n",
       "      <th>2019-05-13</th>\n",
       "      <td>1.0</td>\n",
       "      <td>0.111</td>\n",
       "      <td>0.846</td>\n",
       "      <td>0.042</td>\n",
       "      <td>0.006767</td>\n",
       "      <td>0.069667</td>\n",
       "      <td>0.877000</td>\n",
       "      <td>0.053333</td>\n",
       "      <td>79478203.0</td>\n",
       "      <td>37.10</td>\n",
       "    </tr>\n",
       "    <tr>\n",
       "      <th>2019-05-14</th>\n",
       "      <td>1.0</td>\n",
       "      <td>0.111</td>\n",
       "      <td>0.846</td>\n",
       "      <td>0.042</td>\n",
       "      <td>0.006767</td>\n",
       "      <td>0.069667</td>\n",
       "      <td>0.877000</td>\n",
       "      <td>0.053333</td>\n",
       "      <td>46661187.0</td>\n",
       "      <td>39.96</td>\n",
       "    </tr>\n",
       "  </tbody>\n",
       "</table>\n",
       "</div>"
      ],
      "text/plain": [
       "            sec_compound_sentiment  sec_positive_sentiment  \\\n",
       "2019-05-10                     1.0                   0.111   \n",
       "2019-05-11                     1.0                   0.111   \n",
       "2019-05-12                     1.0                   0.111   \n",
       "2019-05-13                     1.0                   0.111   \n",
       "2019-05-14                     1.0                   0.111   \n",
       "\n",
       "            sec_neutral sentiment  sec_negative_sentiment  \\\n",
       "2019-05-10                  0.846                   0.042   \n",
       "2019-05-11                  0.846                   0.042   \n",
       "2019-05-12                  0.846                   0.042   \n",
       "2019-05-13                  0.846                   0.042   \n",
       "2019-05-14                  0.846                   0.042   \n",
       "\n",
       "            stockmarket_compound_sentiment  stockmarket_positive_sentiment  \\\n",
       "2019-05-10                        0.060230                        0.085886   \n",
       "2019-05-11                       -0.114408                        0.024583   \n",
       "2019-05-12                        0.069736                        0.098000   \n",
       "2019-05-13                        0.006767                        0.069667   \n",
       "2019-05-14                        0.006767                        0.069667   \n",
       "\n",
       "            stockmarket_neutral_sentiment  stockmarket_negative_sentiment  \\\n",
       "2019-05-10                       0.841045                        0.073045   \n",
       "2019-05-11                       0.885333                        0.090000   \n",
       "2019-05-12                       0.844818                        0.057091   \n",
       "2019-05-13                       0.877000                        0.053333   \n",
       "2019-05-14                       0.877000                        0.053333   \n",
       "\n",
       "                 volume  close  \n",
       "2019-05-10  189836990.0  41.57  \n",
       "2019-05-11  189836990.0  41.57  \n",
       "2019-05-12  189836990.0  41.57  \n",
       "2019-05-13   79478203.0  37.10  \n",
       "2019-05-14   46661187.0  39.96  "
      ]
     },
     "execution_count": 3,
     "metadata": {},
     "output_type": "execute_result"
    }
   ],
   "source": [
    "uber_sent_df = pd.read_csv('/Users/krist/OneDrive/Desktop/P2G2-ProjectGit/Notebooks/models/resources/UBER_sent_copy.csv', index_col=0)\n",
    "uber_sent_df.head()"
   ]
  },
  {
   "cell_type": "code",
   "execution_count": 4,
   "metadata": {},
   "outputs": [],
   "source": [
    "def window_data(df, window, feature_col_number, target_col_number):\n",
    "    X = []\n",
    "    y = []\n",
    "    for i in range(len(df) - window - 1):\n",
    "        features = df.iloc[i:(i + window), feature_col_number]\n",
    "        target = df.iloc[(i + window), target_col_number]\n",
    "        X.append(features)\n",
    "        y.append(target)\n",
    "    return np.array(X), np.array(y).reshape(-1, 1)"
   ]
  },
  {
   "cell_type": "code",
   "execution_count": 5,
   "metadata": {},
   "outputs": [],
   "source": [
    "#Setting the feature col to stock market compound sent and target col to closing prices\n",
    "X, y = window_data(uber_sent_df, window=30, feature_col_number=4, target_col_number=9)"
   ]
  },
  {
   "cell_type": "code",
   "execution_count": 6,
   "metadata": {},
   "outputs": [],
   "source": [
    "# Use 70% of the data for training and the remaineder for testing\n",
    "split = int(0.7 * len(X))\n",
    "X_train = X[: split]\n",
    "X_test = X[split:]\n",
    "y_train = y[: split]\n",
    "y_test = y[split:]\n"
   ]
  },
  {
   "cell_type": "code",
   "execution_count": 7,
   "metadata": {},
   "outputs": [],
   "source": [
    "from sklearn.preprocessing import MinMaxScaler\n",
    "# Use the MinMaxScaler to scale data between 0 and 1.\n",
    "# Create a MinMaxScaler object\n",
    "scaler = MinMaxScaler()\n",
    "\n",
    "# Fit the MinMaxScaler object with the features data X\n",
    "scaler.fit(X_train)\n",
    "\n",
    "# Scale the features training and testing sets\n",
    "X_train = scaler.transform(X_train)\n",
    "X_test = scaler.transform(X_test)\n",
    "\n",
    "# Fit the MinMaxScaler object with the target data Y\n",
    "scaler.fit(y_train)\n",
    "\n",
    "# Scale the target training and testing sets\n",
    "y_train = scaler.transform(y_train)\n",
    "y_test = scaler.transform(y_test)"
   ]
  },
  {
   "cell_type": "code",
   "execution_count": 8,
   "metadata": {},
   "outputs": [],
   "source": [
    "# Reshape the features for the model\n",
    "\n",
    "X_train = X_train.reshape((X_train.shape[0], X_train.shape[1], 1))\n",
    "X_test = X_test.reshape((X_test.shape[0], X_test.shape[1], 1))"
   ]
  },
  {
   "cell_type": "code",
   "execution_count": 9,
   "metadata": {},
   "outputs": [],
   "source": [
    "from tensorflow.keras.models import Sequential\n",
    "from tensorflow.keras.layers import LSTM, Dense, Dropout"
   ]
  },
  {
   "cell_type": "code",
   "execution_count": 10,
   "metadata": {},
   "outputs": [],
   "source": [
    "\n",
    "model = Sequential()\n",
    "\n",
    "number_units = 5\n",
    "dropout_fraction = 0.2\n",
    "\n",
    "#Layer 1\n",
    "model.add(LSTM(\n",
    "    units=number_units,\n",
    "    return_sequences=True,\n",
    "    input_shape=(X_train.shape[1], 1))\n",
    "    )\n",
    "model.add(Dropout(dropout_fraction))\n",
    "\n",
    "#Layer 2\n",
    "model.add(LSTM(units=number_units, return_sequences=True))\n",
    "model.add(Dropout(dropout_fraction))\n",
    "\n",
    "#Layer 3\n",
    "model.add(LSTM(units=number_units))\n",
    "model.add(Dropout(dropout_fraction))\n",
    "\n",
    "#Output Layer\n",
    "model.add(Dense(1))"
   ]
  },
  {
   "cell_type": "code",
   "execution_count": 11,
   "metadata": {},
   "outputs": [],
   "source": [
    "model.compile(optimizer='adam', loss = 'mean_squared_error')\n"
   ]
  },
  {
   "cell_type": "code",
   "execution_count": 12,
   "metadata": {},
   "outputs": [
    {
     "name": "stdout",
     "output_type": "stream",
     "text": [
      "Model: \"sequential\"\n",
      "_________________________________________________________________\n",
      " Layer (type)                Output Shape              Param #   \n",
      "=================================================================\n",
      " lstm (LSTM)                 (None, 30, 5)             140       \n",
      "                                                                 \n",
      " dropout (Dropout)           (None, 30, 5)             0         \n",
      "                                                                 \n",
      " lstm_1 (LSTM)               (None, 30, 5)             220       \n",
      "                                                                 \n",
      " dropout_1 (Dropout)         (None, 30, 5)             0         \n",
      "                                                                 \n",
      " lstm_2 (LSTM)               (None, 5)                 220       \n",
      "                                                                 \n",
      " dropout_2 (Dropout)         (None, 5)                 0         \n",
      "                                                                 \n",
      " dense (Dense)               (None, 1)                 6         \n",
      "                                                                 \n",
      "=================================================================\n",
      "Total params: 586\n",
      "Trainable params: 586\n",
      "Non-trainable params: 0\n",
      "_________________________________________________________________\n"
     ]
    }
   ],
   "source": [
    "model.summary()\n"
   ]
  },
  {
   "cell_type": "code",
   "execution_count": 13,
   "metadata": {},
   "outputs": [
    {
     "name": "stdout",
     "output_type": "stream",
     "text": [
      "Epoch 1/100\n",
      "9/9 [==============================] - 5s 23ms/step - loss: 0.3019\n",
      "Epoch 2/100\n",
      "9/9 [==============================] - 0s 21ms/step - loss: 0.2445\n",
      "Epoch 3/100\n",
      "9/9 [==============================] - 0s 20ms/step - loss: 0.1849\n",
      "Epoch 4/100\n",
      "9/9 [==============================] - 0s 21ms/step - loss: 0.1215\n",
      "Epoch 5/100\n",
      "9/9 [==============================] - 0s 21ms/step - loss: 0.0774\n",
      "Epoch 6/100\n",
      "9/9 [==============================] - 0s 21ms/step - loss: 0.0646\n",
      "Epoch 7/100\n",
      "9/9 [==============================] - 0s 21ms/step - loss: 0.0751\n",
      "Epoch 8/100\n",
      "9/9 [==============================] - 0s 21ms/step - loss: 0.0721\n",
      "Epoch 9/100\n",
      "9/9 [==============================] - 0s 21ms/step - loss: 0.0734\n",
      "Epoch 10/100\n",
      "9/9 [==============================] - 0s 21ms/step - loss: 0.0673\n",
      "Epoch 11/100\n",
      "9/9 [==============================] - 0s 21ms/step - loss: 0.0708\n",
      "Epoch 12/100\n",
      "9/9 [==============================] - 0s 21ms/step - loss: 0.0698\n",
      "Epoch 13/100\n",
      "9/9 [==============================] - 0s 21ms/step - loss: 0.0625\n",
      "Epoch 14/100\n",
      "9/9 [==============================] - 0s 20ms/step - loss: 0.0694\n",
      "Epoch 15/100\n",
      "9/9 [==============================] - 0s 21ms/step - loss: 0.0727\n",
      "Epoch 16/100\n",
      "9/9 [==============================] - 0s 21ms/step - loss: 0.0712\n",
      "Epoch 17/100\n",
      "9/9 [==============================] - 0s 21ms/step - loss: 0.0687\n",
      "Epoch 18/100\n",
      "9/9 [==============================] - 0s 21ms/step - loss: 0.0681\n",
      "Epoch 19/100\n",
      "9/9 [==============================] - 0s 21ms/step - loss: 0.0681\n",
      "Epoch 20/100\n",
      "9/9 [==============================] - 0s 21ms/step - loss: 0.0702\n",
      "Epoch 21/100\n",
      "9/9 [==============================] - 0s 21ms/step - loss: 0.0673\n",
      "Epoch 22/100\n",
      "9/9 [==============================] - 0s 21ms/step - loss: 0.0707\n",
      "Epoch 23/100\n",
      "9/9 [==============================] - 0s 25ms/step - loss: 0.0665\n",
      "Epoch 24/100\n",
      "9/9 [==============================] - 0s 20ms/step - loss: 0.0681\n",
      "Epoch 25/100\n",
      "9/9 [==============================] - 0s 21ms/step - loss: 0.0638\n",
      "Epoch 26/100\n",
      "9/9 [==============================] - 0s 21ms/step - loss: 0.0644\n",
      "Epoch 27/100\n",
      "9/9 [==============================] - 0s 24ms/step - loss: 0.0662\n",
      "Epoch 28/100\n",
      "9/9 [==============================] - 0s 21ms/step - loss: 0.0615\n",
      "Epoch 29/100\n",
      "9/9 [==============================] - 0s 22ms/step - loss: 0.0647\n",
      "Epoch 30/100\n",
      "9/9 [==============================] - 0s 24ms/step - loss: 0.0631\n",
      "Epoch 31/100\n",
      "9/9 [==============================] - 0s 21ms/step - loss: 0.0628\n",
      "Epoch 32/100\n",
      "9/9 [==============================] - 0s 21ms/step - loss: 0.0679\n",
      "Epoch 33/100\n",
      "9/9 [==============================] - 0s 24ms/step - loss: 0.0622\n",
      "Epoch 34/100\n",
      "9/9 [==============================] - 0s 25ms/step - loss: 0.0636\n",
      "Epoch 35/100\n",
      "9/9 [==============================] - 0s 21ms/step - loss: 0.0627\n",
      "Epoch 36/100\n",
      "9/9 [==============================] - 0s 21ms/step - loss: 0.0648\n",
      "Epoch 37/100\n",
      "9/9 [==============================] - 0s 21ms/step - loss: 0.0612\n",
      "Epoch 38/100\n",
      "9/9 [==============================] - 0s 21ms/step - loss: 0.0593\n",
      "Epoch 39/100\n",
      "9/9 [==============================] - 0s 22ms/step - loss: 0.0645\n",
      "Epoch 40/100\n",
      "9/9 [==============================] - 0s 25ms/step - loss: 0.0621\n",
      "Epoch 41/100\n",
      "9/9 [==============================] - 0s 20ms/step - loss: 0.0622\n",
      "Epoch 42/100\n",
      "9/9 [==============================] - 0s 21ms/step - loss: 0.0583\n",
      "Epoch 43/100\n",
      "9/9 [==============================] - 0s 21ms/step - loss: 0.0587\n",
      "Epoch 44/100\n",
      "9/9 [==============================] - 0s 21ms/step - loss: 0.0586\n",
      "Epoch 45/100\n",
      "9/9 [==============================] - 0s 22ms/step - loss: 0.0582\n",
      "Epoch 46/100\n",
      "9/9 [==============================] - 0s 24ms/step - loss: 0.0623\n",
      "Epoch 47/100\n",
      "9/9 [==============================] - 0s 30ms/step - loss: 0.0616\n",
      "Epoch 48/100\n",
      "9/9 [==============================] - 0s 24ms/step - loss: 0.0570\n",
      "Epoch 49/100\n",
      "9/9 [==============================] - 0s 28ms/step - loss: 0.0590\n",
      "Epoch 50/100\n",
      "9/9 [==============================] - 0s 27ms/step - loss: 0.0628\n",
      "Epoch 51/100\n",
      "9/9 [==============================] - 0s 28ms/step - loss: 0.0594\n",
      "Epoch 52/100\n",
      "9/9 [==============================] - 0s 28ms/step - loss: 0.0572\n",
      "Epoch 53/100\n",
      "9/9 [==============================] - 0s 28ms/step - loss: 0.0578\n",
      "Epoch 54/100\n",
      "9/9 [==============================] - 0s 23ms/step - loss: 0.0587\n",
      "Epoch 55/100\n",
      "9/9 [==============================] - 0s 24ms/step - loss: 0.0609\n",
      "Epoch 56/100\n",
      "9/9 [==============================] - 0s 28ms/step - loss: 0.0592\n",
      "Epoch 57/100\n",
      "9/9 [==============================] - 0s 24ms/step - loss: 0.0571\n",
      "Epoch 58/100\n",
      "9/9 [==============================] - 0s 23ms/step - loss: 0.0577\n",
      "Epoch 59/100\n",
      "9/9 [==============================] - 0s 24ms/step - loss: 0.0595\n",
      "Epoch 60/100\n",
      "9/9 [==============================] - 0s 24ms/step - loss: 0.0581\n",
      "Epoch 61/100\n",
      "9/9 [==============================] - 0s 23ms/step - loss: 0.0568\n",
      "Epoch 62/100\n",
      "9/9 [==============================] - 0s 26ms/step - loss: 0.0602\n",
      "Epoch 63/100\n",
      "9/9 [==============================] - 0s 23ms/step - loss: 0.0569\n",
      "Epoch 64/100\n",
      "9/9 [==============================] - 0s 23ms/step - loss: 0.0583\n",
      "Epoch 65/100\n",
      "9/9 [==============================] - 0s 27ms/step - loss: 0.0569\n",
      "Epoch 66/100\n",
      "9/9 [==============================] - 0s 24ms/step - loss: 0.0584\n",
      "Epoch 67/100\n",
      "9/9 [==============================] - 0s 26ms/step - loss: 0.0569\n",
      "Epoch 68/100\n",
      "9/9 [==============================] - 0s 30ms/step - loss: 0.0568\n",
      "Epoch 69/100\n",
      "9/9 [==============================] - 0s 24ms/step - loss: 0.0544\n",
      "Epoch 70/100\n",
      "9/9 [==============================] - 0s 24ms/step - loss: 0.0566\n",
      "Epoch 71/100\n",
      "9/9 [==============================] - 0s 27ms/step - loss: 0.0547\n",
      "Epoch 72/100\n",
      "9/9 [==============================] - 0s 25ms/step - loss: 0.0552\n",
      "Epoch 73/100\n",
      "9/9 [==============================] - 0s 23ms/step - loss: 0.0586\n",
      "Epoch 74/100\n",
      "9/9 [==============================] - 0s 27ms/step - loss: 0.0547\n",
      "Epoch 75/100\n",
      "9/9 [==============================] - 0s 23ms/step - loss: 0.0542\n",
      "Epoch 76/100\n",
      "9/9 [==============================] - 0s 26ms/step - loss: 0.0585\n",
      "Epoch 77/100\n",
      "9/9 [==============================] - 0s 28ms/step - loss: 0.0575\n",
      "Epoch 78/100\n",
      "9/9 [==============================] - 0s 26ms/step - loss: 0.0543\n",
      "Epoch 79/100\n",
      "9/9 [==============================] - 0s 31ms/step - loss: 0.0570\n",
      "Epoch 80/100\n",
      "9/9 [==============================] - 0s 33ms/step - loss: 0.0562\n",
      "Epoch 81/100\n",
      "9/9 [==============================] - 0s 26ms/step - loss: 0.0548\n",
      "Epoch 82/100\n",
      "9/9 [==============================] - 0s 23ms/step - loss: 0.0548\n",
      "Epoch 83/100\n",
      "9/9 [==============================] - 0s 27ms/step - loss: 0.0571\n",
      "Epoch 84/100\n",
      "9/9 [==============================] - 0s 24ms/step - loss: 0.0566\n",
      "Epoch 85/100\n",
      "9/9 [==============================] - 0s 24ms/step - loss: 0.0564\n",
      "Epoch 86/100\n",
      "9/9 [==============================] - 0s 28ms/step - loss: 0.0574\n",
      "Epoch 87/100\n",
      "9/9 [==============================] - 0s 23ms/step - loss: 0.0553\n",
      "Epoch 88/100\n",
      "9/9 [==============================] - 0s 23ms/step - loss: 0.0557\n",
      "Epoch 89/100\n",
      "9/9 [==============================] - 0s 24ms/step - loss: 0.0590\n",
      "Epoch 90/100\n",
      "9/9 [==============================] - 0s 24ms/step - loss: 0.0570\n",
      "Epoch 91/100\n",
      "9/9 [==============================] - 0s 24ms/step - loss: 0.0550\n",
      "Epoch 92/100\n",
      "9/9 [==============================] - 0s 27ms/step - loss: 0.0557\n",
      "Epoch 93/100\n",
      "9/9 [==============================] - 0s 24ms/step - loss: 0.0569\n",
      "Epoch 94/100\n",
      "9/9 [==============================] - 0s 24ms/step - loss: 0.0561\n",
      "Epoch 95/100\n",
      "9/9 [==============================] - 0s 26ms/step - loss: 0.0585\n",
      "Epoch 96/100\n",
      "9/9 [==============================] - 0s 23ms/step - loss: 0.0546\n",
      "Epoch 97/100\n",
      "9/9 [==============================] - 0s 25ms/step - loss: 0.0547\n",
      "Epoch 98/100\n",
      "9/9 [==============================] - 0s 26ms/step - loss: 0.0548\n",
      "Epoch 99/100\n",
      "9/9 [==============================] - 0s 23ms/step - loss: 0.0532\n",
      "Epoch 100/100\n",
      "9/9 [==============================] - 0s 23ms/step - loss: 0.0517\n"
     ]
    },
    {
     "data": {
      "text/plain": [
       "<keras.callbacks.History at 0x22d716e3e80>"
      ]
     },
     "execution_count": 13,
     "metadata": {},
     "output_type": "execute_result"
    }
   ],
   "source": [
    "model.fit(X_train, y_train, epochs=100, shuffle=False, batch_size=90, verbose=1)\n"
   ]
  },
  {
   "cell_type": "code",
   "execution_count": 14,
   "metadata": {},
   "outputs": [
    {
     "name": "stdout",
     "output_type": "stream",
     "text": [
      "11/11 [==============================] - 1s 4ms/step - loss: 0.0192\n"
     ]
    },
    {
     "data": {
      "text/plain": [
       "0.01918642781674862"
      ]
     },
     "execution_count": 14,
     "metadata": {},
     "output_type": "execute_result"
    }
   ],
   "source": [
    "model.evaluate(X_test, y_test)"
   ]
  },
  {
   "cell_type": "code",
   "execution_count": 15,
   "metadata": {},
   "outputs": [
    {
     "name": "stdout",
     "output_type": "stream",
     "text": [
      "11/11 [==============================] - 1s 5ms/step\n"
     ]
    }
   ],
   "source": [
    "predict = model.predict(X_test)"
   ]
  },
  {
   "cell_type": "code",
   "execution_count": 16,
   "metadata": {},
   "outputs": [],
   "source": [
    "predicted_prices = scaler.inverse_transform(predict)\n",
    "real_prices = scaler.inverse_transform(y_test.reshape(-1, 1))"
   ]
  },
  {
   "cell_type": "code",
   "execution_count": 17,
   "metadata": {},
   "outputs": [
    {
     "data": {
      "text/html": [
       "<div>\n",
       "<style scoped>\n",
       "    .dataframe tbody tr th:only-of-type {\n",
       "        vertical-align: middle;\n",
       "    }\n",
       "\n",
       "    .dataframe tbody tr th {\n",
       "        vertical-align: top;\n",
       "    }\n",
       "\n",
       "    .dataframe thead th {\n",
       "        text-align: right;\n",
       "    }\n",
       "</style>\n",
       "<table border=\"1\" class=\"dataframe\">\n",
       "  <thead>\n",
       "    <tr style=\"text-align: right;\">\n",
       "      <th></th>\n",
       "      <th>actual</th>\n",
       "      <th>predicted</th>\n",
       "    </tr>\n",
       "  </thead>\n",
       "  <tbody>\n",
       "    <tr>\n",
       "      <th>2021-07-09</th>\n",
       "      <td>47.55</td>\n",
       "      <td>38.414513</td>\n",
       "    </tr>\n",
       "    <tr>\n",
       "      <th>2021-07-10</th>\n",
       "      <td>49.07</td>\n",
       "      <td>38.346394</td>\n",
       "    </tr>\n",
       "    <tr>\n",
       "      <th>2021-07-11</th>\n",
       "      <td>49.07</td>\n",
       "      <td>38.301891</td>\n",
       "    </tr>\n",
       "    <tr>\n",
       "      <th>2021-07-12</th>\n",
       "      <td>49.07</td>\n",
       "      <td>38.281719</td>\n",
       "    </tr>\n",
       "    <tr>\n",
       "      <th>2021-07-13</th>\n",
       "      <td>48.41</td>\n",
       "      <td>38.250069</td>\n",
       "    </tr>\n",
       "  </tbody>\n",
       "</table>\n",
       "</div>"
      ],
      "text/plain": [
       "            actual  predicted\n",
       "2021-07-09   47.55  38.414513\n",
       "2021-07-10   49.07  38.346394\n",
       "2021-07-11   49.07  38.301891\n",
       "2021-07-12   49.07  38.281719\n",
       "2021-07-13   48.41  38.250069"
      ]
     },
     "execution_count": 17,
     "metadata": {},
     "output_type": "execute_result"
    }
   ],
   "source": [
    "# Create a DataFrame of Real and Predicted values\n",
    "stocks = pd.DataFrame({\n",
    "    \"actual\": real_prices.ravel(),\n",
    "    \"predicted\": predicted_prices.ravel()\n",
    "}, index = uber_sent_df.index[-len(real_prices): ]) \n",
    "stocks.head()"
   ]
  },
  {
   "cell_type": "code",
   "execution_count": 18,
   "metadata": {},
   "outputs": [
    {
     "data": {
      "text/plain": [
       "<AxesSubplot:>"
      ]
     },
     "execution_count": 18,
     "metadata": {},
     "output_type": "execute_result"
    },
    {
     "data": {
      "image/png": "[encoded data removed]",
      "text/plain": [
       "<Figure size 432x288 with 1 Axes>"
      ]
     },
     "metadata": {
      "needs_background": "light"
     },
     "output_type": "display_data"
    }
   ],
   "source": [
    "stocks.plot()"
   ]
  },
  {
   "cell_type": "code",
   "execution_count": 19,
   "metadata": {},
   "outputs": [
    {
     "data": {
      "text/html": [
       "<div>\n",
       "<style scoped>\n",
       "    .dataframe tbody tr th:only-of-type {\n",
       "        vertical-align: middle;\n",
       "    }\n",
       "\n",
       "    .dataframe tbody tr th {\n",
       "        vertical-align: top;\n",
       "    }\n",
       "\n",
       "    .dataframe thead th {\n",
       "        text-align: right;\n",
       "    }\n",
       "</style>\n",
       "<table border=\"1\" class=\"dataframe\">\n",
       "  <thead>\n",
       "    <tr style=\"text-align: right;\">\n",
       "      <th></th>\n",
       "      <th>actual</th>\n",
       "      <th>predicted</th>\n",
       "      <th>difference</th>\n",
       "      <th>error</th>\n",
       "    </tr>\n",
       "  </thead>\n",
       "  <tbody>\n",
       "    <tr>\n",
       "      <th>2021-07-09</th>\n",
       "      <td>47.55</td>\n",
       "      <td>38.414513</td>\n",
       "      <td>9.135487</td>\n",
       "      <td>19.212381</td>\n",
       "    </tr>\n",
       "    <tr>\n",
       "      <th>2021-07-10</th>\n",
       "      <td>49.07</td>\n",
       "      <td>38.346394</td>\n",
       "      <td>10.723606</td>\n",
       "      <td>21.853691</td>\n",
       "    </tr>\n",
       "    <tr>\n",
       "      <th>2021-07-11</th>\n",
       "      <td>49.07</td>\n",
       "      <td>38.301891</td>\n",
       "      <td>10.768109</td>\n",
       "      <td>21.944383</td>\n",
       "    </tr>\n",
       "    <tr>\n",
       "      <th>2021-07-12</th>\n",
       "      <td>49.07</td>\n",
       "      <td>38.281719</td>\n",
       "      <td>10.788281</td>\n",
       "      <td>21.985492</td>\n",
       "    </tr>\n",
       "    <tr>\n",
       "      <th>2021-07-13</th>\n",
       "      <td>48.41</td>\n",
       "      <td>38.250069</td>\n",
       "      <td>10.159931</td>\n",
       "      <td>20.987257</td>\n",
       "    </tr>\n",
       "  </tbody>\n",
       "</table>\n",
       "</div>"
      ],
      "text/plain": [
       "            actual  predicted  difference      error\n",
       "2021-07-09   47.55  38.414513    9.135487  19.212381\n",
       "2021-07-10   49.07  38.346394   10.723606  21.853691\n",
       "2021-07-11   49.07  38.301891   10.768109  21.944383\n",
       "2021-07-12   49.07  38.281719   10.788281  21.985492\n",
       "2021-07-13   48.41  38.250069   10.159931  20.987257"
      ]
     },
     "execution_count": 19,
     "metadata": {},
     "output_type": "execute_result"
    }
   ],
   "source": [
    "\n",
    "stocks_dif = stocks\n",
    "stocks_dif['difference'] = stocks_dif.actual - stocks_dif.predicted\n",
    "stocks_dif['error'] = (stocks_dif.difference/stocks_dif.actual) * 100\n",
    "stocks_dif.head()"
   ]
  },
  {
   "cell_type": "code",
   "execution_count": 20,
   "metadata": {},
   "outputs": [
    {
     "data": {
      "text/html": [
       "<div>\n",
       "<style scoped>\n",
       "    .dataframe tbody tr th:only-of-type {\n",
       "        vertical-align: middle;\n",
       "    }\n",
       "\n",
       "    .dataframe tbody tr th {\n",
       "        vertical-align: top;\n",
       "    }\n",
       "\n",
       "    .dataframe thead th {\n",
       "        text-align: right;\n",
       "    }\n",
       "</style>\n",
       "<table border=\"1\" class=\"dataframe\">\n",
       "  <thead>\n",
       "    <tr style=\"text-align: right;\">\n",
       "      <th></th>\n",
       "      <th>stockmarket_positive_sentiment</th>\n",
       "      <th>close</th>\n",
       "    </tr>\n",
       "  </thead>\n",
       "  <tbody>\n",
       "    <tr>\n",
       "      <th>stockmarket_positive_sentiment</th>\n",
       "      <td>1.000000</td>\n",
       "      <td>0.069903</td>\n",
       "    </tr>\n",
       "    <tr>\n",
       "      <th>close</th>\n",
       "      <td>0.069903</td>\n",
       "      <td>1.000000</td>\n",
       "    </tr>\n",
       "  </tbody>\n",
       "</table>\n",
       "</div>"
      ],
      "text/plain": [
       "                                stockmarket_positive_sentiment     close\n",
       "stockmarket_positive_sentiment                        1.000000  0.069903\n",
       "close                                                 0.069903  1.000000"
      ]
     },
     "execution_count": 20,
     "metadata": {},
     "output_type": "execute_result"
    }
   ],
   "source": [
    "uber_sent_df[['stockmarket_positive_sentiment', 'close']].corr()"
   ]
  },
  {
   "cell_type": "code",
   "execution_count": null,
   "metadata": {},
   "outputs": [],
   "source": []
  }
 ],
 "metadata": {
  "interpreter": {
   "hash": "fd5f0602b361fcd80b6e43c9db32d5ff96b182a40640908c77b502a93aa9387e"
  },
  "kernelspec": {
   "display_name": "Python 3.9.7 ('base')",
   "language": "python",
   "name": "python3"
  },
  "language_info": {
   "codemirror_mode": {
    "name": "ipython",
    "version": 3
   },
   "file_extension": ".py",
   "mimetype": "text/x-python",
   "name": "python",
   "nbconvert_exporter": "python",
   "pygments_lexer": "ipython3",
   "version": "3.9.7"
  },
  "orig_nbformat": 4
 },
 "nbformat": 4,
 "nbformat_minor": 2
}
