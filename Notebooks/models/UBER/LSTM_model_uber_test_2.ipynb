{
 "cells": [
  {
   "cell_type": "code",
   "execution_count": 1,
   "metadata": {},
   "outputs": [],
   "source": [
    "import numpy as np\n",
    "import pandas as pd\n",
    "\n",
    "%matplotlib inline"
   ]
  },
  {
   "cell_type": "code",
   "execution_count": 2,
   "metadata": {},
   "outputs": [],
   "source": [
    "#Testing potential models"
   ]
  },
  {
   "cell_type": "markdown",
   "metadata": {},
   "source": [
    "LSTM model using uber sec compound sentiment data plus closing prices"
   ]
  },
  {
   "cell_type": "code",
   "execution_count": 3,
   "metadata": {},
   "outputs": [
    {
     "data": {
      "text/html": [
       "<div>\n",
       "<style scoped>\n",
       "    .dataframe tbody tr th:only-of-type {\n",
       "        vertical-align: middle;\n",
       "    }\n",
       "\n",
       "    .dataframe tbody tr th {\n",
       "        vertical-align: top;\n",
       "    }\n",
       "\n",
       "    .dataframe thead th {\n",
       "        text-align: right;\n",
       "    }\n",
       "</style>\n",
       "<table border=\"1\" class=\"dataframe\">\n",
       "  <thead>\n",
       "    <tr style=\"text-align: right;\">\n",
       "      <th></th>\n",
       "      <th>sec_compound_sentiment</th>\n",
       "      <th>sec_positive_sentiment</th>\n",
       "      <th>sec_neutral sentiment</th>\n",
       "      <th>sec_negative_sentiment</th>\n",
       "      <th>stockmarket_compound_sentiment</th>\n",
       "      <th>stockmarket_positive_sentiment</th>\n",
       "      <th>stockmarket_neutral_sentiment</th>\n",
       "      <th>stockmarket_negative_sentiment</th>\n",
       "      <th>volume</th>\n",
       "      <th>close</th>\n",
       "    </tr>\n",
       "  </thead>\n",
       "  <tbody>\n",
       "    <tr>\n",
       "      <th>2019-05-10</th>\n",
       "      <td>1.0</td>\n",
       "      <td>0.111</td>\n",
       "      <td>0.846</td>\n",
       "      <td>0.042</td>\n",
       "      <td>0.060230</td>\n",
       "      <td>0.085886</td>\n",
       "      <td>0.841045</td>\n",
       "      <td>0.073045</td>\n",
       "      <td>189836990.0</td>\n",
       "      <td>41.57</td>\n",
       "    </tr>\n",
       "    <tr>\n",
       "      <th>2019-05-11</th>\n",
       "      <td>1.0</td>\n",
       "      <td>0.111</td>\n",
       "      <td>0.846</td>\n",
       "      <td>0.042</td>\n",
       "      <td>-0.114408</td>\n",
       "      <td>0.024583</td>\n",
       "      <td>0.885333</td>\n",
       "      <td>0.090000</td>\n",
       "      <td>189836990.0</td>\n",
       "      <td>41.57</td>\n",
       "    </tr>\n",
       "    <tr>\n",
       "      <th>2019-05-12</th>\n",
       "      <td>1.0</td>\n",
       "      <td>0.111</td>\n",
       "      <td>0.846</td>\n",
       "      <td>0.042</td>\n",
       "      <td>0.069736</td>\n",
       "      <td>0.098000</td>\n",
       "      <td>0.844818</td>\n",
       "      <td>0.057091</td>\n",
       "      <td>189836990.0</td>\n",
       "      <td>41.57</td>\n",
       "    </tr>\n",
       "    <tr>\n",
       "      <th>2019-05-13</th>\n",
       "      <td>1.0</td>\n",
       "      <td>0.111</td>\n",
       "      <td>0.846</td>\n",
       "      <td>0.042</td>\n",
       "      <td>0.006767</td>\n",
       "      <td>0.069667</td>\n",
       "      <td>0.877000</td>\n",
       "      <td>0.053333</td>\n",
       "      <td>79478203.0</td>\n",
       "      <td>37.10</td>\n",
       "    </tr>\n",
       "    <tr>\n",
       "      <th>2019-05-14</th>\n",
       "      <td>1.0</td>\n",
       "      <td>0.111</td>\n",
       "      <td>0.846</td>\n",
       "      <td>0.042</td>\n",
       "      <td>0.006767</td>\n",
       "      <td>0.069667</td>\n",
       "      <td>0.877000</td>\n",
       "      <td>0.053333</td>\n",
       "      <td>46661187.0</td>\n",
       "      <td>39.96</td>\n",
       "    </tr>\n",
       "  </tbody>\n",
       "</table>\n",
       "</div>"
      ],
      "text/plain": [
       "            sec_compound_sentiment  sec_positive_sentiment  \\\n",
       "2019-05-10                     1.0                   0.111   \n",
       "2019-05-11                     1.0                   0.111   \n",
       "2019-05-12                     1.0                   0.111   \n",
       "2019-05-13                     1.0                   0.111   \n",
       "2019-05-14                     1.0                   0.111   \n",
       "\n",
       "            sec_neutral sentiment  sec_negative_sentiment  \\\n",
       "2019-05-10                  0.846                   0.042   \n",
       "2019-05-11                  0.846                   0.042   \n",
       "2019-05-12                  0.846                   0.042   \n",
       "2019-05-13                  0.846                   0.042   \n",
       "2019-05-14                  0.846                   0.042   \n",
       "\n",
       "            stockmarket_compound_sentiment  stockmarket_positive_sentiment  \\\n",
       "2019-05-10                        0.060230                        0.085886   \n",
       "2019-05-11                       -0.114408                        0.024583   \n",
       "2019-05-12                        0.069736                        0.098000   \n",
       "2019-05-13                        0.006767                        0.069667   \n",
       "2019-05-14                        0.006767                        0.069667   \n",
       "\n",
       "            stockmarket_neutral_sentiment  stockmarket_negative_sentiment  \\\n",
       "2019-05-10                       0.841045                        0.073045   \n",
       "2019-05-11                       0.885333                        0.090000   \n",
       "2019-05-12                       0.844818                        0.057091   \n",
       "2019-05-13                       0.877000                        0.053333   \n",
       "2019-05-14                       0.877000                        0.053333   \n",
       "\n",
       "                 volume  close  \n",
       "2019-05-10  189836990.0  41.57  \n",
       "2019-05-11  189836990.0  41.57  \n",
       "2019-05-12  189836990.0  41.57  \n",
       "2019-05-13   79478203.0  37.10  \n",
       "2019-05-14   46661187.0  39.96  "
      ]
     },
     "execution_count": 3,
     "metadata": {},
     "output_type": "execute_result"
    }
   ],
   "source": [
    "uber_sent_df = pd.read_csv('/Users/krist/OneDrive/Desktop/P2G2-ProjectGit/Notebooks/models/resources/UBER_sent_copy.csv', index_col=0)\n",
    "uber_sent_df.head()"
   ]
  },
  {
   "cell_type": "code",
   "execution_count": 4,
   "metadata": {},
   "outputs": [],
   "source": [
    "def window_data(df, window, feature_col_number, target_col_number):\n",
    "    X = []\n",
    "    y = []\n",
    "    for i in range(len(df) - window - 1):\n",
    "        features = df.iloc[i:(i + window), feature_col_number]\n",
    "        target = df.iloc[(i + window), target_col_number]\n",
    "        X.append(features)\n",
    "        y.append(target)\n",
    "    return np.array(X), np.array(y).reshape(-1, 1)"
   ]
  },
  {
   "cell_type": "code",
   "execution_count": 5,
   "metadata": {},
   "outputs": [],
   "source": [
    "#Setting the feature col to SEC compound sent and target col to closing prices\n",
    "X, y = window_data(uber_sent_df, window=30, feature_col_number=0, target_col_number=9)"
   ]
  },
  {
   "cell_type": "code",
   "execution_count": 6,
   "metadata": {},
   "outputs": [],
   "source": [
    "# Use 70% of the data for training and the remaineder for testing\n",
    "split = int(0.7 * len(X))\n",
    "X_train = X[: split]\n",
    "X_test = X[split:]\n",
    "y_train = y[: split]\n",
    "y_test = y[split:]\n"
   ]
  },
  {
   "cell_type": "code",
   "execution_count": 7,
   "metadata": {},
   "outputs": [],
   "source": [
    "from sklearn.preprocessing import MinMaxScaler\n",
    "# Use the MinMaxScaler to scale data between 0 and 1.\n",
    "# Create a MinMaxScaler object\n",
    "scaler = MinMaxScaler()\n",
    "\n",
    "# Fit the MinMaxScaler object with the features data X\n",
    "scaler.fit(X_train)\n",
    "\n",
    "# Scale the features training and testing sets\n",
    "X_train = scaler.transform(X_train)\n",
    "X_test = scaler.transform(X_test)\n",
    "\n",
    "# Fit the MinMaxScaler object with the target data Y\n",
    "scaler.fit(y_train)\n",
    "\n",
    "# Scale the target training and testing sets\n",
    "y_train = scaler.transform(y_train)\n",
    "y_test = scaler.transform(y_test)"
   ]
  },
  {
   "cell_type": "code",
   "execution_count": 8,
   "metadata": {},
   "outputs": [],
   "source": [
    "# Reshape the features for the model\n",
    "\n",
    "X_train = X_train.reshape((X_train.shape[0], X_train.shape[1], 1))\n",
    "X_test = X_test.reshape((X_test.shape[0], X_test.shape[1], 1))"
   ]
  },
  {
   "cell_type": "code",
   "execution_count": 9,
   "metadata": {},
   "outputs": [],
   "source": [
    "from tensorflow.keras.models import Sequential\n",
    "from tensorflow.keras.layers import LSTM, Dense, Dropout"
   ]
  },
  {
   "cell_type": "code",
   "execution_count": 10,
   "metadata": {},
   "outputs": [],
   "source": [
    "\n",
    "model = Sequential()\n",
    "\n",
    "number_units = 5\n",
    "dropout_fraction = 0.2\n",
    "\n",
    "#Layer 1\n",
    "model.add(LSTM(\n",
    "    units=number_units,\n",
    "    return_sequences=True,\n",
    "    input_shape=(X_train.shape[1], 1))\n",
    "    )\n",
    "model.add(Dropout(dropout_fraction))\n",
    "\n",
    "#Layer 2\n",
    "model.add(LSTM(units=number_units, return_sequences=True))\n",
    "model.add(Dropout(dropout_fraction))\n",
    "\n",
    "#Layer 3\n",
    "model.add(LSTM(units=number_units))\n",
    "model.add(Dropout(dropout_fraction))\n",
    "\n",
    "#Output Layer\n",
    "model.add(Dense(1))"
   ]
  },
  {
   "cell_type": "code",
   "execution_count": 11,
   "metadata": {},
   "outputs": [],
   "source": [
    "model.compile(optimizer='adam', loss = 'mean_squared_error')\n"
   ]
  },
  {
   "cell_type": "code",
   "execution_count": 12,
   "metadata": {},
   "outputs": [
    {
     "name": "stdout",
     "output_type": "stream",
     "text": [
      "Model: \"sequential\"\n",
      "_________________________________________________________________\n",
      " Layer (type)                Output Shape              Param #   \n",
      "=================================================================\n",
      " lstm (LSTM)                 (None, 30, 5)             140       \n",
      "                                                                 \n",
      " dropout (Dropout)           (None, 30, 5)             0         \n",
      "                                                                 \n",
      " lstm_1 (LSTM)               (None, 30, 5)             220       \n",
      "                                                                 \n",
      " dropout_1 (Dropout)         (None, 30, 5)             0         \n",
      "                                                                 \n",
      " lstm_2 (LSTM)               (None, 5)                 220       \n",
      "                                                                 \n",
      " dropout_2 (Dropout)         (None, 5)                 0         \n",
      "                                                                 \n",
      " dense (Dense)               (None, 1)                 6         \n",
      "                                                                 \n",
      "=================================================================\n",
      "Total params: 586\n",
      "Trainable params: 586\n",
      "Non-trainable params: 0\n",
      "_________________________________________________________________\n"
     ]
    }
   ],
   "source": [
    "model.summary()\n"
   ]
  },
  {
   "cell_type": "code",
   "execution_count": 13,
   "metadata": {},
   "outputs": [
    {
     "name": "stdout",
     "output_type": "stream",
     "text": [
      "Epoch 1/50\n",
      "24/24 [==============================] - 5s 22ms/step - loss: 0.2453\n",
      "Epoch 2/50\n",
      "24/24 [==============================] - 1s 22ms/step - loss: 0.1106\n",
      "Epoch 3/50\n",
      "24/24 [==============================] - 1s 21ms/step - loss: 0.0784\n",
      "Epoch 4/50\n",
      "24/24 [==============================] - 1s 21ms/step - loss: 0.0884\n",
      "Epoch 5/50\n",
      "24/24 [==============================] - 1s 23ms/step - loss: 0.0710\n",
      "Epoch 6/50\n",
      "24/24 [==============================] - 1s 21ms/step - loss: 0.0727\n",
      "Epoch 7/50\n",
      "24/24 [==============================] - 1s 21ms/step - loss: 0.0713\n",
      "Epoch 8/50\n",
      "24/24 [==============================] - 1s 21ms/step - loss: 0.0670\n",
      "Epoch 9/50\n",
      "24/24 [==============================] - 1s 22ms/step - loss: 0.0745\n",
      "Epoch 10/50\n",
      "24/24 [==============================] - 1s 21ms/step - loss: 0.0656\n",
      "Epoch 11/50\n",
      "24/24 [==============================] - 1s 21ms/step - loss: 0.0663\n",
      "Epoch 12/50\n",
      "24/24 [==============================] - 1s 21ms/step - loss: 0.0660\n",
      "Epoch 13/50\n",
      "24/24 [==============================] - 1s 21ms/step - loss: 0.0668\n",
      "Epoch 14/50\n",
      "24/24 [==============================] - 0s 21ms/step - loss: 0.0711\n",
      "Epoch 15/50\n",
      "24/24 [==============================] - 0s 21ms/step - loss: 0.0665\n",
      "Epoch 16/50\n",
      "24/24 [==============================] - 1s 22ms/step - loss: 0.0640\n",
      "Epoch 17/50\n",
      "24/24 [==============================] - 1s 27ms/step - loss: 0.0670\n",
      "Epoch 18/50\n",
      "24/24 [==============================] - 1s 24ms/step - loss: 0.0630\n",
      "Epoch 19/50\n",
      "24/24 [==============================] - 1s 23ms/step - loss: 0.0628\n",
      "Epoch 20/50\n",
      "24/24 [==============================] - 1s 26ms/step - loss: 0.0656\n",
      "Epoch 21/50\n",
      "24/24 [==============================] - 1s 22ms/step - loss: 0.0608\n",
      "Epoch 22/50\n",
      "24/24 [==============================] - 0s 20ms/step - loss: 0.0654\n",
      "Epoch 23/50\n",
      "24/24 [==============================] - 1s 22ms/step - loss: 0.0600\n",
      "Epoch 24/50\n",
      "24/24 [==============================] - 1s 27ms/step - loss: 0.0616\n",
      "Epoch 25/50\n",
      "24/24 [==============================] - 1s 21ms/step - loss: 0.0624\n",
      "Epoch 26/50\n",
      "24/24 [==============================] - 1s 24ms/step - loss: 0.0611\n",
      "Epoch 27/50\n",
      "24/24 [==============================] - 1s 22ms/step - loss: 0.0610\n",
      "Epoch 28/50\n",
      "24/24 [==============================] - 1s 23ms/step - loss: 0.0618\n",
      "Epoch 29/50\n",
      "24/24 [==============================] - 1s 22ms/step - loss: 0.0584\n",
      "Epoch 30/50\n",
      "24/24 [==============================] - 1s 23ms/step - loss: 0.0635\n",
      "Epoch 31/50\n",
      "24/24 [==============================] - 1s 25ms/step - loss: 0.0601\n",
      "Epoch 32/50\n",
      "24/24 [==============================] - 1s 23ms/step - loss: 0.0626\n",
      "Epoch 33/50\n",
      "24/24 [==============================] - 1s 24ms/step - loss: 0.0625\n",
      "Epoch 34/50\n",
      "24/24 [==============================] - 1s 21ms/step - loss: 0.0603\n",
      "Epoch 35/50\n",
      "24/24 [==============================] - 0s 20ms/step - loss: 0.0586\n",
      "Epoch 36/50\n",
      "24/24 [==============================] - 0s 20ms/step - loss: 0.0595\n",
      "Epoch 37/50\n",
      "24/24 [==============================] - 0s 20ms/step - loss: 0.0601\n",
      "Epoch 38/50\n",
      "24/24 [==============================] - 0s 21ms/step - loss: 0.0592\n",
      "Epoch 39/50\n",
      "24/24 [==============================] - 0s 20ms/step - loss: 0.0570\n",
      "Epoch 40/50\n",
      "24/24 [==============================] - 0s 20ms/step - loss: 0.0582\n",
      "Epoch 41/50\n",
      "24/24 [==============================] - 1s 23ms/step - loss: 0.0570\n",
      "Epoch 42/50\n",
      "24/24 [==============================] - 1s 27ms/step - loss: 0.0605\n",
      "Epoch 43/50\n",
      "24/24 [==============================] - 1s 31ms/step - loss: 0.0567\n",
      "Epoch 44/50\n",
      "24/24 [==============================] - 1s 29ms/step - loss: 0.0570\n",
      "Epoch 45/50\n",
      "24/24 [==============================] - 1s 29ms/step - loss: 0.0544\n",
      "Epoch 46/50\n",
      "24/24 [==============================] - 1s 29ms/step - loss: 0.0585\n",
      "Epoch 47/50\n",
      "24/24 [==============================] - 1s 29ms/step - loss: 0.0566\n",
      "Epoch 48/50\n",
      "24/24 [==============================] - 1s 28ms/step - loss: 0.0554\n",
      "Epoch 49/50\n",
      "24/24 [==============================] - 1s 29ms/step - loss: 0.0573\n",
      "Epoch 50/50\n",
      "24/24 [==============================] - 1s 26ms/step - loss: 0.0565\n"
     ]
    },
    {
     "data": {
      "text/plain": [
       "<keras.callbacks.History at 0x1a45626d250>"
      ]
     },
     "execution_count": 13,
     "metadata": {},
     "output_type": "execute_result"
    }
   ],
   "source": [
    "model.fit(X_train, y_train, epochs=50, shuffle=False, batch_size=32, verbose=1)\n"
   ]
  },
  {
   "cell_type": "code",
   "execution_count": 14,
   "metadata": {},
   "outputs": [
    {
     "name": "stdout",
     "output_type": "stream",
     "text": [
      "11/11 [==============================] - 2s 5ms/step - loss: 0.0196\n"
     ]
    },
    {
     "data": {
      "text/plain": [
       "0.019573833793401718"
      ]
     },
     "execution_count": 14,
     "metadata": {},
     "output_type": "execute_result"
    }
   ],
   "source": [
    "model.evaluate(X_test, y_test)"
   ]
  },
  {
   "cell_type": "code",
   "execution_count": 15,
   "metadata": {},
   "outputs": [
    {
     "name": "stdout",
     "output_type": "stream",
     "text": [
      "11/11 [==============================] - 1s 5ms/step\n"
     ]
    }
   ],
   "source": [
    "predict = model.predict(X_test)"
   ]
  },
  {
   "cell_type": "code",
   "execution_count": 16,
   "metadata": {},
   "outputs": [],
   "source": [
    "predicted_prices = scaler.inverse_transform(predict)\n",
    "real_prices = scaler.inverse_transform(y_test.reshape(-1, 1))"
   ]
  },
  {
   "cell_type": "code",
   "execution_count": 17,
   "metadata": {},
   "outputs": [
    {
     "data": {
      "text/html": [
       "<div>\n",
       "<style scoped>\n",
       "    .dataframe tbody tr th:only-of-type {\n",
       "        vertical-align: middle;\n",
       "    }\n",
       "\n",
       "    .dataframe tbody tr th {\n",
       "        vertical-align: top;\n",
       "    }\n",
       "\n",
       "    .dataframe thead th {\n",
       "        text-align: right;\n",
       "    }\n",
       "</style>\n",
       "<table border=\"1\" class=\"dataframe\">\n",
       "  <thead>\n",
       "    <tr style=\"text-align: right;\">\n",
       "      <th></th>\n",
       "      <th>actual</th>\n",
       "      <th>predicted</th>\n",
       "    </tr>\n",
       "  </thead>\n",
       "  <tbody>\n",
       "    <tr>\n",
       "      <th>2021-07-09</th>\n",
       "      <td>47.55</td>\n",
       "      <td>39.071396</td>\n",
       "    </tr>\n",
       "    <tr>\n",
       "      <th>2021-07-10</th>\n",
       "      <td>49.07</td>\n",
       "      <td>39.071396</td>\n",
       "    </tr>\n",
       "    <tr>\n",
       "      <th>2021-07-11</th>\n",
       "      <td>49.07</td>\n",
       "      <td>39.071396</td>\n",
       "    </tr>\n",
       "    <tr>\n",
       "      <th>2021-07-12</th>\n",
       "      <td>49.07</td>\n",
       "      <td>39.071396</td>\n",
       "    </tr>\n",
       "    <tr>\n",
       "      <th>2021-07-13</th>\n",
       "      <td>48.41</td>\n",
       "      <td>39.071396</td>\n",
       "    </tr>\n",
       "  </tbody>\n",
       "</table>\n",
       "</div>"
      ],
      "text/plain": [
       "            actual  predicted\n",
       "2021-07-09   47.55  39.071396\n",
       "2021-07-10   49.07  39.071396\n",
       "2021-07-11   49.07  39.071396\n",
       "2021-07-12   49.07  39.071396\n",
       "2021-07-13   48.41  39.071396"
      ]
     },
     "execution_count": 17,
     "metadata": {},
     "output_type": "execute_result"
    }
   ],
   "source": [
    "# Create a DataFrame of Real and Predicted values\n",
    "stocks = pd.DataFrame({\n",
    "    \"actual\": real_prices.ravel(),\n",
    "    \"predicted\": predicted_prices.ravel()\n",
    "}, index = uber_sent_df.index[-len(real_prices): ]) \n",
    "stocks.head()"
   ]
  },
  {
   "cell_type": "code",
   "execution_count": 18,
   "metadata": {},
   "outputs": [
    {
     "data": {
      "text/plain": [
       "<AxesSubplot:>"
      ]
     },
     "execution_count": 18,
     "metadata": {},
     "output_type": "execute_result"
    },
    {
     "data": {
      "image/png": "[encoded data removed]",
      "text/plain": [
       "<Figure size 432x288 with 1 Axes>"
      ]
     },
     "metadata": {
      "needs_background": "light"
     },
     "output_type": "display_data"
    }
   ],
   "source": [
    "stocks.plot()"
   ]
  },
  {
   "cell_type": "code",
   "execution_count": 19,
   "metadata": {},
   "outputs": [
    {
     "data": {
      "text/html": [
       "<div>\n",
       "<style scoped>\n",
       "    .dataframe tbody tr th:only-of-type {\n",
       "        vertical-align: middle;\n",
       "    }\n",
       "\n",
       "    .dataframe tbody tr th {\n",
       "        vertical-align: top;\n",
       "    }\n",
       "\n",
       "    .dataframe thead th {\n",
       "        text-align: right;\n",
       "    }\n",
       "</style>\n",
       "<table border=\"1\" class=\"dataframe\">\n",
       "  <thead>\n",
       "    <tr style=\"text-align: right;\">\n",
       "      <th></th>\n",
       "      <th>actual</th>\n",
       "      <th>predicted</th>\n",
       "      <th>difference</th>\n",
       "      <th>error</th>\n",
       "    </tr>\n",
       "  </thead>\n",
       "  <tbody>\n",
       "    <tr>\n",
       "      <th>2021-07-09</th>\n",
       "      <td>47.55</td>\n",
       "      <td>39.071396</td>\n",
       "      <td>8.478604</td>\n",
       "      <td>17.830924</td>\n",
       "    </tr>\n",
       "    <tr>\n",
       "      <th>2021-07-10</th>\n",
       "      <td>49.07</td>\n",
       "      <td>39.071396</td>\n",
       "      <td>9.998604</td>\n",
       "      <td>20.376206</td>\n",
       "    </tr>\n",
       "    <tr>\n",
       "      <th>2021-07-11</th>\n",
       "      <td>49.07</td>\n",
       "      <td>39.071396</td>\n",
       "      <td>9.998604</td>\n",
       "      <td>20.376206</td>\n",
       "    </tr>\n",
       "    <tr>\n",
       "      <th>2021-07-12</th>\n",
       "      <td>49.07</td>\n",
       "      <td>39.071396</td>\n",
       "      <td>9.998604</td>\n",
       "      <td>20.376206</td>\n",
       "    </tr>\n",
       "    <tr>\n",
       "      <th>2021-07-13</th>\n",
       "      <td>48.41</td>\n",
       "      <td>39.071396</td>\n",
       "      <td>9.338604</td>\n",
       "      <td>19.290651</td>\n",
       "    </tr>\n",
       "  </tbody>\n",
       "</table>\n",
       "</div>"
      ],
      "text/plain": [
       "            actual  predicted  difference      error\n",
       "2021-07-09   47.55  39.071396    8.478604  17.830924\n",
       "2021-07-10   49.07  39.071396    9.998604  20.376206\n",
       "2021-07-11   49.07  39.071396    9.998604  20.376206\n",
       "2021-07-12   49.07  39.071396    9.998604  20.376206\n",
       "2021-07-13   48.41  39.071396    9.338604  19.290651"
      ]
     },
     "execution_count": 19,
     "metadata": {},
     "output_type": "execute_result"
    }
   ],
   "source": [
    "\n",
    "stocks_dif = stocks\n",
    "stocks_dif['difference'] = stocks_dif.actual - stocks_dif.predicted\n",
    "stocks_dif['error'] = (stocks_dif.difference/stocks_dif.actual) * 100\n",
    "stocks_dif.head()"
   ]
  },
  {
   "cell_type": "code",
   "execution_count": 20,
   "metadata": {},
   "outputs": [
    {
     "data": {
      "text/html": [
       "<div>\n",
       "<style scoped>\n",
       "    .dataframe tbody tr th:only-of-type {\n",
       "        vertical-align: middle;\n",
       "    }\n",
       "\n",
       "    .dataframe tbody tr th {\n",
       "        vertical-align: top;\n",
       "    }\n",
       "\n",
       "    .dataframe thead th {\n",
       "        text-align: right;\n",
       "    }\n",
       "</style>\n",
       "<table border=\"1\" class=\"dataframe\">\n",
       "  <thead>\n",
       "    <tr style=\"text-align: right;\">\n",
       "      <th></th>\n",
       "      <th>sec_compound_sentiment</th>\n",
       "      <th>close</th>\n",
       "    </tr>\n",
       "  </thead>\n",
       "  <tbody>\n",
       "    <tr>\n",
       "      <th>sec_compound_sentiment</th>\n",
       "      <td>NaN</td>\n",
       "      <td>NaN</td>\n",
       "    </tr>\n",
       "    <tr>\n",
       "      <th>close</th>\n",
       "      <td>NaN</td>\n",
       "      <td>1.0</td>\n",
       "    </tr>\n",
       "  </tbody>\n",
       "</table>\n",
       "</div>"
      ],
      "text/plain": [
       "                        sec_compound_sentiment  close\n",
       "sec_compound_sentiment                     NaN    NaN\n",
       "close                                      NaN    1.0"
      ]
     },
     "execution_count": 20,
     "metadata": {},
     "output_type": "execute_result"
    }
   ],
   "source": [
    "uber_sent_df[['sec_compound_sentiment', 'close']].corr()"
   ]
  },
  {
   "cell_type": "code",
   "execution_count": 21,
   "metadata": {},
   "outputs": [
    {
     "data": {
      "text/html": [
       "<div>\n",
       "<style scoped>\n",
       "    .dataframe tbody tr th:only-of-type {\n",
       "        vertical-align: middle;\n",
       "    }\n",
       "\n",
       "    .dataframe tbody tr th {\n",
       "        vertical-align: top;\n",
       "    }\n",
       "\n",
       "    .dataframe thead th {\n",
       "        text-align: right;\n",
       "    }\n",
       "</style>\n",
       "<table border=\"1\" class=\"dataframe\">\n",
       "  <thead>\n",
       "    <tr style=\"text-align: right;\">\n",
       "      <th></th>\n",
       "      <th>sec_positive_sentiment</th>\n",
       "      <th>close</th>\n",
       "    </tr>\n",
       "  </thead>\n",
       "  <tbody>\n",
       "    <tr>\n",
       "      <th>sec_positive_sentiment</th>\n",
       "      <td>1.000000</td>\n",
       "      <td>-0.330727</td>\n",
       "    </tr>\n",
       "    <tr>\n",
       "      <th>close</th>\n",
       "      <td>-0.330727</td>\n",
       "      <td>1.000000</td>\n",
       "    </tr>\n",
       "  </tbody>\n",
       "</table>\n",
       "</div>"
      ],
      "text/plain": [
       "                        sec_positive_sentiment     close\n",
       "sec_positive_sentiment                1.000000 -0.330727\n",
       "close                                -0.330727  1.000000"
      ]
     },
     "execution_count": 21,
     "metadata": {},
     "output_type": "execute_result"
    }
   ],
   "source": [
    "uber_sent_df[['sec_positive_sentiment', 'close']].corr()"
   ]
  },
  {
   "cell_type": "code",
   "execution_count": null,
   "metadata": {},
   "outputs": [],
   "source": []
  }
 ],
 "metadata": {
  "interpreter": {
   "hash": "fd5f0602b361fcd80b6e43c9db32d5ff96b182a40640908c77b502a93aa9387e"
  },
  "kernelspec": {
   "display_name": "Python 3.9.7 ('base')",
   "language": "python",
   "name": "python3"
  },
  "language_info": {
   "codemirror_mode": {
    "name": "ipython",
    "version": 3
   },
   "file_extension": ".py",
   "mimetype": "text/x-python",
   "name": "python",
   "nbconvert_exporter": "python",
   "pygments_lexer": "ipython3",
   "version": "3.9.7"
  },
  "orig_nbformat": 4
 },
 "nbformat": 4,
 "nbformat_minor": 2
}
