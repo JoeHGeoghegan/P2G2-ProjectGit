{
 "cells": [
  {
   "cell_type": "code",
   "execution_count": 1,
   "metadata": {},
   "outputs": [],
   "source": [
    "import numpy as np\n",
    "import pandas as pd\n",
    "\n",
    "%matplotlib inline"
   ]
  },
  {
   "cell_type": "code",
   "execution_count": 2,
   "metadata": {},
   "outputs": [],
   "source": [
    "#Testing potential models"
   ]
  },
  {
   "cell_type": "markdown",
   "metadata": {},
   "source": [
    "Single feature LSTM model using AirBNB compound sentiment data plus closing prices"
   ]
  },
  {
   "cell_type": "code",
   "execution_count": 3,
   "metadata": {},
   "outputs": [
    {
     "data": {
      "text/html": [
       "<div>\n",
       "<style scoped>\n",
       "    .dataframe tbody tr th:only-of-type {\n",
       "        vertical-align: middle;\n",
       "    }\n",
       "\n",
       "    .dataframe tbody tr th {\n",
       "        vertical-align: top;\n",
       "    }\n",
       "\n",
       "    .dataframe thead th {\n",
       "        text-align: right;\n",
       "    }\n",
       "</style>\n",
       "<table border=\"1\" class=\"dataframe\">\n",
       "  <thead>\n",
       "    <tr style=\"text-align: right;\">\n",
       "      <th></th>\n",
       "      <th>sec_compound_sentiment</th>\n",
       "      <th>sec_positive_sentiment</th>\n",
       "      <th>sec_neutral sentiment</th>\n",
       "      <th>sec_negative_sentiment</th>\n",
       "      <th>stockmarket_compound_sentiment</th>\n",
       "      <th>stockmarket_positive_sentiment</th>\n",
       "      <th>stockmarket_neutral_sentiment</th>\n",
       "      <th>stockmarket_negative_sentiment</th>\n",
       "      <th>volume</th>\n",
       "      <th>close</th>\n",
       "    </tr>\n",
       "  </thead>\n",
       "  <tbody>\n",
       "    <tr>\n",
       "      <th>2020-12-31</th>\n",
       "      <td>1.0</td>\n",
       "      <td>0.122</td>\n",
       "      <td>0.812</td>\n",
       "      <td>0.065</td>\n",
       "      <td>0.40635</td>\n",
       "      <td>0.1</td>\n",
       "      <td>0.76625</td>\n",
       "      <td>0.13375</td>\n",
       "      <td>2795813.0</td>\n",
       "      <td>146.80</td>\n",
       "    </tr>\n",
       "    <tr>\n",
       "      <th>2021-01-01</th>\n",
       "      <td>1.0</td>\n",
       "      <td>0.122</td>\n",
       "      <td>0.812</td>\n",
       "      <td>0.065</td>\n",
       "      <td>0.40635</td>\n",
       "      <td>0.1</td>\n",
       "      <td>0.76625</td>\n",
       "      <td>0.13375</td>\n",
       "      <td>2795813.0</td>\n",
       "      <td>146.80</td>\n",
       "    </tr>\n",
       "    <tr>\n",
       "      <th>2021-01-02</th>\n",
       "      <td>1.0</td>\n",
       "      <td>0.122</td>\n",
       "      <td>0.812</td>\n",
       "      <td>0.065</td>\n",
       "      <td>0.40635</td>\n",
       "      <td>0.1</td>\n",
       "      <td>0.76625</td>\n",
       "      <td>0.13375</td>\n",
       "      <td>2795813.0</td>\n",
       "      <td>146.80</td>\n",
       "    </tr>\n",
       "    <tr>\n",
       "      <th>2021-01-03</th>\n",
       "      <td>1.0</td>\n",
       "      <td>0.122</td>\n",
       "      <td>0.812</td>\n",
       "      <td>0.065</td>\n",
       "      <td>0.40635</td>\n",
       "      <td>0.1</td>\n",
       "      <td>0.76625</td>\n",
       "      <td>0.13375</td>\n",
       "      <td>2795813.0</td>\n",
       "      <td>146.80</td>\n",
       "    </tr>\n",
       "    <tr>\n",
       "      <th>2021-01-04</th>\n",
       "      <td>1.0</td>\n",
       "      <td>0.122</td>\n",
       "      <td>0.812</td>\n",
       "      <td>0.065</td>\n",
       "      <td>0.40635</td>\n",
       "      <td>0.1</td>\n",
       "      <td>0.76625</td>\n",
       "      <td>0.13375</td>\n",
       "      <td>6415486.0</td>\n",
       "      <td>139.15</td>\n",
       "    </tr>\n",
       "  </tbody>\n",
       "</table>\n",
       "</div>"
      ],
      "text/plain": [
       "            sec_compound_sentiment  sec_positive_sentiment  \\\n",
       "2020-12-31                     1.0                   0.122   \n",
       "2021-01-01                     1.0                   0.122   \n",
       "2021-01-02                     1.0                   0.122   \n",
       "2021-01-03                     1.0                   0.122   \n",
       "2021-01-04                     1.0                   0.122   \n",
       "\n",
       "            sec_neutral sentiment  sec_negative_sentiment  \\\n",
       "2020-12-31                  0.812                   0.065   \n",
       "2021-01-01                  0.812                   0.065   \n",
       "2021-01-02                  0.812                   0.065   \n",
       "2021-01-03                  0.812                   0.065   \n",
       "2021-01-04                  0.812                   0.065   \n",
       "\n",
       "            stockmarket_compound_sentiment  stockmarket_positive_sentiment  \\\n",
       "2020-12-31                         0.40635                             0.1   \n",
       "2021-01-01                         0.40635                             0.1   \n",
       "2021-01-02                         0.40635                             0.1   \n",
       "2021-01-03                         0.40635                             0.1   \n",
       "2021-01-04                         0.40635                             0.1   \n",
       "\n",
       "            stockmarket_neutral_sentiment  stockmarket_negative_sentiment  \\\n",
       "2020-12-31                        0.76625                         0.13375   \n",
       "2021-01-01                        0.76625                         0.13375   \n",
       "2021-01-02                        0.76625                         0.13375   \n",
       "2021-01-03                        0.76625                         0.13375   \n",
       "2021-01-04                        0.76625                         0.13375   \n",
       "\n",
       "               volume   close  \n",
       "2020-12-31  2795813.0  146.80  \n",
       "2021-01-01  2795813.0  146.80  \n",
       "2021-01-02  2795813.0  146.80  \n",
       "2021-01-03  2795813.0  146.80  \n",
       "2021-01-04  6415486.0  139.15  "
      ]
     },
     "execution_count": 3,
     "metadata": {},
     "output_type": "execute_result"
    }
   ],
   "source": [
    "abnb_sent_df = pd.read_csv('/Users/krist/OneDrive/Desktop/P2G2-ProjectGit/Notebooks/models/resources/ABNB.csv', index_col=0)\n",
    "abnb_sent_df.head()"
   ]
  },
  {
   "cell_type": "code",
   "execution_count": 4,
   "metadata": {},
   "outputs": [],
   "source": [
    "def window_data(df, window, feature_col_number, target_col_number):\n",
    "    X = []\n",
    "    y = []\n",
    "    for i in range(len(df) - window - 1):\n",
    "        features = df.iloc[i:(i + window), feature_col_number]\n",
    "        target = df.iloc[(i + window), target_col_number]\n",
    "        X.append(features)\n",
    "        y.append(target)\n",
    "    return np.array(X), np.array(y).reshape(-1, 1)"
   ]
  },
  {
   "cell_type": "code",
   "execution_count": 5,
   "metadata": {},
   "outputs": [],
   "source": [
    "#Setting the feature col to Stock market compound sent and target col to closing prices\n",
    "X, y = window_data(abnb_sent_df, window=30, feature_col_number=4, target_col_number=9)"
   ]
  },
  {
   "cell_type": "code",
   "execution_count": 6,
   "metadata": {},
   "outputs": [],
   "source": [
    "# Use 70% of the data for training and the remaineder for testing\n",
    "split = int(0.7 * len(X))\n",
    "X_train = X[: split]\n",
    "X_test = X[split:]\n",
    "y_train = y[: split]\n",
    "y_test = y[split:]\n"
   ]
  },
  {
   "cell_type": "code",
   "execution_count": 7,
   "metadata": {},
   "outputs": [],
   "source": [
    "from sklearn.preprocessing import MinMaxScaler\n",
    "# Use the MinMaxScaler to scale data between 0 and 1.\n",
    "# Create a MinMaxScaler object\n",
    "scaler = MinMaxScaler()\n",
    "\n",
    "# Fit the MinMaxScaler object with the features data X\n",
    "scaler.fit(X_train)\n",
    "\n",
    "# Scale the features training and testing sets\n",
    "X_train = scaler.transform(X_train)\n",
    "X_test = scaler.transform(X_test)\n",
    "\n",
    "# Fit the MinMaxScaler object with the target data Y\n",
    "scaler.fit(y_train)\n",
    "\n",
    "# Scale the target training and testing sets\n",
    "y_train = scaler.transform(y_train)\n",
    "y_test = scaler.transform(y_test)"
   ]
  },
  {
   "cell_type": "code",
   "execution_count": 8,
   "metadata": {},
   "outputs": [],
   "source": [
    "# Reshape the features for the model\n",
    "\n",
    "X_train = X_train.reshape((X_train.shape[0], X_train.shape[1], 1))\n",
    "X_test = X_test.reshape((X_test.shape[0], X_test.shape[1], 1))"
   ]
  },
  {
   "cell_type": "code",
   "execution_count": 9,
   "metadata": {},
   "outputs": [],
   "source": [
    "from tensorflow.keras.models import Sequential\n",
    "from tensorflow.keras.layers import LSTM, Dense, Dropout"
   ]
  },
  {
   "cell_type": "code",
   "execution_count": 10,
   "metadata": {},
   "outputs": [],
   "source": [
    "\n",
    "model = Sequential()\n",
    "\n",
    "number_units = 5\n",
    "dropout_fraction = 0.2\n",
    "\n",
    "#Layer 1\n",
    "model.add(LSTM(\n",
    "    units=number_units,\n",
    "    return_sequences=True,\n",
    "    input_shape=(X_train.shape[1], 1))\n",
    "    )\n",
    "model.add(Dropout(dropout_fraction))\n",
    "\n",
    "#Layer 2\n",
    "model.add(LSTM(units=number_units, return_sequences=True))\n",
    "model.add(Dropout(dropout_fraction))\n",
    "\n",
    "#Layer 3\n",
    "model.add(LSTM(units=number_units))\n",
    "model.add(Dropout(dropout_fraction))\n",
    "\n",
    "#Output Layer\n",
    "model.add(Dense(1))"
   ]
  },
  {
   "cell_type": "code",
   "execution_count": 11,
   "metadata": {},
   "outputs": [],
   "source": [
    "model.compile(optimizer='adam', loss = 'mean_squared_error')\n"
   ]
  },
  {
   "cell_type": "code",
   "execution_count": 12,
   "metadata": {},
   "outputs": [
    {
     "name": "stdout",
     "output_type": "stream",
     "text": [
      "Model: \"sequential\"\n",
      "_________________________________________________________________\n",
      " Layer (type)                Output Shape              Param #   \n",
      "=================================================================\n",
      " lstm (LSTM)                 (None, 30, 5)             140       \n",
      "                                                                 \n",
      " dropout (Dropout)           (None, 30, 5)             0         \n",
      "                                                                 \n",
      " lstm_1 (LSTM)               (None, 30, 5)             220       \n",
      "                                                                 \n",
      " dropout_1 (Dropout)         (None, 30, 5)             0         \n",
      "                                                                 \n",
      " lstm_2 (LSTM)               (None, 5)                 220       \n",
      "                                                                 \n",
      " dropout_2 (Dropout)         (None, 5)                 0         \n",
      "                                                                 \n",
      " dense (Dense)               (None, 1)                 6         \n",
      "                                                                 \n",
      "=================================================================\n",
      "Total params: 586\n",
      "Trainable params: 586\n",
      "Non-trainable params: 0\n",
      "_________________________________________________________________\n"
     ]
    }
   ],
   "source": [
    "model.summary()\n"
   ]
  },
  {
   "cell_type": "code",
   "execution_count": 13,
   "metadata": {},
   "outputs": [
    {
     "name": "stdout",
     "output_type": "stream",
     "text": [
      "Epoch 1/50\n",
      "11/11 [==============================] - 10s 35ms/step - loss: 0.1888\n",
      "Epoch 2/50\n",
      "11/11 [==============================] - 0s 38ms/step - loss: 0.1345\n",
      "Epoch 3/50\n",
      "11/11 [==============================] - 1s 47ms/step - loss: 0.1009\n",
      "Epoch 4/50\n",
      "11/11 [==============================] - 0s 43ms/step - loss: 0.0800\n",
      "Epoch 5/50\n",
      "11/11 [==============================] - 0s 44ms/step - loss: 0.0809\n",
      "Epoch 6/50\n",
      "11/11 [==============================] - 1s 47ms/step - loss: 0.0778\n",
      "Epoch 7/50\n",
      "11/11 [==============================] - 1s 63ms/step - loss: 0.0763\n",
      "Epoch 8/50\n",
      "11/11 [==============================] - 1s 55ms/step - loss: 0.0798\n",
      "Epoch 9/50\n",
      "11/11 [==============================] - 1s 62ms/step - loss: 0.0786\n",
      "Epoch 10/50\n",
      "11/11 [==============================] - 1s 55ms/step - loss: 0.0753\n",
      "Epoch 11/50\n",
      "11/11 [==============================] - 1s 51ms/step - loss: 0.0725\n",
      "Epoch 12/50\n",
      "11/11 [==============================] - 1s 53ms/step - loss: 0.0754\n",
      "Epoch 13/50\n",
      "11/11 [==============================] - 1s 58ms/step - loss: 0.0732\n",
      "Epoch 14/50\n",
      "11/11 [==============================] - 1s 57ms/step - loss: 0.0736\n",
      "Epoch 15/50\n",
      "11/11 [==============================] - 1s 60ms/step - loss: 0.0734\n",
      "Epoch 16/50\n",
      "11/11 [==============================] - 1s 51ms/step - loss: 0.0732\n",
      "Epoch 17/50\n",
      "11/11 [==============================] - 1s 49ms/step - loss: 0.0729\n",
      "Epoch 18/50\n",
      "11/11 [==============================] - 1s 51ms/step - loss: 0.0760\n",
      "Epoch 19/50\n",
      "11/11 [==============================] - 1s 54ms/step - loss: 0.0690\n",
      "Epoch 20/50\n",
      "11/11 [==============================] - 1s 54ms/step - loss: 0.0733\n",
      "Epoch 21/50\n",
      "11/11 [==============================] - 1s 52ms/step - loss: 0.0710\n",
      "Epoch 22/50\n",
      "11/11 [==============================] - 1s 54ms/step - loss: 0.0722\n",
      "Epoch 23/50\n",
      "11/11 [==============================] - 1s 79ms/step - loss: 0.0765\n",
      "Epoch 24/50\n",
      "11/11 [==============================] - 1s 61ms/step - loss: 0.0684\n",
      "Epoch 25/50\n",
      "11/11 [==============================] - 1s 73ms/step - loss: 0.0690\n",
      "Epoch 26/50\n",
      "11/11 [==============================] - 1s 69ms/step - loss: 0.0702\n",
      "Epoch 27/50\n",
      "11/11 [==============================] - 1s 66ms/step - loss: 0.0712\n",
      "Epoch 28/50\n",
      "11/11 [==============================] - 1s 62ms/step - loss: 0.0693\n",
      "Epoch 29/50\n",
      "11/11 [==============================] - 1s 57ms/step - loss: 0.0689\n",
      "Epoch 30/50\n",
      "11/11 [==============================] - 1s 60ms/step - loss: 0.0683\n",
      "Epoch 31/50\n",
      "11/11 [==============================] - 1s 70ms/step - loss: 0.0667\n",
      "Epoch 32/50\n",
      "11/11 [==============================] - 1s 57ms/step - loss: 0.0699\n",
      "Epoch 33/50\n",
      "11/11 [==============================] - 1s 51ms/step - loss: 0.0676\n",
      "Epoch 34/50\n",
      "11/11 [==============================] - 1s 62ms/step - loss: 0.0669\n",
      "Epoch 35/50\n",
      "11/11 [==============================] - 1s 52ms/step - loss: 0.0675\n",
      "Epoch 36/50\n",
      "11/11 [==============================] - 1s 64ms/step - loss: 0.0656\n",
      "Epoch 37/50\n",
      "11/11 [==============================] - 1s 56ms/step - loss: 0.0642\n",
      "Epoch 38/50\n",
      "11/11 [==============================] - 1s 55ms/step - loss: 0.0710\n",
      "Epoch 39/50\n",
      "11/11 [==============================] - 1s 51ms/step - loss: 0.0676\n",
      "Epoch 40/50\n",
      "11/11 [==============================] - 1s 60ms/step - loss: 0.0676\n",
      "Epoch 41/50\n",
      "11/11 [==============================] - 1s 61ms/step - loss: 0.0641\n",
      "Epoch 42/50\n",
      "11/11 [==============================] - 1s 50ms/step - loss: 0.0639\n",
      "Epoch 43/50\n",
      "11/11 [==============================] - 1s 63ms/step - loss: 0.0687\n",
      "Epoch 44/50\n",
      "11/11 [==============================] - 1s 51ms/step - loss: 0.0602\n",
      "Epoch 45/50\n",
      "11/11 [==============================] - 1s 57ms/step - loss: 0.0657\n",
      "Epoch 46/50\n",
      "11/11 [==============================] - 1s 57ms/step - loss: 0.0651\n",
      "Epoch 47/50\n",
      "11/11 [==============================] - 1s 59ms/step - loss: 0.0636\n",
      "Epoch 48/50\n",
      "11/11 [==============================] - 1s 52ms/step - loss: 0.0672\n",
      "Epoch 49/50\n",
      "11/11 [==============================] - 1s 55ms/step - loss: 0.0622\n",
      "Epoch 50/50\n",
      "11/11 [==============================] - 1s 52ms/step - loss: 0.0646\n"
     ]
    },
    {
     "data": {
      "text/plain": [
       "<keras.callbacks.History at 0x1c5e5037e88>"
      ]
     },
     "execution_count": 13,
     "metadata": {},
     "output_type": "execute_result"
    }
   ],
   "source": [
    "model.fit(X_train, y_train, epochs=50, shuffle=False, batch_size=32, verbose=1)\n"
   ]
  },
  {
   "cell_type": "code",
   "execution_count": 14,
   "metadata": {},
   "outputs": [
    {
     "name": "stdout",
     "output_type": "stream",
     "text": [
      "5/5 [==============================] - 3s 8ms/step - loss: 0.0644\n"
     ]
    },
    {
     "data": {
      "text/plain": [
       "0.06437581032514572"
      ]
     },
     "execution_count": 14,
     "metadata": {},
     "output_type": "execute_result"
    }
   ],
   "source": [
    "model.evaluate(X_test, y_test)"
   ]
  },
  {
   "cell_type": "code",
   "execution_count": 15,
   "metadata": {},
   "outputs": [
    {
     "name": "stdout",
     "output_type": "stream",
     "text": [
      "5/5 [==============================] - 2s 7ms/step\n"
     ]
    }
   ],
   "source": [
    "predict = model.predict(X_test)"
   ]
  },
  {
   "cell_type": "code",
   "execution_count": 16,
   "metadata": {},
   "outputs": [],
   "source": [
    "predicted_prices = scaler.inverse_transform(predict)\n",
    "real_prices = scaler.inverse_transform(y_test.reshape(-1, 1))"
   ]
  },
  {
   "cell_type": "code",
   "execution_count": 17,
   "metadata": {},
   "outputs": [
    {
     "data": {
      "text/html": [
       "<div>\n",
       "<style scoped>\n",
       "    .dataframe tbody tr th:only-of-type {\n",
       "        vertical-align: middle;\n",
       "    }\n",
       "\n",
       "    .dataframe tbody tr th {\n",
       "        vertical-align: top;\n",
       "    }\n",
       "\n",
       "    .dataframe thead th {\n",
       "        text-align: right;\n",
       "    }\n",
       "</style>\n",
       "<table border=\"1\" class=\"dataframe\">\n",
       "  <thead>\n",
       "    <tr style=\"text-align: right;\">\n",
       "      <th></th>\n",
       "      <th>actual</th>\n",
       "      <th>predicted</th>\n",
       "    </tr>\n",
       "  </thead>\n",
       "  <tbody>\n",
       "    <tr>\n",
       "      <th>2022-01-03</th>\n",
       "      <td>166.49</td>\n",
       "      <td>164.628723</td>\n",
       "    </tr>\n",
       "    <tr>\n",
       "      <th>2022-01-04</th>\n",
       "      <td>172.68</td>\n",
       "      <td>164.628723</td>\n",
       "    </tr>\n",
       "    <tr>\n",
       "      <th>2022-01-05</th>\n",
       "      <td>170.80</td>\n",
       "      <td>164.628723</td>\n",
       "    </tr>\n",
       "    <tr>\n",
       "      <th>2022-01-06</th>\n",
       "      <td>162.25</td>\n",
       "      <td>164.628723</td>\n",
       "    </tr>\n",
       "    <tr>\n",
       "      <th>2022-01-07</th>\n",
       "      <td>159.75</td>\n",
       "      <td>164.628723</td>\n",
       "    </tr>\n",
       "  </tbody>\n",
       "</table>\n",
       "</div>"
      ],
      "text/plain": [
       "            actual   predicted\n",
       "2022-01-03  166.49  164.628723\n",
       "2022-01-04  172.68  164.628723\n",
       "2022-01-05  170.80  164.628723\n",
       "2022-01-06  162.25  164.628723\n",
       "2022-01-07  159.75  164.628723"
      ]
     },
     "execution_count": 17,
     "metadata": {},
     "output_type": "execute_result"
    }
   ],
   "source": [
    "# Create a DataFrame of Real and Predicted values\n",
    "stocks = pd.DataFrame({\n",
    "    \"actual\": real_prices.ravel(),\n",
    "    \"predicted\": predicted_prices.ravel()\n",
    "}, index = abnb_sent_df.index[-len(real_prices): ]) \n",
    "stocks.head()"
   ]
  },
  {
   "cell_type": "code",
   "execution_count": 21,
   "metadata": {},
   "outputs": [
    {
     "data": {
      "text/plain": [
       "<AxesSubplot:title={'center':'Actual vs. Predicted Prices'}, xlabel='Date', ylabel='ABNB'>"
      ]
     },
     "execution_count": 21,
     "metadata": {},
     "output_type": "execute_result"
    },
    {
     "data": {
      "image/png": "[encoded data removed]",
      "text/plain": [
       "<Figure size 432x288 with 1 Axes>"
      ]
     },
     "metadata": {
      "needs_background": "light"
     },
     "output_type": "display_data"
    }
   ],
   "source": [
    "import hvplot.pandas\n",
    "stocks.plot(xlabel = 'Date', ylabel = 'ABNB', title = 'Actual vs. Predicted Prices', rot=45)\n"
   ]
  },
  {
   "cell_type": "code",
   "execution_count": null,
   "metadata": {},
   "outputs": [
    {
     "data": {
      "text/html": [
       "<div>\n",
       "<style scoped>\n",
       "    .dataframe tbody tr th:only-of-type {\n",
       "        vertical-align: middle;\n",
       "    }\n",
       "\n",
       "    .dataframe tbody tr th {\n",
       "        vertical-align: top;\n",
       "    }\n",
       "\n",
       "    .dataframe thead th {\n",
       "        text-align: right;\n",
       "    }\n",
       "</style>\n",
       "<table border=\"1\" class=\"dataframe\">\n",
       "  <thead>\n",
       "    <tr style=\"text-align: right;\">\n",
       "      <th></th>\n",
       "      <th>sec_compound_sentiment</th>\n",
       "      <th>close</th>\n",
       "    </tr>\n",
       "  </thead>\n",
       "  <tbody>\n",
       "    <tr>\n",
       "      <th>sec_compound_sentiment</th>\n",
       "      <td>1.000000</td>\n",
       "      <td>0.290415</td>\n",
       "    </tr>\n",
       "    <tr>\n",
       "      <th>close</th>\n",
       "      <td>0.290415</td>\n",
       "      <td>1.000000</td>\n",
       "    </tr>\n",
       "  </tbody>\n",
       "</table>\n",
       "</div>"
      ],
      "text/plain": [
       "                        sec_compound_sentiment     close\n",
       "sec_compound_sentiment                1.000000  0.290415\n",
       "close                                 0.290415  1.000000"
      ]
     },
     "execution_count": 44,
     "metadata": {},
     "output_type": "execute_result"
    }
   ],
   "source": [
    "abnb_sent_df[['sec_compound_sentiment', 'close']].corr()"
   ]
  },
  {
   "cell_type": "code",
   "execution_count": null,
   "metadata": {},
   "outputs": [
    {
     "data": {
      "text/html": [
       "<div>\n",
       "<style scoped>\n",
       "    .dataframe tbody tr th:only-of-type {\n",
       "        vertical-align: middle;\n",
       "    }\n",
       "\n",
       "    .dataframe tbody tr th {\n",
       "        vertical-align: top;\n",
       "    }\n",
       "\n",
       "    .dataframe thead th {\n",
       "        text-align: right;\n",
       "    }\n",
       "</style>\n",
       "<table border=\"1\" class=\"dataframe\">\n",
       "  <thead>\n",
       "    <tr style=\"text-align: right;\">\n",
       "      <th></th>\n",
       "      <th>sec_positive_sentiment</th>\n",
       "      <th>close</th>\n",
       "    </tr>\n",
       "  </thead>\n",
       "  <tbody>\n",
       "    <tr>\n",
       "      <th>sec_positive_sentiment</th>\n",
       "      <td>1.000000</td>\n",
       "      <td>0.201152</td>\n",
       "    </tr>\n",
       "    <tr>\n",
       "      <th>close</th>\n",
       "      <td>0.201152</td>\n",
       "      <td>1.000000</td>\n",
       "    </tr>\n",
       "  </tbody>\n",
       "</table>\n",
       "</div>"
      ],
      "text/plain": [
       "                        sec_positive_sentiment     close\n",
       "sec_positive_sentiment                1.000000  0.201152\n",
       "close                                 0.201152  1.000000"
      ]
     },
     "execution_count": 45,
     "metadata": {},
     "output_type": "execute_result"
    }
   ],
   "source": [
    "abnb_sent_df[['sec_positive_sentiment', 'close']].corr()"
   ]
  },
  {
   "cell_type": "code",
   "execution_count": null,
   "metadata": {},
   "outputs": [],
   "source": []
  }
 ],
 "metadata": {
  "kernelspec": {
   "display_name": "Python 3.7.13 ('algotrading')",
   "language": "python",
   "name": "python3"
  },
  "language_info": {
   "codemirror_mode": {
    "name": "ipython",
    "version": 3
   },
   "file_extension": ".py",
   "mimetype": "text/x-python",
   "name": "python",
   "nbconvert_exporter": "python",
   "pygments_lexer": "ipython3",
   "version": "3.7.13"
  },
  "orig_nbformat": 4,
  "vscode": {
   "interpreter": {
    "hash": "4badf162d3e5fd0c33c86746a1b40ba224a53e0950f8338a632515e62ffb49b1"
   }
  }
 },
 "nbformat": 4,
 "nbformat_minor": 2
}
