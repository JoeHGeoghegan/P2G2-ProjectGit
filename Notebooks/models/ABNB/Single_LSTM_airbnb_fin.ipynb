{
 "cells": [
  {
   "cell_type": "code",
   "execution_count": 65,
   "metadata": {},
   "outputs": [],
   "source": [
    "import numpy as np\n",
    "import pandas as pd\n",
    "\n",
    "%matplotlib inline"
   ]
  },
  {
   "cell_type": "code",
   "execution_count": 66,
   "metadata": {},
   "outputs": [],
   "source": [
    "#Testing potential models"
   ]
  },
  {
   "cell_type": "markdown",
   "metadata": {},
   "source": [
    "Single feature LSTM model using AirBNB SEC financial data plus closing prices"
   ]
  },
  {
   "cell_type": "code",
   "execution_count": 67,
   "metadata": {},
   "outputs": [
    {
     "data": {
      "text/html": [
       "<div>\n",
       "<style scoped>\n",
       "    .dataframe tbody tr th:only-of-type {\n",
       "        vertical-align: middle;\n",
       "    }\n",
       "\n",
       "    .dataframe tbody tr th {\n",
       "        vertical-align: top;\n",
       "    }\n",
       "\n",
       "    .dataframe thead th {\n",
       "        text-align: right;\n",
       "    }\n",
       "</style>\n",
       "<table border=\"1\" class=\"dataframe\">\n",
       "  <thead>\n",
       "    <tr style=\"text-align: right;\">\n",
       "      <th></th>\n",
       "      <th>RevenueFromContractWithCustomerExcludingAssessedTax</th>\n",
       "      <th>CostOfRevenue</th>\n",
       "      <th>operations_and_support_expense</th>\n",
       "      <th>research_and_development_expense</th>\n",
       "      <th>selling_and_market_expense</th>\n",
       "      <th>general_and_administrative_expense</th>\n",
       "      <th>RestructuringCharges</th>\n",
       "      <th>costs_and_expenses</th>\n",
       "      <th>operating_income_loss</th>\n",
       "      <th>InvestmentIncomeNonoperating</th>\n",
       "      <th>...</th>\n",
       "      <th>sec_compound_sentiment</th>\n",
       "      <th>sec_positive_sentiment</th>\n",
       "      <th>sec_neutral sentiment</th>\n",
       "      <th>sec_negative_sentiment</th>\n",
       "      <th>stockmarket_compound_sentiment</th>\n",
       "      <th>stockmarket_positive_sentiment</th>\n",
       "      <th>stockmarket_neutral_sentiment</th>\n",
       "      <th>stockmarket_negative_sentiment</th>\n",
       "      <th>volume</th>\n",
       "      <th>close</th>\n",
       "    </tr>\n",
       "  </thead>\n",
       "  <tbody>\n",
       "    <tr>\n",
       "      <th>2022-05-25</th>\n",
       "      <td>1.508937e+09</td>\n",
       "      <td>362623000.0</td>\n",
       "      <td>233012000.0</td>\n",
       "      <td>362927000.0</td>\n",
       "      <td>344616000.0</td>\n",
       "      <td>210573000.0</td>\n",
       "      <td>317000.0</td>\n",
       "      <td>1.514068e+09</td>\n",
       "      <td>-5131000.0</td>\n",
       "      <td>4744000.0</td>\n",
       "      <td>...</td>\n",
       "      <td>0.9999</td>\n",
       "      <td>0.08</td>\n",
       "      <td>0.895</td>\n",
       "      <td>0.025</td>\n",
       "      <td>0.3612</td>\n",
       "      <td>0.161</td>\n",
       "      <td>0.839</td>\n",
       "      <td>0.0</td>\n",
       "      <td>6170197.0</td>\n",
       "      <td>110.40</td>\n",
       "    </tr>\n",
       "    <tr>\n",
       "      <th>2022-05-26</th>\n",
       "      <td>1.508937e+09</td>\n",
       "      <td>362623000.0</td>\n",
       "      <td>233012000.0</td>\n",
       "      <td>362927000.0</td>\n",
       "      <td>344616000.0</td>\n",
       "      <td>210573000.0</td>\n",
       "      <td>317000.0</td>\n",
       "      <td>1.514068e+09</td>\n",
       "      <td>-5131000.0</td>\n",
       "      <td>4744000.0</td>\n",
       "      <td>...</td>\n",
       "      <td>0.9999</td>\n",
       "      <td>0.08</td>\n",
       "      <td>0.895</td>\n",
       "      <td>0.025</td>\n",
       "      <td>0.3612</td>\n",
       "      <td>0.161</td>\n",
       "      <td>0.839</td>\n",
       "      <td>0.0</td>\n",
       "      <td>6884206.0</td>\n",
       "      <td>114.30</td>\n",
       "    </tr>\n",
       "    <tr>\n",
       "      <th>2022-05-27</th>\n",
       "      <td>1.508937e+09</td>\n",
       "      <td>362623000.0</td>\n",
       "      <td>233012000.0</td>\n",
       "      <td>362927000.0</td>\n",
       "      <td>344616000.0</td>\n",
       "      <td>210573000.0</td>\n",
       "      <td>317000.0</td>\n",
       "      <td>1.514068e+09</td>\n",
       "      <td>-5131000.0</td>\n",
       "      <td>4744000.0</td>\n",
       "      <td>...</td>\n",
       "      <td>0.9999</td>\n",
       "      <td>0.08</td>\n",
       "      <td>0.895</td>\n",
       "      <td>0.025</td>\n",
       "      <td>0.3612</td>\n",
       "      <td>0.161</td>\n",
       "      <td>0.839</td>\n",
       "      <td>0.0</td>\n",
       "      <td>7375113.0</td>\n",
       "      <td>120.50</td>\n",
       "    </tr>\n",
       "    <tr>\n",
       "      <th>2022-05-31</th>\n",
       "      <td>1.508937e+09</td>\n",
       "      <td>362623000.0</td>\n",
       "      <td>233012000.0</td>\n",
       "      <td>362927000.0</td>\n",
       "      <td>344616000.0</td>\n",
       "      <td>210573000.0</td>\n",
       "      <td>317000.0</td>\n",
       "      <td>1.514068e+09</td>\n",
       "      <td>-5131000.0</td>\n",
       "      <td>4744000.0</td>\n",
       "      <td>...</td>\n",
       "      <td>0.9999</td>\n",
       "      <td>0.08</td>\n",
       "      <td>0.895</td>\n",
       "      <td>0.025</td>\n",
       "      <td>0.3612</td>\n",
       "      <td>0.161</td>\n",
       "      <td>0.839</td>\n",
       "      <td>0.0</td>\n",
       "      <td>9089352.0</td>\n",
       "      <td>120.87</td>\n",
       "    </tr>\n",
       "    <tr>\n",
       "      <th>2022-06-01</th>\n",
       "      <td>1.508937e+09</td>\n",
       "      <td>362623000.0</td>\n",
       "      <td>233012000.0</td>\n",
       "      <td>362927000.0</td>\n",
       "      <td>344616000.0</td>\n",
       "      <td>210573000.0</td>\n",
       "      <td>317000.0</td>\n",
       "      <td>1.514068e+09</td>\n",
       "      <td>-5131000.0</td>\n",
       "      <td>4744000.0</td>\n",
       "      <td>...</td>\n",
       "      <td>0.9999</td>\n",
       "      <td>0.08</td>\n",
       "      <td>0.895</td>\n",
       "      <td>0.025</td>\n",
       "      <td>0.3612</td>\n",
       "      <td>0.161</td>\n",
       "      <td>0.839</td>\n",
       "      <td>0.0</td>\n",
       "      <td>6864663.0</td>\n",
       "      <td>116.72</td>\n",
       "    </tr>\n",
       "  </tbody>\n",
       "</table>\n",
       "<p>5 rows × 29 columns</p>\n",
       "</div>"
      ],
      "text/plain": [
       "            RevenueFromContractWithCustomerExcludingAssessedTax  \\\n",
       "2022-05-25                                       1.508937e+09     \n",
       "2022-05-26                                       1.508937e+09     \n",
       "2022-05-27                                       1.508937e+09     \n",
       "2022-05-31                                       1.508937e+09     \n",
       "2022-06-01                                       1.508937e+09     \n",
       "\n",
       "            CostOfRevenue  operations_and_support_expense  \\\n",
       "2022-05-25    362623000.0                     233012000.0   \n",
       "2022-05-26    362623000.0                     233012000.0   \n",
       "2022-05-27    362623000.0                     233012000.0   \n",
       "2022-05-31    362623000.0                     233012000.0   \n",
       "2022-06-01    362623000.0                     233012000.0   \n",
       "\n",
       "            research_and_development_expense  selling_and_market_expense  \\\n",
       "2022-05-25                       362927000.0                 344616000.0   \n",
       "2022-05-26                       362927000.0                 344616000.0   \n",
       "2022-05-27                       362927000.0                 344616000.0   \n",
       "2022-05-31                       362927000.0                 344616000.0   \n",
       "2022-06-01                       362927000.0                 344616000.0   \n",
       "\n",
       "            general_and_administrative_expense  RestructuringCharges  \\\n",
       "2022-05-25                         210573000.0              317000.0   \n",
       "2022-05-26                         210573000.0              317000.0   \n",
       "2022-05-27                         210573000.0              317000.0   \n",
       "2022-05-31                         210573000.0              317000.0   \n",
       "2022-06-01                         210573000.0              317000.0   \n",
       "\n",
       "            costs_and_expenses  operating_income_loss  \\\n",
       "2022-05-25        1.514068e+09             -5131000.0   \n",
       "2022-05-26        1.514068e+09             -5131000.0   \n",
       "2022-05-27        1.514068e+09             -5131000.0   \n",
       "2022-05-31        1.514068e+09             -5131000.0   \n",
       "2022-06-01        1.514068e+09             -5131000.0   \n",
       "\n",
       "            InvestmentIncomeNonoperating  ...  sec_compound_sentiment  \\\n",
       "2022-05-25                     4744000.0  ...                  0.9999   \n",
       "2022-05-26                     4744000.0  ...                  0.9999   \n",
       "2022-05-27                     4744000.0  ...                  0.9999   \n",
       "2022-05-31                     4744000.0  ...                  0.9999   \n",
       "2022-06-01                     4744000.0  ...                  0.9999   \n",
       "\n",
       "            sec_positive_sentiment  sec_neutral sentiment  \\\n",
       "2022-05-25                    0.08                  0.895   \n",
       "2022-05-26                    0.08                  0.895   \n",
       "2022-05-27                    0.08                  0.895   \n",
       "2022-05-31                    0.08                  0.895   \n",
       "2022-06-01                    0.08                  0.895   \n",
       "\n",
       "            sec_negative_sentiment  stockmarket_compound_sentiment  \\\n",
       "2022-05-25                   0.025                          0.3612   \n",
       "2022-05-26                   0.025                          0.3612   \n",
       "2022-05-27                   0.025                          0.3612   \n",
       "2022-05-31                   0.025                          0.3612   \n",
       "2022-06-01                   0.025                          0.3612   \n",
       "\n",
       "            stockmarket_positive_sentiment  stockmarket_neutral_sentiment  \\\n",
       "2022-05-25                           0.161                          0.839   \n",
       "2022-05-26                           0.161                          0.839   \n",
       "2022-05-27                           0.161                          0.839   \n",
       "2022-05-31                           0.161                          0.839   \n",
       "2022-06-01                           0.161                          0.839   \n",
       "\n",
       "            stockmarket_negative_sentiment     volume   close  \n",
       "2022-05-25                             0.0  6170197.0  110.40  \n",
       "2022-05-26                             0.0  6884206.0  114.30  \n",
       "2022-05-27                             0.0  7375113.0  120.50  \n",
       "2022-05-31                             0.0  9089352.0  120.87  \n",
       "2022-06-01                             0.0  6864663.0  116.72  \n",
       "\n",
       "[5 rows x 29 columns]"
      ]
     },
     "execution_count": 67,
     "metadata": {},
     "output_type": "execute_result"
    }
   ],
   "source": [
    "abnb_sent_df = pd.read_csv('/Users/krist/OneDrive/Desktop/P2G2-ProjectGit/Notebooks/models/resources/ABNB_WITH_SEC.csv', index_col=0)\n",
    "abnb_sent_df.tail()"
   ]
  },
  {
   "cell_type": "code",
   "execution_count": 68,
   "metadata": {},
   "outputs": [],
   "source": [
    "def window_data(df, window, feature_col_number, target_col_number):\n",
    "    X = []\n",
    "    y = []\n",
    "    for i in range(len(df) - window - 1):\n",
    "        features = df.iloc[i:(i + window), feature_col_number]\n",
    "        target = df.iloc[(i + window), target_col_number]\n",
    "        X.append(features)\n",
    "        y.append(target)\n",
    "    return np.array(X), np.array(y).reshape(-1, 1)"
   ]
  },
  {
   "cell_type": "code",
   "execution_count": 69,
   "metadata": {},
   "outputs": [],
   "source": [
    "#Setting the feature col to revenue and target col to closing prices\n",
    "X, y = window_data(abnb_sent_df, window=30, feature_col_number=0, target_col_number=28)"
   ]
  },
  {
   "cell_type": "code",
   "execution_count": 70,
   "metadata": {},
   "outputs": [],
   "source": [
    "# Use 70% of the data for training and the remaineder for testing\n",
    "split = int(0.7 * len(X))\n",
    "X_train = X[: split]\n",
    "X_test = X[split:]\n",
    "y_train = y[: split]\n",
    "y_test = y[split:]\n"
   ]
  },
  {
   "cell_type": "code",
   "execution_count": 71,
   "metadata": {},
   "outputs": [],
   "source": [
    "from sklearn.preprocessing import MinMaxScaler\n",
    "# Use the MinMaxScaler to scale data between 0 and 1.\n",
    "# Create a MinMaxScaler object\n",
    "scaler = MinMaxScaler()\n",
    "\n",
    "# Fit the MinMaxScaler object with the features data X\n",
    "scaler.fit(X_train)\n",
    "\n",
    "# Scale the features training and testing sets\n",
    "X_train = scaler.transform(X_train)\n",
    "X_test = scaler.transform(X_test)\n",
    "\n",
    "# Fit the MinMaxScaler object with the target data Y\n",
    "scaler.fit(y_train)\n",
    "\n",
    "# Scale the target training and testing sets\n",
    "y_train = scaler.transform(y_train)\n",
    "y_test = scaler.transform(y_test)"
   ]
  },
  {
   "cell_type": "code",
   "execution_count": 72,
   "metadata": {},
   "outputs": [],
   "source": [
    "# Reshape the features for the model\n",
    "\n",
    "X_train = X_train.reshape((X_train.shape[0], X_train.shape[1], 1))\n",
    "X_test = X_test.reshape((X_test.shape[0], X_test.shape[1], 1))"
   ]
  },
  {
   "cell_type": "code",
   "execution_count": 73,
   "metadata": {},
   "outputs": [],
   "source": [
    "from tensorflow.keras.models import Sequential\n",
    "from tensorflow.keras.layers import LSTM, Dense, Dropout"
   ]
  },
  {
   "cell_type": "code",
   "execution_count": 74,
   "metadata": {},
   "outputs": [],
   "source": [
    "\n",
    "model = Sequential()\n",
    "\n",
    "number_units = 5\n",
    "dropout_fraction = 0.2\n",
    "\n",
    "#Layer 1\n",
    "model.add(LSTM(\n",
    "    units=number_units,\n",
    "    return_sequences=True,\n",
    "    input_shape=(X_train.shape[1], 1))\n",
    "    )\n",
    "model.add(Dropout(dropout_fraction))\n",
    "\n",
    "#Layer 2\n",
    "model.add(LSTM(units=number_units, return_sequences=True))\n",
    "model.add(Dropout(dropout_fraction))\n",
    "\n",
    "#Layer 3\n",
    "model.add(LSTM(units=number_units))\n",
    "model.add(Dropout(dropout_fraction))\n",
    "\n",
    "#Output Layer\n",
    "model.add(Dense(1))"
   ]
  },
  {
   "cell_type": "code",
   "execution_count": 75,
   "metadata": {},
   "outputs": [],
   "source": [
    "model.compile(optimizer='adam', loss = 'mean_squared_error')\n"
   ]
  },
  {
   "cell_type": "code",
   "execution_count": 76,
   "metadata": {},
   "outputs": [
    {
     "name": "stdout",
     "output_type": "stream",
     "text": [
      "Model: \"sequential_3\"\n",
      "_________________________________________________________________\n",
      " Layer (type)                Output Shape              Param #   \n",
      "=================================================================\n",
      " lstm_9 (LSTM)               (None, 30, 5)             140       \n",
      "                                                                 \n",
      " dropout_9 (Dropout)         (None, 30, 5)             0         \n",
      "                                                                 \n",
      " lstm_10 (LSTM)              (None, 30, 5)             220       \n",
      "                                                                 \n",
      " dropout_10 (Dropout)        (None, 30, 5)             0         \n",
      "                                                                 \n",
      " lstm_11 (LSTM)              (None, 5)                 220       \n",
      "                                                                 \n",
      " dropout_11 (Dropout)        (None, 5)                 0         \n",
      "                                                                 \n",
      " dense_3 (Dense)             (None, 1)                 6         \n",
      "                                                                 \n",
      "=================================================================\n",
      "Total params: 586\n",
      "Trainable params: 586\n",
      "Non-trainable params: 0\n",
      "_________________________________________________________________\n"
     ]
    }
   ],
   "source": [
    "model.summary()\n"
   ]
  },
  {
   "cell_type": "code",
   "execution_count": 77,
   "metadata": {},
   "outputs": [
    {
     "name": "stdout",
     "output_type": "stream",
     "text": [
      "Epoch 1/50\n",
      "11/11 [==============================] - 11s 34ms/step - loss: 0.1868\n",
      "Epoch 2/50\n",
      "11/11 [==============================] - 0s 38ms/step - loss: 0.1426\n",
      "Epoch 3/50\n",
      "11/11 [==============================] - 0s 41ms/step - loss: 0.1139\n",
      "Epoch 4/50\n",
      "11/11 [==============================] - 0s 41ms/step - loss: 0.0948\n",
      "Epoch 5/50\n",
      "11/11 [==============================] - 0s 42ms/step - loss: 0.0875\n",
      "Epoch 6/50\n",
      "11/11 [==============================] - 1s 47ms/step - loss: 0.0817\n",
      "Epoch 7/50\n",
      "11/11 [==============================] - 1s 55ms/step - loss: 0.0844\n",
      "Epoch 8/50\n",
      "11/11 [==============================] - 1s 47ms/step - loss: 0.0761\n",
      "Epoch 9/50\n",
      "11/11 [==============================] - 1s 53ms/step - loss: 0.0805\n",
      "Epoch 10/50\n",
      "11/11 [==============================] - 1s 55ms/step - loss: 0.0685\n",
      "Epoch 11/50\n",
      "11/11 [==============================] - 1s 51ms/step - loss: 0.0726\n",
      "Epoch 12/50\n",
      "11/11 [==============================] - 1s 56ms/step - loss: 0.0764\n",
      "Epoch 13/50\n",
      "11/11 [==============================] - 1s 57ms/step - loss: 0.0710\n",
      "Epoch 14/50\n",
      "11/11 [==============================] - 1s 54ms/step - loss: 0.0690\n",
      "Epoch 15/50\n",
      "11/11 [==============================] - 1s 51ms/step - loss: 0.0712\n",
      "Epoch 16/50\n",
      "11/11 [==============================] - 1s 50ms/step - loss: 0.0690\n",
      "Epoch 17/50\n",
      "11/11 [==============================] - 1s 50ms/step - loss: 0.0745\n",
      "Epoch 18/50\n",
      "11/11 [==============================] - 1s 63ms/step - loss: 0.0707\n",
      "Epoch 19/50\n",
      "11/11 [==============================] - 1s 55ms/step - loss: 0.0706\n",
      "Epoch 20/50\n",
      "11/11 [==============================] - 1s 50ms/step - loss: 0.0671\n",
      "Epoch 21/50\n",
      "11/11 [==============================] - 0s 44ms/step - loss: 0.0714\n",
      "Epoch 22/50\n",
      "11/11 [==============================] - 1s 45ms/step - loss: 0.0690\n",
      "Epoch 23/50\n",
      "11/11 [==============================] - 1s 47ms/step - loss: 0.0689\n",
      "Epoch 24/50\n",
      "11/11 [==============================] - 0s 41ms/step - loss: 0.0635\n",
      "Epoch 25/50\n",
      "11/11 [==============================] - 1s 48ms/step - loss: 0.0618\n",
      "Epoch 26/50\n",
      "11/11 [==============================] - 0s 43ms/step - loss: 0.0612\n",
      "Epoch 27/50\n",
      "11/11 [==============================] - 0s 45ms/step - loss: 0.0647\n",
      "Epoch 28/50\n",
      "11/11 [==============================] - 0s 40ms/step - loss: 0.0634\n",
      "Epoch 29/50\n",
      "11/11 [==============================] - 1s 54ms/step - loss: 0.0632\n",
      "Epoch 30/50\n",
      "11/11 [==============================] - 0s 43ms/step - loss: 0.0654\n",
      "Epoch 31/50\n",
      "11/11 [==============================] - 0s 41ms/step - loss: 0.0678\n",
      "Epoch 32/50\n",
      "11/11 [==============================] - 0s 41ms/step - loss: 0.0603\n",
      "Epoch 33/50\n",
      "11/11 [==============================] - 0s 42ms/step - loss: 0.0597\n",
      "Epoch 34/50\n",
      "11/11 [==============================] - 0s 41ms/step - loss: 0.0589\n",
      "Epoch 35/50\n",
      "11/11 [==============================] - 0s 43ms/step - loss: 0.0624\n",
      "Epoch 36/50\n",
      "11/11 [==============================] - 0s 43ms/step - loss: 0.0633\n",
      "Epoch 37/50\n",
      "11/11 [==============================] - 0s 44ms/step - loss: 0.0625\n",
      "Epoch 38/50\n",
      "11/11 [==============================] - 0s 44ms/step - loss: 0.0621\n",
      "Epoch 39/50\n",
      "11/11 [==============================] - 1s 48ms/step - loss: 0.0539\n",
      "Epoch 40/50\n",
      "11/11 [==============================] - 1s 58ms/step - loss: 0.0644\n",
      "Epoch 41/50\n",
      "11/11 [==============================] - 1s 61ms/step - loss: 0.0572\n",
      "Epoch 42/50\n",
      "11/11 [==============================] - 1s 51ms/step - loss: 0.0577\n",
      "Epoch 43/50\n",
      "11/11 [==============================] - 1s 51ms/step - loss: 0.0552\n",
      "Epoch 44/50\n",
      "11/11 [==============================] - 1s 56ms/step - loss: 0.0579\n",
      "Epoch 45/50\n",
      "11/11 [==============================] - 1s 51ms/step - loss: 0.0582\n",
      "Epoch 46/50\n",
      "11/11 [==============================] - 1s 67ms/step - loss: 0.0611\n",
      "Epoch 47/50\n",
      "11/11 [==============================] - 1s 53ms/step - loss: 0.0546\n",
      "Epoch 48/50\n",
      "11/11 [==============================] - 1s 54ms/step - loss: 0.0565\n",
      "Epoch 49/50\n",
      "11/11 [==============================] - 1s 52ms/step - loss: 0.0540\n",
      "Epoch 50/50\n",
      "11/11 [==============================] - 1s 55ms/step - loss: 0.0580\n"
     ]
    },
    {
     "data": {
      "text/plain": [
       "<keras.callbacks.History at 0x22b18061ec8>"
      ]
     },
     "execution_count": 77,
     "metadata": {},
     "output_type": "execute_result"
    }
   ],
   "source": [
    "model.fit(X_train, y_train, epochs=50, shuffle=False, batch_size=32, verbose=1)\n"
   ]
  },
  {
   "cell_type": "code",
   "execution_count": 78,
   "metadata": {},
   "outputs": [
    {
     "name": "stdout",
     "output_type": "stream",
     "text": [
      "5/5 [==============================] - 3s 9ms/step - loss: 0.0440\n"
     ]
    },
    {
     "data": {
      "text/plain": [
       "0.04399706795811653"
      ]
     },
     "execution_count": 78,
     "metadata": {},
     "output_type": "execute_result"
    }
   ],
   "source": [
    "model.evaluate(X_test, y_test)"
   ]
  },
  {
   "cell_type": "code",
   "execution_count": 79,
   "metadata": {},
   "outputs": [
    {
     "name": "stdout",
     "output_type": "stream",
     "text": [
      "5/5 [==============================] - 3s 7ms/step\n"
     ]
    }
   ],
   "source": [
    "predict = model.predict(X_test)"
   ]
  },
  {
   "cell_type": "code",
   "execution_count": 80,
   "metadata": {},
   "outputs": [],
   "source": [
    "predicted_prices = scaler.inverse_transform(predict)\n",
    "real_prices = scaler.inverse_transform(y_test.reshape(-1, 1))"
   ]
  },
  {
   "cell_type": "code",
   "execution_count": 81,
   "metadata": {},
   "outputs": [
    {
     "data": {
      "text/html": [
       "<div>\n",
       "<style scoped>\n",
       "    .dataframe tbody tr th:only-of-type {\n",
       "        vertical-align: middle;\n",
       "    }\n",
       "\n",
       "    .dataframe tbody tr th {\n",
       "        vertical-align: top;\n",
       "    }\n",
       "\n",
       "    .dataframe thead th {\n",
       "        text-align: right;\n",
       "    }\n",
       "</style>\n",
       "<table border=\"1\" class=\"dataframe\">\n",
       "  <thead>\n",
       "    <tr style=\"text-align: right;\">\n",
       "      <th></th>\n",
       "      <th>actual</th>\n",
       "      <th>predicted</th>\n",
       "    </tr>\n",
       "  </thead>\n",
       "  <tbody>\n",
       "    <tr>\n",
       "      <th>2022-01-03</th>\n",
       "      <td>166.49</td>\n",
       "      <td>173.400360</td>\n",
       "    </tr>\n",
       "    <tr>\n",
       "      <th>2022-01-04</th>\n",
       "      <td>172.68</td>\n",
       "      <td>172.987335</td>\n",
       "    </tr>\n",
       "    <tr>\n",
       "      <th>2022-01-05</th>\n",
       "      <td>170.80</td>\n",
       "      <td>172.346710</td>\n",
       "    </tr>\n",
       "    <tr>\n",
       "      <th>2022-01-06</th>\n",
       "      <td>162.25</td>\n",
       "      <td>171.510803</td>\n",
       "    </tr>\n",
       "    <tr>\n",
       "      <th>2022-01-07</th>\n",
       "      <td>159.75</td>\n",
       "      <td>170.522980</td>\n",
       "    </tr>\n",
       "  </tbody>\n",
       "</table>\n",
       "</div>"
      ],
      "text/plain": [
       "            actual   predicted\n",
       "2022-01-03  166.49  173.400360\n",
       "2022-01-04  172.68  172.987335\n",
       "2022-01-05  170.80  172.346710\n",
       "2022-01-06  162.25  171.510803\n",
       "2022-01-07  159.75  170.522980"
      ]
     },
     "execution_count": 81,
     "metadata": {},
     "output_type": "execute_result"
    }
   ],
   "source": [
    "# Create a DataFrame of Real and Predicted values\n",
    "stocks = pd.DataFrame({\n",
    "    \"actual\": real_prices.ravel(),\n",
    "    \"predicted\": predicted_prices.ravel()\n",
    "}, index = abnb_sent_df.index[-len(real_prices): ]) \n",
    "stocks.head()"
   ]
  },
  {
   "cell_type": "code",
   "execution_count": 82,
   "metadata": {},
   "outputs": [
    {
     "data": {
      "text/plain": [
       "<AxesSubplot:title={'center':'Actual vs. Predicted Prices'}, xlabel='Date', ylabel='ABNB'>"
      ]
     },
     "execution_count": 82,
     "metadata": {},
     "output_type": "execute_result"
    },
    {
     "data": {
      "image/png": "[encoded data removed]",
      "text/plain": [
       "<Figure size 432x288 with 1 Axes>"
      ]
     },
     "metadata": {
      "needs_background": "light"
     },
     "output_type": "display_data"
    }
   ],
   "source": [
    "import hvplot.pandas\n",
    "stocks.plot(xlabel = 'Date', ylabel = 'ABNB', title = 'Actual vs. Predicted Prices', rot=45)\n"
   ]
  },
  {
   "cell_type": "code",
   "execution_count": 83,
   "metadata": {},
   "outputs": [
    {
     "data": {
      "text/html": [
       "<div>\n",
       "<style scoped>\n",
       "    .dataframe tbody tr th:only-of-type {\n",
       "        vertical-align: middle;\n",
       "    }\n",
       "\n",
       "    .dataframe tbody tr th {\n",
       "        vertical-align: top;\n",
       "    }\n",
       "\n",
       "    .dataframe thead th {\n",
       "        text-align: right;\n",
       "    }\n",
       "</style>\n",
       "<table border=\"1\" class=\"dataframe\">\n",
       "  <thead>\n",
       "    <tr style=\"text-align: right;\">\n",
       "      <th></th>\n",
       "      <th>sec_compound_sentiment</th>\n",
       "      <th>close</th>\n",
       "    </tr>\n",
       "  </thead>\n",
       "  <tbody>\n",
       "    <tr>\n",
       "      <th>sec_compound_sentiment</th>\n",
       "      <td>1.000000</td>\n",
       "      <td>0.290415</td>\n",
       "    </tr>\n",
       "    <tr>\n",
       "      <th>close</th>\n",
       "      <td>0.290415</td>\n",
       "      <td>1.000000</td>\n",
       "    </tr>\n",
       "  </tbody>\n",
       "</table>\n",
       "</div>"
      ],
      "text/plain": [
       "                        sec_compound_sentiment     close\n",
       "sec_compound_sentiment                1.000000  0.290415\n",
       "close                                 0.290415  1.000000"
      ]
     },
     "execution_count": 83,
     "metadata": {},
     "output_type": "execute_result"
    }
   ],
   "source": [
    "abnb_sent_df[['sec_compound_sentiment', 'close']].corr()"
   ]
  },
  {
   "cell_type": "code",
   "execution_count": 84,
   "metadata": {},
   "outputs": [
    {
     "data": {
      "text/html": [
       "<div>\n",
       "<style scoped>\n",
       "    .dataframe tbody tr th:only-of-type {\n",
       "        vertical-align: middle;\n",
       "    }\n",
       "\n",
       "    .dataframe tbody tr th {\n",
       "        vertical-align: top;\n",
       "    }\n",
       "\n",
       "    .dataframe thead th {\n",
       "        text-align: right;\n",
       "    }\n",
       "</style>\n",
       "<table border=\"1\" class=\"dataframe\">\n",
       "  <thead>\n",
       "    <tr style=\"text-align: right;\">\n",
       "      <th></th>\n",
       "      <th>sec_positive_sentiment</th>\n",
       "      <th>close</th>\n",
       "    </tr>\n",
       "  </thead>\n",
       "  <tbody>\n",
       "    <tr>\n",
       "      <th>sec_positive_sentiment</th>\n",
       "      <td>1.000000</td>\n",
       "      <td>0.201152</td>\n",
       "    </tr>\n",
       "    <tr>\n",
       "      <th>close</th>\n",
       "      <td>0.201152</td>\n",
       "      <td>1.000000</td>\n",
       "    </tr>\n",
       "  </tbody>\n",
       "</table>\n",
       "</div>"
      ],
      "text/plain": [
       "                        sec_positive_sentiment     close\n",
       "sec_positive_sentiment                1.000000  0.201152\n",
       "close                                 0.201152  1.000000"
      ]
     },
     "execution_count": 84,
     "metadata": {},
     "output_type": "execute_result"
    }
   ],
   "source": [
    "abnb_sent_df[['sec_positive_sentiment', 'close']].corr()"
   ]
  },
  {
   "cell_type": "code",
   "execution_count": null,
   "metadata": {},
   "outputs": [],
   "source": []
  }
 ],
 "metadata": {
  "kernelspec": {
   "display_name": "Python 3.7.13 ('algotrading')",
   "language": "python",
   "name": "python3"
  },
  "language_info": {
   "codemirror_mode": {
    "name": "ipython",
    "version": 3
   },
   "file_extension": ".py",
   "mimetype": "text/x-python",
   "name": "python",
   "nbconvert_exporter": "python",
   "pygments_lexer": "ipython3",
   "version": "3.7.13"
  },
  "orig_nbformat": 4,
  "vscode": {
   "interpreter": {
    "hash": "4badf162d3e5fd0c33c86746a1b40ba224a53e0950f8338a632515e62ffb49b1"
   }
  }
 },
 "nbformat": 4,
 "nbformat_minor": 2
}
